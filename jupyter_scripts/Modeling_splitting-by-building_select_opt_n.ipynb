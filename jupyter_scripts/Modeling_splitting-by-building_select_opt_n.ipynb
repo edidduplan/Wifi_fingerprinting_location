{
 "cells": [
  {
   "cell_type": "markdown",
   "metadata": {},
   "source": [
    "# Modeling - splitting by building"
   ]
  },
  {
   "cell_type": "markdown",
   "metadata": {},
   "source": [
    "## Importing libraries"
   ]
  },
  {
   "cell_type": "code",
   "execution_count": 75,
   "metadata": {},
   "outputs": [],
   "source": [
    "import pandas as pd\n",
    "import numpy as np\n",
    "import scipy\n",
    "from math import sqrt\n",
    "import matplotlib.pyplot as plt\n",
    "import plotly.express as px\n",
    "import plotly.graph_objects as go\n",
    "import os"
   ]
  },
  {
   "cell_type": "markdown",
   "metadata": {},
   "source": [
    "Estimators: regressors"
   ]
  },
  {
   "cell_type": "code",
   "execution_count": 3,
   "metadata": {},
   "outputs": [],
   "source": [
    "from sklearn.neighbors import KNeighborsRegressor\n",
    "from sklearn.ensemble import RandomForestRegressor\n",
    "from sklearn.svm import SVR\n",
    "from sklearn.linear_model import LinearRegression\n",
    "from sklearn import linear_model"
   ]
  },
  {
   "cell_type": "markdown",
   "metadata": {},
   "source": [
    "Estimators: classifiers"
   ]
  },
  {
   "cell_type": "code",
   "execution_count": 4,
   "metadata": {},
   "outputs": [],
   "source": [
    "from sklearn.ensemble import RandomForestClassifier\n",
    "from sklearn.neighbors import KNeighborsClassifier\n",
    "from sklearn.ensemble import GradientBoostingClassifier"
   ]
  },
  {
   "cell_type": "markdown",
   "metadata": {},
   "source": [
    "Metrics:"
   ]
  },
  {
   "cell_type": "code",
   "execution_count": 5,
   "metadata": {},
   "outputs": [],
   "source": [
    "from sklearn.metrics import mean_squared_error\n",
    "from sklearn.metrics import mean_absolute_error\n",
    "from sklearn.metrics import r2_score\n",
    "from sklearn.model_selection import cross_val_score\n",
    "from sklearn.metrics import max_error\n",
    "from sklearn.metrics import accuracy_score"
   ]
  },
  {
   "cell_type": "markdown",
   "metadata": {},
   "source": [
    "Cross-validation:"
   ]
  },
  {
   "cell_type": "code",
   "execution_count": 6,
   "metadata": {},
   "outputs": [],
   "source": [
    "from sklearn.model_selection import train_test_split"
   ]
  },
  {
   "cell_type": "code",
   "execution_count": 77,
   "metadata": {},
   "outputs": [],
   "source": [
    "datafilenamepath = \"C:\\\\Users\\\\edidd\\\\Documents\\\\Ubiqum\\\\Data Analytics Course\\\\Module_III_Wifi\\\\Data2\\\\\""
   ]
  },
  {
   "cell_type": "markdown",
   "metadata": {},
   "source": [
    "## Data pre-processing\n",
    "\n",
    "Data transformation selected is the power transformation with n=5.\n",
    "\n",
    "Model for predicting buildings is 5NN."
   ]
  },
  {
   "cell_type": "markdown",
   "metadata": {},
   "source": [
    "## Importing pre-processed data"
   ]
  },
  {
   "cell_type": "code",
   "execution_count": 7,
   "metadata": {},
   "outputs": [],
   "source": [
    "trainset = pd.read_csv(\"C:/Users/edidd/Documents/Ubiqum/Data Analytics Course/Module_III_Wifi/data/trainset_clean_trans_n5.csv\", header = 0)"
   ]
  },
  {
   "cell_type": "code",
   "execution_count": 8,
   "metadata": {},
   "outputs": [],
   "source": [
    "validation = pd.read_csv(\"C:/Users/edidd/Documents/Ubiqum/Data Analytics Course/Module_III_Wifi/data/validation_clean_trans_n5.csv\", header = 0)"
   ]
  },
  {
   "cell_type": "code",
   "execution_count": 9,
   "metadata": {},
   "outputs": [
    {
     "data": {
      "text/html": [
       "<div>\n",
       "<style scoped>\n",
       "    .dataframe tbody tr th:only-of-type {\n",
       "        vertical-align: middle;\n",
       "    }\n",
       "\n",
       "    .dataframe tbody tr th {\n",
       "        vertical-align: top;\n",
       "    }\n",
       "\n",
       "    .dataframe thead th {\n",
       "        text-align: right;\n",
       "    }\n",
       "</style>\n",
       "<table border=\"1\" class=\"dataframe\">\n",
       "  <thead>\n",
       "    <tr style=\"text-align: right;\">\n",
       "      <th></th>\n",
       "      <th>WAP001</th>\n",
       "      <th>WAP002</th>\n",
       "      <th>WAP003</th>\n",
       "      <th>WAP004</th>\n",
       "      <th>WAP005</th>\n",
       "      <th>WAP006</th>\n",
       "      <th>WAP007</th>\n",
       "      <th>WAP008</th>\n",
       "      <th>WAP009</th>\n",
       "      <th>WAP010</th>\n",
       "      <th>...</th>\n",
       "      <th>WAP520</th>\n",
       "      <th>LONGITUDE</th>\n",
       "      <th>LATITUDE</th>\n",
       "      <th>FLOOR</th>\n",
       "      <th>BUILDINGID</th>\n",
       "      <th>SPACEID</th>\n",
       "      <th>RELATIVEPOSITION</th>\n",
       "      <th>USERID</th>\n",
       "      <th>PHONEID</th>\n",
       "      <th>TIMESTAMP</th>\n",
       "    </tr>\n",
       "  </thead>\n",
       "  <tbody>\n",
       "    <tr>\n",
       "      <td>0</td>\n",
       "      <td>0.0</td>\n",
       "      <td>0.0</td>\n",
       "      <td>0.0</td>\n",
       "      <td>0.0</td>\n",
       "      <td>0.0</td>\n",
       "      <td>0.0</td>\n",
       "      <td>0.0</td>\n",
       "      <td>0.000000</td>\n",
       "      <td>0.0</td>\n",
       "      <td>0.0</td>\n",
       "      <td>...</td>\n",
       "      <td>0.0</td>\n",
       "      <td>-7541.2643</td>\n",
       "      <td>4.864921e+06</td>\n",
       "      <td>2</td>\n",
       "      <td>1</td>\n",
       "      <td>106</td>\n",
       "      <td>2</td>\n",
       "      <td>2</td>\n",
       "      <td>23</td>\n",
       "      <td>1371713733</td>\n",
       "    </tr>\n",
       "    <tr>\n",
       "      <td>1</td>\n",
       "      <td>0.0</td>\n",
       "      <td>0.0</td>\n",
       "      <td>0.0</td>\n",
       "      <td>0.0</td>\n",
       "      <td>0.0</td>\n",
       "      <td>0.0</td>\n",
       "      <td>0.0</td>\n",
       "      <td>0.000000</td>\n",
       "      <td>0.0</td>\n",
       "      <td>0.0</td>\n",
       "      <td>...</td>\n",
       "      <td>0.0</td>\n",
       "      <td>-7536.6212</td>\n",
       "      <td>4.864934e+06</td>\n",
       "      <td>2</td>\n",
       "      <td>1</td>\n",
       "      <td>106</td>\n",
       "      <td>2</td>\n",
       "      <td>2</td>\n",
       "      <td>23</td>\n",
       "      <td>1371713691</td>\n",
       "    </tr>\n",
       "    <tr>\n",
       "      <td>2</td>\n",
       "      <td>0.0</td>\n",
       "      <td>0.0</td>\n",
       "      <td>0.0</td>\n",
       "      <td>0.0</td>\n",
       "      <td>0.0</td>\n",
       "      <td>0.0</td>\n",
       "      <td>0.0</td>\n",
       "      <td>0.028868</td>\n",
       "      <td>0.0</td>\n",
       "      <td>0.0</td>\n",
       "      <td>...</td>\n",
       "      <td>0.0</td>\n",
       "      <td>-7519.1524</td>\n",
       "      <td>4.864950e+06</td>\n",
       "      <td>2</td>\n",
       "      <td>1</td>\n",
       "      <td>103</td>\n",
       "      <td>2</td>\n",
       "      <td>2</td>\n",
       "      <td>23</td>\n",
       "      <td>1371714095</td>\n",
       "    </tr>\n",
       "    <tr>\n",
       "      <td>3</td>\n",
       "      <td>0.0</td>\n",
       "      <td>0.0</td>\n",
       "      <td>0.0</td>\n",
       "      <td>0.0</td>\n",
       "      <td>0.0</td>\n",
       "      <td>0.0</td>\n",
       "      <td>0.0</td>\n",
       "      <td>0.000000</td>\n",
       "      <td>0.0</td>\n",
       "      <td>0.0</td>\n",
       "      <td>...</td>\n",
       "      <td>0.0</td>\n",
       "      <td>-7524.5704</td>\n",
       "      <td>4.864934e+06</td>\n",
       "      <td>2</td>\n",
       "      <td>1</td>\n",
       "      <td>102</td>\n",
       "      <td>2</td>\n",
       "      <td>2</td>\n",
       "      <td>23</td>\n",
       "      <td>1371713807</td>\n",
       "    </tr>\n",
       "    <tr>\n",
       "      <td>4</td>\n",
       "      <td>0.0</td>\n",
       "      <td>0.0</td>\n",
       "      <td>0.0</td>\n",
       "      <td>0.0</td>\n",
       "      <td>0.0</td>\n",
       "      <td>0.0</td>\n",
       "      <td>0.0</td>\n",
       "      <td>0.000000</td>\n",
       "      <td>0.0</td>\n",
       "      <td>0.0</td>\n",
       "      <td>...</td>\n",
       "      <td>0.0</td>\n",
       "      <td>-7632.1436</td>\n",
       "      <td>4.864982e+06</td>\n",
       "      <td>0</td>\n",
       "      <td>0</td>\n",
       "      <td>122</td>\n",
       "      <td>2</td>\n",
       "      <td>11</td>\n",
       "      <td>13</td>\n",
       "      <td>1369909710</td>\n",
       "    </tr>\n",
       "  </tbody>\n",
       "</table>\n",
       "<p>5 rows × 529 columns</p>\n",
       "</div>"
      ],
      "text/plain": [
       "   WAP001  WAP002  WAP003  WAP004  WAP005  WAP006  WAP007    WAP008  WAP009  \\\n",
       "0     0.0     0.0     0.0     0.0     0.0     0.0     0.0  0.000000     0.0   \n",
       "1     0.0     0.0     0.0     0.0     0.0     0.0     0.0  0.000000     0.0   \n",
       "2     0.0     0.0     0.0     0.0     0.0     0.0     0.0  0.028868     0.0   \n",
       "3     0.0     0.0     0.0     0.0     0.0     0.0     0.0  0.000000     0.0   \n",
       "4     0.0     0.0     0.0     0.0     0.0     0.0     0.0  0.000000     0.0   \n",
       "\n",
       "   WAP010  ...  WAP520  LONGITUDE      LATITUDE  FLOOR  BUILDINGID  SPACEID  \\\n",
       "0     0.0  ...     0.0 -7541.2643  4.864921e+06      2           1      106   \n",
       "1     0.0  ...     0.0 -7536.6212  4.864934e+06      2           1      106   \n",
       "2     0.0  ...     0.0 -7519.1524  4.864950e+06      2           1      103   \n",
       "3     0.0  ...     0.0 -7524.5704  4.864934e+06      2           1      102   \n",
       "4     0.0  ...     0.0 -7632.1436  4.864982e+06      0           0      122   \n",
       "\n",
       "   RELATIVEPOSITION  USERID  PHONEID   TIMESTAMP  \n",
       "0                 2       2       23  1371713733  \n",
       "1                 2       2       23  1371713691  \n",
       "2                 2       2       23  1371714095  \n",
       "3                 2       2       23  1371713807  \n",
       "4                 2      11       13  1369909710  \n",
       "\n",
       "[5 rows x 529 columns]"
      ]
     },
     "execution_count": 9,
     "metadata": {},
     "output_type": "execute_result"
    }
   ],
   "source": [
    "trainset.head()"
   ]
  },
  {
   "cell_type": "code",
   "execution_count": 10,
   "metadata": {},
   "outputs": [
    {
     "data": {
      "text/plain": [
       "count    19937.000000\n",
       "mean         1.212820\n",
       "std          0.833139\n",
       "min          0.000000\n",
       "25%          0.000000\n",
       "50%          1.000000\n",
       "75%          2.000000\n",
       "max          2.000000\n",
       "Name: BUILDINGID, dtype: float64"
      ]
     },
     "execution_count": 10,
     "metadata": {},
     "output_type": "execute_result"
    }
   ],
   "source": [
    "trainset.BUILDINGID.describe()"
   ]
  },
  {
   "cell_type": "markdown",
   "metadata": {},
   "source": [
    "## Splitting the data per building"
   ]
  },
  {
   "cell_type": "code",
   "execution_count": 13,
   "metadata": {},
   "outputs": [],
   "source": [
    "train_0 = trainset.loc[trainset[\"BUILDINGID\"] == 0, :]\n",
    "train_1 = trainset.loc[trainset[\"BUILDINGID\"] == 1, :]\n",
    "train_2 = trainset.loc[trainset[\"BUILDINGID\"] == 2, :]"
   ]
  },
  {
   "cell_type": "code",
   "execution_count": null,
   "metadata": {},
   "outputs": [],
   "source": [
    "validation.to_csv (r'C:\\Users\\edidd\\Documents\\Ubiqum\\Data Analytics Course\\Module_III_Wifi\\Data\\validation_clean_trans_n2.csv', index = None, header=True)"
   ]
  },
  {
   "cell_type": "code",
   "execution_count": 50,
   "metadata": {},
   "outputs": [
    {
     "data": {
      "text/html": [
       "<div>\n",
       "<style scoped>\n",
       "    .dataframe tbody tr th:only-of-type {\n",
       "        vertical-align: middle;\n",
       "    }\n",
       "\n",
       "    .dataframe tbody tr th {\n",
       "        vertical-align: top;\n",
       "    }\n",
       "\n",
       "    .dataframe thead th {\n",
       "        text-align: right;\n",
       "    }\n",
       "</style>\n",
       "<table border=\"1\" class=\"dataframe\">\n",
       "  <thead>\n",
       "    <tr style=\"text-align: right;\">\n",
       "      <th></th>\n",
       "      <th>WAP001</th>\n",
       "      <th>WAP002</th>\n",
       "      <th>WAP003</th>\n",
       "      <th>WAP004</th>\n",
       "      <th>WAP005</th>\n",
       "      <th>WAP006</th>\n",
       "      <th>WAP007</th>\n",
       "      <th>WAP008</th>\n",
       "      <th>WAP009</th>\n",
       "      <th>WAP010</th>\n",
       "      <th>...</th>\n",
       "      <th>WAP520</th>\n",
       "      <th>LONGITUDE</th>\n",
       "      <th>LATITUDE</th>\n",
       "      <th>FLOOR</th>\n",
       "      <th>BUILDINGID</th>\n",
       "      <th>SPACEID</th>\n",
       "      <th>RELATIVEPOSITION</th>\n",
       "      <th>USERID</th>\n",
       "      <th>PHONEID</th>\n",
       "      <th>TIMESTAMP</th>\n",
       "    </tr>\n",
       "  </thead>\n",
       "  <tbody>\n",
       "    <tr>\n",
       "      <td>46</td>\n",
       "      <td>0.0</td>\n",
       "      <td>0.0</td>\n",
       "      <td>0.0</td>\n",
       "      <td>0.0</td>\n",
       "      <td>0.0</td>\n",
       "      <td>0.0</td>\n",
       "      <td>0.0</td>\n",
       "      <td>0.0</td>\n",
       "      <td>0.0</td>\n",
       "      <td>0.0</td>\n",
       "      <td>...</td>\n",
       "      <td>0.0</td>\n",
       "      <td>-7331.748000</td>\n",
       "      <td>4.864767e+06</td>\n",
       "      <td>3</td>\n",
       "      <td>2</td>\n",
       "      <td>247</td>\n",
       "      <td>2</td>\n",
       "      <td>2</td>\n",
       "      <td>23</td>\n",
       "      <td>1371716690</td>\n",
       "    </tr>\n",
       "    <tr>\n",
       "      <td>47</td>\n",
       "      <td>0.0</td>\n",
       "      <td>0.0</td>\n",
       "      <td>0.0</td>\n",
       "      <td>0.0</td>\n",
       "      <td>0.0</td>\n",
       "      <td>0.0</td>\n",
       "      <td>0.0</td>\n",
       "      <td>0.0</td>\n",
       "      <td>0.0</td>\n",
       "      <td>0.0</td>\n",
       "      <td>...</td>\n",
       "      <td>0.0</td>\n",
       "      <td>-7331.400500</td>\n",
       "      <td>4.864768e+06</td>\n",
       "      <td>3</td>\n",
       "      <td>2</td>\n",
       "      <td>248</td>\n",
       "      <td>2</td>\n",
       "      <td>2</td>\n",
       "      <td>23</td>\n",
       "      <td>1371716637</td>\n",
       "    </tr>\n",
       "    <tr>\n",
       "      <td>49</td>\n",
       "      <td>0.0</td>\n",
       "      <td>0.0</td>\n",
       "      <td>0.0</td>\n",
       "      <td>0.0</td>\n",
       "      <td>0.0</td>\n",
       "      <td>0.0</td>\n",
       "      <td>0.0</td>\n",
       "      <td>0.0</td>\n",
       "      <td>0.0</td>\n",
       "      <td>0.0</td>\n",
       "      <td>...</td>\n",
       "      <td>0.0</td>\n",
       "      <td>-7327.492165</td>\n",
       "      <td>4.864767e+06</td>\n",
       "      <td>3</td>\n",
       "      <td>2</td>\n",
       "      <td>247</td>\n",
       "      <td>1</td>\n",
       "      <td>2</td>\n",
       "      <td>23</td>\n",
       "      <td>1371716719</td>\n",
       "    </tr>\n",
       "    <tr>\n",
       "      <td>50</td>\n",
       "      <td>0.0</td>\n",
       "      <td>0.0</td>\n",
       "      <td>0.0</td>\n",
       "      <td>0.0</td>\n",
       "      <td>0.0</td>\n",
       "      <td>0.0</td>\n",
       "      <td>0.0</td>\n",
       "      <td>0.0</td>\n",
       "      <td>0.0</td>\n",
       "      <td>0.0</td>\n",
       "      <td>...</td>\n",
       "      <td>0.0</td>\n",
       "      <td>-7336.700400</td>\n",
       "      <td>4.864764e+06</td>\n",
       "      <td>3</td>\n",
       "      <td>2</td>\n",
       "      <td>246</td>\n",
       "      <td>2</td>\n",
       "      <td>2</td>\n",
       "      <td>23</td>\n",
       "      <td>1371716762</td>\n",
       "    </tr>\n",
       "    <tr>\n",
       "      <td>51</td>\n",
       "      <td>0.0</td>\n",
       "      <td>0.0</td>\n",
       "      <td>0.0</td>\n",
       "      <td>0.0</td>\n",
       "      <td>0.0</td>\n",
       "      <td>0.0</td>\n",
       "      <td>0.0</td>\n",
       "      <td>0.0</td>\n",
       "      <td>0.0</td>\n",
       "      <td>0.0</td>\n",
       "      <td>...</td>\n",
       "      <td>0.0</td>\n",
       "      <td>-7337.394800</td>\n",
       "      <td>4.864763e+06</td>\n",
       "      <td>3</td>\n",
       "      <td>2</td>\n",
       "      <td>245</td>\n",
       "      <td>2</td>\n",
       "      <td>2</td>\n",
       "      <td>23</td>\n",
       "      <td>1371716797</td>\n",
       "    </tr>\n",
       "  </tbody>\n",
       "</table>\n",
       "<p>5 rows × 529 columns</p>\n",
       "</div>"
      ],
      "text/plain": [
       "    WAP001  WAP002  WAP003  WAP004  WAP005  WAP006  WAP007  WAP008  WAP009  \\\n",
       "46     0.0     0.0     0.0     0.0     0.0     0.0     0.0     0.0     0.0   \n",
       "47     0.0     0.0     0.0     0.0     0.0     0.0     0.0     0.0     0.0   \n",
       "49     0.0     0.0     0.0     0.0     0.0     0.0     0.0     0.0     0.0   \n",
       "50     0.0     0.0     0.0     0.0     0.0     0.0     0.0     0.0     0.0   \n",
       "51     0.0     0.0     0.0     0.0     0.0     0.0     0.0     0.0     0.0   \n",
       "\n",
       "    WAP010  ...  WAP520    LONGITUDE      LATITUDE  FLOOR  BUILDINGID  \\\n",
       "46     0.0  ...     0.0 -7331.748000  4.864767e+06      3           2   \n",
       "47     0.0  ...     0.0 -7331.400500  4.864768e+06      3           2   \n",
       "49     0.0  ...     0.0 -7327.492165  4.864767e+06      3           2   \n",
       "50     0.0  ...     0.0 -7336.700400  4.864764e+06      3           2   \n",
       "51     0.0  ...     0.0 -7337.394800  4.864763e+06      3           2   \n",
       "\n",
       "    SPACEID  RELATIVEPOSITION  USERID  PHONEID   TIMESTAMP  \n",
       "46      247                 2       2       23  1371716690  \n",
       "47      248                 2       2       23  1371716637  \n",
       "49      247                 1       2       23  1371716719  \n",
       "50      246                 2       2       23  1371716762  \n",
       "51      245                 2       2       23  1371716797  \n",
       "\n",
       "[5 rows x 529 columns]"
      ]
     },
     "execution_count": 50,
     "metadata": {},
     "output_type": "execute_result"
    }
   ],
   "source": [
    "train_2.head()"
   ]
  },
  {
   "cell_type": "code",
   "execution_count": 22,
   "metadata": {},
   "outputs": [
    {
     "data": {
      "text/plain": [
       "(5249, 529)"
      ]
     },
     "execution_count": 22,
     "metadata": {},
     "output_type": "execute_result"
    }
   ],
   "source": [
    "train_0.shape"
   ]
  },
  {
   "cell_type": "code",
   "execution_count": 23,
   "metadata": {},
   "outputs": [
    {
     "data": {
      "text/plain": [
       "(5196, 529)"
      ]
     },
     "execution_count": 23,
     "metadata": {},
     "output_type": "execute_result"
    }
   ],
   "source": [
    "train_1.shape"
   ]
  },
  {
   "cell_type": "code",
   "execution_count": 24,
   "metadata": {},
   "outputs": [
    {
     "data": {
      "text/plain": [
       "(9492, 529)"
      ]
     },
     "execution_count": 24,
     "metadata": {},
     "output_type": "execute_result"
    }
   ],
   "source": [
    "train_2.shape"
   ]
  },
  {
   "cell_type": "code",
   "execution_count": 16,
   "metadata": {},
   "outputs": [
    {
     "data": {
      "text/plain": [
       "19937"
      ]
     },
     "execution_count": 16,
     "metadata": {},
     "output_type": "execute_result"
    }
   ],
   "source": [
    "train_0.shape[0] + train_1.shape[0] + train_2.shape[0]"
   ]
  },
  {
   "cell_type": "code",
   "execution_count": 18,
   "metadata": {},
   "outputs": [],
   "source": [
    "val_0 = validation.loc[validation[\"BUILDINGID\"] == 0, :]\n",
    "val_1 = validation.loc[validation[\"BUILDINGID\"] == 1, :]\n",
    "val_2 = validation.loc[validation[\"BUILDINGID\"] == 2, :]"
   ]
  },
  {
   "cell_type": "code",
   "execution_count": 52,
   "metadata": {},
   "outputs": [
    {
     "data": {
      "text/html": [
       "<div>\n",
       "<style scoped>\n",
       "    .dataframe tbody tr th:only-of-type {\n",
       "        vertical-align: middle;\n",
       "    }\n",
       "\n",
       "    .dataframe tbody tr th {\n",
       "        vertical-align: top;\n",
       "    }\n",
       "\n",
       "    .dataframe thead th {\n",
       "        text-align: right;\n",
       "    }\n",
       "</style>\n",
       "<table border=\"1\" class=\"dataframe\">\n",
       "  <thead>\n",
       "    <tr style=\"text-align: right;\">\n",
       "      <th></th>\n",
       "      <th>WAP001</th>\n",
       "      <th>WAP002</th>\n",
       "      <th>WAP003</th>\n",
       "      <th>WAP004</th>\n",
       "      <th>WAP005</th>\n",
       "      <th>WAP006</th>\n",
       "      <th>WAP007</th>\n",
       "      <th>WAP008</th>\n",
       "      <th>WAP009</th>\n",
       "      <th>WAP010</th>\n",
       "      <th>...</th>\n",
       "      <th>WAP520</th>\n",
       "      <th>LONGITUDE</th>\n",
       "      <th>LATITUDE</th>\n",
       "      <th>FLOOR</th>\n",
       "      <th>BUILDINGID</th>\n",
       "      <th>SPACEID</th>\n",
       "      <th>RELATIVEPOSITION</th>\n",
       "      <th>USERID</th>\n",
       "      <th>PHONEID</th>\n",
       "      <th>TIMESTAMP</th>\n",
       "    </tr>\n",
       "  </thead>\n",
       "  <tbody>\n",
       "    <tr>\n",
       "      <td>1</td>\n",
       "      <td>0.0</td>\n",
       "      <td>0.0</td>\n",
       "      <td>0.0</td>\n",
       "      <td>0.0</td>\n",
       "      <td>0.0</td>\n",
       "      <td>0.0</td>\n",
       "      <td>0.0</td>\n",
       "      <td>0.0</td>\n",
       "      <td>0.0</td>\n",
       "      <td>0.0</td>\n",
       "      <td>...</td>\n",
       "      <td>0.0</td>\n",
       "      <td>-7383.867221</td>\n",
       "      <td>4.864840e+06</td>\n",
       "      <td>4</td>\n",
       "      <td>2</td>\n",
       "      <td>0</td>\n",
       "      <td>0</td>\n",
       "      <td>0</td>\n",
       "      <td>13</td>\n",
       "      <td>1381155054</td>\n",
       "    </tr>\n",
       "    <tr>\n",
       "      <td>2</td>\n",
       "      <td>0.0</td>\n",
       "      <td>0.0</td>\n",
       "      <td>0.0</td>\n",
       "      <td>0.0</td>\n",
       "      <td>0.0</td>\n",
       "      <td>0.0</td>\n",
       "      <td>0.0</td>\n",
       "      <td>0.0</td>\n",
       "      <td>0.0</td>\n",
       "      <td>0.0</td>\n",
       "      <td>...</td>\n",
       "      <td>0.0</td>\n",
       "      <td>-7374.302080</td>\n",
       "      <td>4.864847e+06</td>\n",
       "      <td>4</td>\n",
       "      <td>2</td>\n",
       "      <td>0</td>\n",
       "      <td>0</td>\n",
       "      <td>0</td>\n",
       "      <td>13</td>\n",
       "      <td>1381155095</td>\n",
       "    </tr>\n",
       "    <tr>\n",
       "      <td>3</td>\n",
       "      <td>0.0</td>\n",
       "      <td>0.0</td>\n",
       "      <td>0.0</td>\n",
       "      <td>0.0</td>\n",
       "      <td>0.0</td>\n",
       "      <td>0.0</td>\n",
       "      <td>0.0</td>\n",
       "      <td>0.0</td>\n",
       "      <td>0.0</td>\n",
       "      <td>0.0</td>\n",
       "      <td>...</td>\n",
       "      <td>0.0</td>\n",
       "      <td>-7365.824883</td>\n",
       "      <td>4.864843e+06</td>\n",
       "      <td>4</td>\n",
       "      <td>2</td>\n",
       "      <td>0</td>\n",
       "      <td>0</td>\n",
       "      <td>0</td>\n",
       "      <td>13</td>\n",
       "      <td>1381155138</td>\n",
       "    </tr>\n",
       "    <tr>\n",
       "      <td>5</td>\n",
       "      <td>0.0</td>\n",
       "      <td>0.0</td>\n",
       "      <td>0.0</td>\n",
       "      <td>0.0</td>\n",
       "      <td>0.0</td>\n",
       "      <td>0.0</td>\n",
       "      <td>0.0</td>\n",
       "      <td>0.0</td>\n",
       "      <td>0.0</td>\n",
       "      <td>0.0</td>\n",
       "      <td>...</td>\n",
       "      <td>0.0</td>\n",
       "      <td>-7338.807210</td>\n",
       "      <td>4.864825e+06</td>\n",
       "      <td>2</td>\n",
       "      <td>2</td>\n",
       "      <td>0</td>\n",
       "      <td>0</td>\n",
       "      <td>0</td>\n",
       "      <td>12</td>\n",
       "      <td>1380874853</td>\n",
       "    </tr>\n",
       "    <tr>\n",
       "      <td>6</td>\n",
       "      <td>0.0</td>\n",
       "      <td>0.0</td>\n",
       "      <td>0.0</td>\n",
       "      <td>0.0</td>\n",
       "      <td>0.0</td>\n",
       "      <td>0.0</td>\n",
       "      <td>0.0</td>\n",
       "      <td>0.0</td>\n",
       "      <td>0.0</td>\n",
       "      <td>0.0</td>\n",
       "      <td>...</td>\n",
       "      <td>0.0</td>\n",
       "      <td>-7379.351683</td>\n",
       "      <td>4.864849e+06</td>\n",
       "      <td>3</td>\n",
       "      <td>2</td>\n",
       "      <td>0</td>\n",
       "      <td>0</td>\n",
       "      <td>0</td>\n",
       "      <td>20</td>\n",
       "      <td>1380874982</td>\n",
       "    </tr>\n",
       "  </tbody>\n",
       "</table>\n",
       "<p>5 rows × 529 columns</p>\n",
       "</div>"
      ],
      "text/plain": [
       "   WAP001  WAP002  WAP003  WAP004  WAP005  WAP006  WAP007  WAP008  WAP009  \\\n",
       "1     0.0     0.0     0.0     0.0     0.0     0.0     0.0     0.0     0.0   \n",
       "2     0.0     0.0     0.0     0.0     0.0     0.0     0.0     0.0     0.0   \n",
       "3     0.0     0.0     0.0     0.0     0.0     0.0     0.0     0.0     0.0   \n",
       "5     0.0     0.0     0.0     0.0     0.0     0.0     0.0     0.0     0.0   \n",
       "6     0.0     0.0     0.0     0.0     0.0     0.0     0.0     0.0     0.0   \n",
       "\n",
       "   WAP010  ...  WAP520    LONGITUDE      LATITUDE  FLOOR  BUILDINGID  SPACEID  \\\n",
       "1     0.0  ...     0.0 -7383.867221  4.864840e+06      4           2        0   \n",
       "2     0.0  ...     0.0 -7374.302080  4.864847e+06      4           2        0   \n",
       "3     0.0  ...     0.0 -7365.824883  4.864843e+06      4           2        0   \n",
       "5     0.0  ...     0.0 -7338.807210  4.864825e+06      2           2        0   \n",
       "6     0.0  ...     0.0 -7379.351683  4.864849e+06      3           2        0   \n",
       "\n",
       "   RELATIVEPOSITION  USERID  PHONEID   TIMESTAMP  \n",
       "1                 0       0       13  1381155054  \n",
       "2                 0       0       13  1381155095  \n",
       "3                 0       0       13  1381155138  \n",
       "5                 0       0       12  1380874853  \n",
       "6                 0       0       20  1380874982  \n",
       "\n",
       "[5 rows x 529 columns]"
      ]
     },
     "execution_count": 52,
     "metadata": {},
     "output_type": "execute_result"
    }
   ],
   "source": [
    "val_2.head()"
   ]
  },
  {
   "cell_type": "code",
   "execution_count": 19,
   "metadata": {},
   "outputs": [
    {
     "data": {
      "text/plain": [
       "(536, 529)"
      ]
     },
     "execution_count": 19,
     "metadata": {},
     "output_type": "execute_result"
    }
   ],
   "source": [
    "val_0.shape"
   ]
  },
  {
   "cell_type": "code",
   "execution_count": 20,
   "metadata": {},
   "outputs": [
    {
     "data": {
      "text/plain": [
       "(307, 529)"
      ]
     },
     "execution_count": 20,
     "metadata": {},
     "output_type": "execute_result"
    }
   ],
   "source": [
    "val_1.shape"
   ]
  },
  {
   "cell_type": "code",
   "execution_count": 21,
   "metadata": {},
   "outputs": [
    {
     "data": {
      "text/plain": [
       "(268, 529)"
      ]
     },
     "execution_count": 21,
     "metadata": {},
     "output_type": "execute_result"
    }
   ],
   "source": [
    "val_2.shape"
   ]
  },
  {
   "cell_type": "markdown",
   "metadata": {},
   "source": [
    "## Building 0"
   ]
  },
  {
   "cell_type": "markdown",
   "metadata": {},
   "source": [
    "### Selecting the data for modeling"
   ]
  },
  {
   "cell_type": "code",
   "execution_count": 26,
   "metadata": {},
   "outputs": [],
   "source": [
    "features = train_0.iloc[:,:520]"
   ]
  },
  {
   "cell_type": "code",
   "execution_count": 27,
   "metadata": {},
   "outputs": [],
   "source": [
    "dependentlist_r = [[train_0[\"LONGITUDE\"], val_0[\"LONGITUDE\"]], [train_0[\"LATITUDE\"], val_0[\"LATITUDE\"]]]"
   ]
  },
  {
   "cell_type": "code",
   "execution_count": 28,
   "metadata": {},
   "outputs": [],
   "source": [
    "dependentlist_c = [[train_0[\"BUILDINGID\"], val_0[\"BUILDINGID\"]], [train_0[\"FLOOR\"], val_0[\"FLOOR\"]]]"
   ]
  },
  {
   "cell_type": "code",
   "execution_count": 29,
   "metadata": {},
   "outputs": [],
   "source": [
    "val_features = val_0.iloc[:,:520]"
   ]
  },
  {
   "cell_type": "markdown",
   "metadata": {},
   "source": [
    "### Modeling and predicting"
   ]
  },
  {
   "cell_type": "code",
   "execution_count": 30,
   "metadata": {},
   "outputs": [],
   "source": [
    "knn_r = [3, 5, 7, 9, 11]"
   ]
  },
  {
   "cell_type": "code",
   "execution_count": 31,
   "metadata": {},
   "outputs": [],
   "source": [
    "knn_c = [3, 5, 7, 9, 11]"
   ]
  },
  {
   "cell_type": "code",
   "execution_count": 32,
   "metadata": {},
   "outputs": [],
   "source": [
    "mae_knn_n5_b0_df = pd.DataFrame(columns=[\"LONGITUDE\", \"LATITUDE\"], index=[\"3NN\", \"5NN\", \"7NN\", \"9NN\", \"11NN\"])"
   ]
  },
  {
   "cell_type": "code",
   "execution_count": 33,
   "metadata": {},
   "outputs": [],
   "source": [
    "acc_knn_n5_b0_df = pd.DataFrame(columns=[\"BUILDINGID\", \"FLOORID\"], index=[\"3NN\", \"5NN\", \"7NN\", \"9NN\", \"11NN\"])"
   ]
  },
  {
   "cell_type": "markdown",
   "metadata": {},
   "source": [
    "#### Regression"
   ]
  },
  {
   "cell_type": "code",
   "execution_count": 34,
   "metadata": {},
   "outputs": [],
   "source": [
    "m = 0\n",
    "k = 0\n",
    "for i in dependentlist_r:\n",
    "    for j in knn_r:\n",
    "        modelKNNR = KNeighborsRegressor(n_neighbors = j, n_jobs= -1)\n",
    "        modelKNNR.fit(features, i[0])\n",
    "        prediction = modelKNNR.predict(val_features)\n",
    "        mae_knn_n5_b0_df.iloc[m, k] = mean_absolute_error(i[1], prediction)\n",
    "        m = m + 1\n",
    "    m = 0\n",
    "    k = k + 1"
   ]
  },
  {
   "cell_type": "markdown",
   "metadata": {},
   "source": [
    "#### Clasification"
   ]
  },
  {
   "cell_type": "code",
   "execution_count": 35,
   "metadata": {},
   "outputs": [],
   "source": [
    "m = 0\n",
    "k = 0\n",
    "for i in dependentlist_c:\n",
    "    for j in knn_c:\n",
    "        modelKNNC = KNeighborsClassifier(n_neighbors= j, n_jobs= -1)\n",
    "        modelKNNC.fit(features, i[0])\n",
    "        prediction = modelKNNC.predict(val_features)\n",
    "        acc_knn_n5_b0_df.iloc[m, k] = accuracy_score(i[1], prediction)\n",
    "        m = m + 1\n",
    "    m = 0\n",
    "    k = k + 1"
   ]
  },
  {
   "cell_type": "code",
   "execution_count": 36,
   "metadata": {},
   "outputs": [
    {
     "data": {
      "text/html": [
       "<div>\n",
       "<style scoped>\n",
       "    .dataframe tbody tr th:only-of-type {\n",
       "        vertical-align: middle;\n",
       "    }\n",
       "\n",
       "    .dataframe tbody tr th {\n",
       "        vertical-align: top;\n",
       "    }\n",
       "\n",
       "    .dataframe thead th {\n",
       "        text-align: right;\n",
       "    }\n",
       "</style>\n",
       "<table border=\"1\" class=\"dataframe\">\n",
       "  <thead>\n",
       "    <tr style=\"text-align: right;\">\n",
       "      <th></th>\n",
       "      <th>BUILDINGID</th>\n",
       "      <th>FLOORID</th>\n",
       "    </tr>\n",
       "  </thead>\n",
       "  <tbody>\n",
       "    <tr>\n",
       "      <td>3NN</td>\n",
       "      <td>1</td>\n",
       "      <td>0.977612</td>\n",
       "    </tr>\n",
       "    <tr>\n",
       "      <td>5NN</td>\n",
       "      <td>1</td>\n",
       "      <td>0.977612</td>\n",
       "    </tr>\n",
       "    <tr>\n",
       "      <td>7NN</td>\n",
       "      <td>1</td>\n",
       "      <td>0.977612</td>\n",
       "    </tr>\n",
       "    <tr>\n",
       "      <td>9NN</td>\n",
       "      <td>1</td>\n",
       "      <td>0.973881</td>\n",
       "    </tr>\n",
       "    <tr>\n",
       "      <td>11NN</td>\n",
       "      <td>1</td>\n",
       "      <td>0.973881</td>\n",
       "    </tr>\n",
       "  </tbody>\n",
       "</table>\n",
       "</div>"
      ],
      "text/plain": [
       "     BUILDINGID   FLOORID\n",
       "3NN           1  0.977612\n",
       "5NN           1  0.977612\n",
       "7NN           1  0.977612\n",
       "9NN           1  0.973881\n",
       "11NN          1  0.973881"
      ]
     },
     "execution_count": 36,
     "metadata": {},
     "output_type": "execute_result"
    }
   ],
   "source": [
    "acc_knn_n5_b0_df"
   ]
  },
  {
   "cell_type": "code",
   "execution_count": 37,
   "metadata": {},
   "outputs": [
    {
     "data": {
      "text/html": [
       "<div>\n",
       "<style scoped>\n",
       "    .dataframe tbody tr th:only-of-type {\n",
       "        vertical-align: middle;\n",
       "    }\n",
       "\n",
       "    .dataframe tbody tr th {\n",
       "        vertical-align: top;\n",
       "    }\n",
       "\n",
       "    .dataframe thead th {\n",
       "        text-align: right;\n",
       "    }\n",
       "</style>\n",
       "<table border=\"1\" class=\"dataframe\">\n",
       "  <thead>\n",
       "    <tr style=\"text-align: right;\">\n",
       "      <th></th>\n",
       "      <th>LONGITUDE</th>\n",
       "      <th>LATITUDE</th>\n",
       "    </tr>\n",
       "  </thead>\n",
       "  <tbody>\n",
       "    <tr>\n",
       "      <td>3NN</td>\n",
       "      <td>3.90396</td>\n",
       "      <td>3.51722</td>\n",
       "    </tr>\n",
       "    <tr>\n",
       "      <td>5NN</td>\n",
       "      <td>3.73846</td>\n",
       "      <td>3.4726</td>\n",
       "    </tr>\n",
       "    <tr>\n",
       "      <td>7NN</td>\n",
       "      <td>3.78088</td>\n",
       "      <td>3.44606</td>\n",
       "    </tr>\n",
       "    <tr>\n",
       "      <td>9NN</td>\n",
       "      <td>3.80136</td>\n",
       "      <td>3.44079</td>\n",
       "    </tr>\n",
       "    <tr>\n",
       "      <td>11NN</td>\n",
       "      <td>3.80364</td>\n",
       "      <td>3.45306</td>\n",
       "    </tr>\n",
       "  </tbody>\n",
       "</table>\n",
       "</div>"
      ],
      "text/plain": [
       "     LONGITUDE LATITUDE\n",
       "3NN    3.90396  3.51722\n",
       "5NN    3.73846   3.4726\n",
       "7NN    3.78088  3.44606\n",
       "9NN    3.80136  3.44079\n",
       "11NN   3.80364  3.45306"
      ]
     },
     "execution_count": 37,
     "metadata": {},
     "output_type": "execute_result"
    }
   ],
   "source": [
    "mae_knn_n5_b0_df"
   ]
  },
  {
   "cell_type": "markdown",
   "metadata": {},
   "source": [
    "## Building 1"
   ]
  },
  {
   "cell_type": "markdown",
   "metadata": {},
   "source": [
    "### Selecting the data for modeling"
   ]
  },
  {
   "cell_type": "code",
   "execution_count": 38,
   "metadata": {},
   "outputs": [],
   "source": [
    "features = train_1.iloc[:,:520]"
   ]
  },
  {
   "cell_type": "code",
   "execution_count": 39,
   "metadata": {},
   "outputs": [],
   "source": [
    "dependentlist_r = [[train_1[\"LONGITUDE\"], val_1[\"LONGITUDE\"]], [train_1[\"LATITUDE\"], val_1[\"LATITUDE\"]]]"
   ]
  },
  {
   "cell_type": "code",
   "execution_count": 40,
   "metadata": {},
   "outputs": [],
   "source": [
    "dependentlist_c = [[train_1[\"BUILDINGID\"], val_1[\"BUILDINGID\"]], [train_1[\"FLOOR\"], val_1[\"FLOOR\"]]]"
   ]
  },
  {
   "cell_type": "code",
   "execution_count": 41,
   "metadata": {},
   "outputs": [],
   "source": [
    "val_features = val_1.iloc[:,:520]"
   ]
  },
  {
   "cell_type": "markdown",
   "metadata": {},
   "source": [
    "### Modeling and predicting"
   ]
  },
  {
   "cell_type": "code",
   "execution_count": 42,
   "metadata": {},
   "outputs": [],
   "source": [
    "knn_r = [3, 5, 7, 9, 11]"
   ]
  },
  {
   "cell_type": "code",
   "execution_count": 43,
   "metadata": {},
   "outputs": [],
   "source": [
    "knn_c = [3, 5, 7, 9, 11]"
   ]
  },
  {
   "cell_type": "code",
   "execution_count": 44,
   "metadata": {},
   "outputs": [],
   "source": [
    "mae_knn_n5_b1_df = pd.DataFrame(columns=[\"LONGITUDE\", \"LATITUDE\"], index=[\"3NN\", \"5NN\", \"7NN\", \"9NN\", \"11NN\"])"
   ]
  },
  {
   "cell_type": "code",
   "execution_count": 45,
   "metadata": {},
   "outputs": [],
   "source": [
    "acc_knn_n5_b1_df = pd.DataFrame(columns=[\"BUILDINGID\", \"FLOORID\"], index=[\"3NN\", \"5NN\", \"7NN\", \"9NN\", \"11NN\"])"
   ]
  },
  {
   "cell_type": "markdown",
   "metadata": {},
   "source": [
    "#### Regression"
   ]
  },
  {
   "cell_type": "code",
   "execution_count": 46,
   "metadata": {},
   "outputs": [],
   "source": [
    "m = 0\n",
    "k = 0\n",
    "for i in dependentlist_r:\n",
    "    for j in knn_r:\n",
    "        modelKNNR = KNeighborsRegressor(n_neighbors = j, n_jobs= -1)\n",
    "        modelKNNR.fit(features, i[0])\n",
    "        prediction = modelKNNR.predict(val_features)\n",
    "        mae_knn_n5_b1_df.iloc[m, k] = mean_absolute_error(i[1], prediction)\n",
    "        m = m + 1\n",
    "    m = 0\n",
    "    k = k + 1"
   ]
  },
  {
   "cell_type": "markdown",
   "metadata": {},
   "source": [
    "#### Clasification"
   ]
  },
  {
   "cell_type": "code",
   "execution_count": 47,
   "metadata": {},
   "outputs": [],
   "source": [
    "m = 0\n",
    "k = 0\n",
    "for i in dependentlist_c:\n",
    "    for j in knn_c:\n",
    "        modelKNNC = KNeighborsClassifier(n_neighbors= j, n_jobs= -1)\n",
    "        modelKNNC.fit(features, i[0])\n",
    "        prediction = modelKNNC.predict(val_features)\n",
    "        acc_knn_n5_b1_df.iloc[m, k] = accuracy_score(i[1], prediction)\n",
    "        m = m + 1\n",
    "    m = 0\n",
    "    k = k + 1"
   ]
  },
  {
   "cell_type": "code",
   "execution_count": 48,
   "metadata": {},
   "outputs": [
    {
     "data": {
      "text/html": [
       "<div>\n",
       "<style scoped>\n",
       "    .dataframe tbody tr th:only-of-type {\n",
       "        vertical-align: middle;\n",
       "    }\n",
       "\n",
       "    .dataframe tbody tr th {\n",
       "        vertical-align: top;\n",
       "    }\n",
       "\n",
       "    .dataframe thead th {\n",
       "        text-align: right;\n",
       "    }\n",
       "</style>\n",
       "<table border=\"1\" class=\"dataframe\">\n",
       "  <thead>\n",
       "    <tr style=\"text-align: right;\">\n",
       "      <th></th>\n",
       "      <th>BUILDINGID</th>\n",
       "      <th>FLOORID</th>\n",
       "    </tr>\n",
       "  </thead>\n",
       "  <tbody>\n",
       "    <tr>\n",
       "      <td>3NN</td>\n",
       "      <td>1</td>\n",
       "      <td>0.934853</td>\n",
       "    </tr>\n",
       "    <tr>\n",
       "      <td>5NN</td>\n",
       "      <td>1</td>\n",
       "      <td>0.941368</td>\n",
       "    </tr>\n",
       "    <tr>\n",
       "      <td>7NN</td>\n",
       "      <td>1</td>\n",
       "      <td>0.931596</td>\n",
       "    </tr>\n",
       "    <tr>\n",
       "      <td>9NN</td>\n",
       "      <td>1</td>\n",
       "      <td>0.934853</td>\n",
       "    </tr>\n",
       "    <tr>\n",
       "      <td>11NN</td>\n",
       "      <td>1</td>\n",
       "      <td>0.938111</td>\n",
       "    </tr>\n",
       "  </tbody>\n",
       "</table>\n",
       "</div>"
      ],
      "text/plain": [
       "     BUILDINGID   FLOORID\n",
       "3NN           1  0.934853\n",
       "5NN           1  0.941368\n",
       "7NN           1  0.931596\n",
       "9NN           1  0.934853\n",
       "11NN          1  0.938111"
      ]
     },
     "execution_count": 48,
     "metadata": {},
     "output_type": "execute_result"
    }
   ],
   "source": [
    "acc_knn_n5_b1_df"
   ]
  },
  {
   "cell_type": "code",
   "execution_count": 49,
   "metadata": {},
   "outputs": [
    {
     "data": {
      "text/html": [
       "<div>\n",
       "<style scoped>\n",
       "    .dataframe tbody tr th:only-of-type {\n",
       "        vertical-align: middle;\n",
       "    }\n",
       "\n",
       "    .dataframe tbody tr th {\n",
       "        vertical-align: top;\n",
       "    }\n",
       "\n",
       "    .dataframe thead th {\n",
       "        text-align: right;\n",
       "    }\n",
       "</style>\n",
       "<table border=\"1\" class=\"dataframe\">\n",
       "  <thead>\n",
       "    <tr style=\"text-align: right;\">\n",
       "      <th></th>\n",
       "      <th>LONGITUDE</th>\n",
       "      <th>LATITUDE</th>\n",
       "    </tr>\n",
       "  </thead>\n",
       "  <tbody>\n",
       "    <tr>\n",
       "      <td>3NN</td>\n",
       "      <td>6.04238</td>\n",
       "      <td>5.65432</td>\n",
       "    </tr>\n",
       "    <tr>\n",
       "      <td>5NN</td>\n",
       "      <td>5.62419</td>\n",
       "      <td>5.47194</td>\n",
       "    </tr>\n",
       "    <tr>\n",
       "      <td>7NN</td>\n",
       "      <td>5.50444</td>\n",
       "      <td>5.39088</td>\n",
       "    </tr>\n",
       "    <tr>\n",
       "      <td>9NN</td>\n",
       "      <td>5.51486</td>\n",
       "      <td>5.29857</td>\n",
       "    </tr>\n",
       "    <tr>\n",
       "      <td>11NN</td>\n",
       "      <td>5.56726</td>\n",
       "      <td>5.28322</td>\n",
       "    </tr>\n",
       "  </tbody>\n",
       "</table>\n",
       "</div>"
      ],
      "text/plain": [
       "     LONGITUDE LATITUDE\n",
       "3NN    6.04238  5.65432\n",
       "5NN    5.62419  5.47194\n",
       "7NN    5.50444  5.39088\n",
       "9NN    5.51486  5.29857\n",
       "11NN   5.56726  5.28322"
      ]
     },
     "execution_count": 49,
     "metadata": {},
     "output_type": "execute_result"
    }
   ],
   "source": [
    "mae_knn_n5_b1_df"
   ]
  },
  {
   "cell_type": "markdown",
   "metadata": {},
   "source": [
    "## Building 2"
   ]
  },
  {
   "cell_type": "markdown",
   "metadata": {},
   "source": [
    "### Selecting the data for modeling"
   ]
  },
  {
   "cell_type": "code",
   "execution_count": 53,
   "metadata": {},
   "outputs": [],
   "source": [
    "features = train_2.iloc[:,:520]"
   ]
  },
  {
   "cell_type": "code",
   "execution_count": 54,
   "metadata": {},
   "outputs": [],
   "source": [
    "dependentlist_r = [[train_2[\"LONGITUDE\"], val_2[\"LONGITUDE\"]], [train_2[\"LATITUDE\"], val_2[\"LATITUDE\"]]]"
   ]
  },
  {
   "cell_type": "code",
   "execution_count": 55,
   "metadata": {},
   "outputs": [],
   "source": [
    "dependentlist_c = [[train_2[\"BUILDINGID\"], val_2[\"BUILDINGID\"]], [train_2[\"FLOOR\"], val_2[\"FLOOR\"]]]"
   ]
  },
  {
   "cell_type": "code",
   "execution_count": 56,
   "metadata": {},
   "outputs": [],
   "source": [
    "val_features = val_2.iloc[:,:520]"
   ]
  },
  {
   "cell_type": "markdown",
   "metadata": {},
   "source": [
    "### Modeling and predicting"
   ]
  },
  {
   "cell_type": "code",
   "execution_count": 57,
   "metadata": {},
   "outputs": [],
   "source": [
    "knn_r = [3, 5, 7, 9, 11]"
   ]
  },
  {
   "cell_type": "code",
   "execution_count": 58,
   "metadata": {},
   "outputs": [],
   "source": [
    "knn_c = [3, 5, 7, 9, 11]"
   ]
  },
  {
   "cell_type": "code",
   "execution_count": 59,
   "metadata": {},
   "outputs": [],
   "source": [
    "mae_knn_n5_b2_df = pd.DataFrame(columns=[\"LONGITUDE\", \"LATITUDE\"], index=[\"3NN\", \"5NN\", \"7NN\", \"9NN\", \"11NN\"])"
   ]
  },
  {
   "cell_type": "code",
   "execution_count": 60,
   "metadata": {},
   "outputs": [],
   "source": [
    "acc_knn_n5_b2_df = pd.DataFrame(columns=[\"BUILDINGID\", \"FLOORID\"], index=[\"3NN\", \"5NN\", \"7NN\", \"9NN\", \"11NN\"])"
   ]
  },
  {
   "cell_type": "markdown",
   "metadata": {},
   "source": [
    "#### Regression"
   ]
  },
  {
   "cell_type": "code",
   "execution_count": 61,
   "metadata": {},
   "outputs": [],
   "source": [
    "m = 0\n",
    "k = 0\n",
    "for i in dependentlist_r:\n",
    "    for j in knn_r:\n",
    "        modelKNNR = KNeighborsRegressor(n_neighbors = j, n_jobs= -1)\n",
    "        modelKNNR.fit(features, i[0])\n",
    "        prediction = modelKNNR.predict(val_features)\n",
    "        mae_knn_n5_b2_df.iloc[m, k] = mean_absolute_error(i[1], prediction)\n",
    "        m = m + 1\n",
    "    m = 0\n",
    "    k = k + 1"
   ]
  },
  {
   "cell_type": "markdown",
   "metadata": {},
   "source": [
    "#### Clasification"
   ]
  },
  {
   "cell_type": "code",
   "execution_count": 62,
   "metadata": {},
   "outputs": [],
   "source": [
    "m = 0\n",
    "k = 0\n",
    "for i in dependentlist_c:\n",
    "    for j in knn_c:\n",
    "        modelKNNC = KNeighborsClassifier(n_neighbors= j, n_jobs= -1)\n",
    "        modelKNNC.fit(features, i[0])\n",
    "        prediction = modelKNNC.predict(val_features)\n",
    "        acc_knn_n5_b2_df.iloc[m, k] = accuracy_score(i[1], prediction)\n",
    "        m = m + 1\n",
    "    m = 0\n",
    "    k = k + 1"
   ]
  },
  {
   "cell_type": "code",
   "execution_count": 63,
   "metadata": {},
   "outputs": [
    {
     "data": {
      "text/html": [
       "<div>\n",
       "<style scoped>\n",
       "    .dataframe tbody tr th:only-of-type {\n",
       "        vertical-align: middle;\n",
       "    }\n",
       "\n",
       "    .dataframe tbody tr th {\n",
       "        vertical-align: top;\n",
       "    }\n",
       "\n",
       "    .dataframe thead th {\n",
       "        text-align: right;\n",
       "    }\n",
       "</style>\n",
       "<table border=\"1\" class=\"dataframe\">\n",
       "  <thead>\n",
       "    <tr style=\"text-align: right;\">\n",
       "      <th></th>\n",
       "      <th>BUILDINGID</th>\n",
       "      <th>FLOORID</th>\n",
       "    </tr>\n",
       "  </thead>\n",
       "  <tbody>\n",
       "    <tr>\n",
       "      <td>3NN</td>\n",
       "      <td>1</td>\n",
       "      <td>0.970149</td>\n",
       "    </tr>\n",
       "    <tr>\n",
       "      <td>5NN</td>\n",
       "      <td>1</td>\n",
       "      <td>0.973881</td>\n",
       "    </tr>\n",
       "    <tr>\n",
       "      <td>7NN</td>\n",
       "      <td>1</td>\n",
       "      <td>0.962687</td>\n",
       "    </tr>\n",
       "    <tr>\n",
       "      <td>9NN</td>\n",
       "      <td>1</td>\n",
       "      <td>0.962687</td>\n",
       "    </tr>\n",
       "    <tr>\n",
       "      <td>11NN</td>\n",
       "      <td>1</td>\n",
       "      <td>0.966418</td>\n",
       "    </tr>\n",
       "  </tbody>\n",
       "</table>\n",
       "</div>"
      ],
      "text/plain": [
       "     BUILDINGID   FLOORID\n",
       "3NN           1  0.970149\n",
       "5NN           1  0.973881\n",
       "7NN           1  0.962687\n",
       "9NN           1  0.962687\n",
       "11NN          1  0.966418"
      ]
     },
     "execution_count": 63,
     "metadata": {},
     "output_type": "execute_result"
    }
   ],
   "source": [
    "acc_knn_n5_b2_df"
   ]
  },
  {
   "cell_type": "code",
   "execution_count": 64,
   "metadata": {},
   "outputs": [
    {
     "data": {
      "text/html": [
       "<div>\n",
       "<style scoped>\n",
       "    .dataframe tbody tr th:only-of-type {\n",
       "        vertical-align: middle;\n",
       "    }\n",
       "\n",
       "    .dataframe tbody tr th {\n",
       "        vertical-align: top;\n",
       "    }\n",
       "\n",
       "    .dataframe thead th {\n",
       "        text-align: right;\n",
       "    }\n",
       "</style>\n",
       "<table border=\"1\" class=\"dataframe\">\n",
       "  <thead>\n",
       "    <tr style=\"text-align: right;\">\n",
       "      <th></th>\n",
       "      <th>LONGITUDE</th>\n",
       "      <th>LATITUDE</th>\n",
       "    </tr>\n",
       "  </thead>\n",
       "  <tbody>\n",
       "    <tr>\n",
       "      <td>3NN</td>\n",
       "      <td>6.23255</td>\n",
       "      <td>5.45563</td>\n",
       "    </tr>\n",
       "    <tr>\n",
       "      <td>5NN</td>\n",
       "      <td>5.95057</td>\n",
       "      <td>5.27506</td>\n",
       "    </tr>\n",
       "    <tr>\n",
       "      <td>7NN</td>\n",
       "      <td>5.91823</td>\n",
       "      <td>5.18457</td>\n",
       "    </tr>\n",
       "    <tr>\n",
       "      <td>9NN</td>\n",
       "      <td>5.85289</td>\n",
       "      <td>5.10024</td>\n",
       "    </tr>\n",
       "    <tr>\n",
       "      <td>11NN</td>\n",
       "      <td>5.9887</td>\n",
       "      <td>5.16828</td>\n",
       "    </tr>\n",
       "  </tbody>\n",
       "</table>\n",
       "</div>"
      ],
      "text/plain": [
       "     LONGITUDE LATITUDE\n",
       "3NN    6.23255  5.45563\n",
       "5NN    5.95057  5.27506\n",
       "7NN    5.91823  5.18457\n",
       "9NN    5.85289  5.10024\n",
       "11NN    5.9887  5.16828"
      ]
     },
     "execution_count": 64,
     "metadata": {},
     "output_type": "execute_result"
    }
   ],
   "source": [
    "mae_knn_n5_b2_df"
   ]
  },
  {
   "cell_type": "markdown",
   "metadata": {},
   "source": [
    "## Calculating mean error metrics of all buildings"
   ]
  },
  {
   "cell_type": "markdown",
   "metadata": {},
   "source": [
    "### MAE of all buildings"
   ]
  },
  {
   "cell_type": "code",
   "execution_count": 69,
   "metadata": {},
   "outputs": [],
   "source": [
    "mae_b0_long_best = mae_knn_n5_b0_df[\"LONGITUDE\"].min()\n",
    "mae_b1_long_best = mae_knn_n5_b1_df[\"LONGITUDE\"].min()\n",
    "mae_b2_long_best = mae_knn_n5_b2_df[\"LONGITUDE\"].min()\n",
    "\n",
    "mae_b0_lat_best = mae_knn_n5_b0_df[\"LATITUDE\"].min()\n",
    "mae_b1_lat_best = mae_knn_n5_b1_df[\"LATITUDE\"].min()\n",
    "mae_b2_lat_best = mae_knn_n5_b2_df[\"LATITUDE\"].min()\n",
    "\n",
    "acc_b0_floor_best = acc_knn_n5_b0_df[\"FLOORID\"].max()\n",
    "acc_b1_floor_best = acc_knn_n5_b1_df[\"FLOORID\"].max()\n",
    "acc_b2_floor_best = acc_knn_n5_b2_df[\"FLOORID\"].max()"
   ]
  },
  {
   "cell_type": "code",
   "execution_count": 71,
   "metadata": {},
   "outputs": [],
   "source": [
    "mae_long_allbuild = (val_0.shape[0]*mae_b0_long_best + val_1.shape[0]*mae_b1_long_best + \n",
    "                     val_2.shape[0]*mae_b2_long_best)/validation.shape[0]"
   ]
  },
  {
   "cell_type": "code",
   "execution_count": 72,
   "metadata": {},
   "outputs": [
    {
     "data": {
      "text/plain": [
       "4.736500518408713"
      ]
     },
     "execution_count": 72,
     "metadata": {},
     "output_type": "execute_result"
    }
   ],
   "source": [
    "mae_long_allbuild"
   ]
  },
  {
   "cell_type": "code",
   "execution_count": 73,
   "metadata": {},
   "outputs": [
    {
     "data": {
      "text/plain": [
       "4.350203909059529"
      ]
     },
     "execution_count": 73,
     "metadata": {},
     "output_type": "execute_result"
    }
   ],
   "source": [
    "mae_lat_allbuild = (val_0.shape[0]*mae_b0_lat_best + val_1.shape[0]*mae_b1_lat_best + \n",
    "                     val_2.shape[0]*mae_b2_lat_best)/validation.shape[0]\n",
    "mae_lat_allbuild"
   ]
  },
  {
   "cell_type": "markdown",
   "metadata": {},
   "source": [
    "## Looping to select pre-processiong for each building"
   ]
  },
  {
   "cell_type": "markdown",
   "metadata": {},
   "source": [
    "### Loading all the pre-processed datasets"
   ]
  },
  {
   "cell_type": "code",
   "execution_count": 78,
   "metadata": {},
   "outputs": [],
   "source": [
    "trainlist = []\n",
    "for j in range(3):\n",
    "    temp = []\n",
    "    for i in range(5):\n",
    "        datafilename = \"train_b\" + str(j) + \"_n\" + str(i + 3) + \".csv\"\n",
    "        temp.append(pd.read_csv(os.path.join(datafilenamepath, datafilename), header = 0))\n",
    "    trainlist.append(temp)"
   ]
  },
  {
   "cell_type": "code",
   "execution_count": 80,
   "metadata": {},
   "outputs": [],
   "source": [
    "validationlist = []\n",
    "for j in range(3):\n",
    "    temp = []\n",
    "    for i in range(5):\n",
    "        datafilename = \"val_b\" + str(j) + \"_n\" + str(i + 3) + \".csv\"\n",
    "        temp.append(pd.read_csv(os.path.join(datafilenamepath, datafilename), header = 0))\n",
    "    validationlist.append(temp)"
   ]
  },
  {
   "cell_type": "code",
   "execution_count": 238,
   "metadata": {},
   "outputs": [
    {
     "data": {
      "text/html": [
       "<div>\n",
       "<style scoped>\n",
       "    .dataframe tbody tr th:only-of-type {\n",
       "        vertical-align: middle;\n",
       "    }\n",
       "\n",
       "    .dataframe tbody tr th {\n",
       "        vertical-align: top;\n",
       "    }\n",
       "\n",
       "    .dataframe thead th {\n",
       "        text-align: right;\n",
       "    }\n",
       "</style>\n",
       "<table border=\"1\" class=\"dataframe\">\n",
       "  <thead>\n",
       "    <tr style=\"text-align: right;\">\n",
       "      <th></th>\n",
       "      <th>WAP001</th>\n",
       "      <th>WAP002</th>\n",
       "      <th>WAP003</th>\n",
       "      <th>WAP004</th>\n",
       "      <th>WAP005</th>\n",
       "      <th>WAP006</th>\n",
       "      <th>WAP007</th>\n",
       "      <th>WAP008</th>\n",
       "      <th>WAP009</th>\n",
       "      <th>WAP010</th>\n",
       "      <th>...</th>\n",
       "      <th>WAP520</th>\n",
       "      <th>LONGITUDE</th>\n",
       "      <th>LATITUDE</th>\n",
       "      <th>FLOOR</th>\n",
       "      <th>BUILDINGID</th>\n",
       "      <th>SPACEID</th>\n",
       "      <th>RELATIVEPOSITION</th>\n",
       "      <th>USERID</th>\n",
       "      <th>PHONEID</th>\n",
       "      <th>TIMESTAMP</th>\n",
       "    </tr>\n",
       "  </thead>\n",
       "  <tbody>\n",
       "    <tr>\n",
       "      <td>0</td>\n",
       "      <td>0.0</td>\n",
       "      <td>0.0</td>\n",
       "      <td>0.0</td>\n",
       "      <td>0.0</td>\n",
       "      <td>0.0</td>\n",
       "      <td>0.0</td>\n",
       "      <td>0.0</td>\n",
       "      <td>0.0</td>\n",
       "      <td>0.000000</td>\n",
       "      <td>0.0</td>\n",
       "      <td>...</td>\n",
       "      <td>0.0</td>\n",
       "      <td>-7641.499303</td>\n",
       "      <td>4.864922e+06</td>\n",
       "      <td>2</td>\n",
       "      <td>0</td>\n",
       "      <td>0</td>\n",
       "      <td>0</td>\n",
       "      <td>0</td>\n",
       "      <td>2</td>\n",
       "      <td>1380877774</td>\n",
       "    </tr>\n",
       "    <tr>\n",
       "      <td>1</td>\n",
       "      <td>0.0</td>\n",
       "      <td>0.0</td>\n",
       "      <td>0.0</td>\n",
       "      <td>0.0</td>\n",
       "      <td>0.0</td>\n",
       "      <td>0.0</td>\n",
       "      <td>0.0</td>\n",
       "      <td>0.0</td>\n",
       "      <td>0.000000</td>\n",
       "      <td>0.0</td>\n",
       "      <td>...</td>\n",
       "      <td>0.0</td>\n",
       "      <td>-7586.944816</td>\n",
       "      <td>4.864986e+06</td>\n",
       "      <td>1</td>\n",
       "      <td>0</td>\n",
       "      <td>0</td>\n",
       "      <td>0</td>\n",
       "      <td>0</td>\n",
       "      <td>13</td>\n",
       "      <td>1379580019</td>\n",
       "    </tr>\n",
       "    <tr>\n",
       "      <td>2</td>\n",
       "      <td>0.0</td>\n",
       "      <td>0.0</td>\n",
       "      <td>0.0</td>\n",
       "      <td>0.0</td>\n",
       "      <td>0.0</td>\n",
       "      <td>0.0</td>\n",
       "      <td>0.0</td>\n",
       "      <td>0.0</td>\n",
       "      <td>0.000000</td>\n",
       "      <td>0.0</td>\n",
       "      <td>...</td>\n",
       "      <td>0.0</td>\n",
       "      <td>-7674.785283</td>\n",
       "      <td>4.864934e+06</td>\n",
       "      <td>2</td>\n",
       "      <td>0</td>\n",
       "      <td>0</td>\n",
       "      <td>0</td>\n",
       "      <td>0</td>\n",
       "      <td>2</td>\n",
       "      <td>1380877599</td>\n",
       "    </tr>\n",
       "    <tr>\n",
       "      <td>3</td>\n",
       "      <td>0.0</td>\n",
       "      <td>0.0</td>\n",
       "      <td>0.0</td>\n",
       "      <td>0.0</td>\n",
       "      <td>0.0</td>\n",
       "      <td>0.0</td>\n",
       "      <td>0.0</td>\n",
       "      <td>0.0</td>\n",
       "      <td>0.048136</td>\n",
       "      <td>0.0</td>\n",
       "      <td>...</td>\n",
       "      <td>0.0</td>\n",
       "      <td>-7656.475561</td>\n",
       "      <td>4.864938e+06</td>\n",
       "      <td>2</td>\n",
       "      <td>0</td>\n",
       "      <td>0</td>\n",
       "      <td>0</td>\n",
       "      <td>0</td>\n",
       "      <td>2</td>\n",
       "      <td>1380877707</td>\n",
       "    </tr>\n",
       "    <tr>\n",
       "      <td>4</td>\n",
       "      <td>0.0</td>\n",
       "      <td>0.0</td>\n",
       "      <td>0.0</td>\n",
       "      <td>0.0</td>\n",
       "      <td>0.0</td>\n",
       "      <td>0.0</td>\n",
       "      <td>0.0</td>\n",
       "      <td>0.0</td>\n",
       "      <td>0.000000</td>\n",
       "      <td>0.0</td>\n",
       "      <td>...</td>\n",
       "      <td>0.0</td>\n",
       "      <td>-7642.764986</td>\n",
       "      <td>4.865005e+06</td>\n",
       "      <td>1</td>\n",
       "      <td>0</td>\n",
       "      <td>0</td>\n",
       "      <td>0</td>\n",
       "      <td>0</td>\n",
       "      <td>13</td>\n",
       "      <td>1380877863</td>\n",
       "    </tr>\n",
       "  </tbody>\n",
       "</table>\n",
       "<p>5 rows × 529 columns</p>\n",
       "</div>"
      ],
      "text/plain": [
       "   WAP001  WAP002  WAP003  WAP004  WAP005  WAP006  WAP007  WAP008    WAP009  \\\n",
       "0     0.0     0.0     0.0     0.0     0.0     0.0     0.0     0.0  0.000000   \n",
       "1     0.0     0.0     0.0     0.0     0.0     0.0     0.0     0.0  0.000000   \n",
       "2     0.0     0.0     0.0     0.0     0.0     0.0     0.0     0.0  0.000000   \n",
       "3     0.0     0.0     0.0     0.0     0.0     0.0     0.0     0.0  0.048136   \n",
       "4     0.0     0.0     0.0     0.0     0.0     0.0     0.0     0.0  0.000000   \n",
       "\n",
       "   WAP010  ...  WAP520    LONGITUDE      LATITUDE  FLOOR  BUILDINGID  SPACEID  \\\n",
       "0     0.0  ...     0.0 -7641.499303  4.864922e+06      2           0        0   \n",
       "1     0.0  ...     0.0 -7586.944816  4.864986e+06      1           0        0   \n",
       "2     0.0  ...     0.0 -7674.785283  4.864934e+06      2           0        0   \n",
       "3     0.0  ...     0.0 -7656.475561  4.864938e+06      2           0        0   \n",
       "4     0.0  ...     0.0 -7642.764986  4.865005e+06      1           0        0   \n",
       "\n",
       "   RELATIVEPOSITION  USERID  PHONEID   TIMESTAMP  \n",
       "0                 0       0        2  1380877774  \n",
       "1                 0       0       13  1379580019  \n",
       "2                 0       0        2  1380877599  \n",
       "3                 0       0        2  1380877707  \n",
       "4                 0       0       13  1380877863  \n",
       "\n",
       "[5 rows x 529 columns]"
      ]
     },
     "execution_count": 238,
     "metadata": {},
     "output_type": "execute_result"
    }
   ],
   "source": [
    "validationlist[0][2].head()"
   ]
  },
  {
   "cell_type": "markdown",
   "metadata": {},
   "source": [
    "### Selecting the optimal n"
   ]
  },
  {
   "cell_type": "markdown",
   "metadata": {},
   "source": [
    "### Building 0 - n0"
   ]
  },
  {
   "cell_type": "code",
   "execution_count": 84,
   "metadata": {},
   "outputs": [],
   "source": [
    "features = trainlist[0][0].iloc[:,:520]"
   ]
  },
  {
   "cell_type": "code",
   "execution_count": 85,
   "metadata": {},
   "outputs": [],
   "source": [
    "dependentlist_r = [[trainlist[0][0][\"LONGITUDE\"], validationlist[0][0][\"LONGITUDE\"]], \n",
    "                   [trainlist[0][0][\"LATITUDE\"], validationlist[0][0][\"LATITUDE\"]]]"
   ]
  },
  {
   "cell_type": "code",
   "execution_count": 86,
   "metadata": {},
   "outputs": [],
   "source": [
    "dependentlist_c = [[trainlist[0][0][\"BUILDINGID\"], validationlist[0][0][\"BUILDINGID\"]], \n",
    "                   [trainlist[0][0][\"FLOOR\"], validationlist[0][0][\"FLOOR\"]]]"
   ]
  },
  {
   "cell_type": "code",
   "execution_count": 87,
   "metadata": {},
   "outputs": [],
   "source": [
    "val_features = validationlist[0][0].iloc[:,:520]"
   ]
  },
  {
   "cell_type": "markdown",
   "metadata": {},
   "source": [
    "### Modeling and predicting"
   ]
  },
  {
   "cell_type": "code",
   "execution_count": 88,
   "metadata": {},
   "outputs": [],
   "source": [
    "knn_r = [3, 5, 7, 9, 11]"
   ]
  },
  {
   "cell_type": "code",
   "execution_count": 89,
   "metadata": {},
   "outputs": [],
   "source": [
    "knn_c = [3, 5, 7, 9, 11]"
   ]
  },
  {
   "cell_type": "code",
   "execution_count": 90,
   "metadata": {},
   "outputs": [],
   "source": [
    "mae_knn_n3_df = pd.DataFrame(columns=[\"LONGITUDE\", \"LATITUDE\"], index=[\"3NN\", \"5NN\", \"7NN\", \"9NN\", \"11NN\"])"
   ]
  },
  {
   "cell_type": "code",
   "execution_count": 91,
   "metadata": {},
   "outputs": [],
   "source": [
    "acc_knn_n3_df = pd.DataFrame(columns=[\"BUILDINGID\", \"FLOORID\"], index=[\"3NN\", \"5NN\", \"7NN\", \"9NN\", \"11NN\"])"
   ]
  },
  {
   "cell_type": "markdown",
   "metadata": {},
   "source": [
    "#### Regression"
   ]
  },
  {
   "cell_type": "code",
   "execution_count": 92,
   "metadata": {},
   "outputs": [],
   "source": [
    "m = 0\n",
    "k = 0\n",
    "for i in dependentlist_r:\n",
    "    for j in knn_r:\n",
    "        modelKNNR = KNeighborsRegressor(n_neighbors = j, n_jobs= -1)\n",
    "        modelKNNR.fit(features, i[0])\n",
    "        prediction = modelKNNR.predict(val_features)\n",
    "        mae_knn_n3_df.iloc[m, k] = mean_absolute_error(i[1], prediction)\n",
    "        m = m + 1\n",
    "    m = 0\n",
    "    k = k + 1"
   ]
  },
  {
   "cell_type": "markdown",
   "metadata": {},
   "source": [
    "#### Clasification"
   ]
  },
  {
   "cell_type": "code",
   "execution_count": 93,
   "metadata": {},
   "outputs": [],
   "source": [
    "m = 0\n",
    "k = 0\n",
    "for i in dependentlist_c:\n",
    "    for j in knn_c:\n",
    "        modelKNNC = KNeighborsClassifier(n_neighbors= j, n_jobs= -1)\n",
    "        modelKNNC.fit(features, i[0])\n",
    "        prediction = modelKNNC.predict(val_features)\n",
    "        acc_knn_n3_df.iloc[m, k] = accuracy_score(i[1], prediction)\n",
    "        m = m + 1\n",
    "    m = 0\n",
    "    k = k + 1"
   ]
  },
  {
   "cell_type": "code",
   "execution_count": 94,
   "metadata": {},
   "outputs": [
    {
     "data": {
      "text/html": [
       "<div>\n",
       "<style scoped>\n",
       "    .dataframe tbody tr th:only-of-type {\n",
       "        vertical-align: middle;\n",
       "    }\n",
       "\n",
       "    .dataframe tbody tr th {\n",
       "        vertical-align: top;\n",
       "    }\n",
       "\n",
       "    .dataframe thead th {\n",
       "        text-align: right;\n",
       "    }\n",
       "</style>\n",
       "<table border=\"1\" class=\"dataframe\">\n",
       "  <thead>\n",
       "    <tr style=\"text-align: right;\">\n",
       "      <th></th>\n",
       "      <th>BUILDINGID</th>\n",
       "      <th>FLOORID</th>\n",
       "    </tr>\n",
       "  </thead>\n",
       "  <tbody>\n",
       "    <tr>\n",
       "      <td>3NN</td>\n",
       "      <td>1</td>\n",
       "      <td>0.964552</td>\n",
       "    </tr>\n",
       "    <tr>\n",
       "      <td>5NN</td>\n",
       "      <td>1</td>\n",
       "      <td>0.966418</td>\n",
       "    </tr>\n",
       "    <tr>\n",
       "      <td>7NN</td>\n",
       "      <td>1</td>\n",
       "      <td>0.966418</td>\n",
       "    </tr>\n",
       "    <tr>\n",
       "      <td>9NN</td>\n",
       "      <td>1</td>\n",
       "      <td>0.966418</td>\n",
       "    </tr>\n",
       "    <tr>\n",
       "      <td>11NN</td>\n",
       "      <td>1</td>\n",
       "      <td>0.966418</td>\n",
       "    </tr>\n",
       "  </tbody>\n",
       "</table>\n",
       "</div>"
      ],
      "text/plain": [
       "     BUILDINGID   FLOORID\n",
       "3NN           1  0.964552\n",
       "5NN           1  0.966418\n",
       "7NN           1  0.966418\n",
       "9NN           1  0.966418\n",
       "11NN          1  0.966418"
      ]
     },
     "execution_count": 94,
     "metadata": {},
     "output_type": "execute_result"
    }
   ],
   "source": [
    "acc_knn_n3_df"
   ]
  },
  {
   "cell_type": "code",
   "execution_count": 95,
   "metadata": {},
   "outputs": [
    {
     "data": {
      "text/html": [
       "<div>\n",
       "<style scoped>\n",
       "    .dataframe tbody tr th:only-of-type {\n",
       "        vertical-align: middle;\n",
       "    }\n",
       "\n",
       "    .dataframe tbody tr th {\n",
       "        vertical-align: top;\n",
       "    }\n",
       "\n",
       "    .dataframe thead th {\n",
       "        text-align: right;\n",
       "    }\n",
       "</style>\n",
       "<table border=\"1\" class=\"dataframe\">\n",
       "  <thead>\n",
       "    <tr style=\"text-align: right;\">\n",
       "      <th></th>\n",
       "      <th>LONGITUDE</th>\n",
       "      <th>LATITUDE</th>\n",
       "    </tr>\n",
       "  </thead>\n",
       "  <tbody>\n",
       "    <tr>\n",
       "      <td>3NN</td>\n",
       "      <td>3.90941</td>\n",
       "      <td>3.62801</td>\n",
       "    </tr>\n",
       "    <tr>\n",
       "      <td>5NN</td>\n",
       "      <td>3.84422</td>\n",
       "      <td>3.52831</td>\n",
       "    </tr>\n",
       "    <tr>\n",
       "      <td>7NN</td>\n",
       "      <td>3.88488</td>\n",
       "      <td>3.50319</td>\n",
       "    </tr>\n",
       "    <tr>\n",
       "      <td>9NN</td>\n",
       "      <td>3.90266</td>\n",
       "      <td>3.49165</td>\n",
       "    </tr>\n",
       "    <tr>\n",
       "      <td>11NN</td>\n",
       "      <td>3.89818</td>\n",
       "      <td>3.51912</td>\n",
       "    </tr>\n",
       "  </tbody>\n",
       "</table>\n",
       "</div>"
      ],
      "text/plain": [
       "     LONGITUDE LATITUDE\n",
       "3NN    3.90941  3.62801\n",
       "5NN    3.84422  3.52831\n",
       "7NN    3.88488  3.50319\n",
       "9NN    3.90266  3.49165\n",
       "11NN   3.89818  3.51912"
      ]
     },
     "execution_count": 95,
     "metadata": {},
     "output_type": "execute_result"
    }
   ],
   "source": [
    "mae_knn_n3_df"
   ]
  },
  {
   "cell_type": "markdown",
   "metadata": {},
   "source": [
    "### Building 0 - n1"
   ]
  },
  {
   "cell_type": "code",
   "execution_count": 96,
   "metadata": {},
   "outputs": [],
   "source": [
    "features = trainlist[0][1].iloc[:,:520]"
   ]
  },
  {
   "cell_type": "code",
   "execution_count": 97,
   "metadata": {},
   "outputs": [],
   "source": [
    "dependentlist_r = [[trainlist[0][1][\"LONGITUDE\"], validationlist[0][1][\"LONGITUDE\"]], \n",
    "                   [trainlist[0][1][\"LATITUDE\"], validationlist[0][1][\"LATITUDE\"]]]"
   ]
  },
  {
   "cell_type": "code",
   "execution_count": 98,
   "metadata": {},
   "outputs": [],
   "source": [
    "dependentlist_c = [[trainlist[0][1][\"BUILDINGID\"], validationlist[0][1][\"BUILDINGID\"]], \n",
    "                   [trainlist[0][1][\"FLOOR\"], validationlist[0][1][\"FLOOR\"]]]"
   ]
  },
  {
   "cell_type": "code",
   "execution_count": 99,
   "metadata": {},
   "outputs": [],
   "source": [
    "val_features = validationlist[0][1].iloc[:,:520]"
   ]
  },
  {
   "cell_type": "markdown",
   "metadata": {},
   "source": [
    "### Modeling and predicting"
   ]
  },
  {
   "cell_type": "code",
   "execution_count": 100,
   "metadata": {},
   "outputs": [],
   "source": [
    "knn_r = [3, 5, 7, 9, 11]"
   ]
  },
  {
   "cell_type": "code",
   "execution_count": 101,
   "metadata": {},
   "outputs": [],
   "source": [
    "knn_c = [3, 5, 7, 9, 11]"
   ]
  },
  {
   "cell_type": "code",
   "execution_count": 102,
   "metadata": {},
   "outputs": [],
   "source": [
    "mae_knn_n4_df = pd.DataFrame(columns=[\"LONGITUDE\", \"LATITUDE\"], index=[\"3NN\", \"5NN\", \"7NN\", \"9NN\", \"11NN\"])"
   ]
  },
  {
   "cell_type": "code",
   "execution_count": 103,
   "metadata": {},
   "outputs": [],
   "source": [
    "acc_knn_n4_df = pd.DataFrame(columns=[\"BUILDINGID\", \"FLOORID\"], index=[\"3NN\", \"5NN\", \"7NN\", \"9NN\", \"11NN\"])"
   ]
  },
  {
   "cell_type": "markdown",
   "metadata": {},
   "source": [
    "#### Regression"
   ]
  },
  {
   "cell_type": "code",
   "execution_count": 104,
   "metadata": {},
   "outputs": [],
   "source": [
    "m = 0\n",
    "k = 0\n",
    "for i in dependentlist_r:\n",
    "    for j in knn_r:\n",
    "        modelKNNR = KNeighborsRegressor(n_neighbors = j, n_jobs= -1)\n",
    "        modelKNNR.fit(features, i[0])\n",
    "        prediction = modelKNNR.predict(val_features)\n",
    "        mae_knn_n4_df.iloc[m, k] = mean_absolute_error(i[1], prediction)\n",
    "        m = m + 1\n",
    "    m = 0\n",
    "    k = k + 1"
   ]
  },
  {
   "cell_type": "markdown",
   "metadata": {},
   "source": [
    "#### Clasification"
   ]
  },
  {
   "cell_type": "code",
   "execution_count": 105,
   "metadata": {},
   "outputs": [],
   "source": [
    "m = 0\n",
    "k = 0\n",
    "for i in dependentlist_c:\n",
    "    for j in knn_c:\n",
    "        modelKNNC = KNeighborsClassifier(n_neighbors= j, n_jobs= -1)\n",
    "        modelKNNC.fit(features, i[0])\n",
    "        prediction = modelKNNC.predict(val_features)\n",
    "        acc_knn_n4_df.iloc[m, k] = accuracy_score(i[1], prediction)\n",
    "        m = m + 1\n",
    "    m = 0\n",
    "    k = k + 1"
   ]
  },
  {
   "cell_type": "code",
   "execution_count": 106,
   "metadata": {},
   "outputs": [
    {
     "data": {
      "text/html": [
       "<div>\n",
       "<style scoped>\n",
       "    .dataframe tbody tr th:only-of-type {\n",
       "        vertical-align: middle;\n",
       "    }\n",
       "\n",
       "    .dataframe tbody tr th {\n",
       "        vertical-align: top;\n",
       "    }\n",
       "\n",
       "    .dataframe thead th {\n",
       "        text-align: right;\n",
       "    }\n",
       "</style>\n",
       "<table border=\"1\" class=\"dataframe\">\n",
       "  <thead>\n",
       "    <tr style=\"text-align: right;\">\n",
       "      <th></th>\n",
       "      <th>BUILDINGID</th>\n",
       "      <th>FLOORID</th>\n",
       "    </tr>\n",
       "  </thead>\n",
       "  <tbody>\n",
       "    <tr>\n",
       "      <td>3NN</td>\n",
       "      <td>1</td>\n",
       "      <td>0.972015</td>\n",
       "    </tr>\n",
       "    <tr>\n",
       "      <td>5NN</td>\n",
       "      <td>1</td>\n",
       "      <td>0.970149</td>\n",
       "    </tr>\n",
       "    <tr>\n",
       "      <td>7NN</td>\n",
       "      <td>1</td>\n",
       "      <td>0.970149</td>\n",
       "    </tr>\n",
       "    <tr>\n",
       "      <td>9NN</td>\n",
       "      <td>1</td>\n",
       "      <td>0.970149</td>\n",
       "    </tr>\n",
       "    <tr>\n",
       "      <td>11NN</td>\n",
       "      <td>1</td>\n",
       "      <td>0.970149</td>\n",
       "    </tr>\n",
       "  </tbody>\n",
       "</table>\n",
       "</div>"
      ],
      "text/plain": [
       "     BUILDINGID   FLOORID\n",
       "3NN           1  0.972015\n",
       "5NN           1  0.970149\n",
       "7NN           1  0.970149\n",
       "9NN           1  0.970149\n",
       "11NN          1  0.970149"
      ]
     },
     "execution_count": 106,
     "metadata": {},
     "output_type": "execute_result"
    }
   ],
   "source": [
    "acc_knn_n4_df"
   ]
  },
  {
   "cell_type": "code",
   "execution_count": 107,
   "metadata": {},
   "outputs": [
    {
     "data": {
      "text/html": [
       "<div>\n",
       "<style scoped>\n",
       "    .dataframe tbody tr th:only-of-type {\n",
       "        vertical-align: middle;\n",
       "    }\n",
       "\n",
       "    .dataframe tbody tr th {\n",
       "        vertical-align: top;\n",
       "    }\n",
       "\n",
       "    .dataframe thead th {\n",
       "        text-align: right;\n",
       "    }\n",
       "</style>\n",
       "<table border=\"1\" class=\"dataframe\">\n",
       "  <thead>\n",
       "    <tr style=\"text-align: right;\">\n",
       "      <th></th>\n",
       "      <th>LONGITUDE</th>\n",
       "      <th>LATITUDE</th>\n",
       "    </tr>\n",
       "  </thead>\n",
       "  <tbody>\n",
       "    <tr>\n",
       "      <td>3NN</td>\n",
       "      <td>3.82896</td>\n",
       "      <td>3.47486</td>\n",
       "    </tr>\n",
       "    <tr>\n",
       "      <td>5NN</td>\n",
       "      <td>3.79462</td>\n",
       "      <td>3.42273</td>\n",
       "    </tr>\n",
       "    <tr>\n",
       "      <td>7NN</td>\n",
       "      <td>3.77017</td>\n",
       "      <td>3.42793</td>\n",
       "    </tr>\n",
       "    <tr>\n",
       "      <td>9NN</td>\n",
       "      <td>3.81038</td>\n",
       "      <td>3.44183</td>\n",
       "    </tr>\n",
       "    <tr>\n",
       "      <td>11NN</td>\n",
       "      <td>3.85243</td>\n",
       "      <td>3.46795</td>\n",
       "    </tr>\n",
       "  </tbody>\n",
       "</table>\n",
       "</div>"
      ],
      "text/plain": [
       "     LONGITUDE LATITUDE\n",
       "3NN    3.82896  3.47486\n",
       "5NN    3.79462  3.42273\n",
       "7NN    3.77017  3.42793\n",
       "9NN    3.81038  3.44183\n",
       "11NN   3.85243  3.46795"
      ]
     },
     "execution_count": 107,
     "metadata": {},
     "output_type": "execute_result"
    }
   ],
   "source": [
    "mae_knn_n4_df"
   ]
  },
  {
   "cell_type": "markdown",
   "metadata": {},
   "source": [
    "### Building 0 - n2"
   ]
  },
  {
   "cell_type": "code",
   "execution_count": 108,
   "metadata": {},
   "outputs": [],
   "source": [
    "features = trainlist[0][2].iloc[:,:520]"
   ]
  },
  {
   "cell_type": "code",
   "execution_count": 109,
   "metadata": {},
   "outputs": [],
   "source": [
    "dependentlist_r = [[trainlist[0][2][\"LONGITUDE\"], validationlist[0][2][\"LONGITUDE\"]], \n",
    "                   [trainlist[0][2][\"LATITUDE\"], validationlist[0][2][\"LATITUDE\"]]]"
   ]
  },
  {
   "cell_type": "code",
   "execution_count": 110,
   "metadata": {},
   "outputs": [],
   "source": [
    "dependentlist_c = [[trainlist[0][2][\"BUILDINGID\"], validationlist[0][2][\"BUILDINGID\"]], \n",
    "                   [trainlist[0][2][\"FLOOR\"], validationlist[0][2][\"FLOOR\"]]]"
   ]
  },
  {
   "cell_type": "code",
   "execution_count": 111,
   "metadata": {},
   "outputs": [],
   "source": [
    "val_features = validationlist[0][2].iloc[:,:520]"
   ]
  },
  {
   "cell_type": "markdown",
   "metadata": {},
   "source": [
    "### Modeling and predicting"
   ]
  },
  {
   "cell_type": "code",
   "execution_count": 112,
   "metadata": {},
   "outputs": [],
   "source": [
    "knn_r = [3, 5, 7, 9, 11]"
   ]
  },
  {
   "cell_type": "code",
   "execution_count": 113,
   "metadata": {},
   "outputs": [],
   "source": [
    "knn_c = [3, 5, 7, 9, 11]"
   ]
  },
  {
   "cell_type": "code",
   "execution_count": 114,
   "metadata": {},
   "outputs": [],
   "source": [
    "mae_knn_n5_df = pd.DataFrame(columns=[\"LONGITUDE\", \"LATITUDE\"], index=[\"3NN\", \"5NN\", \"7NN\", \"9NN\", \"11NN\"])"
   ]
  },
  {
   "cell_type": "code",
   "execution_count": 115,
   "metadata": {},
   "outputs": [],
   "source": [
    "acc_knn_n5_df = pd.DataFrame(columns=[\"BUILDINGID\", \"FLOORID\"], index=[\"3NN\", \"5NN\", \"7NN\", \"9NN\", \"11NN\"])"
   ]
  },
  {
   "cell_type": "markdown",
   "metadata": {},
   "source": [
    "#### Regression"
   ]
  },
  {
   "cell_type": "code",
   "execution_count": 116,
   "metadata": {},
   "outputs": [],
   "source": [
    "m = 0\n",
    "k = 0\n",
    "for i in dependentlist_r:\n",
    "    for j in knn_r:\n",
    "        modelKNNR = KNeighborsRegressor(n_neighbors = j, n_jobs= -1)\n",
    "        modelKNNR.fit(features, i[0])\n",
    "        prediction = modelKNNR.predict(val_features)\n",
    "        mae_knn_n5_df.iloc[m, k] = mean_absolute_error(i[1], prediction)\n",
    "        m = m + 1\n",
    "    m = 0\n",
    "    k = k + 1"
   ]
  },
  {
   "cell_type": "markdown",
   "metadata": {},
   "source": [
    "#### Clasification"
   ]
  },
  {
   "cell_type": "code",
   "execution_count": 117,
   "metadata": {},
   "outputs": [],
   "source": [
    "m = 0\n",
    "k = 0\n",
    "for i in dependentlist_c:\n",
    "    for j in knn_c:\n",
    "        modelKNNC = KNeighborsClassifier(n_neighbors= j, n_jobs= -1)\n",
    "        modelKNNC.fit(features, i[0])\n",
    "        prediction = modelKNNC.predict(val_features)\n",
    "        acc_knn_n5_df.iloc[m, k] = accuracy_score(i[1], prediction)\n",
    "        m = m + 1\n",
    "    m = 0\n",
    "    k = k + 1"
   ]
  },
  {
   "cell_type": "code",
   "execution_count": 118,
   "metadata": {},
   "outputs": [
    {
     "data": {
      "text/html": [
       "<div>\n",
       "<style scoped>\n",
       "    .dataframe tbody tr th:only-of-type {\n",
       "        vertical-align: middle;\n",
       "    }\n",
       "\n",
       "    .dataframe tbody tr th {\n",
       "        vertical-align: top;\n",
       "    }\n",
       "\n",
       "    .dataframe thead th {\n",
       "        text-align: right;\n",
       "    }\n",
       "</style>\n",
       "<table border=\"1\" class=\"dataframe\">\n",
       "  <thead>\n",
       "    <tr style=\"text-align: right;\">\n",
       "      <th></th>\n",
       "      <th>BUILDINGID</th>\n",
       "      <th>FLOORID</th>\n",
       "    </tr>\n",
       "  </thead>\n",
       "  <tbody>\n",
       "    <tr>\n",
       "      <td>3NN</td>\n",
       "      <td>1</td>\n",
       "      <td>0.977612</td>\n",
       "    </tr>\n",
       "    <tr>\n",
       "      <td>5NN</td>\n",
       "      <td>1</td>\n",
       "      <td>0.977612</td>\n",
       "    </tr>\n",
       "    <tr>\n",
       "      <td>7NN</td>\n",
       "      <td>1</td>\n",
       "      <td>0.977612</td>\n",
       "    </tr>\n",
       "    <tr>\n",
       "      <td>9NN</td>\n",
       "      <td>1</td>\n",
       "      <td>0.973881</td>\n",
       "    </tr>\n",
       "    <tr>\n",
       "      <td>11NN</td>\n",
       "      <td>1</td>\n",
       "      <td>0.973881</td>\n",
       "    </tr>\n",
       "  </tbody>\n",
       "</table>\n",
       "</div>"
      ],
      "text/plain": [
       "     BUILDINGID   FLOORID\n",
       "3NN           1  0.977612\n",
       "5NN           1  0.977612\n",
       "7NN           1  0.977612\n",
       "9NN           1  0.973881\n",
       "11NN          1  0.973881"
      ]
     },
     "execution_count": 118,
     "metadata": {},
     "output_type": "execute_result"
    }
   ],
   "source": [
    "acc_knn_n5_df"
   ]
  },
  {
   "cell_type": "code",
   "execution_count": 119,
   "metadata": {},
   "outputs": [
    {
     "data": {
      "text/html": [
       "<div>\n",
       "<style scoped>\n",
       "    .dataframe tbody tr th:only-of-type {\n",
       "        vertical-align: middle;\n",
       "    }\n",
       "\n",
       "    .dataframe tbody tr th {\n",
       "        vertical-align: top;\n",
       "    }\n",
       "\n",
       "    .dataframe thead th {\n",
       "        text-align: right;\n",
       "    }\n",
       "</style>\n",
       "<table border=\"1\" class=\"dataframe\">\n",
       "  <thead>\n",
       "    <tr style=\"text-align: right;\">\n",
       "      <th></th>\n",
       "      <th>LONGITUDE</th>\n",
       "      <th>LATITUDE</th>\n",
       "    </tr>\n",
       "  </thead>\n",
       "  <tbody>\n",
       "    <tr>\n",
       "      <td>3NN</td>\n",
       "      <td>3.90396</td>\n",
       "      <td>3.51722</td>\n",
       "    </tr>\n",
       "    <tr>\n",
       "      <td>5NN</td>\n",
       "      <td>3.73846</td>\n",
       "      <td>3.4726</td>\n",
       "    </tr>\n",
       "    <tr>\n",
       "      <td>7NN</td>\n",
       "      <td>3.78088</td>\n",
       "      <td>3.44606</td>\n",
       "    </tr>\n",
       "    <tr>\n",
       "      <td>9NN</td>\n",
       "      <td>3.80136</td>\n",
       "      <td>3.44079</td>\n",
       "    </tr>\n",
       "    <tr>\n",
       "      <td>11NN</td>\n",
       "      <td>3.80364</td>\n",
       "      <td>3.45306</td>\n",
       "    </tr>\n",
       "  </tbody>\n",
       "</table>\n",
       "</div>"
      ],
      "text/plain": [
       "     LONGITUDE LATITUDE\n",
       "3NN    3.90396  3.51722\n",
       "5NN    3.73846   3.4726\n",
       "7NN    3.78088  3.44606\n",
       "9NN    3.80136  3.44079\n",
       "11NN   3.80364  3.45306"
      ]
     },
     "execution_count": 119,
     "metadata": {},
     "output_type": "execute_result"
    }
   ],
   "source": [
    "mae_knn_n5_df"
   ]
  },
  {
   "cell_type": "markdown",
   "metadata": {},
   "source": [
    "### Building 0 - n3"
   ]
  },
  {
   "cell_type": "code",
   "execution_count": 120,
   "metadata": {},
   "outputs": [],
   "source": [
    "features = trainlist[0][3].iloc[:,:520]"
   ]
  },
  {
   "cell_type": "code",
   "execution_count": 121,
   "metadata": {},
   "outputs": [],
   "source": [
    "dependentlist_r = [[trainlist[0][3][\"LONGITUDE\"], validationlist[0][3][\"LONGITUDE\"]], \n",
    "                   [trainlist[0][3][\"LATITUDE\"], validationlist[0][3][\"LATITUDE\"]]]"
   ]
  },
  {
   "cell_type": "code",
   "execution_count": 122,
   "metadata": {},
   "outputs": [],
   "source": [
    "dependentlist_c = [[trainlist[0][3][\"BUILDINGID\"], validationlist[0][3][\"BUILDINGID\"]], \n",
    "                   [trainlist[0][3][\"FLOOR\"], validationlist[0][3][\"FLOOR\"]]]"
   ]
  },
  {
   "cell_type": "code",
   "execution_count": 123,
   "metadata": {},
   "outputs": [],
   "source": [
    "val_features = validationlist[0][3].iloc[:,:520]"
   ]
  },
  {
   "cell_type": "markdown",
   "metadata": {},
   "source": [
    "### Modeling and predicting"
   ]
  },
  {
   "cell_type": "code",
   "execution_count": 124,
   "metadata": {},
   "outputs": [],
   "source": [
    "knn_r = [3, 5, 7, 9, 11]"
   ]
  },
  {
   "cell_type": "code",
   "execution_count": 125,
   "metadata": {},
   "outputs": [],
   "source": [
    "knn_c = [3, 5, 7, 9, 11]"
   ]
  },
  {
   "cell_type": "code",
   "execution_count": 126,
   "metadata": {},
   "outputs": [],
   "source": [
    "mae_knn_n6_df = pd.DataFrame(columns=[\"LONGITUDE\", \"LATITUDE\"], index=[\"3NN\", \"5NN\", \"7NN\", \"9NN\", \"11NN\"])"
   ]
  },
  {
   "cell_type": "code",
   "execution_count": 127,
   "metadata": {},
   "outputs": [],
   "source": [
    "acc_knn_n6_df = pd.DataFrame(columns=[\"BUILDINGID\", \"FLOORID\"], index=[\"3NN\", \"5NN\", \"7NN\", \"9NN\", \"11NN\"])"
   ]
  },
  {
   "cell_type": "markdown",
   "metadata": {},
   "source": [
    "#### Regression"
   ]
  },
  {
   "cell_type": "code",
   "execution_count": 128,
   "metadata": {},
   "outputs": [],
   "source": [
    "m = 0\n",
    "k = 0\n",
    "for i in dependentlist_r:\n",
    "    for j in knn_r:\n",
    "        modelKNNR = KNeighborsRegressor(n_neighbors = j, n_jobs= -1)\n",
    "        modelKNNR.fit(features, i[0])\n",
    "        prediction = modelKNNR.predict(val_features)\n",
    "        mae_knn_n6_df.iloc[m, k] = mean_absolute_error(i[1], prediction)\n",
    "        m = m + 1\n",
    "    m = 0\n",
    "    k = k + 1"
   ]
  },
  {
   "cell_type": "markdown",
   "metadata": {},
   "source": [
    "#### Clasification"
   ]
  },
  {
   "cell_type": "code",
   "execution_count": 129,
   "metadata": {},
   "outputs": [],
   "source": [
    "m = 0\n",
    "k = 0\n",
    "for i in dependentlist_c:\n",
    "    for j in knn_c:\n",
    "        modelKNNC = KNeighborsClassifier(n_neighbors= j, n_jobs= -1)\n",
    "        modelKNNC.fit(features, i[0])\n",
    "        prediction = modelKNNC.predict(val_features)\n",
    "        acc_knn_n6_df.iloc[m, k] = accuracy_score(i[1], prediction)\n",
    "        m = m + 1\n",
    "    m = 0\n",
    "    k = k + 1"
   ]
  },
  {
   "cell_type": "code",
   "execution_count": 130,
   "metadata": {},
   "outputs": [
    {
     "data": {
      "text/html": [
       "<div>\n",
       "<style scoped>\n",
       "    .dataframe tbody tr th:only-of-type {\n",
       "        vertical-align: middle;\n",
       "    }\n",
       "\n",
       "    .dataframe tbody tr th {\n",
       "        vertical-align: top;\n",
       "    }\n",
       "\n",
       "    .dataframe thead th {\n",
       "        text-align: right;\n",
       "    }\n",
       "</style>\n",
       "<table border=\"1\" class=\"dataframe\">\n",
       "  <thead>\n",
       "    <tr style=\"text-align: right;\">\n",
       "      <th></th>\n",
       "      <th>BUILDINGID</th>\n",
       "      <th>FLOORID</th>\n",
       "    </tr>\n",
       "  </thead>\n",
       "  <tbody>\n",
       "    <tr>\n",
       "      <td>3NN</td>\n",
       "      <td>1</td>\n",
       "      <td>0.973881</td>\n",
       "    </tr>\n",
       "    <tr>\n",
       "      <td>5NN</td>\n",
       "      <td>1</td>\n",
       "      <td>0.973881</td>\n",
       "    </tr>\n",
       "    <tr>\n",
       "      <td>7NN</td>\n",
       "      <td>1</td>\n",
       "      <td>0.975746</td>\n",
       "    </tr>\n",
       "    <tr>\n",
       "      <td>9NN</td>\n",
       "      <td>1</td>\n",
       "      <td>0.972015</td>\n",
       "    </tr>\n",
       "    <tr>\n",
       "      <td>11NN</td>\n",
       "      <td>1</td>\n",
       "      <td>0.972015</td>\n",
       "    </tr>\n",
       "  </tbody>\n",
       "</table>\n",
       "</div>"
      ],
      "text/plain": [
       "     BUILDINGID   FLOORID\n",
       "3NN           1  0.973881\n",
       "5NN           1  0.973881\n",
       "7NN           1  0.975746\n",
       "9NN           1  0.972015\n",
       "11NN          1  0.972015"
      ]
     },
     "execution_count": 130,
     "metadata": {},
     "output_type": "execute_result"
    }
   ],
   "source": [
    "acc_knn_n6_df"
   ]
  },
  {
   "cell_type": "code",
   "execution_count": 131,
   "metadata": {},
   "outputs": [
    {
     "data": {
      "text/html": [
       "<div>\n",
       "<style scoped>\n",
       "    .dataframe tbody tr th:only-of-type {\n",
       "        vertical-align: middle;\n",
       "    }\n",
       "\n",
       "    .dataframe tbody tr th {\n",
       "        vertical-align: top;\n",
       "    }\n",
       "\n",
       "    .dataframe thead th {\n",
       "        text-align: right;\n",
       "    }\n",
       "</style>\n",
       "<table border=\"1\" class=\"dataframe\">\n",
       "  <thead>\n",
       "    <tr style=\"text-align: right;\">\n",
       "      <th></th>\n",
       "      <th>LONGITUDE</th>\n",
       "      <th>LATITUDE</th>\n",
       "    </tr>\n",
       "  </thead>\n",
       "  <tbody>\n",
       "    <tr>\n",
       "      <td>3NN</td>\n",
       "      <td>3.94208</td>\n",
       "      <td>3.57939</td>\n",
       "    </tr>\n",
       "    <tr>\n",
       "      <td>5NN</td>\n",
       "      <td>3.93139</td>\n",
       "      <td>3.55562</td>\n",
       "    </tr>\n",
       "    <tr>\n",
       "      <td>7NN</td>\n",
       "      <td>3.92592</td>\n",
       "      <td>3.55424</td>\n",
       "    </tr>\n",
       "    <tr>\n",
       "      <td>9NN</td>\n",
       "      <td>3.96936</td>\n",
       "      <td>3.57601</td>\n",
       "    </tr>\n",
       "    <tr>\n",
       "      <td>11NN</td>\n",
       "      <td>4.00645</td>\n",
       "      <td>3.56157</td>\n",
       "    </tr>\n",
       "  </tbody>\n",
       "</table>\n",
       "</div>"
      ],
      "text/plain": [
       "     LONGITUDE LATITUDE\n",
       "3NN    3.94208  3.57939\n",
       "5NN    3.93139  3.55562\n",
       "7NN    3.92592  3.55424\n",
       "9NN    3.96936  3.57601\n",
       "11NN   4.00645  3.56157"
      ]
     },
     "execution_count": 131,
     "metadata": {},
     "output_type": "execute_result"
    }
   ],
   "source": [
    "mae_knn_n6_df"
   ]
  },
  {
   "cell_type": "code",
   "execution_count": 134,
   "metadata": {},
   "outputs": [
    {
     "data": {
      "text/plain": [
       "BUILDINGID    1.000000\n",
       "FLOORID       0.966418\n",
       "BUILDINGID    1.000000\n",
       "FLOORID       0.972015\n",
       "BUILDINGID    1.000000\n",
       "FLOORID       0.977612\n",
       "BUILDINGID    1.000000\n",
       "FLOORID       0.975746\n",
       "dtype: float64"
      ]
     },
     "execution_count": 134,
     "metadata": {},
     "output_type": "execute_result"
    }
   ],
   "source": [
    "acc_b0 = pd.concat([acc_knn_n3_df, acc_knn_n4_df, acc_knn_n5_df, acc_knn_n6_df], axis = 1)\n",
    "acc_b0.max()"
   ]
  },
  {
   "cell_type": "code",
   "execution_count": 135,
   "metadata": {},
   "outputs": [
    {
     "data": {
      "text/plain": [
       "LONGITUDE    3.844223\n",
       "LATITUDE     3.491649\n",
       "LONGITUDE    3.770167\n",
       "LATITUDE     3.422726\n",
       "LONGITUDE    3.738463\n",
       "LATITUDE     3.440791\n",
       "LONGITUDE    3.925923\n",
       "LATITUDE     3.554236\n",
       "dtype: float64"
      ]
     },
     "execution_count": 135,
     "metadata": {},
     "output_type": "execute_result"
    }
   ],
   "source": [
    "mae_b0 = pd.concat([mae_knn_n3_df, mae_knn_n4_df, mae_knn_n5_df, mae_knn_n6_df], axis = 1)\n",
    "mae_b0.min()"
   ]
  },
  {
   "cell_type": "markdown",
   "metadata": {},
   "source": [
    "### Building 1 - n0"
   ]
  },
  {
   "cell_type": "code",
   "execution_count": 136,
   "metadata": {},
   "outputs": [],
   "source": [
    "features = trainlist[1][0].iloc[:,:520]"
   ]
  },
  {
   "cell_type": "code",
   "execution_count": 137,
   "metadata": {},
   "outputs": [],
   "source": [
    "dependentlist_r = [[trainlist[1][0][\"LONGITUDE\"], validationlist[1][0][\"LONGITUDE\"]], \n",
    "                   [trainlist[1][0][\"LATITUDE\"], validationlist[1][0][\"LATITUDE\"]]]"
   ]
  },
  {
   "cell_type": "code",
   "execution_count": 138,
   "metadata": {},
   "outputs": [],
   "source": [
    "dependentlist_c = [[trainlist[1][0][\"BUILDINGID\"], validationlist[1][0][\"BUILDINGID\"]], \n",
    "                   [trainlist[1][0][\"FLOOR\"], validationlist[1][0][\"FLOOR\"]]]"
   ]
  },
  {
   "cell_type": "code",
   "execution_count": 139,
   "metadata": {},
   "outputs": [],
   "source": [
    "val_features = validationlist[1][0].iloc[:,:520]"
   ]
  },
  {
   "cell_type": "markdown",
   "metadata": {},
   "source": [
    "### Modeling and predicting"
   ]
  },
  {
   "cell_type": "code",
   "execution_count": 140,
   "metadata": {},
   "outputs": [],
   "source": [
    "knn_r = [3, 5, 7, 9, 11]"
   ]
  },
  {
   "cell_type": "code",
   "execution_count": 141,
   "metadata": {},
   "outputs": [],
   "source": [
    "knn_c = [3, 5, 7, 9, 11]"
   ]
  },
  {
   "cell_type": "code",
   "execution_count": 142,
   "metadata": {},
   "outputs": [],
   "source": [
    "mae_knn_n3_df = pd.DataFrame(columns=[\"LONGITUDE\", \"LATITUDE\"], index=[\"3NN\", \"5NN\", \"7NN\", \"9NN\", \"11NN\"])"
   ]
  },
  {
   "cell_type": "code",
   "execution_count": 143,
   "metadata": {},
   "outputs": [],
   "source": [
    "acc_knn_n3_df = pd.DataFrame(columns=[\"BUILDINGID\", \"FLOORID\"], index=[\"3NN\", \"5NN\", \"7NN\", \"9NN\", \"11NN\"])"
   ]
  },
  {
   "cell_type": "markdown",
   "metadata": {},
   "source": [
    "#### Regression"
   ]
  },
  {
   "cell_type": "code",
   "execution_count": 144,
   "metadata": {},
   "outputs": [],
   "source": [
    "m = 0\n",
    "k = 0\n",
    "for i in dependentlist_r:\n",
    "    for j in knn_r:\n",
    "        modelKNNR = KNeighborsRegressor(n_neighbors = j, n_jobs= -1)\n",
    "        modelKNNR.fit(features, i[0])\n",
    "        prediction = modelKNNR.predict(val_features)\n",
    "        mae_knn_n3_df.iloc[m, k] = mean_absolute_error(i[1], prediction)\n",
    "        m = m + 1\n",
    "    m = 0\n",
    "    k = k + 1"
   ]
  },
  {
   "cell_type": "markdown",
   "metadata": {},
   "source": [
    "#### Clasification"
   ]
  },
  {
   "cell_type": "code",
   "execution_count": 145,
   "metadata": {},
   "outputs": [],
   "source": [
    "m = 0\n",
    "k = 0\n",
    "for i in dependentlist_c:\n",
    "    for j in knn_c:\n",
    "        modelKNNC = KNeighborsClassifier(n_neighbors= j, n_jobs= -1)\n",
    "        modelKNNC.fit(features, i[0])\n",
    "        prediction = modelKNNC.predict(val_features)\n",
    "        acc_knn_n3_df.iloc[m, k] = accuracy_score(i[1], prediction)\n",
    "        m = m + 1\n",
    "    m = 0\n",
    "    k = k + 1"
   ]
  },
  {
   "cell_type": "code",
   "execution_count": 146,
   "metadata": {},
   "outputs": [
    {
     "data": {
      "text/html": [
       "<div>\n",
       "<style scoped>\n",
       "    .dataframe tbody tr th:only-of-type {\n",
       "        vertical-align: middle;\n",
       "    }\n",
       "\n",
       "    .dataframe tbody tr th {\n",
       "        vertical-align: top;\n",
       "    }\n",
       "\n",
       "    .dataframe thead th {\n",
       "        text-align: right;\n",
       "    }\n",
       "</style>\n",
       "<table border=\"1\" class=\"dataframe\">\n",
       "  <thead>\n",
       "    <tr style=\"text-align: right;\">\n",
       "      <th></th>\n",
       "      <th>BUILDINGID</th>\n",
       "      <th>FLOORID</th>\n",
       "    </tr>\n",
       "  </thead>\n",
       "  <tbody>\n",
       "    <tr>\n",
       "      <td>3NN</td>\n",
       "      <td>1</td>\n",
       "      <td>0.934853</td>\n",
       "    </tr>\n",
       "    <tr>\n",
       "      <td>5NN</td>\n",
       "      <td>1</td>\n",
       "      <td>0.934853</td>\n",
       "    </tr>\n",
       "    <tr>\n",
       "      <td>7NN</td>\n",
       "      <td>1</td>\n",
       "      <td>0.934853</td>\n",
       "    </tr>\n",
       "    <tr>\n",
       "      <td>9NN</td>\n",
       "      <td>1</td>\n",
       "      <td>0.938111</td>\n",
       "    </tr>\n",
       "    <tr>\n",
       "      <td>11NN</td>\n",
       "      <td>1</td>\n",
       "      <td>0.934853</td>\n",
       "    </tr>\n",
       "  </tbody>\n",
       "</table>\n",
       "</div>"
      ],
      "text/plain": [
       "     BUILDINGID   FLOORID\n",
       "3NN           1  0.934853\n",
       "5NN           1  0.934853\n",
       "7NN           1  0.934853\n",
       "9NN           1  0.938111\n",
       "11NN          1  0.934853"
      ]
     },
     "execution_count": 146,
     "metadata": {},
     "output_type": "execute_result"
    }
   ],
   "source": [
    "acc_knn_n3_df"
   ]
  },
  {
   "cell_type": "code",
   "execution_count": 147,
   "metadata": {},
   "outputs": [
    {
     "data": {
      "text/html": [
       "<div>\n",
       "<style scoped>\n",
       "    .dataframe tbody tr th:only-of-type {\n",
       "        vertical-align: middle;\n",
       "    }\n",
       "\n",
       "    .dataframe tbody tr th {\n",
       "        vertical-align: top;\n",
       "    }\n",
       "\n",
       "    .dataframe thead th {\n",
       "        text-align: right;\n",
       "    }\n",
       "</style>\n",
       "<table border=\"1\" class=\"dataframe\">\n",
       "  <thead>\n",
       "    <tr style=\"text-align: right;\">\n",
       "      <th></th>\n",
       "      <th>LONGITUDE</th>\n",
       "      <th>LATITUDE</th>\n",
       "    </tr>\n",
       "  </thead>\n",
       "  <tbody>\n",
       "    <tr>\n",
       "      <td>3NN</td>\n",
       "      <td>7.05377</td>\n",
       "      <td>6.15592</td>\n",
       "    </tr>\n",
       "    <tr>\n",
       "      <td>5NN</td>\n",
       "      <td>6.81747</td>\n",
       "      <td>5.93705</td>\n",
       "    </tr>\n",
       "    <tr>\n",
       "      <td>7NN</td>\n",
       "      <td>6.69535</td>\n",
       "      <td>5.89173</td>\n",
       "    </tr>\n",
       "    <tr>\n",
       "      <td>9NN</td>\n",
       "      <td>6.63034</td>\n",
       "      <td>5.94882</td>\n",
       "    </tr>\n",
       "    <tr>\n",
       "      <td>11NN</td>\n",
       "      <td>6.68385</td>\n",
       "      <td>5.78605</td>\n",
       "    </tr>\n",
       "  </tbody>\n",
       "</table>\n",
       "</div>"
      ],
      "text/plain": [
       "     LONGITUDE LATITUDE\n",
       "3NN    7.05377  6.15592\n",
       "5NN    6.81747  5.93705\n",
       "7NN    6.69535  5.89173\n",
       "9NN    6.63034  5.94882\n",
       "11NN   6.68385  5.78605"
      ]
     },
     "execution_count": 147,
     "metadata": {},
     "output_type": "execute_result"
    }
   ],
   "source": [
    "mae_knn_n3_df"
   ]
  },
  {
   "cell_type": "markdown",
   "metadata": {},
   "source": [
    "### Building 1 - n1"
   ]
  },
  {
   "cell_type": "code",
   "execution_count": 148,
   "metadata": {},
   "outputs": [],
   "source": [
    "features = trainlist[1][1].iloc[:,:520]"
   ]
  },
  {
   "cell_type": "code",
   "execution_count": 149,
   "metadata": {},
   "outputs": [],
   "source": [
    "dependentlist_r = [[trainlist[1][1][\"LONGITUDE\"], validationlist[1][1][\"LONGITUDE\"]], \n",
    "                   [trainlist[1][1][\"LATITUDE\"], validationlist[1][1][\"LATITUDE\"]]]"
   ]
  },
  {
   "cell_type": "code",
   "execution_count": 150,
   "metadata": {},
   "outputs": [],
   "source": [
    "dependentlist_c = [[trainlist[1][1][\"BUILDINGID\"], validationlist[1][1][\"BUILDINGID\"]], \n",
    "                   [trainlist[1][1][\"FLOOR\"], validationlist[1][1][\"FLOOR\"]]]"
   ]
  },
  {
   "cell_type": "code",
   "execution_count": 151,
   "metadata": {},
   "outputs": [],
   "source": [
    "val_features = validationlist[1][1].iloc[:,:520]"
   ]
  },
  {
   "cell_type": "markdown",
   "metadata": {},
   "source": [
    "### Modeling and predicting"
   ]
  },
  {
   "cell_type": "code",
   "execution_count": 152,
   "metadata": {},
   "outputs": [],
   "source": [
    "knn_r = [3, 5, 7, 9, 11]"
   ]
  },
  {
   "cell_type": "code",
   "execution_count": 153,
   "metadata": {},
   "outputs": [],
   "source": [
    "knn_c = [3, 5, 7, 9, 11]"
   ]
  },
  {
   "cell_type": "code",
   "execution_count": 154,
   "metadata": {},
   "outputs": [],
   "source": [
    "mae_knn_n4_df = pd.DataFrame(columns=[\"LONGITUDE\", \"LATITUDE\"], index=[\"3NN\", \"5NN\", \"7NN\", \"9NN\", \"11NN\"])"
   ]
  },
  {
   "cell_type": "code",
   "execution_count": 155,
   "metadata": {},
   "outputs": [],
   "source": [
    "acc_knn_n4_df = pd.DataFrame(columns=[\"BUILDINGID\", \"FLOORID\"], index=[\"3NN\", \"5NN\", \"7NN\", \"9NN\", \"11NN\"])"
   ]
  },
  {
   "cell_type": "markdown",
   "metadata": {},
   "source": [
    "#### Regression"
   ]
  },
  {
   "cell_type": "code",
   "execution_count": 156,
   "metadata": {},
   "outputs": [],
   "source": [
    "m = 0\n",
    "k = 0\n",
    "for i in dependentlist_r:\n",
    "    for j in knn_r:\n",
    "        modelKNNR = KNeighborsRegressor(n_neighbors = j, n_jobs= -1)\n",
    "        modelKNNR.fit(features, i[0])\n",
    "        prediction = modelKNNR.predict(val_features)\n",
    "        mae_knn_n4_df.iloc[m, k] = mean_absolute_error(i[1], prediction)\n",
    "        m = m + 1\n",
    "    m = 0\n",
    "    k = k + 1"
   ]
  },
  {
   "cell_type": "markdown",
   "metadata": {},
   "source": [
    "#### Clasification"
   ]
  },
  {
   "cell_type": "code",
   "execution_count": 157,
   "metadata": {},
   "outputs": [],
   "source": [
    "m = 0\n",
    "k = 0\n",
    "for i in dependentlist_c:\n",
    "    for j in knn_c:\n",
    "        modelKNNC = KNeighborsClassifier(n_neighbors= j, n_jobs= -1)\n",
    "        modelKNNC.fit(features, i[0])\n",
    "        prediction = modelKNNC.predict(val_features)\n",
    "        acc_knn_n4_df.iloc[m, k] = accuracy_score(i[1], prediction)\n",
    "        m = m + 1\n",
    "    m = 0\n",
    "    k = k + 1"
   ]
  },
  {
   "cell_type": "code",
   "execution_count": 158,
   "metadata": {},
   "outputs": [
    {
     "data": {
      "text/html": [
       "<div>\n",
       "<style scoped>\n",
       "    .dataframe tbody tr th:only-of-type {\n",
       "        vertical-align: middle;\n",
       "    }\n",
       "\n",
       "    .dataframe tbody tr th {\n",
       "        vertical-align: top;\n",
       "    }\n",
       "\n",
       "    .dataframe thead th {\n",
       "        text-align: right;\n",
       "    }\n",
       "</style>\n",
       "<table border=\"1\" class=\"dataframe\">\n",
       "  <thead>\n",
       "    <tr style=\"text-align: right;\">\n",
       "      <th></th>\n",
       "      <th>BUILDINGID</th>\n",
       "      <th>FLOORID</th>\n",
       "    </tr>\n",
       "  </thead>\n",
       "  <tbody>\n",
       "    <tr>\n",
       "      <td>3NN</td>\n",
       "      <td>1</td>\n",
       "      <td>0.931596</td>\n",
       "    </tr>\n",
       "    <tr>\n",
       "      <td>5NN</td>\n",
       "      <td>1</td>\n",
       "      <td>0.938111</td>\n",
       "    </tr>\n",
       "    <tr>\n",
       "      <td>7NN</td>\n",
       "      <td>1</td>\n",
       "      <td>0.934853</td>\n",
       "    </tr>\n",
       "    <tr>\n",
       "      <td>9NN</td>\n",
       "      <td>1</td>\n",
       "      <td>0.931596</td>\n",
       "    </tr>\n",
       "    <tr>\n",
       "      <td>11NN</td>\n",
       "      <td>1</td>\n",
       "      <td>0.938111</td>\n",
       "    </tr>\n",
       "  </tbody>\n",
       "</table>\n",
       "</div>"
      ],
      "text/plain": [
       "     BUILDINGID   FLOORID\n",
       "3NN           1  0.931596\n",
       "5NN           1  0.938111\n",
       "7NN           1  0.934853\n",
       "9NN           1  0.931596\n",
       "11NN          1  0.938111"
      ]
     },
     "execution_count": 158,
     "metadata": {},
     "output_type": "execute_result"
    }
   ],
   "source": [
    "acc_knn_n4_df"
   ]
  },
  {
   "cell_type": "code",
   "execution_count": 159,
   "metadata": {},
   "outputs": [
    {
     "data": {
      "text/html": [
       "<div>\n",
       "<style scoped>\n",
       "    .dataframe tbody tr th:only-of-type {\n",
       "        vertical-align: middle;\n",
       "    }\n",
       "\n",
       "    .dataframe tbody tr th {\n",
       "        vertical-align: top;\n",
       "    }\n",
       "\n",
       "    .dataframe thead th {\n",
       "        text-align: right;\n",
       "    }\n",
       "</style>\n",
       "<table border=\"1\" class=\"dataframe\">\n",
       "  <thead>\n",
       "    <tr style=\"text-align: right;\">\n",
       "      <th></th>\n",
       "      <th>LONGITUDE</th>\n",
       "      <th>LATITUDE</th>\n",
       "    </tr>\n",
       "  </thead>\n",
       "  <tbody>\n",
       "    <tr>\n",
       "      <td>3NN</td>\n",
       "      <td>6.11088</td>\n",
       "      <td>5.67973</td>\n",
       "    </tr>\n",
       "    <tr>\n",
       "      <td>5NN</td>\n",
       "      <td>6.0022</td>\n",
       "      <td>5.64702</td>\n",
       "    </tr>\n",
       "    <tr>\n",
       "      <td>7NN</td>\n",
       "      <td>6.11699</td>\n",
       "      <td>5.65413</td>\n",
       "    </tr>\n",
       "    <tr>\n",
       "      <td>9NN</td>\n",
       "      <td>6.11993</td>\n",
       "      <td>5.63001</td>\n",
       "    </tr>\n",
       "    <tr>\n",
       "      <td>11NN</td>\n",
       "      <td>6.20237</td>\n",
       "      <td>5.5551</td>\n",
       "    </tr>\n",
       "  </tbody>\n",
       "</table>\n",
       "</div>"
      ],
      "text/plain": [
       "     LONGITUDE LATITUDE\n",
       "3NN    6.11088  5.67973\n",
       "5NN     6.0022  5.64702\n",
       "7NN    6.11699  5.65413\n",
       "9NN    6.11993  5.63001\n",
       "11NN   6.20237   5.5551"
      ]
     },
     "execution_count": 159,
     "metadata": {},
     "output_type": "execute_result"
    }
   ],
   "source": [
    "mae_knn_n4_df"
   ]
  },
  {
   "cell_type": "markdown",
   "metadata": {},
   "source": [
    "### Building 1 - n2"
   ]
  },
  {
   "cell_type": "code",
   "execution_count": 160,
   "metadata": {},
   "outputs": [],
   "source": [
    "features = trainlist[1][2].iloc[:,:520]"
   ]
  },
  {
   "cell_type": "code",
   "execution_count": 161,
   "metadata": {},
   "outputs": [],
   "source": [
    "dependentlist_r = [[trainlist[1][2][\"LONGITUDE\"], validationlist[1][2][\"LONGITUDE\"]], \n",
    "                   [trainlist[1][2][\"LATITUDE\"], validationlist[1][2][\"LATITUDE\"]]]"
   ]
  },
  {
   "cell_type": "code",
   "execution_count": 162,
   "metadata": {},
   "outputs": [],
   "source": [
    "dependentlist_c = [[trainlist[1][2][\"BUILDINGID\"], validationlist[1][2][\"BUILDINGID\"]], \n",
    "                   [trainlist[1][2][\"FLOOR\"], validationlist[1][2][\"FLOOR\"]]]"
   ]
  },
  {
   "cell_type": "code",
   "execution_count": 163,
   "metadata": {},
   "outputs": [],
   "source": [
    "val_features = validationlist[1][2].iloc[:,:520]"
   ]
  },
  {
   "cell_type": "markdown",
   "metadata": {},
   "source": [
    "### Modeling and predicting"
   ]
  },
  {
   "cell_type": "code",
   "execution_count": 164,
   "metadata": {},
   "outputs": [],
   "source": [
    "knn_r = [3, 5, 7, 9, 11]"
   ]
  },
  {
   "cell_type": "code",
   "execution_count": 165,
   "metadata": {},
   "outputs": [],
   "source": [
    "knn_c = [3, 5, 7, 9, 11]"
   ]
  },
  {
   "cell_type": "code",
   "execution_count": 166,
   "metadata": {},
   "outputs": [],
   "source": [
    "mae_knn_n5_df = pd.DataFrame(columns=[\"LONGITUDE\", \"LATITUDE\"], index=[\"3NN\", \"5NN\", \"7NN\", \"9NN\", \"11NN\"])"
   ]
  },
  {
   "cell_type": "code",
   "execution_count": 167,
   "metadata": {},
   "outputs": [],
   "source": [
    "acc_knn_n5_df = pd.DataFrame(columns=[\"BUILDINGID\", \"FLOORID\"], index=[\"3NN\", \"5NN\", \"7NN\", \"9NN\", \"11NN\"])"
   ]
  },
  {
   "cell_type": "markdown",
   "metadata": {},
   "source": [
    "#### Regression"
   ]
  },
  {
   "cell_type": "code",
   "execution_count": 168,
   "metadata": {},
   "outputs": [],
   "source": [
    "m = 0\n",
    "k = 0\n",
    "for i in dependentlist_r:\n",
    "    for j in knn_r:\n",
    "        modelKNNR = KNeighborsRegressor(n_neighbors = j, n_jobs= -1)\n",
    "        modelKNNR.fit(features, i[0])\n",
    "        prediction = modelKNNR.predict(val_features)\n",
    "        mae_knn_n5_df.iloc[m, k] = mean_absolute_error(i[1], prediction)\n",
    "        m = m + 1\n",
    "    m = 0\n",
    "    k = k + 1"
   ]
  },
  {
   "cell_type": "markdown",
   "metadata": {},
   "source": [
    "#### Clasification"
   ]
  },
  {
   "cell_type": "code",
   "execution_count": 169,
   "metadata": {},
   "outputs": [],
   "source": [
    "m = 0\n",
    "k = 0\n",
    "for i in dependentlist_c:\n",
    "    for j in knn_c:\n",
    "        modelKNNC = KNeighborsClassifier(n_neighbors= j, n_jobs= -1)\n",
    "        modelKNNC.fit(features, i[0])\n",
    "        prediction = modelKNNC.predict(val_features)\n",
    "        acc_knn_n5_df.iloc[m, k] = accuracy_score(i[1], prediction)\n",
    "        m = m + 1\n",
    "    m = 0\n",
    "    k = k + 1"
   ]
  },
  {
   "cell_type": "code",
   "execution_count": 170,
   "metadata": {},
   "outputs": [
    {
     "data": {
      "text/html": [
       "<div>\n",
       "<style scoped>\n",
       "    .dataframe tbody tr th:only-of-type {\n",
       "        vertical-align: middle;\n",
       "    }\n",
       "\n",
       "    .dataframe tbody tr th {\n",
       "        vertical-align: top;\n",
       "    }\n",
       "\n",
       "    .dataframe thead th {\n",
       "        text-align: right;\n",
       "    }\n",
       "</style>\n",
       "<table border=\"1\" class=\"dataframe\">\n",
       "  <thead>\n",
       "    <tr style=\"text-align: right;\">\n",
       "      <th></th>\n",
       "      <th>BUILDINGID</th>\n",
       "      <th>FLOORID</th>\n",
       "    </tr>\n",
       "  </thead>\n",
       "  <tbody>\n",
       "    <tr>\n",
       "      <td>3NN</td>\n",
       "      <td>1</td>\n",
       "      <td>0.934853</td>\n",
       "    </tr>\n",
       "    <tr>\n",
       "      <td>5NN</td>\n",
       "      <td>1</td>\n",
       "      <td>0.941368</td>\n",
       "    </tr>\n",
       "    <tr>\n",
       "      <td>7NN</td>\n",
       "      <td>1</td>\n",
       "      <td>0.931596</td>\n",
       "    </tr>\n",
       "    <tr>\n",
       "      <td>9NN</td>\n",
       "      <td>1</td>\n",
       "      <td>0.934853</td>\n",
       "    </tr>\n",
       "    <tr>\n",
       "      <td>11NN</td>\n",
       "      <td>1</td>\n",
       "      <td>0.938111</td>\n",
       "    </tr>\n",
       "  </tbody>\n",
       "</table>\n",
       "</div>"
      ],
      "text/plain": [
       "     BUILDINGID   FLOORID\n",
       "3NN           1  0.934853\n",
       "5NN           1  0.941368\n",
       "7NN           1  0.931596\n",
       "9NN           1  0.934853\n",
       "11NN          1  0.938111"
      ]
     },
     "execution_count": 170,
     "metadata": {},
     "output_type": "execute_result"
    }
   ],
   "source": [
    "acc_knn_n5_df"
   ]
  },
  {
   "cell_type": "code",
   "execution_count": 171,
   "metadata": {},
   "outputs": [
    {
     "data": {
      "text/html": [
       "<div>\n",
       "<style scoped>\n",
       "    .dataframe tbody tr th:only-of-type {\n",
       "        vertical-align: middle;\n",
       "    }\n",
       "\n",
       "    .dataframe tbody tr th {\n",
       "        vertical-align: top;\n",
       "    }\n",
       "\n",
       "    .dataframe thead th {\n",
       "        text-align: right;\n",
       "    }\n",
       "</style>\n",
       "<table border=\"1\" class=\"dataframe\">\n",
       "  <thead>\n",
       "    <tr style=\"text-align: right;\">\n",
       "      <th></th>\n",
       "      <th>LONGITUDE</th>\n",
       "      <th>LATITUDE</th>\n",
       "    </tr>\n",
       "  </thead>\n",
       "  <tbody>\n",
       "    <tr>\n",
       "      <td>3NN</td>\n",
       "      <td>6.04238</td>\n",
       "      <td>5.65432</td>\n",
       "    </tr>\n",
       "    <tr>\n",
       "      <td>5NN</td>\n",
       "      <td>5.62419</td>\n",
       "      <td>5.47194</td>\n",
       "    </tr>\n",
       "    <tr>\n",
       "      <td>7NN</td>\n",
       "      <td>5.50444</td>\n",
       "      <td>5.39088</td>\n",
       "    </tr>\n",
       "    <tr>\n",
       "      <td>9NN</td>\n",
       "      <td>5.51486</td>\n",
       "      <td>5.29857</td>\n",
       "    </tr>\n",
       "    <tr>\n",
       "      <td>11NN</td>\n",
       "      <td>5.56726</td>\n",
       "      <td>5.28322</td>\n",
       "    </tr>\n",
       "  </tbody>\n",
       "</table>\n",
       "</div>"
      ],
      "text/plain": [
       "     LONGITUDE LATITUDE\n",
       "3NN    6.04238  5.65432\n",
       "5NN    5.62419  5.47194\n",
       "7NN    5.50444  5.39088\n",
       "9NN    5.51486  5.29857\n",
       "11NN   5.56726  5.28322"
      ]
     },
     "execution_count": 171,
     "metadata": {},
     "output_type": "execute_result"
    }
   ],
   "source": [
    "mae_knn_n5_df"
   ]
  },
  {
   "cell_type": "markdown",
   "metadata": {},
   "source": [
    "### Building 1 - n3"
   ]
  },
  {
   "cell_type": "code",
   "execution_count": 172,
   "metadata": {},
   "outputs": [],
   "source": [
    "features = trainlist[1][3].iloc[:,:520]"
   ]
  },
  {
   "cell_type": "code",
   "execution_count": 173,
   "metadata": {},
   "outputs": [],
   "source": [
    "dependentlist_r = [[trainlist[1][3][\"LONGITUDE\"], validationlist[1][3][\"LONGITUDE\"]], \n",
    "                   [trainlist[1][3][\"LATITUDE\"], validationlist[1][3][\"LATITUDE\"]]]"
   ]
  },
  {
   "cell_type": "code",
   "execution_count": 174,
   "metadata": {},
   "outputs": [],
   "source": [
    "dependentlist_c = [[trainlist[1][3][\"BUILDINGID\"], validationlist[1][3][\"BUILDINGID\"]], \n",
    "                   [trainlist[1][3][\"FLOOR\"], validationlist[1][3][\"FLOOR\"]]]"
   ]
  },
  {
   "cell_type": "code",
   "execution_count": 175,
   "metadata": {},
   "outputs": [],
   "source": [
    "val_features = validationlist[1][3].iloc[:,:520]"
   ]
  },
  {
   "cell_type": "markdown",
   "metadata": {},
   "source": [
    "### Modeling and predicting"
   ]
  },
  {
   "cell_type": "code",
   "execution_count": 176,
   "metadata": {},
   "outputs": [],
   "source": [
    "knn_r = [3, 5, 7, 9, 11]"
   ]
  },
  {
   "cell_type": "code",
   "execution_count": 177,
   "metadata": {},
   "outputs": [],
   "source": [
    "knn_c = [3, 5, 7, 9, 11]"
   ]
  },
  {
   "cell_type": "code",
   "execution_count": 178,
   "metadata": {},
   "outputs": [],
   "source": [
    "mae_knn_n6_df = pd.DataFrame(columns=[\"LONGITUDE\", \"LATITUDE\"], index=[\"3NN\", \"5NN\", \"7NN\", \"9NN\", \"11NN\"])"
   ]
  },
  {
   "cell_type": "code",
   "execution_count": 179,
   "metadata": {},
   "outputs": [],
   "source": [
    "acc_knn_n6_df = pd.DataFrame(columns=[\"BUILDINGID\", \"FLOORID\"], index=[\"3NN\", \"5NN\", \"7NN\", \"9NN\", \"11NN\"])"
   ]
  },
  {
   "cell_type": "markdown",
   "metadata": {},
   "source": [
    "#### Regression"
   ]
  },
  {
   "cell_type": "code",
   "execution_count": 180,
   "metadata": {},
   "outputs": [],
   "source": [
    "m = 0\n",
    "k = 0\n",
    "for i in dependentlist_r:\n",
    "    for j in knn_r:\n",
    "        modelKNNR = KNeighborsRegressor(n_neighbors = j, n_jobs= -1)\n",
    "        modelKNNR.fit(features, i[0])\n",
    "        prediction = modelKNNR.predict(val_features)\n",
    "        mae_knn_n6_df.iloc[m, k] = mean_absolute_error(i[1], prediction)\n",
    "        m = m + 1\n",
    "    m = 0\n",
    "    k = k + 1"
   ]
  },
  {
   "cell_type": "markdown",
   "metadata": {},
   "source": [
    "#### Clasification"
   ]
  },
  {
   "cell_type": "code",
   "execution_count": 181,
   "metadata": {},
   "outputs": [],
   "source": [
    "m = 0\n",
    "k = 0\n",
    "for i in dependentlist_c:\n",
    "    for j in knn_c:\n",
    "        modelKNNC = KNeighborsClassifier(n_neighbors= j, n_jobs= -1)\n",
    "        modelKNNC.fit(features, i[0])\n",
    "        prediction = modelKNNC.predict(val_features)\n",
    "        acc_knn_n6_df.iloc[m, k] = accuracy_score(i[1], prediction)\n",
    "        m = m + 1\n",
    "    m = 0\n",
    "    k = k + 1"
   ]
  },
  {
   "cell_type": "code",
   "execution_count": 182,
   "metadata": {},
   "outputs": [
    {
     "data": {
      "text/html": [
       "<div>\n",
       "<style scoped>\n",
       "    .dataframe tbody tr th:only-of-type {\n",
       "        vertical-align: middle;\n",
       "    }\n",
       "\n",
       "    .dataframe tbody tr th {\n",
       "        vertical-align: top;\n",
       "    }\n",
       "\n",
       "    .dataframe thead th {\n",
       "        text-align: right;\n",
       "    }\n",
       "</style>\n",
       "<table border=\"1\" class=\"dataframe\">\n",
       "  <thead>\n",
       "    <tr style=\"text-align: right;\">\n",
       "      <th></th>\n",
       "      <th>BUILDINGID</th>\n",
       "      <th>FLOORID</th>\n",
       "    </tr>\n",
       "  </thead>\n",
       "  <tbody>\n",
       "    <tr>\n",
       "      <td>3NN</td>\n",
       "      <td>1</td>\n",
       "      <td>0.889251</td>\n",
       "    </tr>\n",
       "    <tr>\n",
       "      <td>5NN</td>\n",
       "      <td>1</td>\n",
       "      <td>0.905537</td>\n",
       "    </tr>\n",
       "    <tr>\n",
       "      <td>7NN</td>\n",
       "      <td>1</td>\n",
       "      <td>0.90228</td>\n",
       "    </tr>\n",
       "    <tr>\n",
       "      <td>9NN</td>\n",
       "      <td>1</td>\n",
       "      <td>0.912052</td>\n",
       "    </tr>\n",
       "    <tr>\n",
       "      <td>11NN</td>\n",
       "      <td>1</td>\n",
       "      <td>0.908795</td>\n",
       "    </tr>\n",
       "  </tbody>\n",
       "</table>\n",
       "</div>"
      ],
      "text/plain": [
       "     BUILDINGID   FLOORID\n",
       "3NN           1  0.889251\n",
       "5NN           1  0.905537\n",
       "7NN           1   0.90228\n",
       "9NN           1  0.912052\n",
       "11NN          1  0.908795"
      ]
     },
     "execution_count": 182,
     "metadata": {},
     "output_type": "execute_result"
    }
   ],
   "source": [
    "acc_knn_n6_df"
   ]
  },
  {
   "cell_type": "code",
   "execution_count": 183,
   "metadata": {},
   "outputs": [
    {
     "data": {
      "text/html": [
       "<div>\n",
       "<style scoped>\n",
       "    .dataframe tbody tr th:only-of-type {\n",
       "        vertical-align: middle;\n",
       "    }\n",
       "\n",
       "    .dataframe tbody tr th {\n",
       "        vertical-align: top;\n",
       "    }\n",
       "\n",
       "    .dataframe thead th {\n",
       "        text-align: right;\n",
       "    }\n",
       "</style>\n",
       "<table border=\"1\" class=\"dataframe\">\n",
       "  <thead>\n",
       "    <tr style=\"text-align: right;\">\n",
       "      <th></th>\n",
       "      <th>LONGITUDE</th>\n",
       "      <th>LATITUDE</th>\n",
       "    </tr>\n",
       "  </thead>\n",
       "  <tbody>\n",
       "    <tr>\n",
       "      <td>3NN</td>\n",
       "      <td>5.98148</td>\n",
       "      <td>5.9516</td>\n",
       "    </tr>\n",
       "    <tr>\n",
       "      <td>5NN</td>\n",
       "      <td>5.77053</td>\n",
       "      <td>5.81522</td>\n",
       "    </tr>\n",
       "    <tr>\n",
       "      <td>7NN</td>\n",
       "      <td>5.68919</td>\n",
       "      <td>5.73949</td>\n",
       "    </tr>\n",
       "    <tr>\n",
       "      <td>9NN</td>\n",
       "      <td>5.59373</td>\n",
       "      <td>5.62524</td>\n",
       "    </tr>\n",
       "    <tr>\n",
       "      <td>11NN</td>\n",
       "      <td>5.50912</td>\n",
       "      <td>5.56316</td>\n",
       "    </tr>\n",
       "  </tbody>\n",
       "</table>\n",
       "</div>"
      ],
      "text/plain": [
       "     LONGITUDE LATITUDE\n",
       "3NN    5.98148   5.9516\n",
       "5NN    5.77053  5.81522\n",
       "7NN    5.68919  5.73949\n",
       "9NN    5.59373  5.62524\n",
       "11NN   5.50912  5.56316"
      ]
     },
     "execution_count": 183,
     "metadata": {},
     "output_type": "execute_result"
    }
   ],
   "source": [
    "mae_knn_n6_df"
   ]
  },
  {
   "cell_type": "code",
   "execution_count": 184,
   "metadata": {},
   "outputs": [
    {
     "data": {
      "text/plain": [
       "BUILDINGID    1.000000\n",
       "FLOORID       0.938111\n",
       "BUILDINGID    1.000000\n",
       "FLOORID       0.938111\n",
       "BUILDINGID    1.000000\n",
       "FLOORID       0.941368\n",
       "BUILDINGID    1.000000\n",
       "FLOORID       0.912052\n",
       "dtype: float64"
      ]
     },
     "execution_count": 184,
     "metadata": {},
     "output_type": "execute_result"
    }
   ],
   "source": [
    "acc_b1 = pd.concat([acc_knn_n3_df, acc_knn_n4_df, acc_knn_n5_df, acc_knn_n6_df], axis = 1)\n",
    "acc_b1.max()"
   ]
  },
  {
   "cell_type": "code",
   "execution_count": 185,
   "metadata": {},
   "outputs": [
    {
     "data": {
      "text/plain": [
       "LONGITUDE    6.630336\n",
       "LATITUDE     5.786051\n",
       "LONGITUDE    6.002203\n",
       "LATITUDE     5.555098\n",
       "LONGITUDE    5.504436\n",
       "LATITUDE     5.283215\n",
       "LONGITUDE    5.509123\n",
       "LATITUDE     5.563158\n",
       "dtype: float64"
      ]
     },
     "execution_count": 185,
     "metadata": {},
     "output_type": "execute_result"
    }
   ],
   "source": [
    "mae_b1 = pd.concat([mae_knn_n3_df, mae_knn_n4_df, mae_knn_n5_df, mae_knn_n6_df], axis = 1)\n",
    "mae_b1.min()"
   ]
  },
  {
   "cell_type": "markdown",
   "metadata": {},
   "source": [
    "### Building 2 - n0"
   ]
  },
  {
   "cell_type": "code",
   "execution_count": 186,
   "metadata": {},
   "outputs": [],
   "source": [
    "features = trainlist[2][0].iloc[:,:520]"
   ]
  },
  {
   "cell_type": "code",
   "execution_count": 187,
   "metadata": {},
   "outputs": [],
   "source": [
    "dependentlist_r = [[trainlist[2][0][\"LONGITUDE\"], validationlist[2][0][\"LONGITUDE\"]], \n",
    "                   [trainlist[2][0][\"LATITUDE\"], validationlist[2][0][\"LATITUDE\"]]]"
   ]
  },
  {
   "cell_type": "code",
   "execution_count": 188,
   "metadata": {},
   "outputs": [],
   "source": [
    "dependentlist_c = [[trainlist[2][0][\"BUILDINGID\"], validationlist[2][0][\"BUILDINGID\"]], \n",
    "                   [trainlist[2][0][\"FLOOR\"], validationlist[2][0][\"FLOOR\"]]]"
   ]
  },
  {
   "cell_type": "code",
   "execution_count": 189,
   "metadata": {},
   "outputs": [],
   "source": [
    "val_features = validationlist[2][0].iloc[:,:520]"
   ]
  },
  {
   "cell_type": "markdown",
   "metadata": {},
   "source": [
    "### Modeling and predicting"
   ]
  },
  {
   "cell_type": "code",
   "execution_count": 190,
   "metadata": {},
   "outputs": [],
   "source": [
    "knn_r = [3, 5, 7, 9, 11]"
   ]
  },
  {
   "cell_type": "code",
   "execution_count": 191,
   "metadata": {},
   "outputs": [],
   "source": [
    "knn_c = [3, 5, 7, 9, 11]"
   ]
  },
  {
   "cell_type": "code",
   "execution_count": 192,
   "metadata": {},
   "outputs": [],
   "source": [
    "mae_knn_n3_df = pd.DataFrame(columns=[\"LONGITUDE\", \"LATITUDE\"], index=[\"3NN\", \"5NN\", \"7NN\", \"9NN\", \"11NN\"])"
   ]
  },
  {
   "cell_type": "code",
   "execution_count": 193,
   "metadata": {},
   "outputs": [],
   "source": [
    "acc_knn_n3_df = pd.DataFrame(columns=[\"BUILDINGID\", \"FLOORID\"], index=[\"3NN\", \"5NN\", \"7NN\", \"9NN\", \"11NN\"])"
   ]
  },
  {
   "cell_type": "markdown",
   "metadata": {},
   "source": [
    "#### Regression"
   ]
  },
  {
   "cell_type": "code",
   "execution_count": 194,
   "metadata": {},
   "outputs": [],
   "source": [
    "m = 0\n",
    "k = 0\n",
    "for i in dependentlist_r:\n",
    "    for j in knn_r:\n",
    "        modelKNNR = KNeighborsRegressor(n_neighbors = j, n_jobs= -1)\n",
    "        modelKNNR.fit(features, i[0])\n",
    "        prediction = modelKNNR.predict(val_features)\n",
    "        mae_knn_n3_df.iloc[m, k] = mean_absolute_error(i[1], prediction)\n",
    "        m = m + 1\n",
    "    m = 0\n",
    "    k = k + 1"
   ]
  },
  {
   "cell_type": "markdown",
   "metadata": {},
   "source": [
    "#### Clasification"
   ]
  },
  {
   "cell_type": "code",
   "execution_count": 195,
   "metadata": {},
   "outputs": [],
   "source": [
    "m = 0\n",
    "k = 0\n",
    "for i in dependentlist_c:\n",
    "    for j in knn_c:\n",
    "        modelKNNC = KNeighborsClassifier(n_neighbors= j, n_jobs= -1)\n",
    "        modelKNNC.fit(features, i[0])\n",
    "        prediction = modelKNNC.predict(val_features)\n",
    "        acc_knn_n3_df.iloc[m, k] = accuracy_score(i[1], prediction)\n",
    "        m = m + 1\n",
    "    m = 0\n",
    "    k = k + 1"
   ]
  },
  {
   "cell_type": "code",
   "execution_count": 196,
   "metadata": {},
   "outputs": [
    {
     "data": {
      "text/html": [
       "<div>\n",
       "<style scoped>\n",
       "    .dataframe tbody tr th:only-of-type {\n",
       "        vertical-align: middle;\n",
       "    }\n",
       "\n",
       "    .dataframe tbody tr th {\n",
       "        vertical-align: top;\n",
       "    }\n",
       "\n",
       "    .dataframe thead th {\n",
       "        text-align: right;\n",
       "    }\n",
       "</style>\n",
       "<table border=\"1\" class=\"dataframe\">\n",
       "  <thead>\n",
       "    <tr style=\"text-align: right;\">\n",
       "      <th></th>\n",
       "      <th>BUILDINGID</th>\n",
       "      <th>FLOORID</th>\n",
       "    </tr>\n",
       "  </thead>\n",
       "  <tbody>\n",
       "    <tr>\n",
       "      <td>3NN</td>\n",
       "      <td>1</td>\n",
       "      <td>0.970149</td>\n",
       "    </tr>\n",
       "    <tr>\n",
       "      <td>5NN</td>\n",
       "      <td>1</td>\n",
       "      <td>0.966418</td>\n",
       "    </tr>\n",
       "    <tr>\n",
       "      <td>7NN</td>\n",
       "      <td>1</td>\n",
       "      <td>0.966418</td>\n",
       "    </tr>\n",
       "    <tr>\n",
       "      <td>9NN</td>\n",
       "      <td>1</td>\n",
       "      <td>0.966418</td>\n",
       "    </tr>\n",
       "    <tr>\n",
       "      <td>11NN</td>\n",
       "      <td>1</td>\n",
       "      <td>0.966418</td>\n",
       "    </tr>\n",
       "  </tbody>\n",
       "</table>\n",
       "</div>"
      ],
      "text/plain": [
       "     BUILDINGID   FLOORID\n",
       "3NN           1  0.970149\n",
       "5NN           1  0.966418\n",
       "7NN           1  0.966418\n",
       "9NN           1  0.966418\n",
       "11NN          1  0.966418"
      ]
     },
     "execution_count": 196,
     "metadata": {},
     "output_type": "execute_result"
    }
   ],
   "source": [
    "acc_knn_n3_df"
   ]
  },
  {
   "cell_type": "code",
   "execution_count": 197,
   "metadata": {},
   "outputs": [
    {
     "data": {
      "text/html": [
       "<div>\n",
       "<style scoped>\n",
       "    .dataframe tbody tr th:only-of-type {\n",
       "        vertical-align: middle;\n",
       "    }\n",
       "\n",
       "    .dataframe tbody tr th {\n",
       "        vertical-align: top;\n",
       "    }\n",
       "\n",
       "    .dataframe thead th {\n",
       "        text-align: right;\n",
       "    }\n",
       "</style>\n",
       "<table border=\"1\" class=\"dataframe\">\n",
       "  <thead>\n",
       "    <tr style=\"text-align: right;\">\n",
       "      <th></th>\n",
       "      <th>LONGITUDE</th>\n",
       "      <th>LATITUDE</th>\n",
       "    </tr>\n",
       "  </thead>\n",
       "  <tbody>\n",
       "    <tr>\n",
       "      <td>3NN</td>\n",
       "      <td>6.04609</td>\n",
       "      <td>5.79985</td>\n",
       "    </tr>\n",
       "    <tr>\n",
       "      <td>5NN</td>\n",
       "      <td>6.02856</td>\n",
       "      <td>5.6992</td>\n",
       "    </tr>\n",
       "    <tr>\n",
       "      <td>7NN</td>\n",
       "      <td>6.10511</td>\n",
       "      <td>5.63877</td>\n",
       "    </tr>\n",
       "    <tr>\n",
       "      <td>9NN</td>\n",
       "      <td>6.13586</td>\n",
       "      <td>5.54714</td>\n",
       "    </tr>\n",
       "    <tr>\n",
       "      <td>11NN</td>\n",
       "      <td>6.0846</td>\n",
       "      <td>5.59413</td>\n",
       "    </tr>\n",
       "  </tbody>\n",
       "</table>\n",
       "</div>"
      ],
      "text/plain": [
       "     LONGITUDE LATITUDE\n",
       "3NN    6.04609  5.79985\n",
       "5NN    6.02856   5.6992\n",
       "7NN    6.10511  5.63877\n",
       "9NN    6.13586  5.54714\n",
       "11NN    6.0846  5.59413"
      ]
     },
     "execution_count": 197,
     "metadata": {},
     "output_type": "execute_result"
    }
   ],
   "source": [
    "mae_knn_n3_df"
   ]
  },
  {
   "cell_type": "markdown",
   "metadata": {},
   "source": [
    "### Building 2 - n1"
   ]
  },
  {
   "cell_type": "code",
   "execution_count": 198,
   "metadata": {},
   "outputs": [],
   "source": [
    "features = trainlist[2][1].iloc[:,:520]"
   ]
  },
  {
   "cell_type": "code",
   "execution_count": 199,
   "metadata": {},
   "outputs": [],
   "source": [
    "dependentlist_r = [[trainlist[2][1][\"LONGITUDE\"], validationlist[2][1][\"LONGITUDE\"]], \n",
    "                   [trainlist[2][1][\"LATITUDE\"], validationlist[2][1][\"LATITUDE\"]]]"
   ]
  },
  {
   "cell_type": "code",
   "execution_count": 200,
   "metadata": {},
   "outputs": [],
   "source": [
    "dependentlist_c = [[trainlist[2][1][\"BUILDINGID\"], validationlist[2][1][\"BUILDINGID\"]], \n",
    "                   [trainlist[2][1][\"FLOOR\"], validationlist[2][1][\"FLOOR\"]]]"
   ]
  },
  {
   "cell_type": "code",
   "execution_count": 201,
   "metadata": {},
   "outputs": [],
   "source": [
    "val_features = validationlist[2][1].iloc[:,:520]"
   ]
  },
  {
   "cell_type": "markdown",
   "metadata": {},
   "source": [
    "### Modeling and predicting"
   ]
  },
  {
   "cell_type": "code",
   "execution_count": 202,
   "metadata": {},
   "outputs": [],
   "source": [
    "knn_r = [3, 5, 7, 9, 11]"
   ]
  },
  {
   "cell_type": "code",
   "execution_count": 203,
   "metadata": {},
   "outputs": [],
   "source": [
    "knn_c = [3, 5, 7, 9, 11]"
   ]
  },
  {
   "cell_type": "code",
   "execution_count": 204,
   "metadata": {},
   "outputs": [],
   "source": [
    "mae_knn_n4_df = pd.DataFrame(columns=[\"LONGITUDE\", \"LATITUDE\"], index=[\"3NN\", \"5NN\", \"7NN\", \"9NN\", \"11NN\"])"
   ]
  },
  {
   "cell_type": "code",
   "execution_count": 205,
   "metadata": {},
   "outputs": [],
   "source": [
    "acc_knn_n4_df = pd.DataFrame(columns=[\"BUILDINGID\", \"FLOORID\"], index=[\"3NN\", \"5NN\", \"7NN\", \"9NN\", \"11NN\"])"
   ]
  },
  {
   "cell_type": "markdown",
   "metadata": {},
   "source": [
    "#### Regression"
   ]
  },
  {
   "cell_type": "code",
   "execution_count": 206,
   "metadata": {},
   "outputs": [],
   "source": [
    "m = 0\n",
    "k = 0\n",
    "for i in dependentlist_r:\n",
    "    for j in knn_r:\n",
    "        modelKNNR = KNeighborsRegressor(n_neighbors = j, n_jobs= -1)\n",
    "        modelKNNR.fit(features, i[0])\n",
    "        prediction = modelKNNR.predict(val_features)\n",
    "        mae_knn_n4_df.iloc[m, k] = mean_absolute_error(i[1], prediction)\n",
    "        m = m + 1\n",
    "    m = 0\n",
    "    k = k + 1"
   ]
  },
  {
   "cell_type": "markdown",
   "metadata": {},
   "source": [
    "#### Clasification"
   ]
  },
  {
   "cell_type": "code",
   "execution_count": 207,
   "metadata": {},
   "outputs": [],
   "source": [
    "m = 0\n",
    "k = 0\n",
    "for i in dependentlist_c:\n",
    "    for j in knn_c:\n",
    "        modelKNNC = KNeighborsClassifier(n_neighbors= j, n_jobs= -1)\n",
    "        modelKNNC.fit(features, i[0])\n",
    "        prediction = modelKNNC.predict(val_features)\n",
    "        acc_knn_n4_df.iloc[m, k] = accuracy_score(i[1], prediction)\n",
    "        m = m + 1\n",
    "    m = 0\n",
    "    k = k + 1"
   ]
  },
  {
   "cell_type": "code",
   "execution_count": 208,
   "metadata": {},
   "outputs": [
    {
     "data": {
      "text/html": [
       "<div>\n",
       "<style scoped>\n",
       "    .dataframe tbody tr th:only-of-type {\n",
       "        vertical-align: middle;\n",
       "    }\n",
       "\n",
       "    .dataframe tbody tr th {\n",
       "        vertical-align: top;\n",
       "    }\n",
       "\n",
       "    .dataframe thead th {\n",
       "        text-align: right;\n",
       "    }\n",
       "</style>\n",
       "<table border=\"1\" class=\"dataframe\">\n",
       "  <thead>\n",
       "    <tr style=\"text-align: right;\">\n",
       "      <th></th>\n",
       "      <th>BUILDINGID</th>\n",
       "      <th>FLOORID</th>\n",
       "    </tr>\n",
       "  </thead>\n",
       "  <tbody>\n",
       "    <tr>\n",
       "      <td>3NN</td>\n",
       "      <td>1</td>\n",
       "      <td>0.977612</td>\n",
       "    </tr>\n",
       "    <tr>\n",
       "      <td>5NN</td>\n",
       "      <td>1</td>\n",
       "      <td>0.977612</td>\n",
       "    </tr>\n",
       "    <tr>\n",
       "      <td>7NN</td>\n",
       "      <td>1</td>\n",
       "      <td>0.977612</td>\n",
       "    </tr>\n",
       "    <tr>\n",
       "      <td>9NN</td>\n",
       "      <td>1</td>\n",
       "      <td>0.977612</td>\n",
       "    </tr>\n",
       "    <tr>\n",
       "      <td>11NN</td>\n",
       "      <td>1</td>\n",
       "      <td>0.970149</td>\n",
       "    </tr>\n",
       "  </tbody>\n",
       "</table>\n",
       "</div>"
      ],
      "text/plain": [
       "     BUILDINGID   FLOORID\n",
       "3NN           1  0.977612\n",
       "5NN           1  0.977612\n",
       "7NN           1  0.977612\n",
       "9NN           1  0.977612\n",
       "11NN          1  0.970149"
      ]
     },
     "execution_count": 208,
     "metadata": {},
     "output_type": "execute_result"
    }
   ],
   "source": [
    "acc_knn_n4_df"
   ]
  },
  {
   "cell_type": "code",
   "execution_count": 209,
   "metadata": {},
   "outputs": [
    {
     "data": {
      "text/html": [
       "<div>\n",
       "<style scoped>\n",
       "    .dataframe tbody tr th:only-of-type {\n",
       "        vertical-align: middle;\n",
       "    }\n",
       "\n",
       "    .dataframe tbody tr th {\n",
       "        vertical-align: top;\n",
       "    }\n",
       "\n",
       "    .dataframe thead th {\n",
       "        text-align: right;\n",
       "    }\n",
       "</style>\n",
       "<table border=\"1\" class=\"dataframe\">\n",
       "  <thead>\n",
       "    <tr style=\"text-align: right;\">\n",
       "      <th></th>\n",
       "      <th>LONGITUDE</th>\n",
       "      <th>LATITUDE</th>\n",
       "    </tr>\n",
       "  </thead>\n",
       "  <tbody>\n",
       "    <tr>\n",
       "      <td>3NN</td>\n",
       "      <td>5.78997</td>\n",
       "      <td>5.19795</td>\n",
       "    </tr>\n",
       "    <tr>\n",
       "      <td>5NN</td>\n",
       "      <td>5.75967</td>\n",
       "      <td>5.22614</td>\n",
       "    </tr>\n",
       "    <tr>\n",
       "      <td>7NN</td>\n",
       "      <td>5.6408</td>\n",
       "      <td>5.17471</td>\n",
       "    </tr>\n",
       "    <tr>\n",
       "      <td>9NN</td>\n",
       "      <td>5.6578</td>\n",
       "      <td>5.23449</td>\n",
       "    </tr>\n",
       "    <tr>\n",
       "      <td>11NN</td>\n",
       "      <td>5.71197</td>\n",
       "      <td>5.24466</td>\n",
       "    </tr>\n",
       "  </tbody>\n",
       "</table>\n",
       "</div>"
      ],
      "text/plain": [
       "     LONGITUDE LATITUDE\n",
       "3NN    5.78997  5.19795\n",
       "5NN    5.75967  5.22614\n",
       "7NN     5.6408  5.17471\n",
       "9NN     5.6578  5.23449\n",
       "11NN   5.71197  5.24466"
      ]
     },
     "execution_count": 209,
     "metadata": {},
     "output_type": "execute_result"
    }
   ],
   "source": [
    "mae_knn_n4_df"
   ]
  },
  {
   "cell_type": "markdown",
   "metadata": {},
   "source": [
    "### Building 2 - n2"
   ]
  },
  {
   "cell_type": "code",
   "execution_count": 210,
   "metadata": {},
   "outputs": [],
   "source": [
    "features = trainlist[2][2].iloc[:,:520]"
   ]
  },
  {
   "cell_type": "code",
   "execution_count": 211,
   "metadata": {},
   "outputs": [],
   "source": [
    "dependentlist_r = [[trainlist[2][2][\"LONGITUDE\"], validationlist[2][2][\"LONGITUDE\"]], \n",
    "                   [trainlist[2][2][\"LATITUDE\"], validationlist[2][2][\"LATITUDE\"]]]"
   ]
  },
  {
   "cell_type": "code",
   "execution_count": 212,
   "metadata": {},
   "outputs": [],
   "source": [
    "dependentlist_c = [[trainlist[2][2][\"BUILDINGID\"], validationlist[2][2][\"BUILDINGID\"]], \n",
    "                   [trainlist[2][2][\"FLOOR\"], validationlist[2][2][\"FLOOR\"]]]"
   ]
  },
  {
   "cell_type": "code",
   "execution_count": 213,
   "metadata": {},
   "outputs": [],
   "source": [
    "val_features = validationlist[2][2].iloc[:,:520]"
   ]
  },
  {
   "cell_type": "markdown",
   "metadata": {},
   "source": [
    "### Modeling and predicting"
   ]
  },
  {
   "cell_type": "code",
   "execution_count": 214,
   "metadata": {},
   "outputs": [],
   "source": [
    "knn_r = [3, 5, 7, 9, 11]"
   ]
  },
  {
   "cell_type": "code",
   "execution_count": 215,
   "metadata": {},
   "outputs": [],
   "source": [
    "knn_c = [3, 5, 7, 9, 11]"
   ]
  },
  {
   "cell_type": "code",
   "execution_count": 216,
   "metadata": {},
   "outputs": [],
   "source": [
    "mae_knn_n5_df = pd.DataFrame(columns=[\"LONGITUDE\", \"LATITUDE\"], index=[\"3NN\", \"5NN\", \"7NN\", \"9NN\", \"11NN\"])"
   ]
  },
  {
   "cell_type": "code",
   "execution_count": 217,
   "metadata": {},
   "outputs": [],
   "source": [
    "acc_knn_n5_df = pd.DataFrame(columns=[\"BUILDINGID\", \"FLOORID\"], index=[\"3NN\", \"5NN\", \"7NN\", \"9NN\", \"11NN\"])"
   ]
  },
  {
   "cell_type": "markdown",
   "metadata": {},
   "source": [
    "#### Regression"
   ]
  },
  {
   "cell_type": "code",
   "execution_count": 218,
   "metadata": {},
   "outputs": [],
   "source": [
    "m = 0\n",
    "k = 0\n",
    "for i in dependentlist_r:\n",
    "    for j in knn_r:\n",
    "        modelKNNR = KNeighborsRegressor(n_neighbors = j, n_jobs= -1)\n",
    "        modelKNNR.fit(features, i[0])\n",
    "        prediction = modelKNNR.predict(val_features)\n",
    "        mae_knn_n5_df.iloc[m, k] = mean_absolute_error(i[1], prediction)\n",
    "        m = m + 1\n",
    "    m = 0\n",
    "    k = k + 1"
   ]
  },
  {
   "cell_type": "markdown",
   "metadata": {},
   "source": [
    "#### Clasification"
   ]
  },
  {
   "cell_type": "code",
   "execution_count": 219,
   "metadata": {},
   "outputs": [],
   "source": [
    "m = 0\n",
    "k = 0\n",
    "for i in dependentlist_c:\n",
    "    for j in knn_c:\n",
    "        modelKNNC = KNeighborsClassifier(n_neighbors= j, n_jobs= -1)\n",
    "        modelKNNC.fit(features, i[0])\n",
    "        prediction = modelKNNC.predict(val_features)\n",
    "        acc_knn_n5_df.iloc[m, k] = accuracy_score(i[1], prediction)\n",
    "        m = m + 1\n",
    "    m = 0\n",
    "    k = k + 1"
   ]
  },
  {
   "cell_type": "code",
   "execution_count": 220,
   "metadata": {},
   "outputs": [
    {
     "data": {
      "text/html": [
       "<div>\n",
       "<style scoped>\n",
       "    .dataframe tbody tr th:only-of-type {\n",
       "        vertical-align: middle;\n",
       "    }\n",
       "\n",
       "    .dataframe tbody tr th {\n",
       "        vertical-align: top;\n",
       "    }\n",
       "\n",
       "    .dataframe thead th {\n",
       "        text-align: right;\n",
       "    }\n",
       "</style>\n",
       "<table border=\"1\" class=\"dataframe\">\n",
       "  <thead>\n",
       "    <tr style=\"text-align: right;\">\n",
       "      <th></th>\n",
       "      <th>BUILDINGID</th>\n",
       "      <th>FLOORID</th>\n",
       "    </tr>\n",
       "  </thead>\n",
       "  <tbody>\n",
       "    <tr>\n",
       "      <td>3NN</td>\n",
       "      <td>1</td>\n",
       "      <td>0.970149</td>\n",
       "    </tr>\n",
       "    <tr>\n",
       "      <td>5NN</td>\n",
       "      <td>1</td>\n",
       "      <td>0.973881</td>\n",
       "    </tr>\n",
       "    <tr>\n",
       "      <td>7NN</td>\n",
       "      <td>1</td>\n",
       "      <td>0.962687</td>\n",
       "    </tr>\n",
       "    <tr>\n",
       "      <td>9NN</td>\n",
       "      <td>1</td>\n",
       "      <td>0.962687</td>\n",
       "    </tr>\n",
       "    <tr>\n",
       "      <td>11NN</td>\n",
       "      <td>1</td>\n",
       "      <td>0.966418</td>\n",
       "    </tr>\n",
       "  </tbody>\n",
       "</table>\n",
       "</div>"
      ],
      "text/plain": [
       "     BUILDINGID   FLOORID\n",
       "3NN           1  0.970149\n",
       "5NN           1  0.973881\n",
       "7NN           1  0.962687\n",
       "9NN           1  0.962687\n",
       "11NN          1  0.966418"
      ]
     },
     "execution_count": 220,
     "metadata": {},
     "output_type": "execute_result"
    }
   ],
   "source": [
    "acc_knn_n5_df"
   ]
  },
  {
   "cell_type": "code",
   "execution_count": 221,
   "metadata": {},
   "outputs": [
    {
     "data": {
      "text/html": [
       "<div>\n",
       "<style scoped>\n",
       "    .dataframe tbody tr th:only-of-type {\n",
       "        vertical-align: middle;\n",
       "    }\n",
       "\n",
       "    .dataframe tbody tr th {\n",
       "        vertical-align: top;\n",
       "    }\n",
       "\n",
       "    .dataframe thead th {\n",
       "        text-align: right;\n",
       "    }\n",
       "</style>\n",
       "<table border=\"1\" class=\"dataframe\">\n",
       "  <thead>\n",
       "    <tr style=\"text-align: right;\">\n",
       "      <th></th>\n",
       "      <th>LONGITUDE</th>\n",
       "      <th>LATITUDE</th>\n",
       "    </tr>\n",
       "  </thead>\n",
       "  <tbody>\n",
       "    <tr>\n",
       "      <td>3NN</td>\n",
       "      <td>6.23255</td>\n",
       "      <td>5.45563</td>\n",
       "    </tr>\n",
       "    <tr>\n",
       "      <td>5NN</td>\n",
       "      <td>5.95057</td>\n",
       "      <td>5.27506</td>\n",
       "    </tr>\n",
       "    <tr>\n",
       "      <td>7NN</td>\n",
       "      <td>5.91823</td>\n",
       "      <td>5.18457</td>\n",
       "    </tr>\n",
       "    <tr>\n",
       "      <td>9NN</td>\n",
       "      <td>5.85289</td>\n",
       "      <td>5.10024</td>\n",
       "    </tr>\n",
       "    <tr>\n",
       "      <td>11NN</td>\n",
       "      <td>5.9887</td>\n",
       "      <td>5.16828</td>\n",
       "    </tr>\n",
       "  </tbody>\n",
       "</table>\n",
       "</div>"
      ],
      "text/plain": [
       "     LONGITUDE LATITUDE\n",
       "3NN    6.23255  5.45563\n",
       "5NN    5.95057  5.27506\n",
       "7NN    5.91823  5.18457\n",
       "9NN    5.85289  5.10024\n",
       "11NN    5.9887  5.16828"
      ]
     },
     "execution_count": 221,
     "metadata": {},
     "output_type": "execute_result"
    }
   ],
   "source": [
    "mae_knn_n5_df"
   ]
  },
  {
   "cell_type": "markdown",
   "metadata": {},
   "source": [
    "### Building 2 - n3"
   ]
  },
  {
   "cell_type": "code",
   "execution_count": 222,
   "metadata": {},
   "outputs": [],
   "source": [
    "features = trainlist[2][3].iloc[:,:520]"
   ]
  },
  {
   "cell_type": "code",
   "execution_count": 223,
   "metadata": {},
   "outputs": [],
   "source": [
    "dependentlist_r = [[trainlist[2][3][\"LONGITUDE\"], validationlist[2][3][\"LONGITUDE\"]], \n",
    "                   [trainlist[2][3][\"LATITUDE\"], validationlist[2][3][\"LATITUDE\"]]]"
   ]
  },
  {
   "cell_type": "code",
   "execution_count": 224,
   "metadata": {},
   "outputs": [],
   "source": [
    "dependentlist_c = [[trainlist[2][3][\"BUILDINGID\"], validationlist[2][3][\"BUILDINGID\"]], \n",
    "                   [trainlist[2][3][\"FLOOR\"], validationlist[2][3][\"FLOOR\"]]]"
   ]
  },
  {
   "cell_type": "code",
   "execution_count": 225,
   "metadata": {},
   "outputs": [],
   "source": [
    "val_features = validationlist[2][3].iloc[:,:520]"
   ]
  },
  {
   "cell_type": "markdown",
   "metadata": {},
   "source": [
    "### Modeling and predicting"
   ]
  },
  {
   "cell_type": "code",
   "execution_count": 226,
   "metadata": {},
   "outputs": [],
   "source": [
    "knn_r = [3, 5, 7, 9, 11]"
   ]
  },
  {
   "cell_type": "code",
   "execution_count": 227,
   "metadata": {},
   "outputs": [],
   "source": [
    "knn_c = [3, 5, 7, 9, 11]"
   ]
  },
  {
   "cell_type": "code",
   "execution_count": 228,
   "metadata": {},
   "outputs": [],
   "source": [
    "mae_knn_n6_df = pd.DataFrame(columns=[\"LONGITUDE\", \"LATITUDE\"], index=[\"3NN\", \"5NN\", \"7NN\", \"9NN\", \"11NN\"])"
   ]
  },
  {
   "cell_type": "code",
   "execution_count": 229,
   "metadata": {},
   "outputs": [],
   "source": [
    "acc_knn_n6_df = pd.DataFrame(columns=[\"BUILDINGID\", \"FLOORID\"], index=[\"3NN\", \"5NN\", \"7NN\", \"9NN\", \"11NN\"])"
   ]
  },
  {
   "cell_type": "markdown",
   "metadata": {},
   "source": [
    "#### Regression"
   ]
  },
  {
   "cell_type": "code",
   "execution_count": 230,
   "metadata": {},
   "outputs": [],
   "source": [
    "m = 0\n",
    "k = 0\n",
    "for i in dependentlist_r:\n",
    "    for j in knn_r:\n",
    "        modelKNNR = KNeighborsRegressor(n_neighbors = j, n_jobs= -1)\n",
    "        modelKNNR.fit(features, i[0])\n",
    "        prediction = modelKNNR.predict(val_features)\n",
    "        mae_knn_n6_df.iloc[m, k] = mean_absolute_error(i[1], prediction)\n",
    "        m = m + 1\n",
    "    m = 0\n",
    "    k = k + 1"
   ]
  },
  {
   "cell_type": "markdown",
   "metadata": {},
   "source": [
    "#### Clasification"
   ]
  },
  {
   "cell_type": "code",
   "execution_count": 231,
   "metadata": {},
   "outputs": [],
   "source": [
    "m = 0\n",
    "k = 0\n",
    "for i in dependentlist_c:\n",
    "    for j in knn_c:\n",
    "        modelKNNC = KNeighborsClassifier(n_neighbors= j, n_jobs= -1)\n",
    "        modelKNNC.fit(features, i[0])\n",
    "        prediction = modelKNNC.predict(val_features)\n",
    "        acc_knn_n6_df.iloc[m, k] = accuracy_score(i[1], prediction)\n",
    "        m = m + 1\n",
    "    m = 0\n",
    "    k = k + 1"
   ]
  },
  {
   "cell_type": "code",
   "execution_count": 232,
   "metadata": {},
   "outputs": [
    {
     "data": {
      "text/html": [
       "<div>\n",
       "<style scoped>\n",
       "    .dataframe tbody tr th:only-of-type {\n",
       "        vertical-align: middle;\n",
       "    }\n",
       "\n",
       "    .dataframe tbody tr th {\n",
       "        vertical-align: top;\n",
       "    }\n",
       "\n",
       "    .dataframe thead th {\n",
       "        text-align: right;\n",
       "    }\n",
       "</style>\n",
       "<table border=\"1\" class=\"dataframe\">\n",
       "  <thead>\n",
       "    <tr style=\"text-align: right;\">\n",
       "      <th></th>\n",
       "      <th>BUILDINGID</th>\n",
       "      <th>FLOORID</th>\n",
       "    </tr>\n",
       "  </thead>\n",
       "  <tbody>\n",
       "    <tr>\n",
       "      <td>3NN</td>\n",
       "      <td>1</td>\n",
       "      <td>0.962687</td>\n",
       "    </tr>\n",
       "    <tr>\n",
       "      <td>5NN</td>\n",
       "      <td>1</td>\n",
       "      <td>0.958955</td>\n",
       "    </tr>\n",
       "    <tr>\n",
       "      <td>7NN</td>\n",
       "      <td>1</td>\n",
       "      <td>0.962687</td>\n",
       "    </tr>\n",
       "    <tr>\n",
       "      <td>9NN</td>\n",
       "      <td>1</td>\n",
       "      <td>0.958955</td>\n",
       "    </tr>\n",
       "    <tr>\n",
       "      <td>11NN</td>\n",
       "      <td>1</td>\n",
       "      <td>0.94403</td>\n",
       "    </tr>\n",
       "  </tbody>\n",
       "</table>\n",
       "</div>"
      ],
      "text/plain": [
       "     BUILDINGID   FLOORID\n",
       "3NN           1  0.962687\n",
       "5NN           1  0.958955\n",
       "7NN           1  0.962687\n",
       "9NN           1  0.958955\n",
       "11NN          1   0.94403"
      ]
     },
     "execution_count": 232,
     "metadata": {},
     "output_type": "execute_result"
    }
   ],
   "source": [
    "acc_knn_n6_df"
   ]
  },
  {
   "cell_type": "code",
   "execution_count": 233,
   "metadata": {},
   "outputs": [
    {
     "data": {
      "text/html": [
       "<div>\n",
       "<style scoped>\n",
       "    .dataframe tbody tr th:only-of-type {\n",
       "        vertical-align: middle;\n",
       "    }\n",
       "\n",
       "    .dataframe tbody tr th {\n",
       "        vertical-align: top;\n",
       "    }\n",
       "\n",
       "    .dataframe thead th {\n",
       "        text-align: right;\n",
       "    }\n",
       "</style>\n",
       "<table border=\"1\" class=\"dataframe\">\n",
       "  <thead>\n",
       "    <tr style=\"text-align: right;\">\n",
       "      <th></th>\n",
       "      <th>LONGITUDE</th>\n",
       "      <th>LATITUDE</th>\n",
       "    </tr>\n",
       "  </thead>\n",
       "  <tbody>\n",
       "    <tr>\n",
       "      <td>3NN</td>\n",
       "      <td>6.64895</td>\n",
       "      <td>5.65773</td>\n",
       "    </tr>\n",
       "    <tr>\n",
       "      <td>5NN</td>\n",
       "      <td>6.5423</td>\n",
       "      <td>5.57913</td>\n",
       "    </tr>\n",
       "    <tr>\n",
       "      <td>7NN</td>\n",
       "      <td>6.41521</td>\n",
       "      <td>5.46467</td>\n",
       "    </tr>\n",
       "    <tr>\n",
       "      <td>9NN</td>\n",
       "      <td>6.37374</td>\n",
       "      <td>5.45333</td>\n",
       "    </tr>\n",
       "    <tr>\n",
       "      <td>11NN</td>\n",
       "      <td>6.39822</td>\n",
       "      <td>5.45933</td>\n",
       "    </tr>\n",
       "  </tbody>\n",
       "</table>\n",
       "</div>"
      ],
      "text/plain": [
       "     LONGITUDE LATITUDE\n",
       "3NN    6.64895  5.65773\n",
       "5NN     6.5423  5.57913\n",
       "7NN    6.41521  5.46467\n",
       "9NN    6.37374  5.45333\n",
       "11NN   6.39822  5.45933"
      ]
     },
     "execution_count": 233,
     "metadata": {},
     "output_type": "execute_result"
    }
   ],
   "source": [
    "mae_knn_n6_df"
   ]
  },
  {
   "cell_type": "code",
   "execution_count": 234,
   "metadata": {},
   "outputs": [
    {
     "data": {
      "text/plain": [
       "BUILDINGID    1.000000\n",
       "FLOORID       0.970149\n",
       "BUILDINGID    1.000000\n",
       "FLOORID       0.977612\n",
       "BUILDINGID    1.000000\n",
       "FLOORID       0.973881\n",
       "BUILDINGID    1.000000\n",
       "FLOORID       0.962687\n",
       "dtype: float64"
      ]
     },
     "execution_count": 234,
     "metadata": {},
     "output_type": "execute_result"
    }
   ],
   "source": [
    "acc_b2 = pd.concat([acc_knn_n3_df, acc_knn_n4_df, acc_knn_n5_df, acc_knn_n6_df], axis = 1)\n",
    "acc_b2.max()"
   ]
  },
  {
   "cell_type": "code",
   "execution_count": 235,
   "metadata": {},
   "outputs": [
    {
     "data": {
      "text/plain": [
       "LONGITUDE    6.028556\n",
       "LATITUDE     5.547143\n",
       "LONGITUDE    5.640801\n",
       "LATITUDE     5.174708\n",
       "LONGITUDE    5.852888\n",
       "LATITUDE     5.100245\n",
       "LONGITUDE    6.373743\n",
       "LATITUDE     5.453331\n",
       "dtype: float64"
      ]
     },
     "execution_count": 235,
     "metadata": {},
     "output_type": "execute_result"
    }
   ],
   "source": [
    "mae_b2 = pd.concat([mae_knn_n3_df, mae_knn_n4_df, mae_knn_n5_df, mae_knn_n6_df], axis = 1)\n",
    "mae_b2.min()"
   ]
  },
  {
   "cell_type": "code",
   "execution_count": 236,
   "metadata": {},
   "outputs": [
    {
     "data": {
      "text/html": [
       "<div>\n",
       "<style scoped>\n",
       "    .dataframe tbody tr th:only-of-type {\n",
       "        vertical-align: middle;\n",
       "    }\n",
       "\n",
       "    .dataframe tbody tr th {\n",
       "        vertical-align: top;\n",
       "    }\n",
       "\n",
       "    .dataframe thead th {\n",
       "        text-align: right;\n",
       "    }\n",
       "</style>\n",
       "<table border=\"1\" class=\"dataframe\">\n",
       "  <thead>\n",
       "    <tr style=\"text-align: right;\">\n",
       "      <th></th>\n",
       "      <th>LONGITUDE</th>\n",
       "      <th>LATITUDE</th>\n",
       "      <th>LONGITUDE</th>\n",
       "      <th>LATITUDE</th>\n",
       "      <th>LONGITUDE</th>\n",
       "      <th>LATITUDE</th>\n",
       "      <th>LONGITUDE</th>\n",
       "      <th>LATITUDE</th>\n",
       "    </tr>\n",
       "  </thead>\n",
       "  <tbody>\n",
       "    <tr>\n",
       "      <td>3NN</td>\n",
       "      <td>6.04609</td>\n",
       "      <td>5.79985</td>\n",
       "      <td>5.78997</td>\n",
       "      <td>5.19795</td>\n",
       "      <td>6.23255</td>\n",
       "      <td>5.45563</td>\n",
       "      <td>6.64895</td>\n",
       "      <td>5.65773</td>\n",
       "    </tr>\n",
       "    <tr>\n",
       "      <td>5NN</td>\n",
       "      <td>6.02856</td>\n",
       "      <td>5.6992</td>\n",
       "      <td>5.75967</td>\n",
       "      <td>5.22614</td>\n",
       "      <td>5.95057</td>\n",
       "      <td>5.27506</td>\n",
       "      <td>6.5423</td>\n",
       "      <td>5.57913</td>\n",
       "    </tr>\n",
       "    <tr>\n",
       "      <td>7NN</td>\n",
       "      <td>6.10511</td>\n",
       "      <td>5.63877</td>\n",
       "      <td>5.6408</td>\n",
       "      <td>5.17471</td>\n",
       "      <td>5.91823</td>\n",
       "      <td>5.18457</td>\n",
       "      <td>6.41521</td>\n",
       "      <td>5.46467</td>\n",
       "    </tr>\n",
       "    <tr>\n",
       "      <td>9NN</td>\n",
       "      <td>6.13586</td>\n",
       "      <td>5.54714</td>\n",
       "      <td>5.6578</td>\n",
       "      <td>5.23449</td>\n",
       "      <td>5.85289</td>\n",
       "      <td>5.10024</td>\n",
       "      <td>6.37374</td>\n",
       "      <td>5.45333</td>\n",
       "    </tr>\n",
       "    <tr>\n",
       "      <td>11NN</td>\n",
       "      <td>6.0846</td>\n",
       "      <td>5.59413</td>\n",
       "      <td>5.71197</td>\n",
       "      <td>5.24466</td>\n",
       "      <td>5.9887</td>\n",
       "      <td>5.16828</td>\n",
       "      <td>6.39822</td>\n",
       "      <td>5.45933</td>\n",
       "    </tr>\n",
       "  </tbody>\n",
       "</table>\n",
       "</div>"
      ],
      "text/plain": [
       "     LONGITUDE LATITUDE LONGITUDE LATITUDE LONGITUDE LATITUDE LONGITUDE  \\\n",
       "3NN    6.04609  5.79985   5.78997  5.19795   6.23255  5.45563   6.64895   \n",
       "5NN    6.02856   5.6992   5.75967  5.22614   5.95057  5.27506    6.5423   \n",
       "7NN    6.10511  5.63877    5.6408  5.17471   5.91823  5.18457   6.41521   \n",
       "9NN    6.13586  5.54714    5.6578  5.23449   5.85289  5.10024   6.37374   \n",
       "11NN    6.0846  5.59413   5.71197  5.24466    5.9887  5.16828   6.39822   \n",
       "\n",
       "     LATITUDE  \n",
       "3NN   5.65773  \n",
       "5NN   5.57913  \n",
       "7NN   5.46467  \n",
       "9NN   5.45333  \n",
       "11NN  5.45933  "
      ]
     },
     "execution_count": 236,
     "metadata": {},
     "output_type": "execute_result"
    }
   ],
   "source": [
    "mae_b0"
   ]
  },
  {
   "cell_type": "code",
   "execution_count": null,
   "metadata": {},
   "outputs": [],
   "source": []
  }
 ],
 "metadata": {
  "kernelspec": {
   "display_name": "Python 3",
   "language": "python",
   "name": "python3"
  },
  "language_info": {
   "codemirror_mode": {
    "name": "ipython",
    "version": 3
   },
   "file_extension": ".py",
   "mimetype": "text/x-python",
   "name": "python",
   "nbconvert_exporter": "python",
   "pygments_lexer": "ipython3",
   "version": "3.7.4"
  }
 },
 "nbformat": 4,
 "nbformat_minor": 2
}
