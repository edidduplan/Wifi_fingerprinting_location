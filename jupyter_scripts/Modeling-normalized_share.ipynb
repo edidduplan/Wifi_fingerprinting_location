{
 "cells": [
  {
   "cell_type": "markdown",
   "metadata": {},
   "source": [
    "# Modeling - data normalized \"share\""
   ]
  },
  {
   "cell_type": "markdown",
   "metadata": {},
   "source": [
    "## Importing libraries"
   ]
  },
  {
   "cell_type": "code",
   "execution_count": 59,
   "metadata": {},
   "outputs": [],
   "source": [
    "import pandas as pd\n",
    "import numpy as np\n",
    "import scipy\n",
    "from math import sqrt\n",
    "import matplotlib.pyplot as plt\n",
    "import plotly.express as px\n",
    "import plotly.graph_objects as go"
   ]
  },
  {
   "cell_type": "markdown",
   "metadata": {},
   "source": [
    "Estimators: regressors"
   ]
  },
  {
   "cell_type": "code",
   "execution_count": 60,
   "metadata": {},
   "outputs": [],
   "source": [
    "from sklearn.neighbors import KNeighborsRegressor\n",
    "from sklearn.ensemble import RandomForestRegressor\n",
    "from sklearn.svm import SVR\n",
    "from sklearn.linear_model import LinearRegression\n",
    "from sklearn import linear_model"
   ]
  },
  {
   "cell_type": "markdown",
   "metadata": {},
   "source": [
    "Estimators: classifiers"
   ]
  },
  {
   "cell_type": "code",
   "execution_count": 61,
   "metadata": {},
   "outputs": [],
   "source": [
    "from sklearn.ensemble import RandomForestClassifier\n",
    "from sklearn.neighbors import KNeighborsClassifier\n",
    "from sklearn.ensemble import GradientBoostingClassifier"
   ]
  },
  {
   "cell_type": "markdown",
   "metadata": {},
   "source": [
    "Metrics:"
   ]
  },
  {
   "cell_type": "code",
   "execution_count": 62,
   "metadata": {},
   "outputs": [],
   "source": [
    "from sklearn.metrics import mean_squared_error\n",
    "from sklearn.metrics import mean_absolute_error\n",
    "from sklearn.metrics import r2_score\n",
    "from sklearn.model_selection import cross_val_score\n",
    "from sklearn.metrics import max_error"
   ]
  },
  {
   "cell_type": "markdown",
   "metadata": {},
   "source": [
    "Cross-validation:"
   ]
  },
  {
   "cell_type": "code",
   "execution_count": 63,
   "metadata": {},
   "outputs": [],
   "source": [
    "from sklearn.model_selection import train_test_split"
   ]
  },
  {
   "cell_type": "markdown",
   "metadata": {},
   "source": [
    "## Reading dataset"
   ]
  },
  {
   "cell_type": "code",
   "execution_count": 64,
   "metadata": {},
   "outputs": [],
   "source": [
    "trainset = pd.read_csv(\"C:/Users/edidd/Documents/Ubiqum/Data Analytics Course/Module_III_Wifi/data/train_clean_norm.csv\", header = 0)"
   ]
  },
  {
   "cell_type": "code",
   "execution_count": 65,
   "metadata": {},
   "outputs": [
    {
     "data": {
      "text/html": [
       "<div>\n",
       "<style scoped>\n",
       "    .dataframe tbody tr th:only-of-type {\n",
       "        vertical-align: middle;\n",
       "    }\n",
       "\n",
       "    .dataframe tbody tr th {\n",
       "        vertical-align: top;\n",
       "    }\n",
       "\n",
       "    .dataframe thead th {\n",
       "        text-align: right;\n",
       "    }\n",
       "</style>\n",
       "<table border=\"1\" class=\"dataframe\">\n",
       "  <thead>\n",
       "    <tr style=\"text-align: right;\">\n",
       "      <th></th>\n",
       "      <th>WAP001</th>\n",
       "      <th>WAP002</th>\n",
       "      <th>WAP003</th>\n",
       "      <th>WAP004</th>\n",
       "      <th>WAP005</th>\n",
       "      <th>WAP006</th>\n",
       "      <th>WAP007</th>\n",
       "      <th>WAP008</th>\n",
       "      <th>WAP009</th>\n",
       "      <th>WAP010</th>\n",
       "      <th>...</th>\n",
       "      <th>LONGITUDE</th>\n",
       "      <th>LATITUDE</th>\n",
       "      <th>FLOOR</th>\n",
       "      <th>BUILDINGID</th>\n",
       "      <th>SPACEID</th>\n",
       "      <th>RELATIVEPOSITION</th>\n",
       "      <th>USERID</th>\n",
       "      <th>PHONEID</th>\n",
       "      <th>TIMESTAMP</th>\n",
       "      <th>ref</th>\n",
       "    </tr>\n",
       "  </thead>\n",
       "  <tbody>\n",
       "    <tr>\n",
       "      <td>0</td>\n",
       "      <td>0.0</td>\n",
       "      <td>0.0</td>\n",
       "      <td>0.0</td>\n",
       "      <td>0.0</td>\n",
       "      <td>0.0</td>\n",
       "      <td>0.0</td>\n",
       "      <td>0.0</td>\n",
       "      <td>0.000000</td>\n",
       "      <td>0.0</td>\n",
       "      <td>0.0</td>\n",
       "      <td>...</td>\n",
       "      <td>-7541.2643</td>\n",
       "      <td>4.864921e+06</td>\n",
       "      <td>2</td>\n",
       "      <td>1</td>\n",
       "      <td>106</td>\n",
       "      <td>2</td>\n",
       "      <td>2</td>\n",
       "      <td>23</td>\n",
       "      <td>1371713733</td>\n",
       "      <td>290</td>\n",
       "    </tr>\n",
       "    <tr>\n",
       "      <td>1</td>\n",
       "      <td>0.0</td>\n",
       "      <td>0.0</td>\n",
       "      <td>0.0</td>\n",
       "      <td>0.0</td>\n",
       "      <td>0.0</td>\n",
       "      <td>0.0</td>\n",
       "      <td>0.0</td>\n",
       "      <td>0.000000</td>\n",
       "      <td>0.0</td>\n",
       "      <td>0.0</td>\n",
       "      <td>...</td>\n",
       "      <td>-7536.6212</td>\n",
       "      <td>4.864934e+06</td>\n",
       "      <td>2</td>\n",
       "      <td>1</td>\n",
       "      <td>106</td>\n",
       "      <td>2</td>\n",
       "      <td>2</td>\n",
       "      <td>23</td>\n",
       "      <td>1371713691</td>\n",
       "      <td>299</td>\n",
       "    </tr>\n",
       "    <tr>\n",
       "      <td>2</td>\n",
       "      <td>0.0</td>\n",
       "      <td>0.0</td>\n",
       "      <td>0.0</td>\n",
       "      <td>0.0</td>\n",
       "      <td>0.0</td>\n",
       "      <td>0.0</td>\n",
       "      <td>0.0</td>\n",
       "      <td>0.024169</td>\n",
       "      <td>0.0</td>\n",
       "      <td>0.0</td>\n",
       "      <td>...</td>\n",
       "      <td>-7519.1524</td>\n",
       "      <td>4.864950e+06</td>\n",
       "      <td>2</td>\n",
       "      <td>1</td>\n",
       "      <td>103</td>\n",
       "      <td>2</td>\n",
       "      <td>2</td>\n",
       "      <td>23</td>\n",
       "      <td>1371714095</td>\n",
       "      <td>342</td>\n",
       "    </tr>\n",
       "    <tr>\n",
       "      <td>3</td>\n",
       "      <td>0.0</td>\n",
       "      <td>0.0</td>\n",
       "      <td>0.0</td>\n",
       "      <td>0.0</td>\n",
       "      <td>0.0</td>\n",
       "      <td>0.0</td>\n",
       "      <td>0.0</td>\n",
       "      <td>0.000000</td>\n",
       "      <td>0.0</td>\n",
       "      <td>0.0</td>\n",
       "      <td>...</td>\n",
       "      <td>-7524.5704</td>\n",
       "      <td>4.864934e+06</td>\n",
       "      <td>2</td>\n",
       "      <td>1</td>\n",
       "      <td>102</td>\n",
       "      <td>2</td>\n",
       "      <td>2</td>\n",
       "      <td>23</td>\n",
       "      <td>1371713807</td>\n",
       "      <td>328</td>\n",
       "    </tr>\n",
       "    <tr>\n",
       "      <td>4</td>\n",
       "      <td>0.0</td>\n",
       "      <td>0.0</td>\n",
       "      <td>0.0</td>\n",
       "      <td>0.0</td>\n",
       "      <td>0.0</td>\n",
       "      <td>0.0</td>\n",
       "      <td>0.0</td>\n",
       "      <td>0.000000</td>\n",
       "      <td>0.0</td>\n",
       "      <td>0.0</td>\n",
       "      <td>...</td>\n",
       "      <td>-7632.1436</td>\n",
       "      <td>4.864982e+06</td>\n",
       "      <td>0</td>\n",
       "      <td>0</td>\n",
       "      <td>122</td>\n",
       "      <td>2</td>\n",
       "      <td>11</td>\n",
       "      <td>13</td>\n",
       "      <td>1369909710</td>\n",
       "      <td>195</td>\n",
       "    </tr>\n",
       "  </tbody>\n",
       "</table>\n",
       "<p>5 rows × 530 columns</p>\n",
       "</div>"
      ],
      "text/plain": [
       "   WAP001  WAP002  WAP003  WAP004  WAP005  WAP006  WAP007    WAP008  WAP009  \\\n",
       "0     0.0     0.0     0.0     0.0     0.0     0.0     0.0  0.000000     0.0   \n",
       "1     0.0     0.0     0.0     0.0     0.0     0.0     0.0  0.000000     0.0   \n",
       "2     0.0     0.0     0.0     0.0     0.0     0.0     0.0  0.024169     0.0   \n",
       "3     0.0     0.0     0.0     0.0     0.0     0.0     0.0  0.000000     0.0   \n",
       "4     0.0     0.0     0.0     0.0     0.0     0.0     0.0  0.000000     0.0   \n",
       "\n",
       "   WAP010  ...  LONGITUDE      LATITUDE  FLOOR  BUILDINGID  SPACEID  \\\n",
       "0     0.0  ... -7541.2643  4.864921e+06      2           1      106   \n",
       "1     0.0  ... -7536.6212  4.864934e+06      2           1      106   \n",
       "2     0.0  ... -7519.1524  4.864950e+06      2           1      103   \n",
       "3     0.0  ... -7524.5704  4.864934e+06      2           1      102   \n",
       "4     0.0  ... -7632.1436  4.864982e+06      0           0      122   \n",
       "\n",
       "   RELATIVEPOSITION  USERID  PHONEID   TIMESTAMP  ref  \n",
       "0                 2       2       23  1371713733  290  \n",
       "1                 2       2       23  1371713691  299  \n",
       "2                 2       2       23  1371714095  342  \n",
       "3                 2       2       23  1371713807  328  \n",
       "4                 2      11       13  1369909710  195  \n",
       "\n",
       "[5 rows x 530 columns]"
      ]
     },
     "execution_count": 65,
     "metadata": {},
     "output_type": "execute_result"
    }
   ],
   "source": [
    "trainset.head()"
   ]
  },
  {
   "cell_type": "markdown",
   "metadata": {},
   "source": [
    "## Selecting the data for modeling"
   ]
  },
  {
   "cell_type": "code",
   "execution_count": 66,
   "metadata": {},
   "outputs": [],
   "source": [
    "features = trainset.iloc[:,:520]"
   ]
  },
  {
   "cell_type": "code",
   "execution_count": 67,
   "metadata": {},
   "outputs": [
    {
     "data": {
      "text/html": [
       "<div>\n",
       "<style scoped>\n",
       "    .dataframe tbody tr th:only-of-type {\n",
       "        vertical-align: middle;\n",
       "    }\n",
       "\n",
       "    .dataframe tbody tr th {\n",
       "        vertical-align: top;\n",
       "    }\n",
       "\n",
       "    .dataframe thead th {\n",
       "        text-align: right;\n",
       "    }\n",
       "</style>\n",
       "<table border=\"1\" class=\"dataframe\">\n",
       "  <thead>\n",
       "    <tr style=\"text-align: right;\">\n",
       "      <th></th>\n",
       "      <th>WAP001</th>\n",
       "      <th>WAP002</th>\n",
       "      <th>WAP003</th>\n",
       "      <th>WAP004</th>\n",
       "      <th>WAP005</th>\n",
       "      <th>WAP006</th>\n",
       "      <th>WAP007</th>\n",
       "      <th>WAP008</th>\n",
       "      <th>WAP009</th>\n",
       "      <th>WAP010</th>\n",
       "      <th>...</th>\n",
       "      <th>WAP511</th>\n",
       "      <th>WAP512</th>\n",
       "      <th>WAP513</th>\n",
       "      <th>WAP514</th>\n",
       "      <th>WAP515</th>\n",
       "      <th>WAP516</th>\n",
       "      <th>WAP517</th>\n",
       "      <th>WAP518</th>\n",
       "      <th>WAP519</th>\n",
       "      <th>WAP520</th>\n",
       "    </tr>\n",
       "  </thead>\n",
       "  <tbody>\n",
       "    <tr>\n",
       "      <td>0</td>\n",
       "      <td>0.0</td>\n",
       "      <td>0.0</td>\n",
       "      <td>0.0</td>\n",
       "      <td>0.0</td>\n",
       "      <td>0.0</td>\n",
       "      <td>0.0</td>\n",
       "      <td>0.0</td>\n",
       "      <td>0.000000</td>\n",
       "      <td>0.0</td>\n",
       "      <td>0.0</td>\n",
       "      <td>...</td>\n",
       "      <td>0.0</td>\n",
       "      <td>0.0</td>\n",
       "      <td>0.0</td>\n",
       "      <td>0.0</td>\n",
       "      <td>0.0</td>\n",
       "      <td>0.0</td>\n",
       "      <td>0.0</td>\n",
       "      <td>0.0</td>\n",
       "      <td>0.0</td>\n",
       "      <td>0.0</td>\n",
       "    </tr>\n",
       "    <tr>\n",
       "      <td>1</td>\n",
       "      <td>0.0</td>\n",
       "      <td>0.0</td>\n",
       "      <td>0.0</td>\n",
       "      <td>0.0</td>\n",
       "      <td>0.0</td>\n",
       "      <td>0.0</td>\n",
       "      <td>0.0</td>\n",
       "      <td>0.000000</td>\n",
       "      <td>0.0</td>\n",
       "      <td>0.0</td>\n",
       "      <td>...</td>\n",
       "      <td>0.0</td>\n",
       "      <td>0.0</td>\n",
       "      <td>0.0</td>\n",
       "      <td>0.0</td>\n",
       "      <td>0.0</td>\n",
       "      <td>0.0</td>\n",
       "      <td>0.0</td>\n",
       "      <td>0.0</td>\n",
       "      <td>0.0</td>\n",
       "      <td>0.0</td>\n",
       "    </tr>\n",
       "    <tr>\n",
       "      <td>2</td>\n",
       "      <td>0.0</td>\n",
       "      <td>0.0</td>\n",
       "      <td>0.0</td>\n",
       "      <td>0.0</td>\n",
       "      <td>0.0</td>\n",
       "      <td>0.0</td>\n",
       "      <td>0.0</td>\n",
       "      <td>0.024169</td>\n",
       "      <td>0.0</td>\n",
       "      <td>0.0</td>\n",
       "      <td>...</td>\n",
       "      <td>0.0</td>\n",
       "      <td>0.0</td>\n",
       "      <td>0.0</td>\n",
       "      <td>0.0</td>\n",
       "      <td>0.0</td>\n",
       "      <td>0.0</td>\n",
       "      <td>0.0</td>\n",
       "      <td>0.0</td>\n",
       "      <td>0.0</td>\n",
       "      <td>0.0</td>\n",
       "    </tr>\n",
       "    <tr>\n",
       "      <td>3</td>\n",
       "      <td>0.0</td>\n",
       "      <td>0.0</td>\n",
       "      <td>0.0</td>\n",
       "      <td>0.0</td>\n",
       "      <td>0.0</td>\n",
       "      <td>0.0</td>\n",
       "      <td>0.0</td>\n",
       "      <td>0.000000</td>\n",
       "      <td>0.0</td>\n",
       "      <td>0.0</td>\n",
       "      <td>...</td>\n",
       "      <td>0.0</td>\n",
       "      <td>0.0</td>\n",
       "      <td>0.0</td>\n",
       "      <td>0.0</td>\n",
       "      <td>0.0</td>\n",
       "      <td>0.0</td>\n",
       "      <td>0.0</td>\n",
       "      <td>0.0</td>\n",
       "      <td>0.0</td>\n",
       "      <td>0.0</td>\n",
       "    </tr>\n",
       "    <tr>\n",
       "      <td>4</td>\n",
       "      <td>0.0</td>\n",
       "      <td>0.0</td>\n",
       "      <td>0.0</td>\n",
       "      <td>0.0</td>\n",
       "      <td>0.0</td>\n",
       "      <td>0.0</td>\n",
       "      <td>0.0</td>\n",
       "      <td>0.000000</td>\n",
       "      <td>0.0</td>\n",
       "      <td>0.0</td>\n",
       "      <td>...</td>\n",
       "      <td>0.0</td>\n",
       "      <td>0.0</td>\n",
       "      <td>0.0</td>\n",
       "      <td>0.0</td>\n",
       "      <td>0.0</td>\n",
       "      <td>0.0</td>\n",
       "      <td>0.0</td>\n",
       "      <td>0.0</td>\n",
       "      <td>0.0</td>\n",
       "      <td>0.0</td>\n",
       "    </tr>\n",
       "  </tbody>\n",
       "</table>\n",
       "<p>5 rows × 520 columns</p>\n",
       "</div>"
      ],
      "text/plain": [
       "   WAP001  WAP002  WAP003  WAP004  WAP005  WAP006  WAP007    WAP008  WAP009  \\\n",
       "0     0.0     0.0     0.0     0.0     0.0     0.0     0.0  0.000000     0.0   \n",
       "1     0.0     0.0     0.0     0.0     0.0     0.0     0.0  0.000000     0.0   \n",
       "2     0.0     0.0     0.0     0.0     0.0     0.0     0.0  0.024169     0.0   \n",
       "3     0.0     0.0     0.0     0.0     0.0     0.0     0.0  0.000000     0.0   \n",
       "4     0.0     0.0     0.0     0.0     0.0     0.0     0.0  0.000000     0.0   \n",
       "\n",
       "   WAP010  ...  WAP511  WAP512  WAP513  WAP514  WAP515  WAP516  WAP517  \\\n",
       "0     0.0  ...     0.0     0.0     0.0     0.0     0.0     0.0     0.0   \n",
       "1     0.0  ...     0.0     0.0     0.0     0.0     0.0     0.0     0.0   \n",
       "2     0.0  ...     0.0     0.0     0.0     0.0     0.0     0.0     0.0   \n",
       "3     0.0  ...     0.0     0.0     0.0     0.0     0.0     0.0     0.0   \n",
       "4     0.0  ...     0.0     0.0     0.0     0.0     0.0     0.0     0.0   \n",
       "\n",
       "   WAP518  WAP519  WAP520  \n",
       "0     0.0     0.0     0.0  \n",
       "1     0.0     0.0     0.0  \n",
       "2     0.0     0.0     0.0  \n",
       "3     0.0     0.0     0.0  \n",
       "4     0.0     0.0     0.0  \n",
       "\n",
       "[5 rows x 520 columns]"
      ]
     },
     "execution_count": 67,
     "metadata": {},
     "output_type": "execute_result"
    }
   ],
   "source": [
    "features.head()"
   ]
  },
  {
   "cell_type": "code",
   "execution_count": 68,
   "metadata": {},
   "outputs": [],
   "source": [
    "dependent = trainset[\"LONGITUDE\"]"
   ]
  },
  {
   "cell_type": "code",
   "execution_count": 69,
   "metadata": {},
   "outputs": [
    {
     "data": {
      "text/plain": [
       "0   -7541.2643\n",
       "1   -7536.6212\n",
       "2   -7519.1524\n",
       "3   -7524.5704\n",
       "4   -7632.1436\n",
       "Name: LONGITUDE, dtype: float64"
      ]
     },
     "execution_count": 69,
     "metadata": {},
     "output_type": "execute_result"
    }
   ],
   "source": [
    "dependent.head()"
   ]
  },
  {
   "cell_type": "code",
   "execution_count": 70,
   "metadata": {},
   "outputs": [
    {
     "data": {
      "text/plain": [
       "(19937, 520)"
      ]
     },
     "execution_count": 70,
     "metadata": {},
     "output_type": "execute_result"
    }
   ],
   "source": [
    "features.shape"
   ]
  },
  {
   "cell_type": "code",
   "execution_count": 71,
   "metadata": {},
   "outputs": [
    {
     "data": {
      "text/plain": [
       "(19937,)"
      ]
     },
     "execution_count": 71,
     "metadata": {},
     "output_type": "execute_result"
    }
   ],
   "source": [
    "dependent.shape"
   ]
  },
  {
   "cell_type": "markdown",
   "metadata": {},
   "source": [
    "## Creating model variables"
   ]
  },
  {
   "cell_type": "code",
   "execution_count": 72,
   "metadata": {},
   "outputs": [],
   "source": [
    "modelSVR = SVR()"
   ]
  },
  {
   "cell_type": "code",
   "execution_count": 73,
   "metadata": {},
   "outputs": [],
   "source": [
    "modelRF = RandomForestRegressor()"
   ]
  },
  {
   "cell_type": "code",
   "execution_count": 74,
   "metadata": {},
   "outputs": [],
   "source": [
    "modelLR = LinearRegression()"
   ]
  },
  {
   "cell_type": "code",
   "execution_count": 75,
   "metadata": {},
   "outputs": [],
   "source": [
    "model5NN = KNeighborsRegressor(n_neighbors=5, n_jobs= -1)"
   ]
  },
  {
   "cell_type": "code",
   "execution_count": 76,
   "metadata": {},
   "outputs": [],
   "source": [
    "model3NN = KNeighborsRegressor(n_neighbors=3, n_jobs= -1)"
   ]
  },
  {
   "cell_type": "markdown",
   "metadata": {},
   "source": [
    "## Training the models"
   ]
  },
  {
   "cell_type": "markdown",
   "metadata": {},
   "source": [
    "### KNN"
   ]
  },
  {
   "cell_type": "code",
   "execution_count": 77,
   "metadata": {},
   "outputs": [
    {
     "data": {
      "text/plain": [
       "KNeighborsRegressor(algorithm='auto', leaf_size=30, metric='minkowski',\n",
       "                    metric_params=None, n_jobs=-1, n_neighbors=5, p=2,\n",
       "                    weights='uniform')"
      ]
     },
     "execution_count": 77,
     "metadata": {},
     "output_type": "execute_result"
    }
   ],
   "source": [
    "model5NN.fit(features, dependent)"
   ]
  },
  {
   "cell_type": "code",
   "execution_count": 21,
   "metadata": {},
   "outputs": [
    {
     "data": {
      "text/plain": [
       "0.9970240352647581"
      ]
     },
     "execution_count": 21,
     "metadata": {},
     "output_type": "execute_result"
    }
   ],
   "source": [
    "model5NN.score(features, dependent)"
   ]
  },
  {
   "cell_type": "markdown",
   "metadata": {},
   "source": [
    "## Predicting"
   ]
  },
  {
   "cell_type": "markdown",
   "metadata": {},
   "source": [
    "### Importing the validation set"
   ]
  },
  {
   "cell_type": "code",
   "execution_count": 78,
   "metadata": {},
   "outputs": [],
   "source": [
    "validation = pd.read_csv(\"C:/Users/edidd/Documents/Ubiqum/Data Analytics Course/Module_III_Wifi/data/validation_clean_norm.csv\", header = 0)"
   ]
  },
  {
   "cell_type": "code",
   "execution_count": 79,
   "metadata": {},
   "outputs": [
    {
     "data": {
      "text/html": [
       "<div>\n",
       "<style scoped>\n",
       "    .dataframe tbody tr th:only-of-type {\n",
       "        vertical-align: middle;\n",
       "    }\n",
       "\n",
       "    .dataframe tbody tr th {\n",
       "        vertical-align: top;\n",
       "    }\n",
       "\n",
       "    .dataframe thead th {\n",
       "        text-align: right;\n",
       "    }\n",
       "</style>\n",
       "<table border=\"1\" class=\"dataframe\">\n",
       "  <thead>\n",
       "    <tr style=\"text-align: right;\">\n",
       "      <th></th>\n",
       "      <th>WAP001</th>\n",
       "      <th>WAP002</th>\n",
       "      <th>WAP003</th>\n",
       "      <th>WAP004</th>\n",
       "      <th>WAP005</th>\n",
       "      <th>WAP006</th>\n",
       "      <th>WAP007</th>\n",
       "      <th>WAP008</th>\n",
       "      <th>WAP009</th>\n",
       "      <th>WAP010</th>\n",
       "      <th>...</th>\n",
       "      <th>WAP520</th>\n",
       "      <th>LONGITUDE</th>\n",
       "      <th>LATITUDE</th>\n",
       "      <th>FLOOR</th>\n",
       "      <th>BUILDINGID</th>\n",
       "      <th>SPACEID</th>\n",
       "      <th>RELATIVEPOSITION</th>\n",
       "      <th>USERID</th>\n",
       "      <th>PHONEID</th>\n",
       "      <th>TIMESTAMP</th>\n",
       "    </tr>\n",
       "  </thead>\n",
       "  <tbody>\n",
       "    <tr>\n",
       "      <td>1106</td>\n",
       "      <td>0.0</td>\n",
       "      <td>0.0</td>\n",
       "      <td>0.0</td>\n",
       "      <td>0.0</td>\n",
       "      <td>0.0</td>\n",
       "      <td>0.0</td>\n",
       "      <td>0.0</td>\n",
       "      <td>0.0</td>\n",
       "      <td>0.0</td>\n",
       "      <td>0.0</td>\n",
       "      <td>...</td>\n",
       "      <td>0.0</td>\n",
       "      <td>-7317.344231</td>\n",
       "      <td>4.864796e+06</td>\n",
       "      <td>3</td>\n",
       "      <td>2</td>\n",
       "      <td>0</td>\n",
       "      <td>0</td>\n",
       "      <td>0</td>\n",
       "      <td>13</td>\n",
       "      <td>1381156711</td>\n",
       "    </tr>\n",
       "    <tr>\n",
       "      <td>1107</td>\n",
       "      <td>0.0</td>\n",
       "      <td>0.0</td>\n",
       "      <td>0.0</td>\n",
       "      <td>0.0</td>\n",
       "      <td>0.0</td>\n",
       "      <td>0.0</td>\n",
       "      <td>0.0</td>\n",
       "      <td>0.0</td>\n",
       "      <td>0.0</td>\n",
       "      <td>0.0</td>\n",
       "      <td>...</td>\n",
       "      <td>0.0</td>\n",
       "      <td>-7313.731120</td>\n",
       "      <td>4.864792e+06</td>\n",
       "      <td>3</td>\n",
       "      <td>2</td>\n",
       "      <td>0</td>\n",
       "      <td>0</td>\n",
       "      <td>0</td>\n",
       "      <td>13</td>\n",
       "      <td>1381156730</td>\n",
       "    </tr>\n",
       "    <tr>\n",
       "      <td>1108</td>\n",
       "      <td>0.0</td>\n",
       "      <td>0.0</td>\n",
       "      <td>0.0</td>\n",
       "      <td>0.0</td>\n",
       "      <td>0.0</td>\n",
       "      <td>0.0</td>\n",
       "      <td>0.0</td>\n",
       "      <td>0.0</td>\n",
       "      <td>0.0</td>\n",
       "      <td>0.0</td>\n",
       "      <td>...</td>\n",
       "      <td>0.0</td>\n",
       "      <td>-7637.535798</td>\n",
       "      <td>4.864903e+06</td>\n",
       "      <td>0</td>\n",
       "      <td>0</td>\n",
       "      <td>0</td>\n",
       "      <td>0</td>\n",
       "      <td>0</td>\n",
       "      <td>13</td>\n",
       "      <td>1381247781</td>\n",
       "    </tr>\n",
       "    <tr>\n",
       "      <td>1109</td>\n",
       "      <td>0.0</td>\n",
       "      <td>0.0</td>\n",
       "      <td>0.0</td>\n",
       "      <td>0.0</td>\n",
       "      <td>0.0</td>\n",
       "      <td>0.0</td>\n",
       "      <td>0.0</td>\n",
       "      <td>0.0</td>\n",
       "      <td>0.0</td>\n",
       "      <td>0.0</td>\n",
       "      <td>...</td>\n",
       "      <td>0.0</td>\n",
       "      <td>-7636.654005</td>\n",
       "      <td>4.864905e+06</td>\n",
       "      <td>0</td>\n",
       "      <td>0</td>\n",
       "      <td>0</td>\n",
       "      <td>0</td>\n",
       "      <td>0</td>\n",
       "      <td>13</td>\n",
       "      <td>1381247807</td>\n",
       "    </tr>\n",
       "    <tr>\n",
       "      <td>1110</td>\n",
       "      <td>0.0</td>\n",
       "      <td>0.0</td>\n",
       "      <td>0.0</td>\n",
       "      <td>0.0</td>\n",
       "      <td>0.0</td>\n",
       "      <td>0.0</td>\n",
       "      <td>0.0</td>\n",
       "      <td>0.0</td>\n",
       "      <td>0.0</td>\n",
       "      <td>0.0</td>\n",
       "      <td>...</td>\n",
       "      <td>0.0</td>\n",
       "      <td>-7637.944120</td>\n",
       "      <td>4.864904e+06</td>\n",
       "      <td>0</td>\n",
       "      <td>0</td>\n",
       "      <td>0</td>\n",
       "      <td>0</td>\n",
       "      <td>0</td>\n",
       "      <td>13</td>\n",
       "      <td>1381247836</td>\n",
       "    </tr>\n",
       "  </tbody>\n",
       "</table>\n",
       "<p>5 rows × 529 columns</p>\n",
       "</div>"
      ],
      "text/plain": [
       "      WAP001  WAP002  WAP003  WAP004  WAP005  WAP006  WAP007  WAP008  WAP009  \\\n",
       "1106     0.0     0.0     0.0     0.0     0.0     0.0     0.0     0.0     0.0   \n",
       "1107     0.0     0.0     0.0     0.0     0.0     0.0     0.0     0.0     0.0   \n",
       "1108     0.0     0.0     0.0     0.0     0.0     0.0     0.0     0.0     0.0   \n",
       "1109     0.0     0.0     0.0     0.0     0.0     0.0     0.0     0.0     0.0   \n",
       "1110     0.0     0.0     0.0     0.0     0.0     0.0     0.0     0.0     0.0   \n",
       "\n",
       "      WAP010  ...  WAP520    LONGITUDE      LATITUDE  FLOOR  BUILDINGID  \\\n",
       "1106     0.0  ...     0.0 -7317.344231  4.864796e+06      3           2   \n",
       "1107     0.0  ...     0.0 -7313.731120  4.864792e+06      3           2   \n",
       "1108     0.0  ...     0.0 -7637.535798  4.864903e+06      0           0   \n",
       "1109     0.0  ...     0.0 -7636.654005  4.864905e+06      0           0   \n",
       "1110     0.0  ...     0.0 -7637.944120  4.864904e+06      0           0   \n",
       "\n",
       "      SPACEID  RELATIVEPOSITION  USERID  PHONEID   TIMESTAMP  \n",
       "1106        0                 0       0       13  1381156711  \n",
       "1107        0                 0       0       13  1381156730  \n",
       "1108        0                 0       0       13  1381247781  \n",
       "1109        0                 0       0       13  1381247807  \n",
       "1110        0                 0       0       13  1381247836  \n",
       "\n",
       "[5 rows x 529 columns]"
      ]
     },
     "execution_count": 79,
     "metadata": {},
     "output_type": "execute_result"
    }
   ],
   "source": [
    "validation.tail()"
   ]
  },
  {
   "cell_type": "code",
   "execution_count": 80,
   "metadata": {},
   "outputs": [],
   "source": [
    "val_features = validation.iloc[:,:520]"
   ]
  },
  {
   "cell_type": "code",
   "execution_count": 81,
   "metadata": {},
   "outputs": [
    {
     "data": {
      "text/html": [
       "<div>\n",
       "<style scoped>\n",
       "    .dataframe tbody tr th:only-of-type {\n",
       "        vertical-align: middle;\n",
       "    }\n",
       "\n",
       "    .dataframe tbody tr th {\n",
       "        vertical-align: top;\n",
       "    }\n",
       "\n",
       "    .dataframe thead th {\n",
       "        text-align: right;\n",
       "    }\n",
       "</style>\n",
       "<table border=\"1\" class=\"dataframe\">\n",
       "  <thead>\n",
       "    <tr style=\"text-align: right;\">\n",
       "      <th></th>\n",
       "      <th>WAP001</th>\n",
       "      <th>WAP002</th>\n",
       "      <th>WAP003</th>\n",
       "      <th>WAP004</th>\n",
       "      <th>WAP005</th>\n",
       "      <th>WAP006</th>\n",
       "      <th>WAP007</th>\n",
       "      <th>WAP008</th>\n",
       "      <th>WAP009</th>\n",
       "      <th>WAP010</th>\n",
       "      <th>...</th>\n",
       "      <th>WAP511</th>\n",
       "      <th>WAP512</th>\n",
       "      <th>WAP513</th>\n",
       "      <th>WAP514</th>\n",
       "      <th>WAP515</th>\n",
       "      <th>WAP516</th>\n",
       "      <th>WAP517</th>\n",
       "      <th>WAP518</th>\n",
       "      <th>WAP519</th>\n",
       "      <th>WAP520</th>\n",
       "    </tr>\n",
       "  </thead>\n",
       "  <tbody>\n",
       "    <tr>\n",
       "      <td>0</td>\n",
       "      <td>0.0</td>\n",
       "      <td>0.0</td>\n",
       "      <td>0.0</td>\n",
       "      <td>0.0</td>\n",
       "      <td>0.0</td>\n",
       "      <td>0.0</td>\n",
       "      <td>0.0</td>\n",
       "      <td>0.0</td>\n",
       "      <td>0.0</td>\n",
       "      <td>0.0</td>\n",
       "      <td>...</td>\n",
       "      <td>0.0</td>\n",
       "      <td>0.0</td>\n",
       "      <td>0.0</td>\n",
       "      <td>0.0</td>\n",
       "      <td>0.0</td>\n",
       "      <td>0.0</td>\n",
       "      <td>0.0</td>\n",
       "      <td>0.0</td>\n",
       "      <td>0.0</td>\n",
       "      <td>0.0</td>\n",
       "    </tr>\n",
       "    <tr>\n",
       "      <td>1</td>\n",
       "      <td>0.0</td>\n",
       "      <td>0.0</td>\n",
       "      <td>0.0</td>\n",
       "      <td>0.0</td>\n",
       "      <td>0.0</td>\n",
       "      <td>0.0</td>\n",
       "      <td>0.0</td>\n",
       "      <td>0.0</td>\n",
       "      <td>0.0</td>\n",
       "      <td>0.0</td>\n",
       "      <td>...</td>\n",
       "      <td>0.0</td>\n",
       "      <td>0.0</td>\n",
       "      <td>0.0</td>\n",
       "      <td>0.0</td>\n",
       "      <td>0.0</td>\n",
       "      <td>0.0</td>\n",
       "      <td>0.0</td>\n",
       "      <td>0.0</td>\n",
       "      <td>0.0</td>\n",
       "      <td>0.0</td>\n",
       "    </tr>\n",
       "    <tr>\n",
       "      <td>2</td>\n",
       "      <td>0.0</td>\n",
       "      <td>0.0</td>\n",
       "      <td>0.0</td>\n",
       "      <td>0.0</td>\n",
       "      <td>0.0</td>\n",
       "      <td>0.0</td>\n",
       "      <td>0.0</td>\n",
       "      <td>0.0</td>\n",
       "      <td>0.0</td>\n",
       "      <td>0.0</td>\n",
       "      <td>...</td>\n",
       "      <td>0.0</td>\n",
       "      <td>0.0</td>\n",
       "      <td>0.0</td>\n",
       "      <td>0.0</td>\n",
       "      <td>0.0</td>\n",
       "      <td>0.0</td>\n",
       "      <td>0.0</td>\n",
       "      <td>0.0</td>\n",
       "      <td>0.0</td>\n",
       "      <td>0.0</td>\n",
       "    </tr>\n",
       "    <tr>\n",
       "      <td>3</td>\n",
       "      <td>0.0</td>\n",
       "      <td>0.0</td>\n",
       "      <td>0.0</td>\n",
       "      <td>0.0</td>\n",
       "      <td>0.0</td>\n",
       "      <td>0.0</td>\n",
       "      <td>0.0</td>\n",
       "      <td>0.0</td>\n",
       "      <td>0.0</td>\n",
       "      <td>0.0</td>\n",
       "      <td>...</td>\n",
       "      <td>0.0</td>\n",
       "      <td>0.0</td>\n",
       "      <td>0.0</td>\n",
       "      <td>0.0</td>\n",
       "      <td>0.0</td>\n",
       "      <td>0.0</td>\n",
       "      <td>0.0</td>\n",
       "      <td>0.0</td>\n",
       "      <td>0.0</td>\n",
       "      <td>0.0</td>\n",
       "    </tr>\n",
       "    <tr>\n",
       "      <td>4</td>\n",
       "      <td>0.0</td>\n",
       "      <td>0.0</td>\n",
       "      <td>0.0</td>\n",
       "      <td>0.0</td>\n",
       "      <td>0.0</td>\n",
       "      <td>0.0</td>\n",
       "      <td>0.0</td>\n",
       "      <td>0.0</td>\n",
       "      <td>0.0</td>\n",
       "      <td>0.0</td>\n",
       "      <td>...</td>\n",
       "      <td>0.0</td>\n",
       "      <td>0.0</td>\n",
       "      <td>0.0</td>\n",
       "      <td>0.0</td>\n",
       "      <td>0.0</td>\n",
       "      <td>0.0</td>\n",
       "      <td>0.0</td>\n",
       "      <td>0.0</td>\n",
       "      <td>0.0</td>\n",
       "      <td>0.0</td>\n",
       "    </tr>\n",
       "  </tbody>\n",
       "</table>\n",
       "<p>5 rows × 520 columns</p>\n",
       "</div>"
      ],
      "text/plain": [
       "   WAP001  WAP002  WAP003  WAP004  WAP005  WAP006  WAP007  WAP008  WAP009  \\\n",
       "0     0.0     0.0     0.0     0.0     0.0     0.0     0.0     0.0     0.0   \n",
       "1     0.0     0.0     0.0     0.0     0.0     0.0     0.0     0.0     0.0   \n",
       "2     0.0     0.0     0.0     0.0     0.0     0.0     0.0     0.0     0.0   \n",
       "3     0.0     0.0     0.0     0.0     0.0     0.0     0.0     0.0     0.0   \n",
       "4     0.0     0.0     0.0     0.0     0.0     0.0     0.0     0.0     0.0   \n",
       "\n",
       "   WAP010  ...  WAP511  WAP512  WAP513  WAP514  WAP515  WAP516  WAP517  \\\n",
       "0     0.0  ...     0.0     0.0     0.0     0.0     0.0     0.0     0.0   \n",
       "1     0.0  ...     0.0     0.0     0.0     0.0     0.0     0.0     0.0   \n",
       "2     0.0  ...     0.0     0.0     0.0     0.0     0.0     0.0     0.0   \n",
       "3     0.0  ...     0.0     0.0     0.0     0.0     0.0     0.0     0.0   \n",
       "4     0.0  ...     0.0     0.0     0.0     0.0     0.0     0.0     0.0   \n",
       "\n",
       "   WAP518  WAP519  WAP520  \n",
       "0     0.0     0.0     0.0  \n",
       "1     0.0     0.0     0.0  \n",
       "2     0.0     0.0     0.0  \n",
       "3     0.0     0.0     0.0  \n",
       "4     0.0     0.0     0.0  \n",
       "\n",
       "[5 rows x 520 columns]"
      ]
     },
     "execution_count": 81,
     "metadata": {},
     "output_type": "execute_result"
    }
   ],
   "source": [
    "val_features.head()"
   ]
  },
  {
   "cell_type": "code",
   "execution_count": 82,
   "metadata": {},
   "outputs": [],
   "source": [
    "val_dependent = validation[\"LONGITUDE\"]"
   ]
  },
  {
   "cell_type": "markdown",
   "metadata": {},
   "source": [
    "### Predicting 5NN"
   ]
  },
  {
   "cell_type": "code",
   "execution_count": 83,
   "metadata": {},
   "outputs": [],
   "source": [
    "prediction_5nn = model5NN.predict(val_features)"
   ]
  },
  {
   "cell_type": "code",
   "execution_count": 29,
   "metadata": {},
   "outputs": [
    {
     "data": {
      "text/plain": [
       "0.9952141724274285"
      ]
     },
     "execution_count": 29,
     "metadata": {},
     "output_type": "execute_result"
    }
   ],
   "source": [
    "model5NN.score(val_features, val_dependent)"
   ]
  },
  {
   "cell_type": "code",
   "execution_count": 100,
   "metadata": {},
   "outputs": [
    {
     "data": {
      "text/plain": [
       "5.24477539908919"
      ]
     },
     "execution_count": 100,
     "metadata": {},
     "output_type": "execute_result"
    }
   ],
   "source": [
    "mean_absolute_error(val_dependent, prediction_5nn)"
   ]
  },
  {
   "cell_type": "markdown",
   "metadata": {},
   "source": [
    "#### Plotting real LONGITUDE vs predicted LONGITUDE"
   ]
  },
  {
   "cell_type": "code",
   "execution_count": 84,
   "metadata": {},
   "outputs": [],
   "source": [
    "y1 = validation.LONGITUDE\n",
    "y2 = prediction_5nn"
   ]
  },
  {
   "cell_type": "code",
   "execution_count": 85,
   "metadata": {},
   "outputs": [
    {
     "data": {
      "text/plain": [
       "0   -7515.916799\n",
       "1   -7383.867221\n",
       "2   -7374.302080\n",
       "3   -7365.824883\n",
       "4   -7641.499303\n",
       "Name: LONGITUDE, dtype: float64"
      ]
     },
     "execution_count": 85,
     "metadata": {},
     "output_type": "execute_result"
    }
   ],
   "source": [
    "y1.head()"
   ]
  },
  {
   "cell_type": "code",
   "execution_count": 86,
   "metadata": {},
   "outputs": [],
   "source": [
    "y2 = pd.Series(prediction_5nn)"
   ]
  },
  {
   "cell_type": "code",
   "execution_count": 87,
   "metadata": {},
   "outputs": [
    {
     "data": {
      "text/plain": [
       "(1111,)"
      ]
     },
     "execution_count": 87,
     "metadata": {},
     "output_type": "execute_result"
    }
   ],
   "source": [
    "y2.shape"
   ]
  },
  {
   "cell_type": "code",
   "execution_count": 88,
   "metadata": {},
   "outputs": [
    {
     "data": {
      "text/plain": [
       "(1111,)"
      ]
     },
     "execution_count": 88,
     "metadata": {},
     "output_type": "execute_result"
    }
   ],
   "source": [
    "y1.shape"
   ]
  },
  {
   "cell_type": "code",
   "execution_count": 89,
   "metadata": {},
   "outputs": [
    {
     "data": {
      "text/plain": [
       "pandas.core.series.Series"
      ]
     },
     "execution_count": 89,
     "metadata": {},
     "output_type": "execute_result"
    }
   ],
   "source": [
    "type(y1)"
   ]
  },
  {
   "cell_type": "code",
   "execution_count": 90,
   "metadata": {},
   "outputs": [
    {
     "data": {
      "text/plain": [
       "pandas.core.series.Series"
      ]
     },
     "execution_count": 90,
     "metadata": {},
     "output_type": "execute_result"
    }
   ],
   "source": [
    "type(y2)"
   ]
  },
  {
   "cell_type": "code",
   "execution_count": 91,
   "metadata": {},
   "outputs": [
    {
     "data": {
      "text/plain": [
       "0   -7490.05486\n",
       "1   -7385.20748\n",
       "2   -7370.01070\n",
       "3   -7372.24446\n",
       "4   -7644.93706\n",
       "dtype: float64"
      ]
     },
     "execution_count": 91,
     "metadata": {},
     "output_type": "execute_result"
    }
   ],
   "source": [
    "y2.head()"
   ]
  },
  {
   "cell_type": "code",
   "execution_count": 92,
   "metadata": {},
   "outputs": [],
   "source": [
    "prediction_LONG = pd.concat([y1, y2], axis = 1)"
   ]
  },
  {
   "cell_type": "code",
   "execution_count": 93,
   "metadata": {},
   "outputs": [
    {
     "data": {
      "text/html": [
       "<div>\n",
       "<style scoped>\n",
       "    .dataframe tbody tr th:only-of-type {\n",
       "        vertical-align: middle;\n",
       "    }\n",
       "\n",
       "    .dataframe tbody tr th {\n",
       "        vertical-align: top;\n",
       "    }\n",
       "\n",
       "    .dataframe thead th {\n",
       "        text-align: right;\n",
       "    }\n",
       "</style>\n",
       "<table border=\"1\" class=\"dataframe\">\n",
       "  <thead>\n",
       "    <tr style=\"text-align: right;\">\n",
       "      <th></th>\n",
       "      <th>LONGITUDE</th>\n",
       "      <th>0</th>\n",
       "    </tr>\n",
       "  </thead>\n",
       "  <tbody>\n",
       "    <tr>\n",
       "      <td>1106</td>\n",
       "      <td>-7317.344231</td>\n",
       "      <td>-7314.276376</td>\n",
       "    </tr>\n",
       "    <tr>\n",
       "      <td>1107</td>\n",
       "      <td>-7313.731120</td>\n",
       "      <td>-7313.731120</td>\n",
       "    </tr>\n",
       "    <tr>\n",
       "      <td>1108</td>\n",
       "      <td>-7637.535798</td>\n",
       "      <td>-7638.727520</td>\n",
       "    </tr>\n",
       "    <tr>\n",
       "      <td>1109</td>\n",
       "      <td>-7636.654005</td>\n",
       "      <td>-7639.546840</td>\n",
       "    </tr>\n",
       "    <tr>\n",
       "      <td>1110</td>\n",
       "      <td>-7637.944120</td>\n",
       "      <td>-7638.906320</td>\n",
       "    </tr>\n",
       "  </tbody>\n",
       "</table>\n",
       "</div>"
      ],
      "text/plain": [
       "        LONGITUDE            0\n",
       "1106 -7317.344231 -7314.276376\n",
       "1107 -7313.731120 -7313.731120\n",
       "1108 -7637.535798 -7638.727520\n",
       "1109 -7636.654005 -7639.546840\n",
       "1110 -7637.944120 -7638.906320"
      ]
     },
     "execution_count": 93,
     "metadata": {},
     "output_type": "execute_result"
    }
   ],
   "source": [
    "prediction_LONG.tail()"
   ]
  },
  {
   "cell_type": "code",
   "execution_count": 94,
   "metadata": {},
   "outputs": [
    {
     "data": {
      "text/plain": [
       "pandas.core.frame.DataFrame"
      ]
     },
     "execution_count": 94,
     "metadata": {},
     "output_type": "execute_result"
    }
   ],
   "source": [
    "type(prediction_LONG)"
   ]
  },
  {
   "cell_type": "code",
   "execution_count": 95,
   "metadata": {},
   "outputs": [
    {
     "data": {
      "text/plain": [
       "LONGITUDE    float64\n",
       "0            float64\n",
       "dtype: object"
      ]
     },
     "execution_count": 95,
     "metadata": {},
     "output_type": "execute_result"
    }
   ],
   "source": [
    "prediction_LONG.dtypes"
   ]
  },
  {
   "cell_type": "code",
   "execution_count": 96,
   "metadata": {},
   "outputs": [],
   "source": [
    "prediction_LONG = prediction_LONG.rename(columns={0 : \"prediction\"}).sort_values(\"LONGITUDE\").reset_index()"
   ]
  },
  {
   "cell_type": "code",
   "execution_count": 97,
   "metadata": {},
   "outputs": [
    {
     "data": {
      "text/html": [
       "<div>\n",
       "<style scoped>\n",
       "    .dataframe tbody tr th:only-of-type {\n",
       "        vertical-align: middle;\n",
       "    }\n",
       "\n",
       "    .dataframe tbody tr th {\n",
       "        vertical-align: top;\n",
       "    }\n",
       "\n",
       "    .dataframe thead th {\n",
       "        text-align: right;\n",
       "    }\n",
       "</style>\n",
       "<table border=\"1\" class=\"dataframe\">\n",
       "  <thead>\n",
       "    <tr style=\"text-align: right;\">\n",
       "      <th></th>\n",
       "      <th>index</th>\n",
       "      <th>LONGITUDE</th>\n",
       "      <th>prediction</th>\n",
       "    </tr>\n",
       "  </thead>\n",
       "  <tbody>\n",
       "    <tr>\n",
       "      <td>0</td>\n",
       "      <td>422</td>\n",
       "      <td>-7695.938755</td>\n",
       "      <td>-7681.72488</td>\n",
       "    </tr>\n",
       "    <tr>\n",
       "      <td>1</td>\n",
       "      <td>416</td>\n",
       "      <td>-7695.931955</td>\n",
       "      <td>-7661.19456</td>\n",
       "    </tr>\n",
       "    <tr>\n",
       "      <td>2</td>\n",
       "      <td>589</td>\n",
       "      <td>-7692.256450</td>\n",
       "      <td>-7674.83018</td>\n",
       "    </tr>\n",
       "    <tr>\n",
       "      <td>3</td>\n",
       "      <td>665</td>\n",
       "      <td>-7691.740181</td>\n",
       "      <td>-7684.78208</td>\n",
       "    </tr>\n",
       "    <tr>\n",
       "      <td>4</td>\n",
       "      <td>61</td>\n",
       "      <td>-7691.109200</td>\n",
       "      <td>-7685.96518</td>\n",
       "    </tr>\n",
       "  </tbody>\n",
       "</table>\n",
       "</div>"
      ],
      "text/plain": [
       "   index    LONGITUDE  prediction\n",
       "0    422 -7695.938755 -7681.72488\n",
       "1    416 -7695.931955 -7661.19456\n",
       "2    589 -7692.256450 -7674.83018\n",
       "3    665 -7691.740181 -7684.78208\n",
       "4     61 -7691.109200 -7685.96518"
      ]
     },
     "execution_count": 97,
     "metadata": {},
     "output_type": "execute_result"
    }
   ],
   "source": [
    "prediction_LONG.head()"
   ]
  },
  {
   "cell_type": "code",
   "execution_count": 98,
   "metadata": {},
   "outputs": [
    {
     "data": {
      "application/vnd.plotly.v1+json": {
       "config": {
        "plotlyServerURL": "https://plot.ly"
       },
       "data": [
        {
         "hoverlabel": {
          "namelength": 0
         },
         "hovertemplate": "LONGITUDE=%{y}",
         "legendgroup": "",
         "marker": {
          "color": "#636efa",
          "symbol": "circle"
         },
         "mode": "markers",
         "name": "",
         "showlegend": false,
         "type": "scattergl",
         "xaxis": "x",
         "y": [
          -7695.938754929929,
          -7695.931954952317,
          -7692.256449733903,
          -7691.740181310099,
          -7691.109200000763,
          -7691.109200000763,
          -7690.703644445373,
          -7690.5008666676795,
          -7690.253860628972,
          -7689.89515880284,
          -7689.724259988694,
          -7689.599425883263,
          -7689.345990019694,
          -7689.284200001508,
          -7689.284200001508,
          -7689.269485301836,
          -7688.907602439012,
          -7688.833099806714,
          -7688.654502890877,
          -7688.355245821611,
          -7688.298000908349,
          -7687.776423070576,
          -7687.509244035695,
          -7685.814778262636,
          -7685.494600001723,
          -7685.156378726609,
          -7684.867957990277,
          -7684.479554307475,
          -7684.455307129579,
          -7684.281834362428,
          -7683.8696733227625,
          -7683.791140922814,
          -7682.894311110595,
          -7682.793649999425,
          -7682.539298166685,
          -7682.4556500022645,
          -7682.393381818113,
          -7682.361879520718,
          -7682.075590276514,
          -7681.730914568263,
          -7681.3461881763305,
          -7680.617859457254,
          -7680.015483977712,
          -7677.587316489657,
          -7677.549418674669,
          -7676.89365321925,
          -7676.753699999303,
          -7676.753699999303,
          -7676.753699999303,
          -7676.65703884553,
          -7676.617487958357,
          -7676.523280376039,
          -7676.41943999976,
          -7676.41943999976,
          -7675.6479215774425,
          -7675.643697991419,
          -7675.552088155443,
          -7675.320933332873,
          -7675.199307075222,
          -7675.146413620939,
          -7674.8219954399865,
          -7674.785282855772,
          -7674.583597540925,
          -7674.264339827897,
          -7673.913438812227,
          -7673.829934833489,
          -7673.740908514747,
          -7673.435291772967,
          -7669.772416157065,
          -7669.357900001109,
          -7669.029523194881,
          -7667.543800000101,
          -7667.0461950192675,
          -7666.248085539786,
          -7666.1810036649085,
          -7665.654014874747,
          -7665.650228023077,
          -7664.73931399603,
          -7664.417651133022,
          -7664.313643147163,
          -7663.169900634743,
          -7662.447200000284,
          -7662.447200000284,
          -7662.306618734784,
          -7662.306421416842,
          -7661.930788167413,
          -7661.863200001419,
          -7661.858395682381,
          -7661.830973262648,
          -7661.817193896792,
          -7661.603514287089,
          -7661.394255940811,
          -7661.2572666679835,
          -7661.136080001293,
          -7661.086697925143,
          -7661.067514217153,
          -7660.742554721545,
          -7660.281594425829,
          -7660.045400001109,
          -7659.833353478085,
          -7658.42627815351,
          -7656.996781229636,
          -7656.916209502424,
          -7656.475560551486,
          -7655.810199998319,
          -7653.579219780396,
          -7653.343301445247,
          -7653.343301445247,
          -7653.343301445247,
          -7653.343301445247,
          -7653.343301445247,
          -7653.343301445247,
          -7653.343301445247,
          -7653.343301445247,
          -7653.343301445247,
          -7652.241956907715,
          -7652.152865217898,
          -7652.113968421102,
          -7651.99609019241,
          -7651.834374694666,
          -7651.415232315966,
          -7650.255975912342,
          -7649.33920000121,
          -7648.116999998689,
          -7647.7909960721,
          -7647.731499999762,
          -7647.682389107399,
          -7647.469238737493,
          -7646.733500000089,
          -7646.733500000089,
          -7646.699900001286,
          -7646.699900001286,
          -7646.636442218104,
          -7646.576089675892,
          -7646.343658901743,
          -7646.314496976974,
          -7646.285566628259,
          -7646.261864931222,
          -7646.180500000715,
          -7645.8595142795875,
          -7645.732442823271,
          -7645.6607876575035,
          -7645.610077130521,
          -7645.559099998325,
          -7645.558400001377,
          -7645.191225015415,
          -7645.025672374883,
          -7644.960177570336,
          -7644.893836905537,
          -7644.886068185171,
          -7644.84284956768,
          -7644.777622354411,
          -7644.746509637885,
          -7644.713262862313,
          -7644.4953666677075,
          -7644.365146112375,
          -7644.3038466897315,
          -7644.278508366051,
          -7644.18918638034,
          -7644.01243109285,
          -7643.833099527749,
          -7643.817662790669,
          -7643.697516999352,
          -7643.3229841197035,
          -7643.289777269159,
          -7643.187400165219,
          -7643.130242482538,
          -7643.000199999659,
          -7642.797866873924,
          -7642.764985533359,
          -7642.673226161187,
          -7642.662599999458,
          -7642.56660208688,
          -7642.552822222519,
          -7642.334043094544,
          -7642.314570450088,
          -7642.3063612678325,
          -7642.246561081509,
          -7642.223135551008,
          -7642.199498868656,
          -7642.146887548528,
          -7642.104230343446,
          -7641.965138072635,
          -7641.960914762188,
          -7641.8535730876065,
          -7641.805496029359,
          -7641.787153982655,
          -7641.774127200158,
          -7641.7636168052295,
          -7641.741721473628,
          -7641.725299999118,
          -7641.687096105292,
          -7641.6803999990225,
          -7641.6803999990225,
          -7641.599247100243,
          -7641.563092752373,
          -7641.559583115063,
          -7641.499303368108,
          -7641.446142856564,
          -7641.380978970188,
          -7641.35243999958,
          -7641.3450818254905,
          -7641.315999999642,
          -7641.268708649845,
          -7641.233381913672,
          -7641.187289714304,
          -7641.133799999952,
          -7641.033972696655,
          -7641.010339187401,
          -7640.9261499987915,
          -7640.92504870708,
          -7640.842587442076,
          -7640.716593602393,
          -7640.669510230892,
          -7640.5713064885485,
          -7640.5182744042,
          -7640.431466392934,
          -7640.416866630529,
          -7640.311449518238,
          -7640.181925952572,
          -7640.151466657513,
          -7640.094799999148,
          -7640.030671486139,
          -7640.016521320022,
          -7639.759229676641,
          -7639.75088308967,
          -7639.7358565852355,
          -7639.649241476663,
          -7639.5989999994645,
          -7639.5989999994645,
          -7639.594869953629,
          -7639.553123746436,
          -7639.476597227735,
          -7639.445598710654,
          -7639.4004946544055,
          -7639.345315501557,
          -7639.345078123829,
          -7639.282102513454,
          -7639.239146557478,
          -7639.205498620804,
          -7639.186566410442,
          -7639.169579231336,
          -7639.166702848139,
          -7639.161576096406,
          -7639.109632882691,
          -7638.939476941779,
          -7638.915550823144,
          -7638.910299999018,
          -7638.856276810215,
          -7638.818726054509,
          -7638.768011149544,
          -7638.6821104960145,
          -7638.637716568229,
          -7638.5746633789295,
          -7638.286777193522,
          -7638.193799998611,
          -7638.178664941463,
          -7638.1730634137475,
          -7638.033510939613,
          -7638.022660439881,
          -7638.01890505048,
          -7637.944119998812,
          -7637.922800000757,
          -7637.922800000757,
          -7637.922588111237,
          -7637.78295181145,
          -7637.725548641118,
          -7637.704833570846,
          -7637.642129593824,
          -7637.63500148025,
          -7637.633104535363,
          -7637.5853004425235,
          -7637.577038416049,
          -7637.557442799341,
          -7637.55456227177,
          -7637.535798160029,
          -7637.520333808902,
          -7637.423799999056,
          -7637.423799999056,
          -7637.423799999056,
          -7637.423799999056,
          -7637.418826227426,
          -7637.4020340768175,
          -7637.311943823879,
          -7637.187733334798,
          -7637.183464618143,
          -7637.1813778647265,
          -7637.13640000139,
          -7637.100392496527,
          -7637.083443955691,
          -7637.071555312629,
          -7637.021409585619,
          -7637.009211240366,
          -7637.001561150843,
          -7636.958372063719,
          -7636.895626662628,
          -7636.894637501333,
          -7636.882219276674,
          -7636.857206490324,
          -7636.82840000093,
          -7636.820696448656,
          -7636.78198395717,
          -7636.6773482751505,
          -7636.654005052915,
          -7636.582831075982,
          -7636.553816009117,
          -7636.553698368117,
          -7636.531330172304,
          -7636.438745559319,
          -7636.400181627991,
          -7636.398131450962,
          -7636.39292173685,
          -7636.0813335230005,
          -7636.081282111812,
          -7636.040199998766,
          -7636.033333751058,
          -7635.627941694752,
          -7635.382885713662,
          -7635.339141358791,
          -7635.2217999994755,
          -7635.195180851523,
          -7635.169694013809,
          -7635.065854634991,
          -7634.914990073462,
          -7634.833296193271,
          -7634.759267468504,
          -7634.726194945384,
          -7634.54482007356,
          -7634.494454552613,
          -7634.475921406697,
          -7634.408182257251,
          -7634.406271164592,
          -7634.2296001664745,
          -7634.211465844939,
          -7634.155202303148,
          -7634.1447798421095,
          -7634.106117499488,
          -7634.0264203256775,
          -7633.894600000232,
          -7633.874600000678,
          -7633.874600000678,
          -7633.874600000678,
          -7633.874600000678,
          -7633.802238650173,
          -7633.634940480954,
          -7633.54917987814,
          -7633.45898608972,
          -7633.427577396892,
          -7633.347579696844,
          -7633.244284231332,
          -7633.232864105415,
          -7633.1259272725065,
          -7633.1187358818825,
          -7632.979075922599,
          -7632.974395187668,
          -7632.9672038631825,
          -7632.917926715208,
          -7632.834499999882,
          -7632.834499999882,
          -7632.834499999882,
          -7632.834499999882,
          -7632.834399998189,
          -7632.777600001544,
          -7632.7292540937015,
          -7632.5285325687255,
          -7632.481102396057,
          -7632.416805270464,
          -7632.378879626895,
          -7632.282603512898,
          -7632.2586999982595,
          -7632.2586999982595,
          -7632.1884581283775,
          -7632.108204304523,
          -7632.069805293269,
          -7631.911033387334,
          -7631.768406853054,
          -7631.7445274074635,
          -7631.671398190359,
          -7631.590797885047,
          -7631.480929608824,
          -7631.104188775795,
          -7631.058458810804,
          -7630.855576359786,
          -7630.37149396651,
          -7630.07808084597,
          -7629.573514667455,
          -7628.522900736575,
          -7628.391508411526,
          -7628.038556673609,
          -7627.531166200086,
          -7626.970294948404,
          -7621.81523590075,
          -7621.722562803074,
          -7621.667416209417,
          -7621.351189759993,
          -7619.012816854327,
          -7618.987409900411,
          -7618.71421039816,
          -7618.486732351464,
          -7618.420081505938,
          -7618.415899999441,
          -7618.0971127551575,
          -7618.087354940982,
          -7617.699243328004,
          -7616.97829999961,
          -7616.948850388485,
          -7616.89829421054,
          -7616.891914166611,
          -7616.854985128832,
          -7616.798543023435,
          -7616.700438645403,
          -7616.645292489777,
          -7616.641075820367,
          -7616.572262020362,
          -7616.538604847725,
          -7616.359925877942,
          -7616.302438910324,
          -7616.200419176741,
          -7616.128433470197,
          -7616.099599998443,
          -7616.099599998443,
          -7615.9544971644555,
          -7615.527718182751,
          -7615.037843382428,
          -7613.9581910840225,
          -7611.483683102622,
          -7611.30760181269,
          -7611.2480102360705,
          -7611.196229663149,
          -7610.8997999988505,
          -7610.8997999988505,
          -7610.847664929771,
          -7610.512136383857,
          -7610.509399998933,
          -7609.725675000342,
          -7609.362763637166,
          -7609.254574267566,
          -7609.209370158644,
          -7609.1668138284485,
          -7609.152702315091,
          -7609.072139018979,
          -7609.021200001242,
          -7609.021200001242,
          -7609.021200001242,
          -7608.834281650502,
          -7607.076600000262,
          -7605.384652840472,
          -7605.248300001025,
          -7605.1441607820325,
          -7604.881661400512,
          -7604.707519509874,
          -7604.554351961245,
          -7603.833050605849,
          -7603.774164535382,
          -7603.7603021980285,
          -7603.584815539185,
          -7603.335900001228,
          -7603.335900001228,
          -7603.134732174788,
          -7603.103500000201,
          -7603.094379913346,
          -7603.0212026458985,
          -7602.978780438709,
          -7602.945293648199,
          -7602.9328742069865,
          -7602.889080000667,
          -7602.8439640950255,
          -7602.7870238361475,
          -7602.677417979874,
          -7601.6940757922375,
          -7601.5887339273795,
          -7601.3869999982435,
          -7601.3869999982435,
          -7601.1522262700655,
          -7600.791219984823,
          -7600.121737446621,
          -7597.501729793644,
          -7597.3261627309375,
          -7596.9070316276975,
          -7596.727231275496,
          -7596.677064354325,
          -7596.474079346869,
          -7596.378345234551,
          -7595.9739999994645,
          -7595.9739999994645,
          -7595.9452289535975,
          -7595.539200640763,
          -7595.485297560111,
          -7595.180759487032,
          -7594.8471000008285,
          -7594.5784374992345,
          -7594.524293113694,
          -7594.3924630044385,
          -7594.265541225492,
          -7594.170226581782,
          -7594.1251444431655,
          -7594.105457201049,
          -7594.034899998456,
          -7594.034899998456,
          -7594.034899998456,
          -7594.01834609583,
          -7593.9219174451855,
          -7593.602364540168,
          -7593.080184651676,
          -7592.953184653679,
          -7592.867184656054,
          -7592.5732710097745,
          -7592.562300000341,
          -7592.234935296062,
          -7592.164003069832,
          -7592.149517155675,
          -7592.090242046203,
          -7592.050954342571,
          -7591.876343050036,
          -7590.076329442959,
          -7589.661824304588,
          -7589.367524770076,
          -7589.17943744184,
          -7589.066216434082,
          -7588.941392697304,
          -7588.600915043993,
          -7588.433236261526,
          -7588.031571666017,
          -7587.86576666683,
          -7587.800430000201,
          -7587.788900000208,
          -7587.539083333687,
          -7587.43597205984,
          -7587.212400000542,
          -7587.1901736464515,
          -7587.135331101083,
          -7586.94481643335,
          -7586.943686097959,
          -7586.757339517697,
          -7586.491921552958,
          -7585.389976224599,
          -7571.618299998344,
          -7571.112365934228,
          -7570.555293005406,
          -7570.069794212661,
          -7569.852786891927,
          -7569.47773984335,
          -7568.985890470764,
          -7568.7427071457705,
          -7568.737138064865,
          -7567.1748089135635,
          -7565.108510155203,
          -7563.288365230448,
          -7562.745988283166,
          -7562.7170999981445,
          -7562.7170999981445,
          -7562.626887461309,
          -7562.071363164248,
          -7560.599636938112,
          -7560.376400001346,
          -7560.376299999654,
          -7559.755181129351,
          -7559.678073717381,
          -7559.669459744178,
          -7559.659568883084,
          -7559.588993597061,
          -7559.475875814883,
          -7558.859013839282,
          -7557.681318827978,
          -7557.615859403625,
          -7555.68347849491,
          -7555.557679144395,
          -7555.422550381384,
          -7554.897451104533,
          -7554.781968196429,
          -7553.960000000893,
          -7551.117335829494,
          -7545.863604722733,
          -7543.960387002566,
          -7543.7692461772485,
          -7541.982900001109,
          -7541.533239097404,
          -7541.141068198883,
          -7540.467679453479,
          -7540.206369008663,
          -7539.960816837991,
          -7539.1092125820105,
          -7538.918078753119,
          -7538.841261577577,
          -7538.567995184422,
          -7537.852669864206,
          -7537.578472479409,
          -7537.45423347244,
          -7537.110861589088,
          -7537.024899770331,
          -7536.826600000262,
          -7536.820310922278,
          -7536.731668054587,
          -7536.45222842588,
          -7536.092913756452,
          -7535.763000000268,
          -7535.763000000268,
          -7535.763000000268,
          -7535.763000000268,
          -7535.209515403956,
          -7535.1590698659975,
          -7534.868645769628,
          -7534.43217116002,
          -7533.882036870306,
          -7533.657621146125,
          -7533.432100001723,
          -7533.086327375368,
          -7530.818236876223,
          -7530.756500470333,
          -7530.676287159453,
          -7530.497509861851,
          -7530.37519690338,
          -7530.048346090224,
          -7528.608068633825,
          -7528.231764735641,
          -7526.790756547549,
          -7526.747516114764,
          -7526.6018355951355,
          -7526.3016578073075,
          -7526.245871419531,
          -7526.144709164989,
          -7525.818129986525,
          -7525.570691577632,
          -7525.3140982864,
          -7525.179445511755,
          -7524.709499999882,
          -7524.486762481272,
          -7524.341239839973,
          -7524.1088000014415,
          -7523.820147866238,
          -7523.7790129288305,
          -7523.198608651502,
          -7522.974166686505,
          -7522.9659893672315,
          -7522.859608603659,
          -7522.347115323991,
          -7521.969221539965,
          -7521.829906172597,
          -7521.608766524695,
          -7521.063506393428,
          -7520.750472798942,
          -7519.672803782073,
          -7519.585929014242,
          -7519.366759120611,
          -7518.690335069141,
          -7517.585799999535,
          -7517.585799999535,
          -7517.585799999535,
          -7516.988017306853,
          -7516.795159180553,
          -7516.7214044467,
          -7516.657719003578,
          -7516.488574058096,
          -7516.442265305174,
          -7516.413621235639,
          -7516.243748025889,
          -7516.166253165391,
          -7515.946557591867,
          -7515.916799399858,
          -7514.572369373022,
          -7513.782243633001,
          -7513.38268906325,
          -7513.104490716009,
          -7512.888872572893,
          -7512.638834284745,
          -7512.63280000165,
          -7512.593647911313,
          -7512.591427729558,
          -7512.539079229937,
          -7512.31796745377,
          -7511.736699998379,
          -7511.46810242698,
          -7510.766136903991,
          -7510.211205821484,
          -7510.211205821484,
          -7509.805454559653,
          -7508.003342895347,
          -7507.826979868089,
          -7507.670600000769,
          -7507.640599999577,
          -7507.291461114012,
          -7506.96953939477,
          -7506.96953939477,
          -7506.844350000843,
          -7506.834382981095,
          -7506.762699998915,
          -7506.073256182617,
          -7505.951038477613,
          -7505.877578996672,
          -7505.670722600563,
          -7505.615952718015,
          -7505.090623468643,
          -7504.397316419842,
          -7504.153499998152,
          -7504.021799831146,
          -7503.868590694269,
          -7503.835681478446,
          -7503.815444673117,
          -7503.492802418426,
          -7502.891317360459,
          -7502.632044688822,
          -7502.285158204298,
          -7502.206913101003,
          -7502.170424445466,
          -7501.7450825006545,
          -7501.357952542378,
          -7501.276003041326,
          -7500.998802696078,
          -7500.996693142145,
          -7500.891911364528,
          -7500.638202732991,
          -7499.377574073214,
          -7499.0632321689445,
          -7498.697363540885,
          -7498.577445475569,
          -7498.3426440964295,
          -7498.058071977189,
          -7497.755715158189,
          -7497.42807644004,
          -7497.026701602182,
          -7496.28180468907,
          -7495.664690177126,
          -7493.380350023599,
          -7492.046013872357,
          -7491.030633945018,
          -7488.921540649916,
          -7488.809000000358,
          -7484.8092417859925,
          -7482.157780195719,
          -7479.755600001663,
          -7479.755600001663,
          -7479.546546123745,
          -7478.179274505509,
          -7476.421569465564,
          -7476.283341172662,
          -7474.0380025282275,
          -7473.791198919826,
          -7472.278562326324,
          -7470.7121142965125,
          -7470.425400000066,
          -7469.372002924068,
          -7469.0327878860035,
          -7468.448112149078,
          -7466.934550177129,
          -7466.25206682841,
          -7461.284156751681,
          -7460.997499998659,
          -7460.602512051023,
          -7460.452553208955,
          -7460.286494345822,
          -7460.0372159525305,
          -7459.939455551292,
          -7459.73507910675,
          -7459.3324654505295,
          -7458.876295280046,
          -7458.844099998474,
          -7458.726599998772,
          -7458.726599998772,
          -7458.604499999434,
          -7458.346797777967,
          -7457.360650304054,
          -7456.71521028611,
          -7456.649500001222,
          -7456.38929338787,
          -7456.065033372026,
          -7456.021041989412,
          -7455.725834169706,
          -7454.607591598517,
          -7453.854089940272,
          -7453.812380220071,
          -7452.844588022715,
          -7452.5660365302465,
          -7452.177097026673,
          -7438.840164787475,
          -7438.788897284359,
          -7437.605307669639,
          -7437.5567577981665,
          -7436.896273802904,
          -7436.557598417916,
          -7436.533420393472,
          -7436.432202518687,
          -7435.974289788048,
          -7435.5183999985475,
          -7435.388334590422,
          -7435.346001970688,
          -7435.22594210535,
          -7434.970466633446,
          -7434.92831523342,
          -7434.736391970779,
          -7434.589285367285,
          -7434.531183496972,
          -7434.353100001811,
          -7434.353100001811,
          -7434.31049999967,
          -7434.276577289368,
          -7434.238600000738,
          -7434.204065745388,
          -7433.105975041396,
          -7432.755048162937,
          -7432.684433077416,
          -7432.02851100418,
          -7431.713899999857,
          -7430.116568842802,
          -7429.966117950253,
          -7429.609017984399,
          -7427.0744790509325,
          -7425.0347873894825,
          -7425.011610020214,
          -7424.905383463056,
          -7424.833564803986,
          -7424.812344465407,
          -7424.812344465407,
          -7424.812344465407,
          -7424.5910807069495,
          -7424.398503460131,
          -7424.093176847243,
          -7423.8977483286035,
          -7423.656973913433,
          -7423.1761999987075,
          -7423.1761999987075,
          -7423.0968442776575,
          -7423.075599998236,
          -7422.813371034594,
          -7422.6833697641005,
          -7422.552545754045,
          -7422.468920119258,
          -7422.280900001526,
          -7422.280900001526,
          -7422.280900001526,
          -7422.109600000083,
          -7421.486098892208,
          -7420.7689261554015,
          -7420.652982427277,
          -7420.426334573697,
          -7420.1215808087245,
          -7419.868279336198,
          -7419.78586577173,
          -7419.687381487943,
          -7419.3227154040005,
          -7418.379865920637,
          -7418.115146545631,
          -7417.555128839069,
          -7416.797699999062,
          -7414.4502833342785,
          -7413.9408429863415,
          -7411.0939933933,
          -7410.584705855866,
          -7409.611999999732,
          -7408.720099650108,
          -7408.192551686271,
          -7407.6273027373145,
          -7407.384202505495,
          -7407.248439790176,
          -7406.62981814902,
          -7406.337999493077,
          -7406.178665990164,
          -7406.098421883294,
          -7405.956991638471,
          -7405.881999999285,
          -7405.372539550391,
          -7405.1945348285635,
          -7405.1024000011375,
          -7404.897642281614,
          -7404.542141982065,
          -7404.477984488638,
          -7404.384356845472,
          -7402.404284370662,
          -7401.584287877059,
          -7399.784893956021,
          -7399.231623873045,
          -7398.587628572115,
          -7398.396905991821,
          -7397.56092565415,
          -7397.033907008754,
          -7396.89062958991,
          -7396.549482593195,
          -7394.601053248651,
          -7394.519672667868,
          -7394.415547616139,
          -7394.2263701461125,
          -7393.85430226658,
          -7393.435149921725,
          -7391.01192857059,
          -7390.581250262172,
          -7390.054495093123,
          -7389.454517136691,
          -7389.226916960269,
          -7386.7525999993095,
          -7386.605974067408,
          -7386.221972295705,
          -7385.87153571578,
          -7385.799964943388,
          -7385.478494210823,
          -7385.400800000876,
          -7385.400800000876,
          -7385.198520906876,
          -7384.964072566054,
          -7384.384599998592,
          -7384.384599998592,
          -7384.233505771906,
          -7383.867220982212,
          -7383.6993921659305,
          -7383.342698935756,
          -7383.328817266838,
          -7383.035103264628,
          -7382.330366183575,
          -7382.117425664686,
          -7382.056376086582,
          -7381.959920241307,
          -7381.842482693231,
          -7381.649541666421,
          -7381.325965382171,
          -7380.513799998907,
          -7379.351682676892,
          -7378.032321294031,
          -7377.9131434493165,
          -7377.529050483299,
          -7377.087643060229,
          -7377.067904715629,
          -7377.023840085312,
          -7376.931626411905,
          -7376.803530225771,
          -7376.419615953481,
          -7375.877500001341,
          -7375.877500001341,
          -7375.086537200927,
          -7374.888738568872,
          -7374.504199998963,
          -7374.366807154717,
          -7374.308033332229,
          -7374.302079940629,
          -7374.285158536455,
          -7374.254087498877,
          -7373.242687185409,
          -7372.830904042898,
          -7372.664041475764,
          -7372.609778027627,
          -7371.898460000753,
          -7371.480203799097,
          -7370.427219998835,
          -7370.308062256579,
          -7367.749533335057,
          -7367.665604089931,
          -7366.634500000626,
          -7366.096027965808,
          -7366.0852786761425,
          -7365.824882550541,
          -7365.170680462736,
          -7365.076819810491,
          -7364.492817573538,
          -7364.015689999609,
          -7362.995453639043,
          -7360.754057143948,
          -7360.695033334817,
          -7360.6561600014575,
          -7360.2352367268395,
          -7359.5028015520265,
          -7359.349039310367,
          -7358.774700000135,
          -7358.7456048446375,
          -7358.673269750768,
          -7358.516829515868,
          -7358.485367071776,
          -7358.450451301361,
          -7358.379579473465,
          -7358.269885001644,
          -7357.531252906464,
          -7357.391503569515,
          -7357.34156637367,
          -7356.4778156069,
          -7355.990396278593,
          -7354.863583032899,
          -7354.691889338229,
          -7353.771757142354,
          -7353.241445766771,
          -7352.424523455641,
          -7352.2351659727665,
          -7352.06417808977,
          -7351.981125298886,
          -7351.539522335258,
          -7351.046286474268,
          -7350.009644098643,
          -7348.607443805793,
          -7347.220669044234,
          -7346.611345959206,
          -7346.330589261966,
          -7346.297875611987,
          -7345.87224664235,
          -7345.803899999708,
          -7345.671723186018,
          -7345.639826238431,
          -7345.591416272658,
          -7345.565795183947,
          -7345.316954613952,
          -7345.249364511099,
          -7345.2284819713705,
          -7345.0851699093055,
          -7344.182656829503,
          -7343.206695387632,
          -7342.972399998456,
          -7342.736770755633,
          -7342.7090895645215,
          -7342.596549391886,
          -7341.347340481623,
          -7341.247568426404,
          -7340.558777131093,
          -7340.519103401064,
          -7340.466578977114,
          -7339.547341287987,
          -7339.168003155733,
          -7339.123771427998,
          -7339.088376952875,
          -7338.807210418774,
          -7338.793340000509,
          -7338.4888333330555,
          -7338.4888333330555,
          -7338.451890542135,
          -7338.20283280169,
          -7337.999906722742,
          -7337.790119149856,
          -7337.775408467097,
          -7337.118525250426,
          -7336.6486916792455,
          -7335.906199999154,
          -7333.795755361259,
          -7332.1342594739845,
          -7331.900097351846,
          -7331.788546637271,
          -7331.1790000014025,
          -7331.1790000014025,
          -7331.1790000014025,
          -7331.100099999458,
          -7330.881523851488,
          -7329.7303613974045,
          -7329.030799999833,
          -7327.957397525542,
          -7327.404995579134,
          -7327.346846005691,
          -7327.0109317232545,
          -7325.815571195094,
          -7325.696196629609,
          -7325.688299349291,
          -7325.190744341132,
          -7324.758898928099,
          -7324.374750176221,
          -7324.144263157842,
          -7323.8266838243335,
          -7323.6579032276,
          -7323.251427945623,
          -7323.175950052059,
          -7322.953825041805,
          -7322.241599999366,
          -7321.582096425758,
          -7320.66059014783,
          -7319.549444900602,
          -7318.7835859091065,
          -7318.456186552751,
          -7318.440245424106,
          -7317.550498728719,
          -7317.394699687798,
          -7317.344231077765,
          -7317.2944102390775,
          -7317.227899998426,
          -7316.945209823189,
          -7316.90971591283,
          -7316.9016541943165,
          -7316.672522646042,
          -7316.472082156773,
          -7316.348103694842,
          -7315.698916212307,
          -7315.681215936685,
          -7315.559750000015,
          -7315.552884615385,
          -7315.541899999976,
          -7315.47049999982,
          -7315.291999999434,
          -7315.283556228315,
          -7315.080544204484,
          -7314.968294913922,
          -7314.611699998379,
          -7314.001354584349,
          -7313.808492191816,
          -7313.731119778006,
          -7313.549886666487,
          -7313.201409156708,
          -7313.080254957027,
          -7312.914295886737,
          -7312.7029922491,
          -7312.58323821798,
          -7312.349133914621,
          -7312.024867863103,
          -7311.872768004977,
          -7311.4756875463745,
          -7311.438734866148,
          -7310.512057110302,
          -7310.4241694986185,
          -7310.299179000072,
          -7309.62392746803,
          -7309.324009812239,
          -7309.219399999825,
          -7309.219399999825,
          -7309.219399999825,
          -7309.219399999825,
          -7309.219399999825,
          -7309.219399999825,
          -7309.219399999825,
          -7309.219399999825,
          -7309.219399999825,
          -7309.219399999825,
          -7303.794295821339,
          -7299.786516730872
         ],
         "yaxis": "y"
        }
       ],
       "layout": {
        "legend": {
         "tracegroupgap": 0
        },
        "margin": {
         "t": 60
        },
        "template": {
         "data": {
          "bar": [
           {
            "error_x": {
             "color": "#2a3f5f"
            },
            "error_y": {
             "color": "#2a3f5f"
            },
            "marker": {
             "line": {
              "color": "#E5ECF6",
              "width": 0.5
             }
            },
            "type": "bar"
           }
          ],
          "barpolar": [
           {
            "marker": {
             "line": {
              "color": "#E5ECF6",
              "width": 0.5
             }
            },
            "type": "barpolar"
           }
          ],
          "carpet": [
           {
            "aaxis": {
             "endlinecolor": "#2a3f5f",
             "gridcolor": "white",
             "linecolor": "white",
             "minorgridcolor": "white",
             "startlinecolor": "#2a3f5f"
            },
            "baxis": {
             "endlinecolor": "#2a3f5f",
             "gridcolor": "white",
             "linecolor": "white",
             "minorgridcolor": "white",
             "startlinecolor": "#2a3f5f"
            },
            "type": "carpet"
           }
          ],
          "choropleth": [
           {
            "colorbar": {
             "outlinewidth": 0,
             "ticks": ""
            },
            "type": "choropleth"
           }
          ],
          "contour": [
           {
            "colorbar": {
             "outlinewidth": 0,
             "ticks": ""
            },
            "colorscale": [
             [
              0,
              "#0d0887"
             ],
             [
              0.1111111111111111,
              "#46039f"
             ],
             [
              0.2222222222222222,
              "#7201a8"
             ],
             [
              0.3333333333333333,
              "#9c179e"
             ],
             [
              0.4444444444444444,
              "#bd3786"
             ],
             [
              0.5555555555555556,
              "#d8576b"
             ],
             [
              0.6666666666666666,
              "#ed7953"
             ],
             [
              0.7777777777777778,
              "#fb9f3a"
             ],
             [
              0.8888888888888888,
              "#fdca26"
             ],
             [
              1,
              "#f0f921"
             ]
            ],
            "type": "contour"
           }
          ],
          "contourcarpet": [
           {
            "colorbar": {
             "outlinewidth": 0,
             "ticks": ""
            },
            "type": "contourcarpet"
           }
          ],
          "heatmap": [
           {
            "colorbar": {
             "outlinewidth": 0,
             "ticks": ""
            },
            "colorscale": [
             [
              0,
              "#0d0887"
             ],
             [
              0.1111111111111111,
              "#46039f"
             ],
             [
              0.2222222222222222,
              "#7201a8"
             ],
             [
              0.3333333333333333,
              "#9c179e"
             ],
             [
              0.4444444444444444,
              "#bd3786"
             ],
             [
              0.5555555555555556,
              "#d8576b"
             ],
             [
              0.6666666666666666,
              "#ed7953"
             ],
             [
              0.7777777777777778,
              "#fb9f3a"
             ],
             [
              0.8888888888888888,
              "#fdca26"
             ],
             [
              1,
              "#f0f921"
             ]
            ],
            "type": "heatmap"
           }
          ],
          "heatmapgl": [
           {
            "colorbar": {
             "outlinewidth": 0,
             "ticks": ""
            },
            "colorscale": [
             [
              0,
              "#0d0887"
             ],
             [
              0.1111111111111111,
              "#46039f"
             ],
             [
              0.2222222222222222,
              "#7201a8"
             ],
             [
              0.3333333333333333,
              "#9c179e"
             ],
             [
              0.4444444444444444,
              "#bd3786"
             ],
             [
              0.5555555555555556,
              "#d8576b"
             ],
             [
              0.6666666666666666,
              "#ed7953"
             ],
             [
              0.7777777777777778,
              "#fb9f3a"
             ],
             [
              0.8888888888888888,
              "#fdca26"
             ],
             [
              1,
              "#f0f921"
             ]
            ],
            "type": "heatmapgl"
           }
          ],
          "histogram": [
           {
            "marker": {
             "colorbar": {
              "outlinewidth": 0,
              "ticks": ""
             }
            },
            "type": "histogram"
           }
          ],
          "histogram2d": [
           {
            "colorbar": {
             "outlinewidth": 0,
             "ticks": ""
            },
            "colorscale": [
             [
              0,
              "#0d0887"
             ],
             [
              0.1111111111111111,
              "#46039f"
             ],
             [
              0.2222222222222222,
              "#7201a8"
             ],
             [
              0.3333333333333333,
              "#9c179e"
             ],
             [
              0.4444444444444444,
              "#bd3786"
             ],
             [
              0.5555555555555556,
              "#d8576b"
             ],
             [
              0.6666666666666666,
              "#ed7953"
             ],
             [
              0.7777777777777778,
              "#fb9f3a"
             ],
             [
              0.8888888888888888,
              "#fdca26"
             ],
             [
              1,
              "#f0f921"
             ]
            ],
            "type": "histogram2d"
           }
          ],
          "histogram2dcontour": [
           {
            "colorbar": {
             "outlinewidth": 0,
             "ticks": ""
            },
            "colorscale": [
             [
              0,
              "#0d0887"
             ],
             [
              0.1111111111111111,
              "#46039f"
             ],
             [
              0.2222222222222222,
              "#7201a8"
             ],
             [
              0.3333333333333333,
              "#9c179e"
             ],
             [
              0.4444444444444444,
              "#bd3786"
             ],
             [
              0.5555555555555556,
              "#d8576b"
             ],
             [
              0.6666666666666666,
              "#ed7953"
             ],
             [
              0.7777777777777778,
              "#fb9f3a"
             ],
             [
              0.8888888888888888,
              "#fdca26"
             ],
             [
              1,
              "#f0f921"
             ]
            ],
            "type": "histogram2dcontour"
           }
          ],
          "mesh3d": [
           {
            "colorbar": {
             "outlinewidth": 0,
             "ticks": ""
            },
            "type": "mesh3d"
           }
          ],
          "parcoords": [
           {
            "line": {
             "colorbar": {
              "outlinewidth": 0,
              "ticks": ""
             }
            },
            "type": "parcoords"
           }
          ],
          "pie": [
           {
            "automargin": true,
            "type": "pie"
           }
          ],
          "scatter": [
           {
            "marker": {
             "colorbar": {
              "outlinewidth": 0,
              "ticks": ""
             }
            },
            "type": "scatter"
           }
          ],
          "scatter3d": [
           {
            "line": {
             "colorbar": {
              "outlinewidth": 0,
              "ticks": ""
             }
            },
            "marker": {
             "colorbar": {
              "outlinewidth": 0,
              "ticks": ""
             }
            },
            "type": "scatter3d"
           }
          ],
          "scattercarpet": [
           {
            "marker": {
             "colorbar": {
              "outlinewidth": 0,
              "ticks": ""
             }
            },
            "type": "scattercarpet"
           }
          ],
          "scattergeo": [
           {
            "marker": {
             "colorbar": {
              "outlinewidth": 0,
              "ticks": ""
             }
            },
            "type": "scattergeo"
           }
          ],
          "scattergl": [
           {
            "marker": {
             "colorbar": {
              "outlinewidth": 0,
              "ticks": ""
             }
            },
            "type": "scattergl"
           }
          ],
          "scattermapbox": [
           {
            "marker": {
             "colorbar": {
              "outlinewidth": 0,
              "ticks": ""
             }
            },
            "type": "scattermapbox"
           }
          ],
          "scatterpolar": [
           {
            "marker": {
             "colorbar": {
              "outlinewidth": 0,
              "ticks": ""
             }
            },
            "type": "scatterpolar"
           }
          ],
          "scatterpolargl": [
           {
            "marker": {
             "colorbar": {
              "outlinewidth": 0,
              "ticks": ""
             }
            },
            "type": "scatterpolargl"
           }
          ],
          "scatterternary": [
           {
            "marker": {
             "colorbar": {
              "outlinewidth": 0,
              "ticks": ""
             }
            },
            "type": "scatterternary"
           }
          ],
          "surface": [
           {
            "colorbar": {
             "outlinewidth": 0,
             "ticks": ""
            },
            "colorscale": [
             [
              0,
              "#0d0887"
             ],
             [
              0.1111111111111111,
              "#46039f"
             ],
             [
              0.2222222222222222,
              "#7201a8"
             ],
             [
              0.3333333333333333,
              "#9c179e"
             ],
             [
              0.4444444444444444,
              "#bd3786"
             ],
             [
              0.5555555555555556,
              "#d8576b"
             ],
             [
              0.6666666666666666,
              "#ed7953"
             ],
             [
              0.7777777777777778,
              "#fb9f3a"
             ],
             [
              0.8888888888888888,
              "#fdca26"
             ],
             [
              1,
              "#f0f921"
             ]
            ],
            "type": "surface"
           }
          ],
          "table": [
           {
            "cells": {
             "fill": {
              "color": "#EBF0F8"
             },
             "line": {
              "color": "white"
             }
            },
            "header": {
             "fill": {
              "color": "#C8D4E3"
             },
             "line": {
              "color": "white"
             }
            },
            "type": "table"
           }
          ]
         },
         "layout": {
          "annotationdefaults": {
           "arrowcolor": "#2a3f5f",
           "arrowhead": 0,
           "arrowwidth": 1
          },
          "coloraxis": {
           "colorbar": {
            "outlinewidth": 0,
            "ticks": ""
           }
          },
          "colorscale": {
           "diverging": [
            [
             0,
             "#8e0152"
            ],
            [
             0.1,
             "#c51b7d"
            ],
            [
             0.2,
             "#de77ae"
            ],
            [
             0.3,
             "#f1b6da"
            ],
            [
             0.4,
             "#fde0ef"
            ],
            [
             0.5,
             "#f7f7f7"
            ],
            [
             0.6,
             "#e6f5d0"
            ],
            [
             0.7,
             "#b8e186"
            ],
            [
             0.8,
             "#7fbc41"
            ],
            [
             0.9,
             "#4d9221"
            ],
            [
             1,
             "#276419"
            ]
           ],
           "sequential": [
            [
             0,
             "#0d0887"
            ],
            [
             0.1111111111111111,
             "#46039f"
            ],
            [
             0.2222222222222222,
             "#7201a8"
            ],
            [
             0.3333333333333333,
             "#9c179e"
            ],
            [
             0.4444444444444444,
             "#bd3786"
            ],
            [
             0.5555555555555556,
             "#d8576b"
            ],
            [
             0.6666666666666666,
             "#ed7953"
            ],
            [
             0.7777777777777778,
             "#fb9f3a"
            ],
            [
             0.8888888888888888,
             "#fdca26"
            ],
            [
             1,
             "#f0f921"
            ]
           ],
           "sequentialminus": [
            [
             0,
             "#0d0887"
            ],
            [
             0.1111111111111111,
             "#46039f"
            ],
            [
             0.2222222222222222,
             "#7201a8"
            ],
            [
             0.3333333333333333,
             "#9c179e"
            ],
            [
             0.4444444444444444,
             "#bd3786"
            ],
            [
             0.5555555555555556,
             "#d8576b"
            ],
            [
             0.6666666666666666,
             "#ed7953"
            ],
            [
             0.7777777777777778,
             "#fb9f3a"
            ],
            [
             0.8888888888888888,
             "#fdca26"
            ],
            [
             1,
             "#f0f921"
            ]
           ]
          },
          "colorway": [
           "#636efa",
           "#EF553B",
           "#00cc96",
           "#ab63fa",
           "#FFA15A",
           "#19d3f3",
           "#FF6692",
           "#B6E880",
           "#FF97FF",
           "#FECB52"
          ],
          "font": {
           "color": "#2a3f5f"
          },
          "geo": {
           "bgcolor": "white",
           "lakecolor": "white",
           "landcolor": "#E5ECF6",
           "showlakes": true,
           "showland": true,
           "subunitcolor": "white"
          },
          "hoverlabel": {
           "align": "left"
          },
          "hovermode": "closest",
          "mapbox": {
           "style": "light"
          },
          "paper_bgcolor": "white",
          "plot_bgcolor": "#E5ECF6",
          "polar": {
           "angularaxis": {
            "gridcolor": "white",
            "linecolor": "white",
            "ticks": ""
           },
           "bgcolor": "#E5ECF6",
           "radialaxis": {
            "gridcolor": "white",
            "linecolor": "white",
            "ticks": ""
           }
          },
          "scene": {
           "xaxis": {
            "backgroundcolor": "#E5ECF6",
            "gridcolor": "white",
            "gridwidth": 2,
            "linecolor": "white",
            "showbackground": true,
            "ticks": "",
            "zerolinecolor": "white"
           },
           "yaxis": {
            "backgroundcolor": "#E5ECF6",
            "gridcolor": "white",
            "gridwidth": 2,
            "linecolor": "white",
            "showbackground": true,
            "ticks": "",
            "zerolinecolor": "white"
           },
           "zaxis": {
            "backgroundcolor": "#E5ECF6",
            "gridcolor": "white",
            "gridwidth": 2,
            "linecolor": "white",
            "showbackground": true,
            "ticks": "",
            "zerolinecolor": "white"
           }
          },
          "shapedefaults": {
           "line": {
            "color": "#2a3f5f"
           }
          },
          "ternary": {
           "aaxis": {
            "gridcolor": "white",
            "linecolor": "white",
            "ticks": ""
           },
           "baxis": {
            "gridcolor": "white",
            "linecolor": "white",
            "ticks": ""
           },
           "bgcolor": "#E5ECF6",
           "caxis": {
            "gridcolor": "white",
            "linecolor": "white",
            "ticks": ""
           }
          },
          "title": {
           "x": 0.05
          },
          "xaxis": {
           "automargin": true,
           "gridcolor": "white",
           "linecolor": "white",
           "ticks": "",
           "title": {
            "standoff": 15
           },
           "zerolinecolor": "white",
           "zerolinewidth": 2
          },
          "yaxis": {
           "automargin": true,
           "gridcolor": "white",
           "linecolor": "white",
           "ticks": "",
           "title": {
            "standoff": 15
           },
           "zerolinecolor": "white",
           "zerolinewidth": 2
          }
         }
        },
        "xaxis": {
         "anchor": "y",
         "domain": [
          0,
          1
         ]
        },
        "yaxis": {
         "anchor": "x",
         "domain": [
          0,
          1
         ],
         "title": {
          "text": "LONGITUDE"
         }
        }
       }
      },
      "text/html": [
       "<div>\n",
       "        \n",
       "        \n",
       "            <div id=\"9bdf617a-f7e0-4091-955b-6b5c8315cc1d\" class=\"plotly-graph-div\" style=\"height:525px; width:100%;\"></div>\n",
       "            <script type=\"text/javascript\">\n",
       "                require([\"plotly\"], function(Plotly) {\n",
       "                    window.PLOTLYENV=window.PLOTLYENV || {};\n",
       "                    \n",
       "                if (document.getElementById(\"9bdf617a-f7e0-4091-955b-6b5c8315cc1d\")) {\n",
       "                    Plotly.newPlot(\n",
       "                        '9bdf617a-f7e0-4091-955b-6b5c8315cc1d',\n",
       "                        [{\"hoverlabel\": {\"namelength\": 0}, \"hovertemplate\": \"LONGITUDE=%{y}\", \"legendgroup\": \"\", \"marker\": {\"color\": \"#636efa\", \"symbol\": \"circle\"}, \"mode\": \"markers\", \"name\": \"\", \"showlegend\": false, \"type\": \"scattergl\", \"xaxis\": \"x\", \"y\": [-7695.938754929929, -7695.931954952317, -7692.256449733903, -7691.740181310099, -7691.109200000763, -7691.109200000763, -7690.703644445373, -7690.5008666676795, -7690.253860628972, -7689.89515880284, -7689.724259988694, -7689.599425883263, -7689.345990019694, -7689.284200001508, -7689.284200001508, -7689.269485301836, -7688.907602439012, -7688.833099806714, -7688.654502890877, -7688.355245821611, -7688.298000908349, -7687.776423070576, -7687.509244035695, -7685.814778262636, -7685.494600001723, -7685.156378726609, -7684.867957990277, -7684.479554307475, -7684.455307129579, -7684.281834362428, -7683.8696733227625, -7683.791140922814, -7682.894311110595, -7682.793649999425, -7682.539298166685, -7682.4556500022645, -7682.393381818113, -7682.361879520718, -7682.075590276514, -7681.730914568263, -7681.3461881763305, -7680.617859457254, -7680.015483977712, -7677.587316489657, -7677.549418674669, -7676.89365321925, -7676.753699999303, -7676.753699999303, -7676.753699999303, -7676.65703884553, -7676.617487958357, -7676.523280376039, -7676.41943999976, -7676.41943999976, -7675.6479215774425, -7675.643697991419, -7675.552088155443, -7675.320933332873, -7675.199307075222, -7675.146413620939, -7674.8219954399865, -7674.785282855772, -7674.583597540925, -7674.264339827897, -7673.913438812227, -7673.829934833489, -7673.740908514747, -7673.435291772967, -7669.772416157065, -7669.357900001109, -7669.029523194881, -7667.543800000101, -7667.0461950192675, -7666.248085539786, -7666.1810036649085, -7665.654014874747, -7665.650228023077, -7664.73931399603, -7664.417651133022, -7664.313643147163, -7663.169900634743, -7662.447200000284, -7662.447200000284, -7662.306618734784, -7662.306421416842, -7661.930788167413, -7661.863200001419, -7661.858395682381, -7661.830973262648, -7661.817193896792, -7661.603514287089, -7661.394255940811, -7661.2572666679835, -7661.136080001293, -7661.086697925143, -7661.067514217153, -7660.742554721545, -7660.281594425829, -7660.045400001109, -7659.833353478085, -7658.42627815351, -7656.996781229636, -7656.916209502424, -7656.475560551486, -7655.810199998319, -7653.579219780396, -7653.343301445247, -7653.343301445247, -7653.343301445247, -7653.343301445247, -7653.343301445247, -7653.343301445247, -7653.343301445247, -7653.343301445247, -7653.343301445247, -7652.241956907715, -7652.152865217898, -7652.113968421102, -7651.99609019241, -7651.834374694666, -7651.415232315966, -7650.255975912342, -7649.33920000121, -7648.116999998689, -7647.7909960721, -7647.731499999762, -7647.682389107399, -7647.469238737493, -7646.733500000089, -7646.733500000089, -7646.699900001286, -7646.699900001286, -7646.636442218104, -7646.576089675892, -7646.343658901743, -7646.314496976974, -7646.285566628259, -7646.261864931222, -7646.180500000715, -7645.8595142795875, -7645.732442823271, -7645.6607876575035, -7645.610077130521, -7645.559099998325, -7645.558400001377, -7645.191225015415, -7645.025672374883, -7644.960177570336, -7644.893836905537, -7644.886068185171, -7644.84284956768, -7644.777622354411, -7644.746509637885, -7644.713262862313, -7644.4953666677075, -7644.365146112375, -7644.3038466897315, -7644.278508366051, -7644.18918638034, -7644.01243109285, -7643.833099527749, -7643.817662790669, -7643.697516999352, -7643.3229841197035, -7643.289777269159, -7643.187400165219, -7643.130242482538, -7643.000199999659, -7642.797866873924, -7642.764985533359, -7642.673226161187, -7642.662599999458, -7642.56660208688, -7642.552822222519, -7642.334043094544, -7642.314570450088, -7642.3063612678325, -7642.246561081509, -7642.223135551008, -7642.199498868656, -7642.146887548528, -7642.104230343446, -7641.965138072635, -7641.960914762188, -7641.8535730876065, -7641.805496029359, -7641.787153982655, -7641.774127200158, -7641.7636168052295, -7641.741721473628, -7641.725299999118, -7641.687096105292, -7641.6803999990225, -7641.6803999990225, -7641.599247100243, -7641.563092752373, -7641.559583115063, -7641.499303368108, -7641.446142856564, -7641.380978970188, -7641.35243999958, -7641.3450818254905, -7641.315999999642, -7641.268708649845, -7641.233381913672, -7641.187289714304, -7641.133799999952, -7641.033972696655, -7641.010339187401, -7640.9261499987915, -7640.92504870708, -7640.842587442076, -7640.716593602393, -7640.669510230892, -7640.5713064885485, -7640.5182744042, -7640.431466392934, -7640.416866630529, -7640.311449518238, -7640.181925952572, -7640.151466657513, -7640.094799999148, -7640.030671486139, -7640.016521320022, -7639.759229676641, -7639.75088308967, -7639.7358565852355, -7639.649241476663, -7639.5989999994645, -7639.5989999994645, -7639.594869953629, -7639.553123746436, -7639.476597227735, -7639.445598710654, -7639.4004946544055, -7639.345315501557, -7639.345078123829, -7639.282102513454, -7639.239146557478, -7639.205498620804, -7639.186566410442, -7639.169579231336, -7639.166702848139, -7639.161576096406, -7639.109632882691, -7638.939476941779, -7638.915550823144, -7638.910299999018, -7638.856276810215, -7638.818726054509, -7638.768011149544, -7638.6821104960145, -7638.637716568229, -7638.5746633789295, -7638.286777193522, -7638.193799998611, -7638.178664941463, -7638.1730634137475, -7638.033510939613, -7638.022660439881, -7638.01890505048, -7637.944119998812, -7637.922800000757, -7637.922800000757, -7637.922588111237, -7637.78295181145, -7637.725548641118, -7637.704833570846, -7637.642129593824, -7637.63500148025, -7637.633104535363, -7637.5853004425235, -7637.577038416049, -7637.557442799341, -7637.55456227177, -7637.535798160029, -7637.520333808902, -7637.423799999056, -7637.423799999056, -7637.423799999056, -7637.423799999056, -7637.418826227426, -7637.4020340768175, -7637.311943823879, -7637.187733334798, -7637.183464618143, -7637.1813778647265, -7637.13640000139, -7637.100392496527, -7637.083443955691, -7637.071555312629, -7637.021409585619, -7637.009211240366, -7637.001561150843, -7636.958372063719, -7636.895626662628, -7636.894637501333, -7636.882219276674, -7636.857206490324, -7636.82840000093, -7636.820696448656, -7636.78198395717, -7636.6773482751505, -7636.654005052915, -7636.582831075982, -7636.553816009117, -7636.553698368117, -7636.531330172304, -7636.438745559319, -7636.400181627991, -7636.398131450962, -7636.39292173685, -7636.0813335230005, -7636.081282111812, -7636.040199998766, -7636.033333751058, -7635.627941694752, -7635.382885713662, -7635.339141358791, -7635.2217999994755, -7635.195180851523, -7635.169694013809, -7635.065854634991, -7634.914990073462, -7634.833296193271, -7634.759267468504, -7634.726194945384, -7634.54482007356, -7634.494454552613, -7634.475921406697, -7634.408182257251, -7634.406271164592, -7634.2296001664745, -7634.211465844939, -7634.155202303148, -7634.1447798421095, -7634.106117499488, -7634.0264203256775, -7633.894600000232, -7633.874600000678, -7633.874600000678, -7633.874600000678, -7633.874600000678, -7633.802238650173, -7633.634940480954, -7633.54917987814, -7633.45898608972, -7633.427577396892, -7633.347579696844, -7633.244284231332, -7633.232864105415, -7633.1259272725065, -7633.1187358818825, -7632.979075922599, -7632.974395187668, -7632.9672038631825, -7632.917926715208, -7632.834499999882, -7632.834499999882, -7632.834499999882, -7632.834499999882, -7632.834399998189, -7632.777600001544, -7632.7292540937015, -7632.5285325687255, -7632.481102396057, -7632.416805270464, -7632.378879626895, -7632.282603512898, -7632.2586999982595, -7632.2586999982595, -7632.1884581283775, -7632.108204304523, -7632.069805293269, -7631.911033387334, -7631.768406853054, -7631.7445274074635, -7631.671398190359, -7631.590797885047, -7631.480929608824, -7631.104188775795, -7631.058458810804, -7630.855576359786, -7630.37149396651, -7630.07808084597, -7629.573514667455, -7628.522900736575, -7628.391508411526, -7628.038556673609, -7627.531166200086, -7626.970294948404, -7621.81523590075, -7621.722562803074, -7621.667416209417, -7621.351189759993, -7619.012816854327, -7618.987409900411, -7618.71421039816, -7618.486732351464, -7618.420081505938, -7618.415899999441, -7618.0971127551575, -7618.087354940982, -7617.699243328004, -7616.97829999961, -7616.948850388485, -7616.89829421054, -7616.891914166611, -7616.854985128832, -7616.798543023435, -7616.700438645403, -7616.645292489777, -7616.641075820367, -7616.572262020362, -7616.538604847725, -7616.359925877942, -7616.302438910324, -7616.200419176741, -7616.128433470197, -7616.099599998443, -7616.099599998443, -7615.9544971644555, -7615.527718182751, -7615.037843382428, -7613.9581910840225, -7611.483683102622, -7611.30760181269, -7611.2480102360705, -7611.196229663149, -7610.8997999988505, -7610.8997999988505, -7610.847664929771, -7610.512136383857, -7610.509399998933, -7609.725675000342, -7609.362763637166, -7609.254574267566, -7609.209370158644, -7609.1668138284485, -7609.152702315091, -7609.072139018979, -7609.021200001242, -7609.021200001242, -7609.021200001242, -7608.834281650502, -7607.076600000262, -7605.384652840472, -7605.248300001025, -7605.1441607820325, -7604.881661400512, -7604.707519509874, -7604.554351961245, -7603.833050605849, -7603.774164535382, -7603.7603021980285, -7603.584815539185, -7603.335900001228, -7603.335900001228, -7603.134732174788, -7603.103500000201, -7603.094379913346, -7603.0212026458985, -7602.978780438709, -7602.945293648199, -7602.9328742069865, -7602.889080000667, -7602.8439640950255, -7602.7870238361475, -7602.677417979874, -7601.6940757922375, -7601.5887339273795, -7601.3869999982435, -7601.3869999982435, -7601.1522262700655, -7600.791219984823, -7600.121737446621, -7597.501729793644, -7597.3261627309375, -7596.9070316276975, -7596.727231275496, -7596.677064354325, -7596.474079346869, -7596.378345234551, -7595.9739999994645, -7595.9739999994645, -7595.9452289535975, -7595.539200640763, -7595.485297560111, -7595.180759487032, -7594.8471000008285, -7594.5784374992345, -7594.524293113694, -7594.3924630044385, -7594.265541225492, -7594.170226581782, -7594.1251444431655, -7594.105457201049, -7594.034899998456, -7594.034899998456, -7594.034899998456, -7594.01834609583, -7593.9219174451855, -7593.602364540168, -7593.080184651676, -7592.953184653679, -7592.867184656054, -7592.5732710097745, -7592.562300000341, -7592.234935296062, -7592.164003069832, -7592.149517155675, -7592.090242046203, -7592.050954342571, -7591.876343050036, -7590.076329442959, -7589.661824304588, -7589.367524770076, -7589.17943744184, -7589.066216434082, -7588.941392697304, -7588.600915043993, -7588.433236261526, -7588.031571666017, -7587.86576666683, -7587.800430000201, -7587.788900000208, -7587.539083333687, -7587.43597205984, -7587.212400000542, -7587.1901736464515, -7587.135331101083, -7586.94481643335, -7586.943686097959, -7586.757339517697, -7586.491921552958, -7585.389976224599, -7571.618299998344, -7571.112365934228, -7570.555293005406, -7570.069794212661, -7569.852786891927, -7569.47773984335, -7568.985890470764, -7568.7427071457705, -7568.737138064865, -7567.1748089135635, -7565.108510155203, -7563.288365230448, -7562.745988283166, -7562.7170999981445, -7562.7170999981445, -7562.626887461309, -7562.071363164248, -7560.599636938112, -7560.376400001346, -7560.376299999654, -7559.755181129351, -7559.678073717381, -7559.669459744178, -7559.659568883084, -7559.588993597061, -7559.475875814883, -7558.859013839282, -7557.681318827978, -7557.615859403625, -7555.68347849491, -7555.557679144395, -7555.422550381384, -7554.897451104533, -7554.781968196429, -7553.960000000893, -7551.117335829494, -7545.863604722733, -7543.960387002566, -7543.7692461772485, -7541.982900001109, -7541.533239097404, -7541.141068198883, -7540.467679453479, -7540.206369008663, -7539.960816837991, -7539.1092125820105, -7538.918078753119, -7538.841261577577, -7538.567995184422, -7537.852669864206, -7537.578472479409, -7537.45423347244, -7537.110861589088, -7537.024899770331, -7536.826600000262, -7536.820310922278, -7536.731668054587, -7536.45222842588, -7536.092913756452, -7535.763000000268, -7535.763000000268, -7535.763000000268, -7535.763000000268, -7535.209515403956, -7535.1590698659975, -7534.868645769628, -7534.43217116002, -7533.882036870306, -7533.657621146125, -7533.432100001723, -7533.086327375368, -7530.818236876223, -7530.756500470333, -7530.676287159453, -7530.497509861851, -7530.37519690338, -7530.048346090224, -7528.608068633825, -7528.231764735641, -7526.790756547549, -7526.747516114764, -7526.6018355951355, -7526.3016578073075, -7526.245871419531, -7526.144709164989, -7525.818129986525, -7525.570691577632, -7525.3140982864, -7525.179445511755, -7524.709499999882, -7524.486762481272, -7524.341239839973, -7524.1088000014415, -7523.820147866238, -7523.7790129288305, -7523.198608651502, -7522.974166686505, -7522.9659893672315, -7522.859608603659, -7522.347115323991, -7521.969221539965, -7521.829906172597, -7521.608766524695, -7521.063506393428, -7520.750472798942, -7519.672803782073, -7519.585929014242, -7519.366759120611, -7518.690335069141, -7517.585799999535, -7517.585799999535, -7517.585799999535, -7516.988017306853, -7516.795159180553, -7516.7214044467, -7516.657719003578, -7516.488574058096, -7516.442265305174, -7516.413621235639, -7516.243748025889, -7516.166253165391, -7515.946557591867, -7515.916799399858, -7514.572369373022, -7513.782243633001, -7513.38268906325, -7513.104490716009, -7512.888872572893, -7512.638834284745, -7512.63280000165, -7512.593647911313, -7512.591427729558, -7512.539079229937, -7512.31796745377, -7511.736699998379, -7511.46810242698, -7510.766136903991, -7510.211205821484, -7510.211205821484, -7509.805454559653, -7508.003342895347, -7507.826979868089, -7507.670600000769, -7507.640599999577, -7507.291461114012, -7506.96953939477, -7506.96953939477, -7506.844350000843, -7506.834382981095, -7506.762699998915, -7506.073256182617, -7505.951038477613, -7505.877578996672, -7505.670722600563, -7505.615952718015, -7505.090623468643, -7504.397316419842, -7504.153499998152, -7504.021799831146, -7503.868590694269, -7503.835681478446, -7503.815444673117, -7503.492802418426, -7502.891317360459, -7502.632044688822, -7502.285158204298, -7502.206913101003, -7502.170424445466, -7501.7450825006545, -7501.357952542378, -7501.276003041326, -7500.998802696078, -7500.996693142145, -7500.891911364528, -7500.638202732991, -7499.377574073214, -7499.0632321689445, -7498.697363540885, -7498.577445475569, -7498.3426440964295, -7498.058071977189, -7497.755715158189, -7497.42807644004, -7497.026701602182, -7496.28180468907, -7495.664690177126, -7493.380350023599, -7492.046013872357, -7491.030633945018, -7488.921540649916, -7488.809000000358, -7484.8092417859925, -7482.157780195719, -7479.755600001663, -7479.755600001663, -7479.546546123745, -7478.179274505509, -7476.421569465564, -7476.283341172662, -7474.0380025282275, -7473.791198919826, -7472.278562326324, -7470.7121142965125, -7470.425400000066, -7469.372002924068, -7469.0327878860035, -7468.448112149078, -7466.934550177129, -7466.25206682841, -7461.284156751681, -7460.997499998659, -7460.602512051023, -7460.452553208955, -7460.286494345822, -7460.0372159525305, -7459.939455551292, -7459.73507910675, -7459.3324654505295, -7458.876295280046, -7458.844099998474, -7458.726599998772, -7458.726599998772, -7458.604499999434, -7458.346797777967, -7457.360650304054, -7456.71521028611, -7456.649500001222, -7456.38929338787, -7456.065033372026, -7456.021041989412, -7455.725834169706, -7454.607591598517, -7453.854089940272, -7453.812380220071, -7452.844588022715, -7452.5660365302465, -7452.177097026673, -7438.840164787475, -7438.788897284359, -7437.605307669639, -7437.5567577981665, -7436.896273802904, -7436.557598417916, -7436.533420393472, -7436.432202518687, -7435.974289788048, -7435.5183999985475, -7435.388334590422, -7435.346001970688, -7435.22594210535, -7434.970466633446, -7434.92831523342, -7434.736391970779, -7434.589285367285, -7434.531183496972, -7434.353100001811, -7434.353100001811, -7434.31049999967, -7434.276577289368, -7434.238600000738, -7434.204065745388, -7433.105975041396, -7432.755048162937, -7432.684433077416, -7432.02851100418, -7431.713899999857, -7430.116568842802, -7429.966117950253, -7429.609017984399, -7427.0744790509325, -7425.0347873894825, -7425.011610020214, -7424.905383463056, -7424.833564803986, -7424.812344465407, -7424.812344465407, -7424.812344465407, -7424.5910807069495, -7424.398503460131, -7424.093176847243, -7423.8977483286035, -7423.656973913433, -7423.1761999987075, -7423.1761999987075, -7423.0968442776575, -7423.075599998236, -7422.813371034594, -7422.6833697641005, -7422.552545754045, -7422.468920119258, -7422.280900001526, -7422.280900001526, -7422.280900001526, -7422.109600000083, -7421.486098892208, -7420.7689261554015, -7420.652982427277, -7420.426334573697, -7420.1215808087245, -7419.868279336198, -7419.78586577173, -7419.687381487943, -7419.3227154040005, -7418.379865920637, -7418.115146545631, -7417.555128839069, -7416.797699999062, -7414.4502833342785, -7413.9408429863415, -7411.0939933933, -7410.584705855866, -7409.611999999732, -7408.720099650108, -7408.192551686271, -7407.6273027373145, -7407.384202505495, -7407.248439790176, -7406.62981814902, -7406.337999493077, -7406.178665990164, -7406.098421883294, -7405.956991638471, -7405.881999999285, -7405.372539550391, -7405.1945348285635, -7405.1024000011375, -7404.897642281614, -7404.542141982065, -7404.477984488638, -7404.384356845472, -7402.404284370662, -7401.584287877059, -7399.784893956021, -7399.231623873045, -7398.587628572115, -7398.396905991821, -7397.56092565415, -7397.033907008754, -7396.89062958991, -7396.549482593195, -7394.601053248651, -7394.519672667868, -7394.415547616139, -7394.2263701461125, -7393.85430226658, -7393.435149921725, -7391.01192857059, -7390.581250262172, -7390.054495093123, -7389.454517136691, -7389.226916960269, -7386.7525999993095, -7386.605974067408, -7386.221972295705, -7385.87153571578, -7385.799964943388, -7385.478494210823, -7385.400800000876, -7385.400800000876, -7385.198520906876, -7384.964072566054, -7384.384599998592, -7384.384599998592, -7384.233505771906, -7383.867220982212, -7383.6993921659305, -7383.342698935756, -7383.328817266838, -7383.035103264628, -7382.330366183575, -7382.117425664686, -7382.056376086582, -7381.959920241307, -7381.842482693231, -7381.649541666421, -7381.325965382171, -7380.513799998907, -7379.351682676892, -7378.032321294031, -7377.9131434493165, -7377.529050483299, -7377.087643060229, -7377.067904715629, -7377.023840085312, -7376.931626411905, -7376.803530225771, -7376.419615953481, -7375.877500001341, -7375.877500001341, -7375.086537200927, -7374.888738568872, -7374.504199998963, -7374.366807154717, -7374.308033332229, -7374.302079940629, -7374.285158536455, -7374.254087498877, -7373.242687185409, -7372.830904042898, -7372.664041475764, -7372.609778027627, -7371.898460000753, -7371.480203799097, -7370.427219998835, -7370.308062256579, -7367.749533335057, -7367.665604089931, -7366.634500000626, -7366.096027965808, -7366.0852786761425, -7365.824882550541, -7365.170680462736, -7365.076819810491, -7364.492817573538, -7364.015689999609, -7362.995453639043, -7360.754057143948, -7360.695033334817, -7360.6561600014575, -7360.2352367268395, -7359.5028015520265, -7359.349039310367, -7358.774700000135, -7358.7456048446375, -7358.673269750768, -7358.516829515868, -7358.485367071776, -7358.450451301361, -7358.379579473465, -7358.269885001644, -7357.531252906464, -7357.391503569515, -7357.34156637367, -7356.4778156069, -7355.990396278593, -7354.863583032899, -7354.691889338229, -7353.771757142354, -7353.241445766771, -7352.424523455641, -7352.2351659727665, -7352.06417808977, -7351.981125298886, -7351.539522335258, -7351.046286474268, -7350.009644098643, -7348.607443805793, -7347.220669044234, -7346.611345959206, -7346.330589261966, -7346.297875611987, -7345.87224664235, -7345.803899999708, -7345.671723186018, -7345.639826238431, -7345.591416272658, -7345.565795183947, -7345.316954613952, -7345.249364511099, -7345.2284819713705, -7345.0851699093055, -7344.182656829503, -7343.206695387632, -7342.972399998456, -7342.736770755633, -7342.7090895645215, -7342.596549391886, -7341.347340481623, -7341.247568426404, -7340.558777131093, -7340.519103401064, -7340.466578977114, -7339.547341287987, -7339.168003155733, -7339.123771427998, -7339.088376952875, -7338.807210418774, -7338.793340000509, -7338.4888333330555, -7338.4888333330555, -7338.451890542135, -7338.20283280169, -7337.999906722742, -7337.790119149856, -7337.775408467097, -7337.118525250426, -7336.6486916792455, -7335.906199999154, -7333.795755361259, -7332.1342594739845, -7331.900097351846, -7331.788546637271, -7331.1790000014025, -7331.1790000014025, -7331.1790000014025, -7331.100099999458, -7330.881523851488, -7329.7303613974045, -7329.030799999833, -7327.957397525542, -7327.404995579134, -7327.346846005691, -7327.0109317232545, -7325.815571195094, -7325.696196629609, -7325.688299349291, -7325.190744341132, -7324.758898928099, -7324.374750176221, -7324.144263157842, -7323.8266838243335, -7323.6579032276, -7323.251427945623, -7323.175950052059, -7322.953825041805, -7322.241599999366, -7321.582096425758, -7320.66059014783, -7319.549444900602, -7318.7835859091065, -7318.456186552751, -7318.440245424106, -7317.550498728719, -7317.394699687798, -7317.344231077765, -7317.2944102390775, -7317.227899998426, -7316.945209823189, -7316.90971591283, -7316.9016541943165, -7316.672522646042, -7316.472082156773, -7316.348103694842, -7315.698916212307, -7315.681215936685, -7315.559750000015, -7315.552884615385, -7315.541899999976, -7315.47049999982, -7315.291999999434, -7315.283556228315, -7315.080544204484, -7314.968294913922, -7314.611699998379, -7314.001354584349, -7313.808492191816, -7313.731119778006, -7313.549886666487, -7313.201409156708, -7313.080254957027, -7312.914295886737, -7312.7029922491, -7312.58323821798, -7312.349133914621, -7312.024867863103, -7311.872768004977, -7311.4756875463745, -7311.438734866148, -7310.512057110302, -7310.4241694986185, -7310.299179000072, -7309.62392746803, -7309.324009812239, -7309.219399999825, -7309.219399999825, -7309.219399999825, -7309.219399999825, -7309.219399999825, -7309.219399999825, -7309.219399999825, -7309.219399999825, -7309.219399999825, -7309.219399999825, -7303.794295821339, -7299.786516730872], \"yaxis\": \"y\"}],\n",
       "                        {\"legend\": {\"tracegroupgap\": 0}, \"margin\": {\"t\": 60}, \"template\": {\"data\": {\"bar\": [{\"error_x\": {\"color\": \"#2a3f5f\"}, \"error_y\": {\"color\": \"#2a3f5f\"}, \"marker\": {\"line\": {\"color\": \"#E5ECF6\", \"width\": 0.5}}, \"type\": \"bar\"}], \"barpolar\": [{\"marker\": {\"line\": {\"color\": \"#E5ECF6\", \"width\": 0.5}}, \"type\": \"barpolar\"}], \"carpet\": [{\"aaxis\": {\"endlinecolor\": \"#2a3f5f\", \"gridcolor\": \"white\", \"linecolor\": \"white\", \"minorgridcolor\": \"white\", \"startlinecolor\": \"#2a3f5f\"}, \"baxis\": {\"endlinecolor\": \"#2a3f5f\", \"gridcolor\": \"white\", \"linecolor\": \"white\", \"minorgridcolor\": \"white\", \"startlinecolor\": \"#2a3f5f\"}, \"type\": \"carpet\"}], \"choropleth\": [{\"colorbar\": {\"outlinewidth\": 0, \"ticks\": \"\"}, \"type\": \"choropleth\"}], \"contour\": [{\"colorbar\": {\"outlinewidth\": 0, \"ticks\": \"\"}, \"colorscale\": [[0.0, \"#0d0887\"], [0.1111111111111111, \"#46039f\"], [0.2222222222222222, \"#7201a8\"], [0.3333333333333333, \"#9c179e\"], [0.4444444444444444, \"#bd3786\"], [0.5555555555555556, \"#d8576b\"], [0.6666666666666666, \"#ed7953\"], [0.7777777777777778, \"#fb9f3a\"], [0.8888888888888888, \"#fdca26\"], [1.0, \"#f0f921\"]], \"type\": \"contour\"}], \"contourcarpet\": [{\"colorbar\": {\"outlinewidth\": 0, \"ticks\": \"\"}, \"type\": \"contourcarpet\"}], \"heatmap\": [{\"colorbar\": {\"outlinewidth\": 0, \"ticks\": \"\"}, \"colorscale\": [[0.0, \"#0d0887\"], [0.1111111111111111, \"#46039f\"], [0.2222222222222222, \"#7201a8\"], [0.3333333333333333, \"#9c179e\"], [0.4444444444444444, \"#bd3786\"], [0.5555555555555556, \"#d8576b\"], [0.6666666666666666, \"#ed7953\"], [0.7777777777777778, \"#fb9f3a\"], [0.8888888888888888, \"#fdca26\"], [1.0, \"#f0f921\"]], \"type\": \"heatmap\"}], \"heatmapgl\": [{\"colorbar\": {\"outlinewidth\": 0, \"ticks\": \"\"}, \"colorscale\": [[0.0, \"#0d0887\"], [0.1111111111111111, \"#46039f\"], [0.2222222222222222, \"#7201a8\"], [0.3333333333333333, \"#9c179e\"], [0.4444444444444444, \"#bd3786\"], [0.5555555555555556, \"#d8576b\"], [0.6666666666666666, \"#ed7953\"], [0.7777777777777778, \"#fb9f3a\"], [0.8888888888888888, \"#fdca26\"], [1.0, \"#f0f921\"]], \"type\": \"heatmapgl\"}], \"histogram\": [{\"marker\": {\"colorbar\": {\"outlinewidth\": 0, \"ticks\": \"\"}}, \"type\": \"histogram\"}], \"histogram2d\": [{\"colorbar\": {\"outlinewidth\": 0, \"ticks\": \"\"}, \"colorscale\": [[0.0, \"#0d0887\"], [0.1111111111111111, \"#46039f\"], [0.2222222222222222, \"#7201a8\"], [0.3333333333333333, \"#9c179e\"], [0.4444444444444444, \"#bd3786\"], [0.5555555555555556, \"#d8576b\"], [0.6666666666666666, \"#ed7953\"], [0.7777777777777778, \"#fb9f3a\"], [0.8888888888888888, \"#fdca26\"], [1.0, \"#f0f921\"]], \"type\": \"histogram2d\"}], \"histogram2dcontour\": [{\"colorbar\": {\"outlinewidth\": 0, \"ticks\": \"\"}, \"colorscale\": [[0.0, \"#0d0887\"], [0.1111111111111111, \"#46039f\"], [0.2222222222222222, \"#7201a8\"], [0.3333333333333333, \"#9c179e\"], [0.4444444444444444, \"#bd3786\"], [0.5555555555555556, \"#d8576b\"], [0.6666666666666666, \"#ed7953\"], [0.7777777777777778, \"#fb9f3a\"], [0.8888888888888888, \"#fdca26\"], [1.0, \"#f0f921\"]], \"type\": \"histogram2dcontour\"}], \"mesh3d\": [{\"colorbar\": {\"outlinewidth\": 0, \"ticks\": \"\"}, \"type\": \"mesh3d\"}], \"parcoords\": [{\"line\": {\"colorbar\": {\"outlinewidth\": 0, \"ticks\": \"\"}}, \"type\": \"parcoords\"}], \"pie\": [{\"automargin\": true, \"type\": \"pie\"}], \"scatter\": [{\"marker\": {\"colorbar\": {\"outlinewidth\": 0, \"ticks\": \"\"}}, \"type\": \"scatter\"}], \"scatter3d\": [{\"line\": {\"colorbar\": {\"outlinewidth\": 0, \"ticks\": \"\"}}, \"marker\": {\"colorbar\": {\"outlinewidth\": 0, \"ticks\": \"\"}}, \"type\": \"scatter3d\"}], \"scattercarpet\": [{\"marker\": {\"colorbar\": {\"outlinewidth\": 0, \"ticks\": \"\"}}, \"type\": \"scattercarpet\"}], \"scattergeo\": [{\"marker\": {\"colorbar\": {\"outlinewidth\": 0, \"ticks\": \"\"}}, \"type\": \"scattergeo\"}], \"scattergl\": [{\"marker\": {\"colorbar\": {\"outlinewidth\": 0, \"ticks\": \"\"}}, \"type\": \"scattergl\"}], \"scattermapbox\": [{\"marker\": {\"colorbar\": {\"outlinewidth\": 0, \"ticks\": \"\"}}, \"type\": \"scattermapbox\"}], \"scatterpolar\": [{\"marker\": {\"colorbar\": {\"outlinewidth\": 0, \"ticks\": \"\"}}, \"type\": \"scatterpolar\"}], \"scatterpolargl\": [{\"marker\": {\"colorbar\": {\"outlinewidth\": 0, \"ticks\": \"\"}}, \"type\": \"scatterpolargl\"}], \"scatterternary\": [{\"marker\": {\"colorbar\": {\"outlinewidth\": 0, \"ticks\": \"\"}}, \"type\": \"scatterternary\"}], \"surface\": [{\"colorbar\": {\"outlinewidth\": 0, \"ticks\": \"\"}, \"colorscale\": [[0.0, \"#0d0887\"], [0.1111111111111111, \"#46039f\"], [0.2222222222222222, \"#7201a8\"], [0.3333333333333333, \"#9c179e\"], [0.4444444444444444, \"#bd3786\"], [0.5555555555555556, \"#d8576b\"], [0.6666666666666666, \"#ed7953\"], [0.7777777777777778, \"#fb9f3a\"], [0.8888888888888888, \"#fdca26\"], [1.0, \"#f0f921\"]], \"type\": \"surface\"}], \"table\": [{\"cells\": {\"fill\": {\"color\": \"#EBF0F8\"}, \"line\": {\"color\": \"white\"}}, \"header\": {\"fill\": {\"color\": \"#C8D4E3\"}, \"line\": {\"color\": \"white\"}}, \"type\": \"table\"}]}, \"layout\": {\"annotationdefaults\": {\"arrowcolor\": \"#2a3f5f\", \"arrowhead\": 0, \"arrowwidth\": 1}, \"coloraxis\": {\"colorbar\": {\"outlinewidth\": 0, \"ticks\": \"\"}}, \"colorscale\": {\"diverging\": [[0, \"#8e0152\"], [0.1, \"#c51b7d\"], [0.2, \"#de77ae\"], [0.3, \"#f1b6da\"], [0.4, \"#fde0ef\"], [0.5, \"#f7f7f7\"], [0.6, \"#e6f5d0\"], [0.7, \"#b8e186\"], [0.8, \"#7fbc41\"], [0.9, \"#4d9221\"], [1, \"#276419\"]], \"sequential\": [[0.0, \"#0d0887\"], [0.1111111111111111, \"#46039f\"], [0.2222222222222222, \"#7201a8\"], [0.3333333333333333, \"#9c179e\"], [0.4444444444444444, \"#bd3786\"], [0.5555555555555556, \"#d8576b\"], [0.6666666666666666, \"#ed7953\"], [0.7777777777777778, \"#fb9f3a\"], [0.8888888888888888, \"#fdca26\"], [1.0, \"#f0f921\"]], \"sequentialminus\": [[0.0, \"#0d0887\"], [0.1111111111111111, \"#46039f\"], [0.2222222222222222, \"#7201a8\"], [0.3333333333333333, \"#9c179e\"], [0.4444444444444444, \"#bd3786\"], [0.5555555555555556, \"#d8576b\"], [0.6666666666666666, \"#ed7953\"], [0.7777777777777778, \"#fb9f3a\"], [0.8888888888888888, \"#fdca26\"], [1.0, \"#f0f921\"]]}, \"colorway\": [\"#636efa\", \"#EF553B\", \"#00cc96\", \"#ab63fa\", \"#FFA15A\", \"#19d3f3\", \"#FF6692\", \"#B6E880\", \"#FF97FF\", \"#FECB52\"], \"font\": {\"color\": \"#2a3f5f\"}, \"geo\": {\"bgcolor\": \"white\", \"lakecolor\": \"white\", \"landcolor\": \"#E5ECF6\", \"showlakes\": true, \"showland\": true, \"subunitcolor\": \"white\"}, \"hoverlabel\": {\"align\": \"left\"}, \"hovermode\": \"closest\", \"mapbox\": {\"style\": \"light\"}, \"paper_bgcolor\": \"white\", \"plot_bgcolor\": \"#E5ECF6\", \"polar\": {\"angularaxis\": {\"gridcolor\": \"white\", \"linecolor\": \"white\", \"ticks\": \"\"}, \"bgcolor\": \"#E5ECF6\", \"radialaxis\": {\"gridcolor\": \"white\", \"linecolor\": \"white\", \"ticks\": \"\"}}, \"scene\": {\"xaxis\": {\"backgroundcolor\": \"#E5ECF6\", \"gridcolor\": \"white\", \"gridwidth\": 2, \"linecolor\": \"white\", \"showbackground\": true, \"ticks\": \"\", \"zerolinecolor\": \"white\"}, \"yaxis\": {\"backgroundcolor\": \"#E5ECF6\", \"gridcolor\": \"white\", \"gridwidth\": 2, \"linecolor\": \"white\", \"showbackground\": true, \"ticks\": \"\", \"zerolinecolor\": \"white\"}, \"zaxis\": {\"backgroundcolor\": \"#E5ECF6\", \"gridcolor\": \"white\", \"gridwidth\": 2, \"linecolor\": \"white\", \"showbackground\": true, \"ticks\": \"\", \"zerolinecolor\": \"white\"}}, \"shapedefaults\": {\"line\": {\"color\": \"#2a3f5f\"}}, \"ternary\": {\"aaxis\": {\"gridcolor\": \"white\", \"linecolor\": \"white\", \"ticks\": \"\"}, \"baxis\": {\"gridcolor\": \"white\", \"linecolor\": \"white\", \"ticks\": \"\"}, \"bgcolor\": \"#E5ECF6\", \"caxis\": {\"gridcolor\": \"white\", \"linecolor\": \"white\", \"ticks\": \"\"}}, \"title\": {\"x\": 0.05}, \"xaxis\": {\"automargin\": true, \"gridcolor\": \"white\", \"linecolor\": \"white\", \"ticks\": \"\", \"title\": {\"standoff\": 15}, \"zerolinecolor\": \"white\", \"zerolinewidth\": 2}, \"yaxis\": {\"automargin\": true, \"gridcolor\": \"white\", \"linecolor\": \"white\", \"ticks\": \"\", \"title\": {\"standoff\": 15}, \"zerolinecolor\": \"white\", \"zerolinewidth\": 2}}}, \"xaxis\": {\"anchor\": \"y\", \"domain\": [0.0, 1.0]}, \"yaxis\": {\"anchor\": \"x\", \"domain\": [0.0, 1.0], \"title\": {\"text\": \"LONGITUDE\"}}},\n",
       "                        {\"responsive\": true}\n",
       "                    ).then(function(){\n",
       "                            \n",
       "var gd = document.getElementById('9bdf617a-f7e0-4091-955b-6b5c8315cc1d');\n",
       "var x = new MutationObserver(function (mutations, observer) {{\n",
       "        var display = window.getComputedStyle(gd).display;\n",
       "        if (!display || display === 'none') {{\n",
       "            console.log([gd, 'removed!']);\n",
       "            Plotly.purge(gd);\n",
       "            observer.disconnect();\n",
       "        }}\n",
       "}});\n",
       "\n",
       "// Listen for the removal of the full notebook cells\n",
       "var notebookContainer = gd.closest('#notebook-container');\n",
       "if (notebookContainer) {{\n",
       "    x.observe(notebookContainer, {childList: true});\n",
       "}}\n",
       "\n",
       "// Listen for the clearing of the current output cell\n",
       "var outputEl = gd.closest('.output');\n",
       "if (outputEl) {{\n",
       "    x.observe(outputEl, {childList: true});\n",
       "}}\n",
       "\n",
       "                        })\n",
       "                };\n",
       "                });\n",
       "            </script>\n",
       "        </div>"
      ]
     },
     "metadata": {},
     "output_type": "display_data"
    }
   ],
   "source": [
    "LONG_plot = px.scatter(prediction_LONG, y = \"LONGITUDE\")\n",
    "LONG_plot.show()"
   ]
  },
  {
   "cell_type": "code",
   "execution_count": 99,
   "metadata": {},
   "outputs": [],
   "source": [
    "prediction_trace = go.Scatter(\n",
    "    y=prediction_LONG[\"prediction\"],\n",
    "    mode=\"lines\",\n",
    "    line=go.scatter.Line(color=\"red\"),\n",
    "    showlegend=False)"
   ]
  },
  {
   "cell_type": "code",
   "execution_count": 46,
   "metadata": {},
   "outputs": [
    {
     "data": {
      "application/vnd.plotly.v1+json": {
       "config": {
        "plotlyServerURL": "https://plot.ly"
       },
       "data": [
        {
         "hoverlabel": {
          "namelength": 0
         },
         "hovertemplate": "LONGITUDE=%{y}",
         "legendgroup": "",
         "marker": {
          "color": "#636efa",
          "symbol": "circle"
         },
         "mode": "markers",
         "name": "",
         "showlegend": false,
         "type": "scattergl",
         "xaxis": "x",
         "y": [
          -7695.938754929929,
          -7695.931954952317,
          -7692.256449733903,
          -7691.740181310099,
          -7691.109200000763,
          -7691.109200000763,
          -7690.703644445373,
          -7690.5008666676795,
          -7690.253860628972,
          -7689.89515880284,
          -7689.724259988694,
          -7689.599425883263,
          -7689.345990019694,
          -7689.284200001508,
          -7689.284200001508,
          -7689.269485301836,
          -7688.907602439012,
          -7688.833099806714,
          -7688.654502890877,
          -7688.355245821611,
          -7688.298000908349,
          -7687.776423070576,
          -7687.509244035695,
          -7685.814778262636,
          -7685.494600001723,
          -7685.156378726609,
          -7684.867957990277,
          -7684.479554307475,
          -7684.455307129579,
          -7684.281834362428,
          -7683.8696733227625,
          -7683.791140922814,
          -7682.894311110595,
          -7682.793649999425,
          -7682.539298166685,
          -7682.4556500022645,
          -7682.393381818113,
          -7682.361879520718,
          -7682.075590276514,
          -7681.730914568263,
          -7681.3461881763305,
          -7680.617859457254,
          -7680.015483977712,
          -7677.587316489657,
          -7677.549418674669,
          -7676.89365321925,
          -7676.753699999303,
          -7676.753699999303,
          -7676.753699999303,
          -7676.65703884553,
          -7676.617487958357,
          -7676.523280376039,
          -7676.41943999976,
          -7676.41943999976,
          -7675.6479215774425,
          -7675.643697991419,
          -7675.552088155443,
          -7675.320933332873,
          -7675.199307075222,
          -7675.146413620939,
          -7674.8219954399865,
          -7674.785282855772,
          -7674.583597540925,
          -7674.264339827897,
          -7673.913438812227,
          -7673.829934833489,
          -7673.740908514747,
          -7673.435291772967,
          -7669.772416157065,
          -7669.357900001109,
          -7669.029523194881,
          -7667.543800000101,
          -7667.0461950192675,
          -7666.248085539786,
          -7666.1810036649085,
          -7665.654014874747,
          -7665.650228023077,
          -7664.73931399603,
          -7664.417651133022,
          -7664.313643147163,
          -7663.169900634743,
          -7662.447200000284,
          -7662.447200000284,
          -7662.306618734784,
          -7662.306421416842,
          -7661.930788167413,
          -7661.863200001419,
          -7661.858395682381,
          -7661.830973262648,
          -7661.817193896792,
          -7661.603514287089,
          -7661.394255940811,
          -7661.2572666679835,
          -7661.136080001293,
          -7661.086697925143,
          -7661.067514217153,
          -7660.742554721545,
          -7660.281594425829,
          -7660.045400001109,
          -7659.833353478085,
          -7658.42627815351,
          -7656.996781229636,
          -7656.916209502424,
          -7656.475560551486,
          -7655.810199998319,
          -7653.579219780396,
          -7653.343301445247,
          -7653.343301445247,
          -7653.343301445247,
          -7653.343301445247,
          -7653.343301445247,
          -7653.343301445247,
          -7653.343301445247,
          -7653.343301445247,
          -7653.343301445247,
          -7652.241956907715,
          -7652.152865217898,
          -7652.113968421102,
          -7651.99609019241,
          -7651.834374694666,
          -7651.415232315966,
          -7650.255975912342,
          -7649.33920000121,
          -7648.116999998689,
          -7647.7909960721,
          -7647.731499999762,
          -7647.682389107399,
          -7647.469238737493,
          -7646.733500000089,
          -7646.733500000089,
          -7646.699900001286,
          -7646.699900001286,
          -7646.636442218104,
          -7646.576089675892,
          -7646.343658901743,
          -7646.314496976974,
          -7646.285566628259,
          -7646.261864931222,
          -7646.180500000715,
          -7645.8595142795875,
          -7645.732442823271,
          -7645.6607876575035,
          -7645.610077130521,
          -7645.559099998325,
          -7645.558400001377,
          -7645.191225015415,
          -7645.025672374883,
          -7644.960177570336,
          -7644.893836905537,
          -7644.886068185171,
          -7644.84284956768,
          -7644.777622354411,
          -7644.746509637885,
          -7644.713262862313,
          -7644.4953666677075,
          -7644.365146112375,
          -7644.3038466897315,
          -7644.278508366051,
          -7644.18918638034,
          -7644.01243109285,
          -7643.833099527749,
          -7643.817662790669,
          -7643.697516999352,
          -7643.3229841197035,
          -7643.289777269159,
          -7643.187400165219,
          -7643.130242482538,
          -7643.000199999659,
          -7642.797866873924,
          -7642.764985533359,
          -7642.673226161187,
          -7642.662599999458,
          -7642.56660208688,
          -7642.552822222519,
          -7642.334043094544,
          -7642.314570450088,
          -7642.3063612678325,
          -7642.246561081509,
          -7642.223135551008,
          -7642.199498868656,
          -7642.146887548528,
          -7642.104230343446,
          -7641.965138072635,
          -7641.960914762188,
          -7641.8535730876065,
          -7641.805496029359,
          -7641.787153982655,
          -7641.774127200158,
          -7641.7636168052295,
          -7641.741721473628,
          -7641.725299999118,
          -7641.687096105292,
          -7641.6803999990225,
          -7641.6803999990225,
          -7641.599247100243,
          -7641.563092752373,
          -7641.559583115063,
          -7641.499303368108,
          -7641.446142856564,
          -7641.380978970188,
          -7641.35243999958,
          -7641.3450818254905,
          -7641.315999999642,
          -7641.268708649845,
          -7641.233381913672,
          -7641.187289714304,
          -7641.133799999952,
          -7641.033972696655,
          -7641.010339187401,
          -7640.9261499987915,
          -7640.92504870708,
          -7640.842587442076,
          -7640.716593602393,
          -7640.669510230892,
          -7640.5713064885485,
          -7640.5182744042,
          -7640.431466392934,
          -7640.416866630529,
          -7640.311449518238,
          -7640.181925952572,
          -7640.151466657513,
          -7640.094799999148,
          -7640.030671486139,
          -7640.016521320022,
          -7639.759229676641,
          -7639.75088308967,
          -7639.7358565852355,
          -7639.649241476663,
          -7639.5989999994645,
          -7639.5989999994645,
          -7639.594869953629,
          -7639.553123746436,
          -7639.476597227735,
          -7639.445598710654,
          -7639.4004946544055,
          -7639.345315501557,
          -7639.345078123829,
          -7639.282102513454,
          -7639.239146557478,
          -7639.205498620804,
          -7639.186566410442,
          -7639.169579231336,
          -7639.166702848139,
          -7639.161576096406,
          -7639.109632882691,
          -7638.939476941779,
          -7638.915550823144,
          -7638.910299999018,
          -7638.856276810215,
          -7638.818726054509,
          -7638.768011149544,
          -7638.6821104960145,
          -7638.637716568229,
          -7638.5746633789295,
          -7638.286777193522,
          -7638.193799998611,
          -7638.178664941463,
          -7638.1730634137475,
          -7638.033510939613,
          -7638.022660439881,
          -7638.01890505048,
          -7637.944119998812,
          -7637.922800000757,
          -7637.922800000757,
          -7637.922588111237,
          -7637.78295181145,
          -7637.725548641118,
          -7637.704833570846,
          -7637.642129593824,
          -7637.63500148025,
          -7637.633104535363,
          -7637.5853004425235,
          -7637.577038416049,
          -7637.557442799341,
          -7637.55456227177,
          -7637.535798160029,
          -7637.520333808902,
          -7637.423799999056,
          -7637.423799999056,
          -7637.423799999056,
          -7637.423799999056,
          -7637.418826227426,
          -7637.4020340768175,
          -7637.311943823879,
          -7637.187733334798,
          -7637.183464618143,
          -7637.1813778647265,
          -7637.13640000139,
          -7637.100392496527,
          -7637.083443955691,
          -7637.071555312629,
          -7637.021409585619,
          -7637.009211240366,
          -7637.001561150843,
          -7636.958372063719,
          -7636.895626662628,
          -7636.894637501333,
          -7636.882219276674,
          -7636.857206490324,
          -7636.82840000093,
          -7636.820696448656,
          -7636.78198395717,
          -7636.6773482751505,
          -7636.654005052915,
          -7636.582831075982,
          -7636.553816009117,
          -7636.553698368117,
          -7636.531330172304,
          -7636.438745559319,
          -7636.400181627991,
          -7636.398131450962,
          -7636.39292173685,
          -7636.0813335230005,
          -7636.081282111812,
          -7636.040199998766,
          -7636.033333751058,
          -7635.627941694752,
          -7635.382885713662,
          -7635.339141358791,
          -7635.2217999994755,
          -7635.195180851523,
          -7635.169694013809,
          -7635.065854634991,
          -7634.914990073462,
          -7634.833296193271,
          -7634.759267468504,
          -7634.726194945384,
          -7634.54482007356,
          -7634.494454552613,
          -7634.475921406697,
          -7634.408182257251,
          -7634.406271164592,
          -7634.2296001664745,
          -7634.211465844939,
          -7634.155202303148,
          -7634.1447798421095,
          -7634.106117499488,
          -7634.0264203256775,
          -7633.894600000232,
          -7633.874600000678,
          -7633.874600000678,
          -7633.874600000678,
          -7633.874600000678,
          -7633.802238650173,
          -7633.634940480954,
          -7633.54917987814,
          -7633.45898608972,
          -7633.427577396892,
          -7633.347579696844,
          -7633.244284231332,
          -7633.232864105415,
          -7633.1259272725065,
          -7633.1187358818825,
          -7632.979075922599,
          -7632.974395187668,
          -7632.9672038631825,
          -7632.917926715208,
          -7632.834499999882,
          -7632.834499999882,
          -7632.834499999882,
          -7632.834499999882,
          -7632.834399998189,
          -7632.777600001544,
          -7632.7292540937015,
          -7632.5285325687255,
          -7632.481102396057,
          -7632.416805270464,
          -7632.378879626895,
          -7632.282603512898,
          -7632.2586999982595,
          -7632.2586999982595,
          -7632.1884581283775,
          -7632.108204304523,
          -7632.069805293269,
          -7631.911033387334,
          -7631.768406853054,
          -7631.7445274074635,
          -7631.671398190359,
          -7631.590797885047,
          -7631.480929608824,
          -7631.104188775795,
          -7631.058458810804,
          -7630.855576359786,
          -7630.37149396651,
          -7630.07808084597,
          -7629.573514667455,
          -7628.522900736575,
          -7628.391508411526,
          -7628.038556673609,
          -7627.531166200086,
          -7626.970294948404,
          -7621.81523590075,
          -7621.722562803074,
          -7621.667416209417,
          -7621.351189759993,
          -7619.012816854327,
          -7618.987409900411,
          -7618.71421039816,
          -7618.486732351464,
          -7618.420081505938,
          -7618.415899999441,
          -7618.0971127551575,
          -7618.087354940982,
          -7617.699243328004,
          -7616.97829999961,
          -7616.948850388485,
          -7616.89829421054,
          -7616.891914166611,
          -7616.854985128832,
          -7616.798543023435,
          -7616.700438645403,
          -7616.645292489777,
          -7616.641075820367,
          -7616.572262020362,
          -7616.538604847725,
          -7616.359925877942,
          -7616.302438910324,
          -7616.200419176741,
          -7616.128433470197,
          -7616.099599998443,
          -7616.099599998443,
          -7615.9544971644555,
          -7615.527718182751,
          -7615.037843382428,
          -7613.9581910840225,
          -7611.483683102622,
          -7611.30760181269,
          -7611.2480102360705,
          -7611.196229663149,
          -7610.8997999988505,
          -7610.8997999988505,
          -7610.847664929771,
          -7610.512136383857,
          -7610.509399998933,
          -7609.725675000342,
          -7609.362763637166,
          -7609.254574267566,
          -7609.209370158644,
          -7609.1668138284485,
          -7609.152702315091,
          -7609.072139018979,
          -7609.021200001242,
          -7609.021200001242,
          -7609.021200001242,
          -7608.834281650502,
          -7607.076600000262,
          -7605.384652840472,
          -7605.248300001025,
          -7605.1441607820325,
          -7604.881661400512,
          -7604.707519509874,
          -7604.554351961245,
          -7603.833050605849,
          -7603.774164535382,
          -7603.7603021980285,
          -7603.584815539185,
          -7603.335900001228,
          -7603.335900001228,
          -7603.134732174788,
          -7603.103500000201,
          -7603.094379913346,
          -7603.0212026458985,
          -7602.978780438709,
          -7602.945293648199,
          -7602.9328742069865,
          -7602.889080000667,
          -7602.8439640950255,
          -7602.7870238361475,
          -7602.677417979874,
          -7601.6940757922375,
          -7601.5887339273795,
          -7601.3869999982435,
          -7601.3869999982435,
          -7601.1522262700655,
          -7600.791219984823,
          -7600.121737446621,
          -7597.501729793644,
          -7597.3261627309375,
          -7596.9070316276975,
          -7596.727231275496,
          -7596.677064354325,
          -7596.474079346869,
          -7596.378345234551,
          -7595.9739999994645,
          -7595.9739999994645,
          -7595.9452289535975,
          -7595.539200640763,
          -7595.485297560111,
          -7595.180759487032,
          -7594.8471000008285,
          -7594.5784374992345,
          -7594.524293113694,
          -7594.3924630044385,
          -7594.265541225492,
          -7594.170226581782,
          -7594.1251444431655,
          -7594.105457201049,
          -7594.034899998456,
          -7594.034899998456,
          -7594.034899998456,
          -7594.01834609583,
          -7593.9219174451855,
          -7593.602364540168,
          -7593.080184651676,
          -7592.953184653679,
          -7592.867184656054,
          -7592.5732710097745,
          -7592.562300000341,
          -7592.234935296062,
          -7592.164003069832,
          -7592.149517155675,
          -7592.090242046203,
          -7592.050954342571,
          -7591.876343050036,
          -7590.076329442959,
          -7589.661824304588,
          -7589.367524770076,
          -7589.17943744184,
          -7589.066216434082,
          -7588.941392697304,
          -7588.600915043993,
          -7588.433236261526,
          -7588.031571666017,
          -7587.86576666683,
          -7587.800430000201,
          -7587.788900000208,
          -7587.539083333687,
          -7587.43597205984,
          -7587.212400000542,
          -7587.1901736464515,
          -7587.135331101083,
          -7586.94481643335,
          -7586.943686097959,
          -7586.757339517697,
          -7586.491921552958,
          -7585.389976224599,
          -7571.618299998344,
          -7571.112365934228,
          -7570.555293005406,
          -7570.069794212661,
          -7569.852786891927,
          -7569.47773984335,
          -7568.985890470764,
          -7568.7427071457705,
          -7568.737138064865,
          -7567.1748089135635,
          -7565.108510155203,
          -7563.288365230448,
          -7562.745988283166,
          -7562.7170999981445,
          -7562.7170999981445,
          -7562.626887461309,
          -7562.071363164248,
          -7560.599636938112,
          -7560.376400001346,
          -7560.376299999654,
          -7559.755181129351,
          -7559.678073717381,
          -7559.669459744178,
          -7559.659568883084,
          -7559.588993597061,
          -7559.475875814883,
          -7558.859013839282,
          -7557.681318827978,
          -7557.615859403625,
          -7555.68347849491,
          -7555.557679144395,
          -7555.422550381384,
          -7554.897451104533,
          -7554.781968196429,
          -7553.960000000893,
          -7551.117335829494,
          -7545.863604722733,
          -7543.960387002566,
          -7543.7692461772485,
          -7541.982900001109,
          -7541.533239097404,
          -7541.141068198883,
          -7540.467679453479,
          -7540.206369008663,
          -7539.960816837991,
          -7539.1092125820105,
          -7538.918078753119,
          -7538.841261577577,
          -7538.567995184422,
          -7537.852669864206,
          -7537.578472479409,
          -7537.45423347244,
          -7537.110861589088,
          -7537.024899770331,
          -7536.826600000262,
          -7536.820310922278,
          -7536.731668054587,
          -7536.45222842588,
          -7536.092913756452,
          -7535.763000000268,
          -7535.763000000268,
          -7535.763000000268,
          -7535.763000000268,
          -7535.209515403956,
          -7535.1590698659975,
          -7534.868645769628,
          -7534.43217116002,
          -7533.882036870306,
          -7533.657621146125,
          -7533.432100001723,
          -7533.086327375368,
          -7530.818236876223,
          -7530.756500470333,
          -7530.676287159453,
          -7530.497509861851,
          -7530.37519690338,
          -7530.048346090224,
          -7528.608068633825,
          -7528.231764735641,
          -7526.790756547549,
          -7526.747516114764,
          -7526.6018355951355,
          -7526.3016578073075,
          -7526.245871419531,
          -7526.144709164989,
          -7525.818129986525,
          -7525.570691577632,
          -7525.3140982864,
          -7525.179445511755,
          -7524.709499999882,
          -7524.486762481272,
          -7524.341239839973,
          -7524.1088000014415,
          -7523.820147866238,
          -7523.7790129288305,
          -7523.198608651502,
          -7522.974166686505,
          -7522.9659893672315,
          -7522.859608603659,
          -7522.347115323991,
          -7521.969221539965,
          -7521.829906172597,
          -7521.608766524695,
          -7521.063506393428,
          -7520.750472798942,
          -7519.672803782073,
          -7519.585929014242,
          -7519.366759120611,
          -7518.690335069141,
          -7517.585799999535,
          -7517.585799999535,
          -7517.585799999535,
          -7516.988017306853,
          -7516.795159180553,
          -7516.7214044467,
          -7516.657719003578,
          -7516.488574058096,
          -7516.442265305174,
          -7516.413621235639,
          -7516.243748025889,
          -7516.166253165391,
          -7515.946557591867,
          -7515.916799399858,
          -7514.572369373022,
          -7513.782243633001,
          -7513.38268906325,
          -7513.104490716009,
          -7512.888872572893,
          -7512.638834284745,
          -7512.63280000165,
          -7512.593647911313,
          -7512.591427729558,
          -7512.539079229937,
          -7512.31796745377,
          -7511.736699998379,
          -7511.46810242698,
          -7510.766136903991,
          -7510.211205821484,
          -7510.211205821484,
          -7509.805454559653,
          -7508.003342895347,
          -7507.826979868089,
          -7507.670600000769,
          -7507.640599999577,
          -7507.291461114012,
          -7506.96953939477,
          -7506.96953939477,
          -7506.844350000843,
          -7506.834382981095,
          -7506.762699998915,
          -7506.073256182617,
          -7505.951038477613,
          -7505.877578996672,
          -7505.670722600563,
          -7505.615952718015,
          -7505.090623468643,
          -7504.397316419842,
          -7504.153499998152,
          -7504.021799831146,
          -7503.868590694269,
          -7503.835681478446,
          -7503.815444673117,
          -7503.492802418426,
          -7502.891317360459,
          -7502.632044688822,
          -7502.285158204298,
          -7502.206913101003,
          -7502.170424445466,
          -7501.7450825006545,
          -7501.357952542378,
          -7501.276003041326,
          -7500.998802696078,
          -7500.996693142145,
          -7500.891911364528,
          -7500.638202732991,
          -7499.377574073214,
          -7499.0632321689445,
          -7498.697363540885,
          -7498.577445475569,
          -7498.3426440964295,
          -7498.058071977189,
          -7497.755715158189,
          -7497.42807644004,
          -7497.026701602182,
          -7496.28180468907,
          -7495.664690177126,
          -7493.380350023599,
          -7492.046013872357,
          -7491.030633945018,
          -7488.921540649916,
          -7488.809000000358,
          -7484.8092417859925,
          -7482.157780195719,
          -7479.755600001663,
          -7479.755600001663,
          -7479.546546123745,
          -7478.179274505509,
          -7476.421569465564,
          -7476.283341172662,
          -7474.0380025282275,
          -7473.791198919826,
          -7472.278562326324,
          -7470.7121142965125,
          -7470.425400000066,
          -7469.372002924068,
          -7469.0327878860035,
          -7468.448112149078,
          -7466.934550177129,
          -7466.25206682841,
          -7461.284156751681,
          -7460.997499998659,
          -7460.602512051023,
          -7460.452553208955,
          -7460.286494345822,
          -7460.0372159525305,
          -7459.939455551292,
          -7459.73507910675,
          -7459.3324654505295,
          -7458.876295280046,
          -7458.844099998474,
          -7458.726599998772,
          -7458.726599998772,
          -7458.604499999434,
          -7458.346797777967,
          -7457.360650304054,
          -7456.71521028611,
          -7456.649500001222,
          -7456.38929338787,
          -7456.065033372026,
          -7456.021041989412,
          -7455.725834169706,
          -7454.607591598517,
          -7453.854089940272,
          -7453.812380220071,
          -7452.844588022715,
          -7452.5660365302465,
          -7452.177097026673,
          -7438.840164787475,
          -7438.788897284359,
          -7437.605307669639,
          -7437.5567577981665,
          -7436.896273802904,
          -7436.557598417916,
          -7436.533420393472,
          -7436.432202518687,
          -7435.974289788048,
          -7435.5183999985475,
          -7435.388334590422,
          -7435.346001970688,
          -7435.22594210535,
          -7434.970466633446,
          -7434.92831523342,
          -7434.736391970779,
          -7434.589285367285,
          -7434.531183496972,
          -7434.353100001811,
          -7434.353100001811,
          -7434.31049999967,
          -7434.276577289368,
          -7434.238600000738,
          -7434.204065745388,
          -7433.105975041396,
          -7432.755048162937,
          -7432.684433077416,
          -7432.02851100418,
          -7431.713899999857,
          -7430.116568842802,
          -7429.966117950253,
          -7429.609017984399,
          -7427.0744790509325,
          -7425.0347873894825,
          -7425.011610020214,
          -7424.905383463056,
          -7424.833564803986,
          -7424.812344465407,
          -7424.812344465407,
          -7424.812344465407,
          -7424.5910807069495,
          -7424.398503460131,
          -7424.093176847243,
          -7423.8977483286035,
          -7423.656973913433,
          -7423.1761999987075,
          -7423.1761999987075,
          -7423.0968442776575,
          -7423.075599998236,
          -7422.813371034594,
          -7422.6833697641005,
          -7422.552545754045,
          -7422.468920119258,
          -7422.280900001526,
          -7422.280900001526,
          -7422.280900001526,
          -7422.109600000083,
          -7421.486098892208,
          -7420.7689261554015,
          -7420.652982427277,
          -7420.426334573697,
          -7420.1215808087245,
          -7419.868279336198,
          -7419.78586577173,
          -7419.687381487943,
          -7419.3227154040005,
          -7418.379865920637,
          -7418.115146545631,
          -7417.555128839069,
          -7416.797699999062,
          -7414.4502833342785,
          -7413.9408429863415,
          -7411.0939933933,
          -7410.584705855866,
          -7409.611999999732,
          -7408.720099650108,
          -7408.192551686271,
          -7407.6273027373145,
          -7407.384202505495,
          -7407.248439790176,
          -7406.62981814902,
          -7406.337999493077,
          -7406.178665990164,
          -7406.098421883294,
          -7405.956991638471,
          -7405.881999999285,
          -7405.372539550391,
          -7405.1945348285635,
          -7405.1024000011375,
          -7404.897642281614,
          -7404.542141982065,
          -7404.477984488638,
          -7404.384356845472,
          -7402.404284370662,
          -7401.584287877059,
          -7399.784893956021,
          -7399.231623873045,
          -7398.587628572115,
          -7398.396905991821,
          -7397.56092565415,
          -7397.033907008754,
          -7396.89062958991,
          -7396.549482593195,
          -7394.601053248651,
          -7394.519672667868,
          -7394.415547616139,
          -7394.2263701461125,
          -7393.85430226658,
          -7393.435149921725,
          -7391.01192857059,
          -7390.581250262172,
          -7390.054495093123,
          -7389.454517136691,
          -7389.226916960269,
          -7386.7525999993095,
          -7386.605974067408,
          -7386.221972295705,
          -7385.87153571578,
          -7385.799964943388,
          -7385.478494210823,
          -7385.400800000876,
          -7385.400800000876,
          -7385.198520906876,
          -7384.964072566054,
          -7384.384599998592,
          -7384.384599998592,
          -7384.233505771906,
          -7383.867220982212,
          -7383.6993921659305,
          -7383.342698935756,
          -7383.328817266838,
          -7383.035103264628,
          -7382.330366183575,
          -7382.117425664686,
          -7382.056376086582,
          -7381.959920241307,
          -7381.842482693231,
          -7381.649541666421,
          -7381.325965382171,
          -7380.513799998907,
          -7379.351682676892,
          -7378.032321294031,
          -7377.9131434493165,
          -7377.529050483299,
          -7377.087643060229,
          -7377.067904715629,
          -7377.023840085312,
          -7376.931626411905,
          -7376.803530225771,
          -7376.419615953481,
          -7375.877500001341,
          -7375.877500001341,
          -7375.086537200927,
          -7374.888738568872,
          -7374.504199998963,
          -7374.366807154717,
          -7374.308033332229,
          -7374.302079940629,
          -7374.285158536455,
          -7374.254087498877,
          -7373.242687185409,
          -7372.830904042898,
          -7372.664041475764,
          -7372.609778027627,
          -7371.898460000753,
          -7371.480203799097,
          -7370.427219998835,
          -7370.308062256579,
          -7367.749533335057,
          -7367.665604089931,
          -7366.634500000626,
          -7366.096027965808,
          -7366.0852786761425,
          -7365.824882550541,
          -7365.170680462736,
          -7365.076819810491,
          -7364.492817573538,
          -7364.015689999609,
          -7362.995453639043,
          -7360.754057143948,
          -7360.695033334817,
          -7360.6561600014575,
          -7360.2352367268395,
          -7359.5028015520265,
          -7359.349039310367,
          -7358.774700000135,
          -7358.7456048446375,
          -7358.673269750768,
          -7358.516829515868,
          -7358.485367071776,
          -7358.450451301361,
          -7358.379579473465,
          -7358.269885001644,
          -7357.531252906464,
          -7357.391503569515,
          -7357.34156637367,
          -7356.4778156069,
          -7355.990396278593,
          -7354.863583032899,
          -7354.691889338229,
          -7353.771757142354,
          -7353.241445766771,
          -7352.424523455641,
          -7352.2351659727665,
          -7352.06417808977,
          -7351.981125298886,
          -7351.539522335258,
          -7351.046286474268,
          -7350.009644098643,
          -7348.607443805793,
          -7347.220669044234,
          -7346.611345959206,
          -7346.330589261966,
          -7346.297875611987,
          -7345.87224664235,
          -7345.803899999708,
          -7345.671723186018,
          -7345.639826238431,
          -7345.591416272658,
          -7345.565795183947,
          -7345.316954613952,
          -7345.249364511099,
          -7345.2284819713705,
          -7345.0851699093055,
          -7344.182656829503,
          -7343.206695387632,
          -7342.972399998456,
          -7342.736770755633,
          -7342.7090895645215,
          -7342.596549391886,
          -7341.347340481623,
          -7341.247568426404,
          -7340.558777131093,
          -7340.519103401064,
          -7340.466578977114,
          -7339.547341287987,
          -7339.168003155733,
          -7339.123771427998,
          -7339.088376952875,
          -7338.807210418774,
          -7338.793340000509,
          -7338.4888333330555,
          -7338.4888333330555,
          -7338.451890542135,
          -7338.20283280169,
          -7337.999906722742,
          -7337.790119149856,
          -7337.775408467097,
          -7337.118525250426,
          -7336.6486916792455,
          -7335.906199999154,
          -7333.795755361259,
          -7332.1342594739845,
          -7331.900097351846,
          -7331.788546637271,
          -7331.1790000014025,
          -7331.1790000014025,
          -7331.1790000014025,
          -7331.100099999458,
          -7330.881523851488,
          -7329.7303613974045,
          -7329.030799999833,
          -7327.957397525542,
          -7327.404995579134,
          -7327.346846005691,
          -7327.0109317232545,
          -7325.815571195094,
          -7325.696196629609,
          -7325.688299349291,
          -7325.190744341132,
          -7324.758898928099,
          -7324.374750176221,
          -7324.144263157842,
          -7323.8266838243335,
          -7323.6579032276,
          -7323.251427945623,
          -7323.175950052059,
          -7322.953825041805,
          -7322.241599999366,
          -7321.582096425758,
          -7320.66059014783,
          -7319.549444900602,
          -7318.7835859091065,
          -7318.456186552751,
          -7318.440245424106,
          -7317.550498728719,
          -7317.394699687798,
          -7317.344231077765,
          -7317.2944102390775,
          -7317.227899998426,
          -7316.945209823189,
          -7316.90971591283,
          -7316.9016541943165,
          -7316.672522646042,
          -7316.472082156773,
          -7316.348103694842,
          -7315.698916212307,
          -7315.681215936685,
          -7315.559750000015,
          -7315.552884615385,
          -7315.541899999976,
          -7315.47049999982,
          -7315.291999999434,
          -7315.283556228315,
          -7315.080544204484,
          -7314.968294913922,
          -7314.611699998379,
          -7314.001354584349,
          -7313.808492191816,
          -7313.731119778006,
          -7313.549886666487,
          -7313.201409156708,
          -7313.080254957027,
          -7312.914295886737,
          -7312.7029922491,
          -7312.58323821798,
          -7312.349133914621,
          -7312.024867863103,
          -7311.872768004977,
          -7311.4756875463745,
          -7311.438734866148,
          -7310.512057110302,
          -7310.4241694986185,
          -7310.299179000072,
          -7309.62392746803,
          -7309.324009812239,
          -7309.219399999825,
          -7309.219399999825,
          -7309.219399999825,
          -7309.219399999825,
          -7309.219399999825,
          -7309.219399999825,
          -7309.219399999825,
          -7309.219399999825,
          -7309.219399999825,
          -7309.219399999825,
          -7303.794295821339,
          -7299.786516730872
         ],
         "yaxis": "y"
        },
        {
         "line": {
          "color": "red"
         },
         "mode": "lines",
         "showlegend": false,
         "type": "scatter",
         "y": [
          -7681.7248800002035,
          -7661.194559999555,
          -7674.830179999024,
          -7684.782079999149,
          -7685.9651799991725,
          -7684.032779999822,
          -7684.125079998374,
          -7681.096159999072,
          -7675.679019999504,
          -7679.842879999429,
          -7679.213439998774,
          -7670.057079999894,
          -7658.643760000169,
          -7686.207339999824,
          -7679.563579999655,
          -7681.374479998648,
          -7679.695279999078,
          -7678.371419999004,
          -7675.727699999511,
          -7672.787799999863,
          -7680.121920000017,
          -7675.679019999504,
          -7671.792539999634,
          -7678.257019998879,
          -7684.029279999435,
          -7678.420099999011,
          -7682.08439999819,
          -7683.501600000262,
          -7682.079180000723,
          -7680.524839999527,
          -7675.679019999504,
          -7682.723519998789,
          -7675.299819999188,
          -7680.800059998781,
          -7680.1179999992255,
          -7680.177119999379,
          -7676.902739999443,
          -7683.29056000039,
          -7680.636720000208,
          -7681.7248800002035,
          -7662.872839999944,
          -7663.992579999566,
          -7679.213439998774,
          -7678.441699999571,
          -7674.059979999065,
          -7677.509219998868,
          -7669.210159998387,
          -7673.782459999622,
          -7679.0082799986,
          -7682.179339998215,
          -7678.914859998226,
          -7672.957999999821,
          -7678.778360000253,
          -7675.306560000034,
          -7679.9149399988355,
          -7681.381479998678,
          -7672.592619998753,
          -7676.902739999443,
          -7662.872839999944,
          -7668.21235999912,
          -7676.6272999987,
          -7672.383179999888,
          -7672.637519999594,
          -7679.334499999137,
          -7679.762179999054,
          -7676.902739999443,
          -7674.335419999808,
          -7664.254840000719,
          -7662.872839999944,
          -7665.112319999188,
          -7666.923840001227,
          -7667.339800000191,
          -7665.399740000814,
          -7668.868599999696,
          -7662.872839999944,
          -7660.201940000057,
          -7662.872839999944,
          -7662.872839999944,
          -7658.503820001334,
          -7655.577859999985,
          -7657.60495999977,
          -7658.503820001334,
          -7659.186519999802,
          -7662.9748800002035,
          -7666.298859999329,
          -7648.5237999998035,
          -7665.034359999746,
          -7667.008699999749,
          -7660.714299999922,
          -7657.60495999977,
          -7652.8968000002205,
          -7658.401799999922,
          -7650.061899998784,
          -7649.9563399992885,
          -7656.815920000523,
          -7658.401799999922,
          -7662.872839999944,
          -7647.341400001198,
          -7648.1910805776715,
          -7665.233999998866,
          -7658.23784000054,
          -7662.953279998898,
          -7658.479579998553,
          -7652.407020000368,
          -7654.488559998572,
          -7646.772740577161,
          -7647.247420288622,
          -7647.989839999378,
          -7646.456520288438,
          -7641.967339998484,
          -7647.650060577691,
          -7646.25153999999,
          -7646.25153999999,
          -7650.940601155909,
          -7647.650060577691,
          -7645.489619999379,
          -7644.577379999309,
          -7649.373760001361,
          -7651.459620001166,
          -7643.913559998572,
          -7649.426319999993,
          -7650.16560000181,
          -7650.16560000181,
          -7643.9991799995305,
          -7648.756040001661,
          -7649.585640001297,
          -7645.1688800007105,
          -7646.423599999398,
          -7643.792219998688,
          -7646.423599999398,
          -7643.60353999883,
          -7649.431620000301,
          -7651.297320000082,
          -7645.703159999847,
          -7648.7735799998045,
          -7646.320359999687,
          -7646.043779999763,
          -7642.361320000887,
          -7645.593499999493,
          -7653.574460000545,
          -7643.404740288109,
          -7645.807440577449,
          -7642.974800288679,
          -7643.861519999802,
          -7643.482299999892,
          -7646.202639999986,
          -7645.24693999961,
          -7647.447880000621,
          -7644.262100000679,
          -7644.262100000679,
          -7633.041499998419,
          -7646.231720577181,
          -7633.041499998419,
          -7643.774559999258,
          -7644.652000001073,
          -7647.611759999394,
          -7640.307380001247,
          -7646.805700000374,
          -7644.333819999546,
          -7643.117800001055,
          -7639.538460000605,
          -7646.597940000145,
          -7645.100800000876,
          -7653.6437399990855,
          -7635.6803999990225,
          -7640.638599999249,
          -7648.939460001139,
          -7647.359340000153,
          -7644.917999999225,
          -7641.5759199999275,
          -7643.872200000286,
          -7647.808179999143,
          -7638.511040000618,
          -7644.200320000947,
          -7639.765399999917,
          -7640.489319999516,
          -7640.814400000125,
          -7641.75047999993,
          -7640.830079998821,
          -7638.603414203227,
          -7636.220460000634,
          -7639.895060001314,
          -7642.361320000887,
          -7640.5038399994355,
          -7647.869820000231,
          -7640.442840000242,
          -7636.996159999818,
          -7641.531840000302,
          -7640.149199999124,
          -7639.582100000979,
          -7640.891619998962,
          -7641.183120000361,
          -7640.031880000233,
          -7642.15289999917,
          -7640.408260000497,
          -7651.297320000082,
          -7646.235239998996,
          -7644.93706028834,
          -7639.886680000275,
          -7639.512399999051,
          -7640.5037000000475,
          -7640.497540000826,
          -7638.062880000472,
          -7638.718739999831,
          -7639.600600000471,
          -7641.629219999164,
          -7640.567840000242,
          -7640.149199999124,
          -7640.2013599999245,
          -7652.254799998552,
          -7640.83818000108,
          -7640.42683999911,
          -7639.871999999881,
          -7644.248700287938,
          -7640.45067999959,
          -7642.933819998801,
          -7638.7483071014285,
          -7640.62273999974,
          -7640.147079999745,
          -7640.442840000242,
          -7634.70252000168,
          -7639.271319999546,
          -7640.2013599999245,
          -7637.025439999998,
          -7639.2940200001,
          -7644.650179999322,
          -7630.372500000149,
          -7640.3087999999525,
          -7638.953360001741,
          -7639.05252000168,
          -7639.423080001026,
          -7642.933819998801,
          -7640.600840000809,
          -7640.639639998973,
          -7639.054780000448,
          -7639.028519999236,
          -7639.403079999238,
          -7640.13650000021,
          -7645.501339999586,
          -7638.9662799991665,
          -7639.452679999173,
          -7638.921440000832,
          -7637.2239800006155,
          -7638.09015999958,
          -7638.804499998689,
          -7644.754640000314,
          -7638.511040000618,
          -7638.374060000479,
          -7641.494920000432,
          -7639.024159999935,
          -7638.239020000398,
          -7642.933819998801,
          -7637.103760000318,
          -7637.40278000012,
          -7639.637799999864,
          -7635.991239999979,
          -7633.20326000154,
          -7638.9489200003445,
          -7639.059740000218,
          -7638.343400000781,
          -7638.169199998677,
          -7638.90632000044,
          -7637.748680000752,
          -7637.07819999978,
          -7638.534960000217,
          -7638.718739999831,
          -7637.782306643576,
          -7636.446719999612,
          -7639.053200000524,
          -7638.214100000262,
          -7643.144919999689,
          -7637.084479999542,
          -7640.328300001473,
          -7637.111320000887,
          -7638.071419999748,
          -7638.727520000934,
          -7637.9182399995625,
          -7633.3952600002285,
          -7635.9945399999615,
          -7638.083920001239,
          -7625.1453200005,
          -7638.429159999639,
          -7636.443419999629,
          -7637.046739999205,
          -7637.438880000262,
          -7636.118199999631,
          -7637.075979999453,
          -7637.1747599996625,
          -7628.806200001389,
          -7638.613079999387,
          -7638.451299998909,
          -7635.9109600015,
          -7637.848480000347,
          -7636.7372599996625,
          -7639.4055000007165,
          -7637.575160000473,
          -7638.727199999243,
          -7636.522079999745,
          -7636.015980000049,
          -7637.472760000825,
          -7631.265399999917,
          -7639.313520000875,
          -7636.194139999151,
          -7639.546840000898,
          -7639.042639999837,
          -7639.752740000933,
          -7639.155200000852,
          -7638.806040000915,
          -7636.322840000689,
          -7637.838620001077,
          -7637.99568664357,
          -7637.256999999285,
          -7639.507680000364,
          -7642.084199999273,
          -7635.202819999307,
          -7637.467279999703,
          -7634.933400001377,
          -7630.479379999638,
          -7635.572860001028,
          -7621.043740000576,
          -7634.124940001219,
          -7633.270179999619,
          -7633.669680001587,
          -7629.115900000184,
          -7627.173920000345,
          -7633.074319998918,
          -7633.702440000326,
          -7633.386599998921,
          -7632.633999998868,
          -7630.153959999979,
          -7635.202819999307,
          -7623.915599998832,
          -7622.394319999963,
          -7633.258779999614,
          -7634.258860000968,
          -7638.301400000602,
          -7633.146019999683,
          -7624.672880001366,
          -7633.403159999102,
          -7628.134500000626,
          -7633.725439998508,
          -7633.747759999334,
          -7634.725239999592,
          -7628.9143400006,
          -7635.572860001028,
          -7633.707159999013,
          -7634.725239999592,
          -7637.877380000054,
          -7633.258779999614,
          -7633.205600000918,
          -7634.236499999463,
          -7635.6803999990225,
          -7633.205600000918,
          -7633.205600000918,
          -7633.139959999919,
          -7615.667540000379,
          -7633.041499998419,
          -7633.205600000918,
          -7634.2253399990495,
          -7631.195819999278,
          -7634.702919998765,
          -7634.656699999422,
          -7633.729499999434,
          -7624.605120000988,
          -7621.387300001084,
          -7634.70252000168,
          -7627.860620000958,
          -7634.258860000968,
          -7626.458999999612,
          -7630.680080001056,
          -7622.346440001577,
          -7620.611460001021,
          -7622.977419999242,
          -7627.0271000005305,
          -7629.184920000285,
          -7617.621580000222,
          -7634.928040001541,
          -7624.239620001614,
          -7634.725239999592,
          -7638.0251199997965,
          -7639.831220000237,
          -7627.349420000613,
          -7610.739519999176,
          -7640.871919999272,
          -7637.622659999875,
          -7637.3679399997,
          -7628.134500000626,
          -7637.984260001033,
          -7634.725239999592,
          -7631.475180000812,
          -7622.9092999994755,
          -7630.9161200009285,
          -7625.807160000503,
          -7624.2115000009535,
          -7626.153440001607,
          -7613.767840000987,
          -7619.773420001567,
          -7626.470679999888,
          -7627.332980000972,
          -7611.188959999383,
          -7622.664459999649,
          -7618.405520001053,
          -7612.218279999494,
          -7614.46494000107,
          -7610.734339999408,
          -7616.497300000488,
          -7614.081700000167,
          -7615.576920001209,
          -7616.399160000682,
          -7617.514900001139,
          -7613.352960000932,
          -7619.322239999472,
          -7618.228380000592,
          -7614.461180000752,
          -7605.212799999118,
          -7613.7059799999,
          -7609.8984600000085,
          -7629.701159999519,
          -7622.03089999929,
          -7621.363400001079,
          -7626.023259998858,
          -7594.524140000343,
          -7602.216139999777,
          -7619.714220000804,
          -7626.918520000577,
          -7613.055560000241,
          -7607.202920000255,
          -7618.437440001219,
          -7605.103580000252,
          -7611.861500000208,
          -7610.734339999408,
          -7610.001839999854,
          -7608.8647799998525,
          -7591.237640000135,
          -7610.377560000122,
          -7602.472119999677,
          -7616.758860000968,
          -7610.649900000542,
          -7605.212799999118,
          -7600.917760000378,
          -7604.957999999821,
          -7605.2106599994,
          -7602.47221999988,
          -7614.934220000357,
          -7609.2503999993205,
          -7597.805139999837,
          -7599.86278000027,
          -7608.40549999997,
          -7604.006600000709,
          -7603.155240000039,
          -7603.249239999801,
          -7595.1343200005595,
          -7604.620039999485,
          -7612.655860000848,
          -7601.616200000048,
          -7602.395759999752,
          -7602.0059799999,
          -7604.985119999945,
          -7597.1927599996325,
          -7608.955319999904,
          -7603.977059999854,
          -7601.260620000214,
          -7604.088760000467,
          -7603.977059999854,
          -7602.321220000088,
          -7608.489059999585,
          -7595.901859999448,
          -7601.70991999954,
          -7598.554039999843,
          -7602.321220000088,
          -7597.1927599996325,
          -7596.606200000644,
          -7596.899940000474,
          -7602.966619999706,
          -7603.249239999801,
          -7612.655860000848,
          -7601.642960000038,
          -7608.489059999585,
          -7601.9582000002265,
          -7600.917760000378,
          -7599.3513000003995,
          -7597.764680000396,
          -7595.1343200005595,
          -7588.670379998535,
          -7592.368379999697,
          -7599.636639999599,
          -7598.253359999508,
          -7597.396900000424,
          -7595.993580000102,
          -7588.278359998762,
          -7594.651920000464,
          -7597.560539999606,
          -7595.859600000083,
          -7600.192580000311,
          -7599.644079999625,
          -7595.1343200005595,
          -7595.128840000182,
          -7594.651920000464,
          -7596.914500000328,
          -7592.179219999909,
          -7595.605759999901,
          -7595.514039999247,
          -7588.278359998762,
          -7602.092719999702,
          -7589.7478599995375,
          -7594.264100000262,
          -7591.240579999983,
          -7589.747859999539,
          -7589.706519999355,
          -7589.706519999355,
          -7592.179219999909,
          -7591.178899998963,
          -7591.570919998735,
          -7593.219560000301,
          -7588.670379998535,
          -7594.366759999097,
          -7598.8637999996545,
          -7591.918719999492,
          -7589.967019999773,
          -7588.963819999993,
          -7597.31439999938,
          -7595.174340000003,
          -7592.096919998527,
          -7588.534659999609,
          -7591.921799999475,
          -7593.785579999536,
          -7599.919259999692,
          -7592.926319999993,
          -7587.494319999218,
          -7596.726419999451,
          -7593.895319999754,
          -7590.102199999988,
          -7591.976359999925,
          -7601.464159999788,
          -7602.395759999752,
          -7611.527080000192,
          -7565.389601622522,
          -7568.078034310788,
          -7562.887031118572,
          -7561.721723593027,
          -7563.271739999205,
          -7564.609196678549,
          -7559.78200000152,
          -7570.45337536186,
          -7575.068022930622,
          -7569.504974746704,
          -7557.494454851747,
          -7560.290045558661,
          -7561.164865558594,
          -7569.312959998846,
          -7562.192000001669,
          -7561.228000001609,
          -7570.45337536186,
          -7559.497299998999,
          -7558.567879998684,
          -7547.937559999526,
          -7556.818239998817,
          -7559.465949703753,
          -7573.73422293067,
          -7564.824040000885,
          -7558.567879998684,
          -7557.693059998751,
          -7567.049680001289,
          -7537.105960000305,
          -7558.648720000684,
          -7554.542573827505,
          -7537.2607799999405,
          -7557.772940000146,
          -7557.693059998751,
          -7556.0775999993075,
          -7557.693059998751,
          -7536.7921399995685,
          -7556.818239998817,
          -7539.876350802183,
          -7545.474832799286,
          -7536.435899998993,
          -7537.241000000386,
          -7544.086134850234,
          -7543.752419679612,
          -7541.168800000101,
          -7536.607400000095,
          -7537.536020000279,
          -7536.968998140842,
          -7533.044497637451,
          -7541.168800000101,
          -7538.281855928898,
          -7537.241000000386,
          -7535.9782340191305,
          -7542.891213119775,
          -7538.363259999454,
          -7530.5390794985,
          -7529.383580001444,
          -7536.565799999982,
          -7534.472611121833,
          -7537.241000000386,
          -7540.159646559507,
          -7541.956033119559,
          -7536.4928999990225,
          -7541.168800000101,
          -7537.241000000386,
          -7524.993508493901,
          -7536.565799999982,
          -7525.049919999391,
          -7528.504928494245,
          -7527.959288494289,
          -7531.963099999726,
          -7534.441200000794,
          -7528.504928494245,
          -7534.531539496036,
          -7536.560320000349,
          -7524.863817591222,
          -7527.779140000045,
          -7524.863817591222,
          -7528.608068633825,
          -7530.432033367455,
          -7534.928880000114,
          -7516.198399998249,
          -7536.565799999982,
          -7509.653139999509,
          -7533.671000000089,
          -7534.928880000114,
          -7525.818129986525,
          -7510.211205821484,
          -7528.163979999721,
          -7533.671000000089,
          -7524.611294072868,
          -7527.959288494289,
          -7536.020160000026,
          -7527.169124247133,
          -7526.59368449077,
          -7528.478304246813,
          -7521.700179999321,
          -7522.871639999003,
          -7506.691379999369,
          -7536.565799999982,
          -7518.184889119863,
          -7518.146361163259,
          -7533.847600001097,
          -7522.101159998774,
          -7515.483900000157,
          -7506.731899999082,
          -7522.429348494858,
          -7527.906039999425,
          -7516.386862327903,
          -7520.965557289868,
          -7515.526940000059,
          -7516.20368911922,
          -7517.3296945601705,
          -7498.192540001124,
          -7512.565659999847,
          -7519.555831866712,
          -7500.380161352456,
          -7512.522539999336,
          -7511.5214999988675,
          -7516.413621235639,
          -7494.614439999312,
          -7509.648779999465,
          -7512.522539999336,
          -7490.054859999567,
          -7515.577020000666,
          -7511.778299998492,
          -7516.52670000121,
          -7530.788739498705,
          -7506.731899999082,
          -7513.790720000863,
          -7508.529711059481,
          -7515.577020000666,
          -7513.617979999632,
          -7515.526940000059,
          -7509.605659998953,
          -7511.736699998379,
          -7508.566699999571,
          -7505.129660000652,
          -7510.211205821484,
          -7510.211205821484,
          -7510.606699999422,
          -7506.731899999082,
          -7513.331614559889,
          -7508.312054560333,
          -7509.587322120368,
          -7513.566700000316,
          -7500.153960000724,
          -7507.828820000589,
          -7499.494800000638,
          -7505.178760000318,
          -7509.648779999465,
          -7507.5629945606,
          -7502.193960000574,
          -7506.827780000121,
          -7508.566699999571,
          -7514.579379999639,
          -7510.617539999634,
          -7479.029800000042,
          -7493.680219999701,
          -7501.953800000995,
          -7502.204140001535,
          -7507.568259999901,
          -7486.8663599990305,
          -7496.708459998667,
          -7501.953800000995,
          -7505.18319106102,
          -7507.568259999901,
          -7502.449700001627,
          -7497.376620001346,
          -7515.526940000059,
          -7486.022555204481,
          -7505.870140000433,
          -7502.449700001627,
          -7503.41760000065,
          -7507.568259999901,
          -7502.685700000822,
          -7505.129660000652,
          -7505.54056000039,
          -7506.240240000188,
          -7506.240240000188,
          -7497.701420000941,
          -7504.906800001858,
          -7470.420419703424,
          -7486.752603657544,
          -7487.366819998622,
          -7497.3718400008975,
          -7496.969520001114,
          -7506.08285728991,
          -7498.369877288491,
          -7510.467996513098,
          -7489.919799998404,
          -7478.544700000433,
          -7499.82438000068,
          -7492.09407728836,
          -7480.124099999664,
          -7502.449700001627,
          -7483.745459999144,
          -7502.449700001627,
          -7501.868077290058,
          -7480.124099999664,
          -7505.169951867312,
          -7478.078446555883,
          -7474.582499999553,
          -7487.965442185104,
          -7461.809479999542,
          -7460.7679000012595,
          -7469.304099998623,
          -7468.064939998835,
          -7466.894739999622,
          -7464.485380000621,
          -7461.989680000394,
          -7468.064939998835,
          -7457.927200000731,
          -7460.7679000012595,
          -7458.960460000487,
          -7460.7679000012595,
          -7466.2406799994405,
          -7462.507798078656,
          -7458.381099998953,
          -7460.789689039439,
          -7458.381099998953,
          -7458.04930000007,
          -7456.097740000487,
          -7457.927200000731,
          -7460.165420001002,
          -7456.129439999163,
          -7453.200300000608,
          -7457.527899999916,
          -7457.073520000279,
          -7455.121960000693,
          -7454.176680000126,
          -7455.334460000694,
          -7457.24210000038,
          -7459.680460000784,
          -7454.146180000901,
          -7453.200300000608,
          -7457.5835400000215,
          -7458.26419999823,
          -7431.346306786686,
          -7423.888736888021,
          -7436.0347399994735,
          -7436.0347399994735,
          -7431.009255786985,
          -7421.765077726543,
          -7458.26419999823,
          -7452.568409536778,
          -7427.402482891082,
          -7421.900961992144,
          -7425.57562315613,
          -7468.13389999941,
          -7423.060899998993,
          -7429.390257786959,
          -7424.143700000644,
          -7427.90850000009,
          -7439.543800000101,
          -7429.556548894197,
          -7431.009255786985,
          -7433.09457789436,
          -7424.621019999683,
          -7436.0347399994735,
          -7431.33521778658,
          -7441.707140664012,
          -7424.330293998122,
          -7426.8058000005785,
          -7424.610640000552,
          -7424.621019999683,
          -7431.61841999963,
          -7436.926883972436,
          -7421.900961992144,
          -7423.060899998993,
          -7426.10272324085,
          -7424.036480663718,
          -7414.87346998602,
          -7425.661100000143,
          -7422.8539689972995,
          -7421.900961992144,
          -7435.961080000549,
          -7423.888736888021,
          -7425.462219998985,
          -7414.87346998602,
          -7411.328600000592,
          -7414.87346998602,
          -7425.643068205565,
          -7430.379088996352,
          -7420.799480000884,
          -7422.316300000994,
          -7411.399340572952,
          -7415.713930144161,
          -7431.027708204836,
          -7435.067499998959,
          -7419.797833997756,
          -7426.8058000005785,
          -7428.684600000828,
          -7429.722840001434,
          -7425.71528000012,
          -7425.393305641413,
          -7430.061258137971,
          -7428.693219999969,
          -7427.483089140803,
          -7422.258999999614,
          -7419.9798651225865,
          -7416.8075202867385,
          -7413.154010429978,
          -7420.413140001148,
          -7424.621019999683,
          -7414.916941028088,
          -7425.64380000159,
          -7421.36472000107,
          -7410.933140001446,
          -7412.376859999448,
          -7408.534640000015,
          -7409.48492000103,
          -7399.810299999267,
          -7409.471019999684,
          -7410.477439999582,
          -7408.74112547636,
          -7398.245800000429,
          -7412.126979999989,
          -7408.554660000652,
          -7407.552820000053,
          -7401.67669999972,
          -7409.865800000727,
          -7405.410759998858,
          -7408.9259999990445,
          -7360.497299998999,
          -7406.818919998407,
          -7396.004539999366,
          -7406.220880705863,
          -7405.083280000091,
          -7406.571299999207,
          -7409.31385999918,
          -7406.236659998447,
          -7404.230999998748,
          -7400.328820001334,
          -7398.547959998995,
          -7398.534499999136,
          -7394.473719999194,
          -7401.391099999845,
          -7385.7143600009385,
          -7384.729100000113,
          -7334.942339999974,
          -7370.127824570984,
          -7381.059579999,
          -7382.350972244889,
          -7410.466200000793,
          -7406.6179800003765,
          -7353.779559999704,
          -7392.204744914174,
          -7390.734700001776,
          -7381.907100000232,
          -7390.446240000427,
          -7374.419039999693,
          -7360.497299998999,
          -7390.556240000576,
          -7390.095800001174,
          -7382.086967995763,
          -7374.615599999578,
          -7368.349980000405,
          -7366.873180001229,
          -7393.145199999213,
          -7368.893979999423,
          -7391.077199999243,
          -7382.656880000979,
          -7381.915620001404,
          -7406.945220001042,
          -7385.207479999959,
          -7388.785799999535,
          -7379.764380001277,
          -7375.9266079954805,
          -7374.9244199998675,
          -7379.538986662776,
          -7373.052799999716,
          -7379.764380001277,
          -7385.48268000111,
          -7376.005820000917,
          -7366.242400001733,
          -7454.239100001751,
          -7375.040000000596,
          -7365.533199999481,
          -7375.501600001007,
          -7368.3499800004065,
          -7371.784060000628,
          -7380.64504000023,
          -7376.525115990638,
          -7378.97438666299,
          -7373.657000000775,
          -7376.098123331368,
          -7372.844920000434,
          -7388.136720000208,
          -7366.646204036474,
          -7381.518960001318,
          -7373.052799999716,
          -7373.221859999746,
          -7364.296679998934,
          -7375.704200000316,
          -7370.010699998586,
          -7374.258520000428,
          -7366.368479999155,
          -7384.6663599997755,
          -7371.767380914092,
          -7373.523846907168,
          -7373.949620000273,
          -7380.191460000724,
          -7387.814840000123,
          -7363.954540000111,
          -7393.489279999584,
          -7371.784119999409,
          -7373.311739999803,
          -7372.1929399997,
          -7373.630680000037,
          -7369.484440001101,
          -7372.244460000843,
          -7364.709619999677,
          -7331.051279999316,
          -7363.089900001139,
          -7364.475360001624,
          -7376.322060000151,
          -7364.838899999857,
          -7357.907019998878,
          -7369.4531199999155,
          -7360.497299998999,
          -7360.599499999732,
          -7342.295539999008,
          -7363.33372000009,
          -7335.947260001301,
          -7367.545880000293,
          -7368.3499800004065,
          -7362.546000000089,
          -7355.234080000223,
          -7353.882460000366,
          -7330.384619999677,
          -7357.05410000086,
          -7388.9553200006485,
          -7354.637580000611,
          -7349.674819999935,
          -7367.407260000704,
          -7349.440139999986,
          -7357.787779999524,
          -7357.269802496582,
          -7371.933999999614,
          -7341.491990055142,
          -7351.216960000247,
          -7363.282299999148,
          -7351.981125298886,
          -7350.385885059089,
          -7353.813859999925,
          -7347.980111371726,
          -7352.379920001328,
          -7350.99907778725,
          -7352.932156860827,
          -7349.963046414405,
          -7345.80808000043,
          -7354.1845805309695,
          -7348.2691600002345,
          -7352.070251372456,
          -7352.5828313723205,
          -7350.251785497368,
          -7349.9598600000145,
          -7330.016820000112,
          -7328.796100000292,
          -7353.99422000125,
          -7341.416700000316,
          -7349.079740000516,
          -7339.813959999383,
          -7342.435300000012,
          -7352.22106000036,
          -7343.8618000000715,
          -7342.588679999858,
          -7338.009399998933,
          -7356.493555572629,
          -7346.902639998494,
          -7348.11184335202,
          -7338.579065559059,
          -7338.6926033511745,
          -7342.588679999858,
          -7339.1542199991645,
          -7361.050651869923,
          -7325.729459999502,
          -7345.935159999877,
          -7344.555139999837,
          -7348.832385497541,
          -7352.767399998755,
          -7338.407279999554,
          -7365.519499999285,
          -7350.25266000107,
          -7329.940719999373,
          -7338.292690055071,
          -7331.515340000391,
          -7332.933559999615,
          -7333.540879999846,
          -7334.0296799995,
          -7333.361680000276,
          -7345.0440200001,
          -7333.251399999857,
          -7333.515780000389,
          -7339.904759999365,
          -7349.659359999746,
          -7329.88512000069,
          -7331.315659999847,
          -7328.1472599998115,
          -7338.784595809132,
          -7312.981300000101,
          -7312.981300000101,
          -7358.343820001185,
          -7335.751919998974,
          -7365.998635811358,
          -7329.34600000009,
          -7325.414076325297,
          -7317.161979998648,
          -7333.230260001123,
          -7318.559339998663,
          -7328.5657799988985,
          -7323.2887000001965,
          -7315.849199999869,
          -7336.525260000676,
          -7327.224539998919,
          -7317.995279999823,
          -7324.765559998899,
          -7360.497299998999,
          -7317.526099998502,
          -7316.890960000455,
          -7320.222439999134,
          -7318.41825722605,
          -7316.934840001164,
          -7314.410582393408,
          -7314.276375822723,
          -7312.981300000101,
          -7315.5388199999925,
          -7310.626819998771,
          -7314.354819999635,
          -7321.026599999517,
          -7328.297739998996,
          -7331.417779999227,
          -7318.559339998663,
          -7313.759759371727,
          -7314.734892018139,
          -7316.2677200004455,
          -7315.743400000036,
          -7316.6492400005445,
          -7320.717511974273,
          -7316.2828200005,
          -7317.03016955927,
          -7317.062253372371,
          -7314.642200000584,
          -7314.871879999339,
          -7315.682567644864,
          -7313.231062930822,
          -7313.731119778005,
          -7315.854037226736,
          -7313.501543466,
          -7315.5778372265395,
          -7314.707380000502,
          -7315.360119999945,
          -7314.733155287057,
          -7316.2677200004455,
          -7316.124920000136,
          -7315.704369559884,
          -7317.472600000352,
          -7330.786899998784,
          -7313.767280000448,
          -7314.864859999716,
          -7312.826999999583,
          -7307.427298329026,
          -7347.601019999385,
          -7311.377459164709,
          -7314.392099999636,
          -7310.995939164609,
          -7314.54932674542,
          -7312.004720000177,
          -7307.427298329026,
          -7306.9992231152955,
          -7309.635262393951,
          -7312.270179999619,
          -7317.161979998648,
          -7305.1515765711665,
          -7314.337760000676
         ]
        }
       ],
       "layout": {
        "legend": {
         "tracegroupgap": 0
        },
        "margin": {
         "t": 60
        },
        "template": {
         "data": {
          "bar": [
           {
            "error_x": {
             "color": "#2a3f5f"
            },
            "error_y": {
             "color": "#2a3f5f"
            },
            "marker": {
             "line": {
              "color": "#E5ECF6",
              "width": 0.5
             }
            },
            "type": "bar"
           }
          ],
          "barpolar": [
           {
            "marker": {
             "line": {
              "color": "#E5ECF6",
              "width": 0.5
             }
            },
            "type": "barpolar"
           }
          ],
          "carpet": [
           {
            "aaxis": {
             "endlinecolor": "#2a3f5f",
             "gridcolor": "white",
             "linecolor": "white",
             "minorgridcolor": "white",
             "startlinecolor": "#2a3f5f"
            },
            "baxis": {
             "endlinecolor": "#2a3f5f",
             "gridcolor": "white",
             "linecolor": "white",
             "minorgridcolor": "white",
             "startlinecolor": "#2a3f5f"
            },
            "type": "carpet"
           }
          ],
          "choropleth": [
           {
            "colorbar": {
             "outlinewidth": 0,
             "ticks": ""
            },
            "type": "choropleth"
           }
          ],
          "contour": [
           {
            "colorbar": {
             "outlinewidth": 0,
             "ticks": ""
            },
            "colorscale": [
             [
              0,
              "#0d0887"
             ],
             [
              0.1111111111111111,
              "#46039f"
             ],
             [
              0.2222222222222222,
              "#7201a8"
             ],
             [
              0.3333333333333333,
              "#9c179e"
             ],
             [
              0.4444444444444444,
              "#bd3786"
             ],
             [
              0.5555555555555556,
              "#d8576b"
             ],
             [
              0.6666666666666666,
              "#ed7953"
             ],
             [
              0.7777777777777778,
              "#fb9f3a"
             ],
             [
              0.8888888888888888,
              "#fdca26"
             ],
             [
              1,
              "#f0f921"
             ]
            ],
            "type": "contour"
           }
          ],
          "contourcarpet": [
           {
            "colorbar": {
             "outlinewidth": 0,
             "ticks": ""
            },
            "type": "contourcarpet"
           }
          ],
          "heatmap": [
           {
            "colorbar": {
             "outlinewidth": 0,
             "ticks": ""
            },
            "colorscale": [
             [
              0,
              "#0d0887"
             ],
             [
              0.1111111111111111,
              "#46039f"
             ],
             [
              0.2222222222222222,
              "#7201a8"
             ],
             [
              0.3333333333333333,
              "#9c179e"
             ],
             [
              0.4444444444444444,
              "#bd3786"
             ],
             [
              0.5555555555555556,
              "#d8576b"
             ],
             [
              0.6666666666666666,
              "#ed7953"
             ],
             [
              0.7777777777777778,
              "#fb9f3a"
             ],
             [
              0.8888888888888888,
              "#fdca26"
             ],
             [
              1,
              "#f0f921"
             ]
            ],
            "type": "heatmap"
           }
          ],
          "heatmapgl": [
           {
            "colorbar": {
             "outlinewidth": 0,
             "ticks": ""
            },
            "colorscale": [
             [
              0,
              "#0d0887"
             ],
             [
              0.1111111111111111,
              "#46039f"
             ],
             [
              0.2222222222222222,
              "#7201a8"
             ],
             [
              0.3333333333333333,
              "#9c179e"
             ],
             [
              0.4444444444444444,
              "#bd3786"
             ],
             [
              0.5555555555555556,
              "#d8576b"
             ],
             [
              0.6666666666666666,
              "#ed7953"
             ],
             [
              0.7777777777777778,
              "#fb9f3a"
             ],
             [
              0.8888888888888888,
              "#fdca26"
             ],
             [
              1,
              "#f0f921"
             ]
            ],
            "type": "heatmapgl"
           }
          ],
          "histogram": [
           {
            "marker": {
             "colorbar": {
              "outlinewidth": 0,
              "ticks": ""
             }
            },
            "type": "histogram"
           }
          ],
          "histogram2d": [
           {
            "colorbar": {
             "outlinewidth": 0,
             "ticks": ""
            },
            "colorscale": [
             [
              0,
              "#0d0887"
             ],
             [
              0.1111111111111111,
              "#46039f"
             ],
             [
              0.2222222222222222,
              "#7201a8"
             ],
             [
              0.3333333333333333,
              "#9c179e"
             ],
             [
              0.4444444444444444,
              "#bd3786"
             ],
             [
              0.5555555555555556,
              "#d8576b"
             ],
             [
              0.6666666666666666,
              "#ed7953"
             ],
             [
              0.7777777777777778,
              "#fb9f3a"
             ],
             [
              0.8888888888888888,
              "#fdca26"
             ],
             [
              1,
              "#f0f921"
             ]
            ],
            "type": "histogram2d"
           }
          ],
          "histogram2dcontour": [
           {
            "colorbar": {
             "outlinewidth": 0,
             "ticks": ""
            },
            "colorscale": [
             [
              0,
              "#0d0887"
             ],
             [
              0.1111111111111111,
              "#46039f"
             ],
             [
              0.2222222222222222,
              "#7201a8"
             ],
             [
              0.3333333333333333,
              "#9c179e"
             ],
             [
              0.4444444444444444,
              "#bd3786"
             ],
             [
              0.5555555555555556,
              "#d8576b"
             ],
             [
              0.6666666666666666,
              "#ed7953"
             ],
             [
              0.7777777777777778,
              "#fb9f3a"
             ],
             [
              0.8888888888888888,
              "#fdca26"
             ],
             [
              1,
              "#f0f921"
             ]
            ],
            "type": "histogram2dcontour"
           }
          ],
          "mesh3d": [
           {
            "colorbar": {
             "outlinewidth": 0,
             "ticks": ""
            },
            "type": "mesh3d"
           }
          ],
          "parcoords": [
           {
            "line": {
             "colorbar": {
              "outlinewidth": 0,
              "ticks": ""
             }
            },
            "type": "parcoords"
           }
          ],
          "pie": [
           {
            "automargin": true,
            "type": "pie"
           }
          ],
          "scatter": [
           {
            "marker": {
             "colorbar": {
              "outlinewidth": 0,
              "ticks": ""
             }
            },
            "type": "scatter"
           }
          ],
          "scatter3d": [
           {
            "line": {
             "colorbar": {
              "outlinewidth": 0,
              "ticks": ""
             }
            },
            "marker": {
             "colorbar": {
              "outlinewidth": 0,
              "ticks": ""
             }
            },
            "type": "scatter3d"
           }
          ],
          "scattercarpet": [
           {
            "marker": {
             "colorbar": {
              "outlinewidth": 0,
              "ticks": ""
             }
            },
            "type": "scattercarpet"
           }
          ],
          "scattergeo": [
           {
            "marker": {
             "colorbar": {
              "outlinewidth": 0,
              "ticks": ""
             }
            },
            "type": "scattergeo"
           }
          ],
          "scattergl": [
           {
            "marker": {
             "colorbar": {
              "outlinewidth": 0,
              "ticks": ""
             }
            },
            "type": "scattergl"
           }
          ],
          "scattermapbox": [
           {
            "marker": {
             "colorbar": {
              "outlinewidth": 0,
              "ticks": ""
             }
            },
            "type": "scattermapbox"
           }
          ],
          "scatterpolar": [
           {
            "marker": {
             "colorbar": {
              "outlinewidth": 0,
              "ticks": ""
             }
            },
            "type": "scatterpolar"
           }
          ],
          "scatterpolargl": [
           {
            "marker": {
             "colorbar": {
              "outlinewidth": 0,
              "ticks": ""
             }
            },
            "type": "scatterpolargl"
           }
          ],
          "scatterternary": [
           {
            "marker": {
             "colorbar": {
              "outlinewidth": 0,
              "ticks": ""
             }
            },
            "type": "scatterternary"
           }
          ],
          "surface": [
           {
            "colorbar": {
             "outlinewidth": 0,
             "ticks": ""
            },
            "colorscale": [
             [
              0,
              "#0d0887"
             ],
             [
              0.1111111111111111,
              "#46039f"
             ],
             [
              0.2222222222222222,
              "#7201a8"
             ],
             [
              0.3333333333333333,
              "#9c179e"
             ],
             [
              0.4444444444444444,
              "#bd3786"
             ],
             [
              0.5555555555555556,
              "#d8576b"
             ],
             [
              0.6666666666666666,
              "#ed7953"
             ],
             [
              0.7777777777777778,
              "#fb9f3a"
             ],
             [
              0.8888888888888888,
              "#fdca26"
             ],
             [
              1,
              "#f0f921"
             ]
            ],
            "type": "surface"
           }
          ],
          "table": [
           {
            "cells": {
             "fill": {
              "color": "#EBF0F8"
             },
             "line": {
              "color": "white"
             }
            },
            "header": {
             "fill": {
              "color": "#C8D4E3"
             },
             "line": {
              "color": "white"
             }
            },
            "type": "table"
           }
          ]
         },
         "layout": {
          "annotationdefaults": {
           "arrowcolor": "#2a3f5f",
           "arrowhead": 0,
           "arrowwidth": 1
          },
          "coloraxis": {
           "colorbar": {
            "outlinewidth": 0,
            "ticks": ""
           }
          },
          "colorscale": {
           "diverging": [
            [
             0,
             "#8e0152"
            ],
            [
             0.1,
             "#c51b7d"
            ],
            [
             0.2,
             "#de77ae"
            ],
            [
             0.3,
             "#f1b6da"
            ],
            [
             0.4,
             "#fde0ef"
            ],
            [
             0.5,
             "#f7f7f7"
            ],
            [
             0.6,
             "#e6f5d0"
            ],
            [
             0.7,
             "#b8e186"
            ],
            [
             0.8,
             "#7fbc41"
            ],
            [
             0.9,
             "#4d9221"
            ],
            [
             1,
             "#276419"
            ]
           ],
           "sequential": [
            [
             0,
             "#0d0887"
            ],
            [
             0.1111111111111111,
             "#46039f"
            ],
            [
             0.2222222222222222,
             "#7201a8"
            ],
            [
             0.3333333333333333,
             "#9c179e"
            ],
            [
             0.4444444444444444,
             "#bd3786"
            ],
            [
             0.5555555555555556,
             "#d8576b"
            ],
            [
             0.6666666666666666,
             "#ed7953"
            ],
            [
             0.7777777777777778,
             "#fb9f3a"
            ],
            [
             0.8888888888888888,
             "#fdca26"
            ],
            [
             1,
             "#f0f921"
            ]
           ],
           "sequentialminus": [
            [
             0,
             "#0d0887"
            ],
            [
             0.1111111111111111,
             "#46039f"
            ],
            [
             0.2222222222222222,
             "#7201a8"
            ],
            [
             0.3333333333333333,
             "#9c179e"
            ],
            [
             0.4444444444444444,
             "#bd3786"
            ],
            [
             0.5555555555555556,
             "#d8576b"
            ],
            [
             0.6666666666666666,
             "#ed7953"
            ],
            [
             0.7777777777777778,
             "#fb9f3a"
            ],
            [
             0.8888888888888888,
             "#fdca26"
            ],
            [
             1,
             "#f0f921"
            ]
           ]
          },
          "colorway": [
           "#636efa",
           "#EF553B",
           "#00cc96",
           "#ab63fa",
           "#FFA15A",
           "#19d3f3",
           "#FF6692",
           "#B6E880",
           "#FF97FF",
           "#FECB52"
          ],
          "font": {
           "color": "#2a3f5f"
          },
          "geo": {
           "bgcolor": "white",
           "lakecolor": "white",
           "landcolor": "#E5ECF6",
           "showlakes": true,
           "showland": true,
           "subunitcolor": "white"
          },
          "hoverlabel": {
           "align": "left"
          },
          "hovermode": "closest",
          "mapbox": {
           "style": "light"
          },
          "paper_bgcolor": "white",
          "plot_bgcolor": "#E5ECF6",
          "polar": {
           "angularaxis": {
            "gridcolor": "white",
            "linecolor": "white",
            "ticks": ""
           },
           "bgcolor": "#E5ECF6",
           "radialaxis": {
            "gridcolor": "white",
            "linecolor": "white",
            "ticks": ""
           }
          },
          "scene": {
           "xaxis": {
            "backgroundcolor": "#E5ECF6",
            "gridcolor": "white",
            "gridwidth": 2,
            "linecolor": "white",
            "showbackground": true,
            "ticks": "",
            "zerolinecolor": "white"
           },
           "yaxis": {
            "backgroundcolor": "#E5ECF6",
            "gridcolor": "white",
            "gridwidth": 2,
            "linecolor": "white",
            "showbackground": true,
            "ticks": "",
            "zerolinecolor": "white"
           },
           "zaxis": {
            "backgroundcolor": "#E5ECF6",
            "gridcolor": "white",
            "gridwidth": 2,
            "linecolor": "white",
            "showbackground": true,
            "ticks": "",
            "zerolinecolor": "white"
           }
          },
          "shapedefaults": {
           "line": {
            "color": "#2a3f5f"
           }
          },
          "ternary": {
           "aaxis": {
            "gridcolor": "white",
            "linecolor": "white",
            "ticks": ""
           },
           "baxis": {
            "gridcolor": "white",
            "linecolor": "white",
            "ticks": ""
           },
           "bgcolor": "#E5ECF6",
           "caxis": {
            "gridcolor": "white",
            "linecolor": "white",
            "ticks": ""
           }
          },
          "title": {
           "x": 0.05
          },
          "xaxis": {
           "automargin": true,
           "gridcolor": "white",
           "linecolor": "white",
           "ticks": "",
           "title": {
            "standoff": 15
           },
           "zerolinecolor": "white",
           "zerolinewidth": 2
          },
          "yaxis": {
           "automargin": true,
           "gridcolor": "white",
           "linecolor": "white",
           "ticks": "",
           "title": {
            "standoff": 15
           },
           "zerolinecolor": "white",
           "zerolinewidth": 2
          }
         }
        },
        "xaxis": {
         "anchor": "y",
         "domain": [
          0,
          1
         ]
        },
        "yaxis": {
         "anchor": "x",
         "domain": [
          0,
          1
         ],
         "title": {
          "text": "LONGITUDE"
         }
        }
       }
      },
      "text/html": [
       "<div>\n",
       "        \n",
       "        \n",
       "            <div id=\"189c30e1-853e-4669-bad9-45c389fb3cf7\" class=\"plotly-graph-div\" style=\"height:525px; width:100%;\"></div>\n",
       "            <script type=\"text/javascript\">\n",
       "                require([\"plotly\"], function(Plotly) {\n",
       "                    window.PLOTLYENV=window.PLOTLYENV || {};\n",
       "                    \n",
       "                if (document.getElementById(\"189c30e1-853e-4669-bad9-45c389fb3cf7\")) {\n",
       "                    Plotly.newPlot(\n",
       "                        '189c30e1-853e-4669-bad9-45c389fb3cf7',\n",
       "                        [{\"hoverlabel\": {\"namelength\": 0}, \"hovertemplate\": \"LONGITUDE=%{y}\", \"legendgroup\": \"\", \"marker\": {\"color\": \"#636efa\", \"symbol\": \"circle\"}, \"mode\": \"markers\", \"name\": \"\", \"showlegend\": false, \"type\": \"scattergl\", \"xaxis\": \"x\", \"y\": [-7695.938754929929, -7695.931954952317, -7692.256449733903, -7691.740181310099, -7691.109200000763, -7691.109200000763, -7690.703644445373, -7690.5008666676795, -7690.253860628972, -7689.89515880284, -7689.724259988694, -7689.599425883263, -7689.345990019694, -7689.284200001508, -7689.284200001508, -7689.269485301836, -7688.907602439012, -7688.833099806714, -7688.654502890877, -7688.355245821611, -7688.298000908349, -7687.776423070576, -7687.509244035695, -7685.814778262636, -7685.494600001723, -7685.156378726609, -7684.867957990277, -7684.479554307475, -7684.455307129579, -7684.281834362428, -7683.8696733227625, -7683.791140922814, -7682.894311110595, -7682.793649999425, -7682.539298166685, -7682.4556500022645, -7682.393381818113, -7682.361879520718, -7682.075590276514, -7681.730914568263, -7681.3461881763305, -7680.617859457254, -7680.015483977712, -7677.587316489657, -7677.549418674669, -7676.89365321925, -7676.753699999303, -7676.753699999303, -7676.753699999303, -7676.65703884553, -7676.617487958357, -7676.523280376039, -7676.41943999976, -7676.41943999976, -7675.6479215774425, -7675.643697991419, -7675.552088155443, -7675.320933332873, -7675.199307075222, -7675.146413620939, -7674.8219954399865, -7674.785282855772, -7674.583597540925, -7674.264339827897, -7673.913438812227, -7673.829934833489, -7673.740908514747, -7673.435291772967, -7669.772416157065, -7669.357900001109, -7669.029523194881, -7667.543800000101, -7667.0461950192675, -7666.248085539786, -7666.1810036649085, -7665.654014874747, -7665.650228023077, -7664.73931399603, -7664.417651133022, -7664.313643147163, -7663.169900634743, -7662.447200000284, -7662.447200000284, -7662.306618734784, -7662.306421416842, -7661.930788167413, -7661.863200001419, -7661.858395682381, -7661.830973262648, -7661.817193896792, -7661.603514287089, -7661.394255940811, -7661.2572666679835, -7661.136080001293, -7661.086697925143, -7661.067514217153, -7660.742554721545, -7660.281594425829, -7660.045400001109, -7659.833353478085, -7658.42627815351, -7656.996781229636, -7656.916209502424, -7656.475560551486, -7655.810199998319, -7653.579219780396, -7653.343301445247, -7653.343301445247, -7653.343301445247, -7653.343301445247, -7653.343301445247, -7653.343301445247, -7653.343301445247, -7653.343301445247, -7653.343301445247, -7652.241956907715, -7652.152865217898, -7652.113968421102, -7651.99609019241, -7651.834374694666, -7651.415232315966, -7650.255975912342, -7649.33920000121, -7648.116999998689, -7647.7909960721, -7647.731499999762, -7647.682389107399, -7647.469238737493, -7646.733500000089, -7646.733500000089, -7646.699900001286, -7646.699900001286, -7646.636442218104, -7646.576089675892, -7646.343658901743, -7646.314496976974, -7646.285566628259, -7646.261864931222, -7646.180500000715, -7645.8595142795875, -7645.732442823271, -7645.6607876575035, -7645.610077130521, -7645.559099998325, -7645.558400001377, -7645.191225015415, -7645.025672374883, -7644.960177570336, -7644.893836905537, -7644.886068185171, -7644.84284956768, -7644.777622354411, -7644.746509637885, -7644.713262862313, -7644.4953666677075, -7644.365146112375, -7644.3038466897315, -7644.278508366051, -7644.18918638034, -7644.01243109285, -7643.833099527749, -7643.817662790669, -7643.697516999352, -7643.3229841197035, -7643.289777269159, -7643.187400165219, -7643.130242482538, -7643.000199999659, -7642.797866873924, -7642.764985533359, -7642.673226161187, -7642.662599999458, -7642.56660208688, -7642.552822222519, -7642.334043094544, -7642.314570450088, -7642.3063612678325, -7642.246561081509, -7642.223135551008, -7642.199498868656, -7642.146887548528, -7642.104230343446, -7641.965138072635, -7641.960914762188, -7641.8535730876065, -7641.805496029359, -7641.787153982655, -7641.774127200158, -7641.7636168052295, -7641.741721473628, -7641.725299999118, -7641.687096105292, -7641.6803999990225, -7641.6803999990225, -7641.599247100243, -7641.563092752373, -7641.559583115063, -7641.499303368108, -7641.446142856564, -7641.380978970188, -7641.35243999958, -7641.3450818254905, -7641.315999999642, -7641.268708649845, -7641.233381913672, -7641.187289714304, -7641.133799999952, -7641.033972696655, -7641.010339187401, -7640.9261499987915, -7640.92504870708, -7640.842587442076, -7640.716593602393, -7640.669510230892, -7640.5713064885485, -7640.5182744042, -7640.431466392934, -7640.416866630529, -7640.311449518238, -7640.181925952572, -7640.151466657513, -7640.094799999148, -7640.030671486139, -7640.016521320022, -7639.759229676641, -7639.75088308967, -7639.7358565852355, -7639.649241476663, -7639.5989999994645, -7639.5989999994645, -7639.594869953629, -7639.553123746436, -7639.476597227735, -7639.445598710654, -7639.4004946544055, -7639.345315501557, -7639.345078123829, -7639.282102513454, -7639.239146557478, -7639.205498620804, -7639.186566410442, -7639.169579231336, -7639.166702848139, -7639.161576096406, -7639.109632882691, -7638.939476941779, -7638.915550823144, -7638.910299999018, -7638.856276810215, -7638.818726054509, -7638.768011149544, -7638.6821104960145, -7638.637716568229, -7638.5746633789295, -7638.286777193522, -7638.193799998611, -7638.178664941463, -7638.1730634137475, -7638.033510939613, -7638.022660439881, -7638.01890505048, -7637.944119998812, -7637.922800000757, -7637.922800000757, -7637.922588111237, -7637.78295181145, -7637.725548641118, -7637.704833570846, -7637.642129593824, -7637.63500148025, -7637.633104535363, -7637.5853004425235, -7637.577038416049, -7637.557442799341, -7637.55456227177, -7637.535798160029, -7637.520333808902, -7637.423799999056, -7637.423799999056, -7637.423799999056, -7637.423799999056, -7637.418826227426, -7637.4020340768175, -7637.311943823879, -7637.187733334798, -7637.183464618143, -7637.1813778647265, -7637.13640000139, -7637.100392496527, -7637.083443955691, -7637.071555312629, -7637.021409585619, -7637.009211240366, -7637.001561150843, -7636.958372063719, -7636.895626662628, -7636.894637501333, -7636.882219276674, -7636.857206490324, -7636.82840000093, -7636.820696448656, -7636.78198395717, -7636.6773482751505, -7636.654005052915, -7636.582831075982, -7636.553816009117, -7636.553698368117, -7636.531330172304, -7636.438745559319, -7636.400181627991, -7636.398131450962, -7636.39292173685, -7636.0813335230005, -7636.081282111812, -7636.040199998766, -7636.033333751058, -7635.627941694752, -7635.382885713662, -7635.339141358791, -7635.2217999994755, -7635.195180851523, -7635.169694013809, -7635.065854634991, -7634.914990073462, -7634.833296193271, -7634.759267468504, -7634.726194945384, -7634.54482007356, -7634.494454552613, -7634.475921406697, -7634.408182257251, -7634.406271164592, -7634.2296001664745, -7634.211465844939, -7634.155202303148, -7634.1447798421095, -7634.106117499488, -7634.0264203256775, -7633.894600000232, -7633.874600000678, -7633.874600000678, -7633.874600000678, -7633.874600000678, -7633.802238650173, -7633.634940480954, -7633.54917987814, -7633.45898608972, -7633.427577396892, -7633.347579696844, -7633.244284231332, -7633.232864105415, -7633.1259272725065, -7633.1187358818825, -7632.979075922599, -7632.974395187668, -7632.9672038631825, -7632.917926715208, -7632.834499999882, -7632.834499999882, -7632.834499999882, -7632.834499999882, -7632.834399998189, -7632.777600001544, -7632.7292540937015, -7632.5285325687255, -7632.481102396057, -7632.416805270464, -7632.378879626895, -7632.282603512898, -7632.2586999982595, -7632.2586999982595, -7632.1884581283775, -7632.108204304523, -7632.069805293269, -7631.911033387334, -7631.768406853054, -7631.7445274074635, -7631.671398190359, -7631.590797885047, -7631.480929608824, -7631.104188775795, -7631.058458810804, -7630.855576359786, -7630.37149396651, -7630.07808084597, -7629.573514667455, -7628.522900736575, -7628.391508411526, -7628.038556673609, -7627.531166200086, -7626.970294948404, -7621.81523590075, -7621.722562803074, -7621.667416209417, -7621.351189759993, -7619.012816854327, -7618.987409900411, -7618.71421039816, -7618.486732351464, -7618.420081505938, -7618.415899999441, -7618.0971127551575, -7618.087354940982, -7617.699243328004, -7616.97829999961, -7616.948850388485, -7616.89829421054, -7616.891914166611, -7616.854985128832, -7616.798543023435, -7616.700438645403, -7616.645292489777, -7616.641075820367, -7616.572262020362, -7616.538604847725, -7616.359925877942, -7616.302438910324, -7616.200419176741, -7616.128433470197, -7616.099599998443, -7616.099599998443, -7615.9544971644555, -7615.527718182751, -7615.037843382428, -7613.9581910840225, -7611.483683102622, -7611.30760181269, -7611.2480102360705, -7611.196229663149, -7610.8997999988505, -7610.8997999988505, -7610.847664929771, -7610.512136383857, -7610.509399998933, -7609.725675000342, -7609.362763637166, -7609.254574267566, -7609.209370158644, -7609.1668138284485, -7609.152702315091, -7609.072139018979, -7609.021200001242, -7609.021200001242, -7609.021200001242, -7608.834281650502, -7607.076600000262, -7605.384652840472, -7605.248300001025, -7605.1441607820325, -7604.881661400512, -7604.707519509874, -7604.554351961245, -7603.833050605849, -7603.774164535382, -7603.7603021980285, -7603.584815539185, -7603.335900001228, -7603.335900001228, -7603.134732174788, -7603.103500000201, -7603.094379913346, -7603.0212026458985, -7602.978780438709, -7602.945293648199, -7602.9328742069865, -7602.889080000667, -7602.8439640950255, -7602.7870238361475, -7602.677417979874, -7601.6940757922375, -7601.5887339273795, -7601.3869999982435, -7601.3869999982435, -7601.1522262700655, -7600.791219984823, -7600.121737446621, -7597.501729793644, -7597.3261627309375, -7596.9070316276975, -7596.727231275496, -7596.677064354325, -7596.474079346869, -7596.378345234551, -7595.9739999994645, -7595.9739999994645, -7595.9452289535975, -7595.539200640763, -7595.485297560111, -7595.180759487032, -7594.8471000008285, -7594.5784374992345, -7594.524293113694, -7594.3924630044385, -7594.265541225492, -7594.170226581782, -7594.1251444431655, -7594.105457201049, -7594.034899998456, -7594.034899998456, -7594.034899998456, -7594.01834609583, -7593.9219174451855, -7593.602364540168, -7593.080184651676, -7592.953184653679, -7592.867184656054, -7592.5732710097745, -7592.562300000341, -7592.234935296062, -7592.164003069832, -7592.149517155675, -7592.090242046203, -7592.050954342571, -7591.876343050036, -7590.076329442959, -7589.661824304588, -7589.367524770076, -7589.17943744184, -7589.066216434082, -7588.941392697304, -7588.600915043993, -7588.433236261526, -7588.031571666017, -7587.86576666683, -7587.800430000201, -7587.788900000208, -7587.539083333687, -7587.43597205984, -7587.212400000542, -7587.1901736464515, -7587.135331101083, -7586.94481643335, -7586.943686097959, -7586.757339517697, -7586.491921552958, -7585.389976224599, -7571.618299998344, -7571.112365934228, -7570.555293005406, -7570.069794212661, -7569.852786891927, -7569.47773984335, -7568.985890470764, -7568.7427071457705, -7568.737138064865, -7567.1748089135635, -7565.108510155203, -7563.288365230448, -7562.745988283166, -7562.7170999981445, -7562.7170999981445, -7562.626887461309, -7562.071363164248, -7560.599636938112, -7560.376400001346, -7560.376299999654, -7559.755181129351, -7559.678073717381, -7559.669459744178, -7559.659568883084, -7559.588993597061, -7559.475875814883, -7558.859013839282, -7557.681318827978, -7557.615859403625, -7555.68347849491, -7555.557679144395, -7555.422550381384, -7554.897451104533, -7554.781968196429, -7553.960000000893, -7551.117335829494, -7545.863604722733, -7543.960387002566, -7543.7692461772485, -7541.982900001109, -7541.533239097404, -7541.141068198883, -7540.467679453479, -7540.206369008663, -7539.960816837991, -7539.1092125820105, -7538.918078753119, -7538.841261577577, -7538.567995184422, -7537.852669864206, -7537.578472479409, -7537.45423347244, -7537.110861589088, -7537.024899770331, -7536.826600000262, -7536.820310922278, -7536.731668054587, -7536.45222842588, -7536.092913756452, -7535.763000000268, -7535.763000000268, -7535.763000000268, -7535.763000000268, -7535.209515403956, -7535.1590698659975, -7534.868645769628, -7534.43217116002, -7533.882036870306, -7533.657621146125, -7533.432100001723, -7533.086327375368, -7530.818236876223, -7530.756500470333, -7530.676287159453, -7530.497509861851, -7530.37519690338, -7530.048346090224, -7528.608068633825, -7528.231764735641, -7526.790756547549, -7526.747516114764, -7526.6018355951355, -7526.3016578073075, -7526.245871419531, -7526.144709164989, -7525.818129986525, -7525.570691577632, -7525.3140982864, -7525.179445511755, -7524.709499999882, -7524.486762481272, -7524.341239839973, -7524.1088000014415, -7523.820147866238, -7523.7790129288305, -7523.198608651502, -7522.974166686505, -7522.9659893672315, -7522.859608603659, -7522.347115323991, -7521.969221539965, -7521.829906172597, -7521.608766524695, -7521.063506393428, -7520.750472798942, -7519.672803782073, -7519.585929014242, -7519.366759120611, -7518.690335069141, -7517.585799999535, -7517.585799999535, -7517.585799999535, -7516.988017306853, -7516.795159180553, -7516.7214044467, -7516.657719003578, -7516.488574058096, -7516.442265305174, -7516.413621235639, -7516.243748025889, -7516.166253165391, -7515.946557591867, -7515.916799399858, -7514.572369373022, -7513.782243633001, -7513.38268906325, -7513.104490716009, -7512.888872572893, -7512.638834284745, -7512.63280000165, -7512.593647911313, -7512.591427729558, -7512.539079229937, -7512.31796745377, -7511.736699998379, -7511.46810242698, -7510.766136903991, -7510.211205821484, -7510.211205821484, -7509.805454559653, -7508.003342895347, -7507.826979868089, -7507.670600000769, -7507.640599999577, -7507.291461114012, -7506.96953939477, -7506.96953939477, -7506.844350000843, -7506.834382981095, -7506.762699998915, -7506.073256182617, -7505.951038477613, -7505.877578996672, -7505.670722600563, -7505.615952718015, -7505.090623468643, -7504.397316419842, -7504.153499998152, -7504.021799831146, -7503.868590694269, -7503.835681478446, -7503.815444673117, -7503.492802418426, -7502.891317360459, -7502.632044688822, -7502.285158204298, -7502.206913101003, -7502.170424445466, -7501.7450825006545, -7501.357952542378, -7501.276003041326, -7500.998802696078, -7500.996693142145, -7500.891911364528, -7500.638202732991, -7499.377574073214, -7499.0632321689445, -7498.697363540885, -7498.577445475569, -7498.3426440964295, -7498.058071977189, -7497.755715158189, -7497.42807644004, -7497.026701602182, -7496.28180468907, -7495.664690177126, -7493.380350023599, -7492.046013872357, -7491.030633945018, -7488.921540649916, -7488.809000000358, -7484.8092417859925, -7482.157780195719, -7479.755600001663, -7479.755600001663, -7479.546546123745, -7478.179274505509, -7476.421569465564, -7476.283341172662, -7474.0380025282275, -7473.791198919826, -7472.278562326324, -7470.7121142965125, -7470.425400000066, -7469.372002924068, -7469.0327878860035, -7468.448112149078, -7466.934550177129, -7466.25206682841, -7461.284156751681, -7460.997499998659, -7460.602512051023, -7460.452553208955, -7460.286494345822, -7460.0372159525305, -7459.939455551292, -7459.73507910675, -7459.3324654505295, -7458.876295280046, -7458.844099998474, -7458.726599998772, -7458.726599998772, -7458.604499999434, -7458.346797777967, -7457.360650304054, -7456.71521028611, -7456.649500001222, -7456.38929338787, -7456.065033372026, -7456.021041989412, -7455.725834169706, -7454.607591598517, -7453.854089940272, -7453.812380220071, -7452.844588022715, -7452.5660365302465, -7452.177097026673, -7438.840164787475, -7438.788897284359, -7437.605307669639, -7437.5567577981665, -7436.896273802904, -7436.557598417916, -7436.533420393472, -7436.432202518687, -7435.974289788048, -7435.5183999985475, -7435.388334590422, -7435.346001970688, -7435.22594210535, -7434.970466633446, -7434.92831523342, -7434.736391970779, -7434.589285367285, -7434.531183496972, -7434.353100001811, -7434.353100001811, -7434.31049999967, -7434.276577289368, -7434.238600000738, -7434.204065745388, -7433.105975041396, -7432.755048162937, -7432.684433077416, -7432.02851100418, -7431.713899999857, -7430.116568842802, -7429.966117950253, -7429.609017984399, -7427.0744790509325, -7425.0347873894825, -7425.011610020214, -7424.905383463056, -7424.833564803986, -7424.812344465407, -7424.812344465407, -7424.812344465407, -7424.5910807069495, -7424.398503460131, -7424.093176847243, -7423.8977483286035, -7423.656973913433, -7423.1761999987075, -7423.1761999987075, -7423.0968442776575, -7423.075599998236, -7422.813371034594, -7422.6833697641005, -7422.552545754045, -7422.468920119258, -7422.280900001526, -7422.280900001526, -7422.280900001526, -7422.109600000083, -7421.486098892208, -7420.7689261554015, -7420.652982427277, -7420.426334573697, -7420.1215808087245, -7419.868279336198, -7419.78586577173, -7419.687381487943, -7419.3227154040005, -7418.379865920637, -7418.115146545631, -7417.555128839069, -7416.797699999062, -7414.4502833342785, -7413.9408429863415, -7411.0939933933, -7410.584705855866, -7409.611999999732, -7408.720099650108, -7408.192551686271, -7407.6273027373145, -7407.384202505495, -7407.248439790176, -7406.62981814902, -7406.337999493077, -7406.178665990164, -7406.098421883294, -7405.956991638471, -7405.881999999285, -7405.372539550391, -7405.1945348285635, -7405.1024000011375, -7404.897642281614, -7404.542141982065, -7404.477984488638, -7404.384356845472, -7402.404284370662, -7401.584287877059, -7399.784893956021, -7399.231623873045, -7398.587628572115, -7398.396905991821, -7397.56092565415, -7397.033907008754, -7396.89062958991, -7396.549482593195, -7394.601053248651, -7394.519672667868, -7394.415547616139, -7394.2263701461125, -7393.85430226658, -7393.435149921725, -7391.01192857059, -7390.581250262172, -7390.054495093123, -7389.454517136691, -7389.226916960269, -7386.7525999993095, -7386.605974067408, -7386.221972295705, -7385.87153571578, -7385.799964943388, -7385.478494210823, -7385.400800000876, -7385.400800000876, -7385.198520906876, -7384.964072566054, -7384.384599998592, -7384.384599998592, -7384.233505771906, -7383.867220982212, -7383.6993921659305, -7383.342698935756, -7383.328817266838, -7383.035103264628, -7382.330366183575, -7382.117425664686, -7382.056376086582, -7381.959920241307, -7381.842482693231, -7381.649541666421, -7381.325965382171, -7380.513799998907, -7379.351682676892, -7378.032321294031, -7377.9131434493165, -7377.529050483299, -7377.087643060229, -7377.067904715629, -7377.023840085312, -7376.931626411905, -7376.803530225771, -7376.419615953481, -7375.877500001341, -7375.877500001341, -7375.086537200927, -7374.888738568872, -7374.504199998963, -7374.366807154717, -7374.308033332229, -7374.302079940629, -7374.285158536455, -7374.254087498877, -7373.242687185409, -7372.830904042898, -7372.664041475764, -7372.609778027627, -7371.898460000753, -7371.480203799097, -7370.427219998835, -7370.308062256579, -7367.749533335057, -7367.665604089931, -7366.634500000626, -7366.096027965808, -7366.0852786761425, -7365.824882550541, -7365.170680462736, -7365.076819810491, -7364.492817573538, -7364.015689999609, -7362.995453639043, -7360.754057143948, -7360.695033334817, -7360.6561600014575, -7360.2352367268395, -7359.5028015520265, -7359.349039310367, -7358.774700000135, -7358.7456048446375, -7358.673269750768, -7358.516829515868, -7358.485367071776, -7358.450451301361, -7358.379579473465, -7358.269885001644, -7357.531252906464, -7357.391503569515, -7357.34156637367, -7356.4778156069, -7355.990396278593, -7354.863583032899, -7354.691889338229, -7353.771757142354, -7353.241445766771, -7352.424523455641, -7352.2351659727665, -7352.06417808977, -7351.981125298886, -7351.539522335258, -7351.046286474268, -7350.009644098643, -7348.607443805793, -7347.220669044234, -7346.611345959206, -7346.330589261966, -7346.297875611987, -7345.87224664235, -7345.803899999708, -7345.671723186018, -7345.639826238431, -7345.591416272658, -7345.565795183947, -7345.316954613952, -7345.249364511099, -7345.2284819713705, -7345.0851699093055, -7344.182656829503, -7343.206695387632, -7342.972399998456, -7342.736770755633, -7342.7090895645215, -7342.596549391886, -7341.347340481623, -7341.247568426404, -7340.558777131093, -7340.519103401064, -7340.466578977114, -7339.547341287987, -7339.168003155733, -7339.123771427998, -7339.088376952875, -7338.807210418774, -7338.793340000509, -7338.4888333330555, -7338.4888333330555, -7338.451890542135, -7338.20283280169, -7337.999906722742, -7337.790119149856, -7337.775408467097, -7337.118525250426, -7336.6486916792455, -7335.906199999154, -7333.795755361259, -7332.1342594739845, -7331.900097351846, -7331.788546637271, -7331.1790000014025, -7331.1790000014025, -7331.1790000014025, -7331.100099999458, -7330.881523851488, -7329.7303613974045, -7329.030799999833, -7327.957397525542, -7327.404995579134, -7327.346846005691, -7327.0109317232545, -7325.815571195094, -7325.696196629609, -7325.688299349291, -7325.190744341132, -7324.758898928099, -7324.374750176221, -7324.144263157842, -7323.8266838243335, -7323.6579032276, -7323.251427945623, -7323.175950052059, -7322.953825041805, -7322.241599999366, -7321.582096425758, -7320.66059014783, -7319.549444900602, -7318.7835859091065, -7318.456186552751, -7318.440245424106, -7317.550498728719, -7317.394699687798, -7317.344231077765, -7317.2944102390775, -7317.227899998426, -7316.945209823189, -7316.90971591283, -7316.9016541943165, -7316.672522646042, -7316.472082156773, -7316.348103694842, -7315.698916212307, -7315.681215936685, -7315.559750000015, -7315.552884615385, -7315.541899999976, -7315.47049999982, -7315.291999999434, -7315.283556228315, -7315.080544204484, -7314.968294913922, -7314.611699998379, -7314.001354584349, -7313.808492191816, -7313.731119778006, -7313.549886666487, -7313.201409156708, -7313.080254957027, -7312.914295886737, -7312.7029922491, -7312.58323821798, -7312.349133914621, -7312.024867863103, -7311.872768004977, -7311.4756875463745, -7311.438734866148, -7310.512057110302, -7310.4241694986185, -7310.299179000072, -7309.62392746803, -7309.324009812239, -7309.219399999825, -7309.219399999825, -7309.219399999825, -7309.219399999825, -7309.219399999825, -7309.219399999825, -7309.219399999825, -7309.219399999825, -7309.219399999825, -7309.219399999825, -7303.794295821339, -7299.786516730872], \"yaxis\": \"y\"}, {\"line\": {\"color\": \"red\"}, \"mode\": \"lines\", \"showlegend\": false, \"type\": \"scatter\", \"y\": [-7681.7248800002035, -7661.194559999555, -7674.830179999024, -7684.782079999149, -7685.9651799991725, -7684.032779999822, -7684.125079998374, -7681.096159999072, -7675.679019999504, -7679.842879999429, -7679.213439998774, -7670.057079999894, -7658.643760000169, -7686.207339999824, -7679.563579999655, -7681.374479998648, -7679.695279999078, -7678.371419999004, -7675.727699999511, -7672.787799999863, -7680.121920000017, -7675.679019999504, -7671.792539999634, -7678.257019998879, -7684.029279999435, -7678.420099999011, -7682.08439999819, -7683.501600000262, -7682.079180000723, -7680.524839999527, -7675.679019999504, -7682.723519998789, -7675.299819999188, -7680.800059998781, -7680.1179999992255, -7680.177119999379, -7676.902739999443, -7683.29056000039, -7680.636720000208, -7681.7248800002035, -7662.872839999944, -7663.992579999566, -7679.213439998774, -7678.441699999571, -7674.059979999065, -7677.509219998868, -7669.210159998387, -7673.782459999622, -7679.0082799986, -7682.179339998215, -7678.914859998226, -7672.957999999821, -7678.778360000253, -7675.306560000034, -7679.9149399988355, -7681.381479998678, -7672.592619998753, -7676.902739999443, -7662.872839999944, -7668.21235999912, -7676.6272999987, -7672.383179999888, -7672.637519999594, -7679.334499999137, -7679.762179999054, -7676.902739999443, -7674.335419999808, -7664.254840000719, -7662.872839999944, -7665.112319999188, -7666.923840001227, -7667.339800000191, -7665.399740000814, -7668.868599999696, -7662.872839999944, -7660.201940000057, -7662.872839999944, -7662.872839999944, -7658.503820001334, -7655.577859999985, -7657.60495999977, -7658.503820001334, -7659.186519999802, -7662.9748800002035, -7666.298859999329, -7648.5237999998035, -7665.034359999746, -7667.008699999749, -7660.714299999922, -7657.60495999977, -7652.8968000002205, -7658.401799999922, -7650.061899998784, -7649.9563399992885, -7656.815920000523, -7658.401799999922, -7662.872839999944, -7647.341400001198, -7648.1910805776715, -7665.233999998866, -7658.23784000054, -7662.953279998898, -7658.479579998553, -7652.407020000368, -7654.488559998572, -7646.772740577161, -7647.247420288622, -7647.989839999378, -7646.456520288438, -7641.967339998484, -7647.650060577691, -7646.25153999999, -7646.25153999999, -7650.940601155909, -7647.650060577691, -7645.489619999379, -7644.577379999309, -7649.373760001361, -7651.459620001166, -7643.913559998572, -7649.426319999993, -7650.16560000181, -7650.16560000181, -7643.9991799995305, -7648.756040001661, -7649.585640001297, -7645.1688800007105, -7646.423599999398, -7643.792219998688, -7646.423599999398, -7643.60353999883, -7649.431620000301, -7651.297320000082, -7645.703159999847, -7648.7735799998045, -7646.320359999687, -7646.043779999763, -7642.361320000887, -7645.593499999493, -7653.574460000545, -7643.404740288109, -7645.807440577449, -7642.974800288679, -7643.861519999802, -7643.482299999892, -7646.202639999986, -7645.24693999961, -7647.447880000621, -7644.262100000679, -7644.262100000679, -7633.041499998419, -7646.231720577181, -7633.041499998419, -7643.774559999258, -7644.652000001073, -7647.611759999394, -7640.307380001247, -7646.805700000374, -7644.333819999546, -7643.117800001055, -7639.538460000605, -7646.597940000145, -7645.100800000876, -7653.6437399990855, -7635.6803999990225, -7640.638599999249, -7648.939460001139, -7647.359340000153, -7644.917999999225, -7641.5759199999275, -7643.872200000286, -7647.808179999143, -7638.511040000618, -7644.200320000947, -7639.765399999917, -7640.489319999516, -7640.814400000125, -7641.75047999993, -7640.830079998821, -7638.603414203227, -7636.220460000634, -7639.895060001314, -7642.361320000887, -7640.5038399994355, -7647.869820000231, -7640.442840000242, -7636.996159999818, -7641.531840000302, -7640.149199999124, -7639.582100000979, -7640.891619998962, -7641.183120000361, -7640.031880000233, -7642.15289999917, -7640.408260000497, -7651.297320000082, -7646.235239998996, -7644.93706028834, -7639.886680000275, -7639.512399999051, -7640.5037000000475, -7640.497540000826, -7638.062880000472, -7638.718739999831, -7639.600600000471, -7641.629219999164, -7640.567840000242, -7640.149199999124, -7640.2013599999245, -7652.254799998552, -7640.83818000108, -7640.42683999911, -7639.871999999881, -7644.248700287938, -7640.45067999959, -7642.933819998801, -7638.7483071014285, -7640.62273999974, -7640.147079999745, -7640.442840000242, -7634.70252000168, -7639.271319999546, -7640.2013599999245, -7637.025439999998, -7639.2940200001, -7644.650179999322, -7630.372500000149, -7640.3087999999525, -7638.953360001741, -7639.05252000168, -7639.423080001026, -7642.933819998801, -7640.600840000809, -7640.639639998973, -7639.054780000448, -7639.028519999236, -7639.403079999238, -7640.13650000021, -7645.501339999586, -7638.9662799991665, -7639.452679999173, -7638.921440000832, -7637.2239800006155, -7638.09015999958, -7638.804499998689, -7644.754640000314, -7638.511040000618, -7638.374060000479, -7641.494920000432, -7639.024159999935, -7638.239020000398, -7642.933819998801, -7637.103760000318, -7637.40278000012, -7639.637799999864, -7635.991239999979, -7633.20326000154, -7638.9489200003445, -7639.059740000218, -7638.343400000781, -7638.169199998677, -7638.90632000044, -7637.748680000752, -7637.07819999978, -7638.534960000217, -7638.718739999831, -7637.782306643576, -7636.446719999612, -7639.053200000524, -7638.214100000262, -7643.144919999689, -7637.084479999542, -7640.328300001473, -7637.111320000887, -7638.071419999748, -7638.727520000934, -7637.9182399995625, -7633.3952600002285, -7635.9945399999615, -7638.083920001239, -7625.1453200005, -7638.429159999639, -7636.443419999629, -7637.046739999205, -7637.438880000262, -7636.118199999631, -7637.075979999453, -7637.1747599996625, -7628.806200001389, -7638.613079999387, -7638.451299998909, -7635.9109600015, -7637.848480000347, -7636.7372599996625, -7639.4055000007165, -7637.575160000473, -7638.727199999243, -7636.522079999745, -7636.015980000049, -7637.472760000825, -7631.265399999917, -7639.313520000875, -7636.194139999151, -7639.546840000898, -7639.042639999837, -7639.752740000933, -7639.155200000852, -7638.806040000915, -7636.322840000689, -7637.838620001077, -7637.99568664357, -7637.256999999285, -7639.507680000364, -7642.084199999273, -7635.202819999307, -7637.467279999703, -7634.933400001377, -7630.479379999638, -7635.572860001028, -7621.043740000576, -7634.124940001219, -7633.270179999619, -7633.669680001587, -7629.115900000184, -7627.173920000345, -7633.074319998918, -7633.702440000326, -7633.386599998921, -7632.633999998868, -7630.153959999979, -7635.202819999307, -7623.915599998832, -7622.394319999963, -7633.258779999614, -7634.258860000968, -7638.301400000602, -7633.146019999683, -7624.672880001366, -7633.403159999102, -7628.134500000626, -7633.725439998508, -7633.747759999334, -7634.725239999592, -7628.9143400006, -7635.572860001028, -7633.707159999013, -7634.725239999592, -7637.877380000054, -7633.258779999614, -7633.205600000918, -7634.236499999463, -7635.6803999990225, -7633.205600000918, -7633.205600000918, -7633.139959999919, -7615.667540000379, -7633.041499998419, -7633.205600000918, -7634.2253399990495, -7631.195819999278, -7634.702919998765, -7634.656699999422, -7633.729499999434, -7624.605120000988, -7621.387300001084, -7634.70252000168, -7627.860620000958, -7634.258860000968, -7626.458999999612, -7630.680080001056, -7622.346440001577, -7620.611460001021, -7622.977419999242, -7627.0271000005305, -7629.184920000285, -7617.621580000222, -7634.928040001541, -7624.239620001614, -7634.725239999592, -7638.0251199997965, -7639.831220000237, -7627.349420000613, -7610.739519999176, -7640.871919999272, -7637.622659999875, -7637.3679399997, -7628.134500000626, -7637.984260001033, -7634.725239999592, -7631.475180000812, -7622.9092999994755, -7630.9161200009285, -7625.807160000503, -7624.2115000009535, -7626.153440001607, -7613.767840000987, -7619.773420001567, -7626.470679999888, -7627.332980000972, -7611.188959999383, -7622.664459999649, -7618.405520001053, -7612.218279999494, -7614.46494000107, -7610.734339999408, -7616.497300000488, -7614.081700000167, -7615.576920001209, -7616.399160000682, -7617.514900001139, -7613.352960000932, -7619.322239999472, -7618.228380000592, -7614.461180000752, -7605.212799999118, -7613.7059799999, -7609.8984600000085, -7629.701159999519, -7622.03089999929, -7621.363400001079, -7626.023259998858, -7594.524140000343, -7602.216139999777, -7619.714220000804, -7626.918520000577, -7613.055560000241, -7607.202920000255, -7618.437440001219, -7605.103580000252, -7611.861500000208, -7610.734339999408, -7610.001839999854, -7608.8647799998525, -7591.237640000135, -7610.377560000122, -7602.472119999677, -7616.758860000968, -7610.649900000542, -7605.212799999118, -7600.917760000378, -7604.957999999821, -7605.2106599994, -7602.47221999988, -7614.934220000357, -7609.2503999993205, -7597.805139999837, -7599.86278000027, -7608.40549999997, -7604.006600000709, -7603.155240000039, -7603.249239999801, -7595.1343200005595, -7604.620039999485, -7612.655860000848, -7601.616200000048, -7602.395759999752, -7602.0059799999, -7604.985119999945, -7597.1927599996325, -7608.955319999904, -7603.977059999854, -7601.260620000214, -7604.088760000467, -7603.977059999854, -7602.321220000088, -7608.489059999585, -7595.901859999448, -7601.70991999954, -7598.554039999843, -7602.321220000088, -7597.1927599996325, -7596.606200000644, -7596.899940000474, -7602.966619999706, -7603.249239999801, -7612.655860000848, -7601.642960000038, -7608.489059999585, -7601.9582000002265, -7600.917760000378, -7599.3513000003995, -7597.764680000396, -7595.1343200005595, -7588.670379998535, -7592.368379999697, -7599.636639999599, -7598.253359999508, -7597.396900000424, -7595.993580000102, -7588.278359998762, -7594.651920000464, -7597.560539999606, -7595.859600000083, -7600.192580000311, -7599.644079999625, -7595.1343200005595, -7595.128840000182, -7594.651920000464, -7596.914500000328, -7592.179219999909, -7595.605759999901, -7595.514039999247, -7588.278359998762, -7602.092719999702, -7589.7478599995375, -7594.264100000262, -7591.240579999983, -7589.747859999539, -7589.706519999355, -7589.706519999355, -7592.179219999909, -7591.178899998963, -7591.570919998735, -7593.219560000301, -7588.670379998535, -7594.366759999097, -7598.8637999996545, -7591.918719999492, -7589.967019999773, -7588.963819999993, -7597.31439999938, -7595.174340000003, -7592.096919998527, -7588.534659999609, -7591.921799999475, -7593.785579999536, -7599.919259999692, -7592.926319999993, -7587.494319999218, -7596.726419999451, -7593.895319999754, -7590.102199999988, -7591.976359999925, -7601.464159999788, -7602.395759999752, -7611.527080000192, -7565.389601622522, -7568.078034310788, -7562.887031118572, -7561.721723593027, -7563.271739999205, -7564.609196678549, -7559.78200000152, -7570.45337536186, -7575.068022930622, -7569.504974746704, -7557.494454851747, -7560.290045558661, -7561.164865558594, -7569.312959998846, -7562.192000001669, -7561.228000001609, -7570.45337536186, -7559.497299998999, -7558.567879998684, -7547.937559999526, -7556.818239998817, -7559.465949703753, -7573.73422293067, -7564.824040000885, -7558.567879998684, -7557.693059998751, -7567.049680001289, -7537.105960000305, -7558.648720000684, -7554.542573827505, -7537.2607799999405, -7557.772940000146, -7557.693059998751, -7556.0775999993075, -7557.693059998751, -7536.7921399995685, -7556.818239998817, -7539.876350802183, -7545.474832799286, -7536.435899998993, -7537.241000000386, -7544.086134850234, -7543.752419679612, -7541.168800000101, -7536.607400000095, -7537.536020000279, -7536.968998140842, -7533.044497637451, -7541.168800000101, -7538.281855928898, -7537.241000000386, -7535.9782340191305, -7542.891213119775, -7538.363259999454, -7530.5390794985, -7529.383580001444, -7536.565799999982, -7534.472611121833, -7537.241000000386, -7540.159646559507, -7541.956033119559, -7536.4928999990225, -7541.168800000101, -7537.241000000386, -7524.993508493901, -7536.565799999982, -7525.049919999391, -7528.504928494245, -7527.959288494289, -7531.963099999726, -7534.441200000794, -7528.504928494245, -7534.531539496036, -7536.560320000349, -7524.863817591222, -7527.779140000045, -7524.863817591222, -7528.608068633825, -7530.432033367455, -7534.928880000114, -7516.198399998249, -7536.565799999982, -7509.653139999509, -7533.671000000089, -7534.928880000114, -7525.818129986525, -7510.211205821484, -7528.163979999721, -7533.671000000089, -7524.611294072868, -7527.959288494289, -7536.020160000026, -7527.169124247133, -7526.59368449077, -7528.478304246813, -7521.700179999321, -7522.871639999003, -7506.691379999369, -7536.565799999982, -7518.184889119863, -7518.146361163259, -7533.847600001097, -7522.101159998774, -7515.483900000157, -7506.731899999082, -7522.429348494858, -7527.906039999425, -7516.386862327903, -7520.965557289868, -7515.526940000059, -7516.20368911922, -7517.3296945601705, -7498.192540001124, -7512.565659999847, -7519.555831866712, -7500.380161352456, -7512.522539999336, -7511.5214999988675, -7516.413621235639, -7494.614439999312, -7509.648779999465, -7512.522539999336, -7490.054859999567, -7515.577020000666, -7511.778299998492, -7516.52670000121, -7530.788739498705, -7506.731899999082, -7513.790720000863, -7508.529711059481, -7515.577020000666, -7513.617979999632, -7515.526940000059, -7509.605659998953, -7511.736699998379, -7508.566699999571, -7505.129660000652, -7510.211205821484, -7510.211205821484, -7510.606699999422, -7506.731899999082, -7513.331614559889, -7508.312054560333, -7509.587322120368, -7513.566700000316, -7500.153960000724, -7507.828820000589, -7499.494800000638, -7505.178760000318, -7509.648779999465, -7507.5629945606, -7502.193960000574, -7506.827780000121, -7508.566699999571, -7514.579379999639, -7510.617539999634, -7479.029800000042, -7493.680219999701, -7501.953800000995, -7502.204140001535, -7507.568259999901, -7486.8663599990305, -7496.708459998667, -7501.953800000995, -7505.18319106102, -7507.568259999901, -7502.449700001627, -7497.376620001346, -7515.526940000059, -7486.022555204481, -7505.870140000433, -7502.449700001627, -7503.41760000065, -7507.568259999901, -7502.685700000822, -7505.129660000652, -7505.54056000039, -7506.240240000188, -7506.240240000188, -7497.701420000941, -7504.906800001858, -7470.420419703424, -7486.752603657544, -7487.366819998622, -7497.3718400008975, -7496.969520001114, -7506.08285728991, -7498.369877288491, -7510.467996513098, -7489.919799998404, -7478.544700000433, -7499.82438000068, -7492.09407728836, -7480.124099999664, -7502.449700001627, -7483.745459999144, -7502.449700001627, -7501.868077290058, -7480.124099999664, -7505.169951867312, -7478.078446555883, -7474.582499999553, -7487.965442185104, -7461.809479999542, -7460.7679000012595, -7469.304099998623, -7468.064939998835, -7466.894739999622, -7464.485380000621, -7461.989680000394, -7468.064939998835, -7457.927200000731, -7460.7679000012595, -7458.960460000487, -7460.7679000012595, -7466.2406799994405, -7462.507798078656, -7458.381099998953, -7460.789689039439, -7458.381099998953, -7458.04930000007, -7456.097740000487, -7457.927200000731, -7460.165420001002, -7456.129439999163, -7453.200300000608, -7457.527899999916, -7457.073520000279, -7455.121960000693, -7454.176680000126, -7455.334460000694, -7457.24210000038, -7459.680460000784, -7454.146180000901, -7453.200300000608, -7457.5835400000215, -7458.26419999823, -7431.346306786686, -7423.888736888021, -7436.0347399994735, -7436.0347399994735, -7431.009255786985, -7421.765077726543, -7458.26419999823, -7452.568409536778, -7427.402482891082, -7421.900961992144, -7425.57562315613, -7468.13389999941, -7423.060899998993, -7429.390257786959, -7424.143700000644, -7427.90850000009, -7439.543800000101, -7429.556548894197, -7431.009255786985, -7433.09457789436, -7424.621019999683, -7436.0347399994735, -7431.33521778658, -7441.707140664012, -7424.330293998122, -7426.8058000005785, -7424.610640000552, -7424.621019999683, -7431.61841999963, -7436.926883972436, -7421.900961992144, -7423.060899998993, -7426.10272324085, -7424.036480663718, -7414.87346998602, -7425.661100000143, -7422.8539689972995, -7421.900961992144, -7435.961080000549, -7423.888736888021, -7425.462219998985, -7414.87346998602, -7411.328600000592, -7414.87346998602, -7425.643068205565, -7430.379088996352, -7420.799480000884, -7422.316300000994, -7411.399340572952, -7415.713930144161, -7431.027708204836, -7435.067499998959, -7419.797833997756, -7426.8058000005785, -7428.684600000828, -7429.722840001434, -7425.71528000012, -7425.393305641413, -7430.061258137971, -7428.693219999969, -7427.483089140803, -7422.258999999614, -7419.9798651225865, -7416.8075202867385, -7413.154010429978, -7420.413140001148, -7424.621019999683, -7414.916941028088, -7425.64380000159, -7421.36472000107, -7410.933140001446, -7412.376859999448, -7408.534640000015, -7409.48492000103, -7399.810299999267, -7409.471019999684, -7410.477439999582, -7408.74112547636, -7398.245800000429, -7412.126979999989, -7408.554660000652, -7407.552820000053, -7401.67669999972, -7409.865800000727, -7405.410759998858, -7408.9259999990445, -7360.497299998999, -7406.818919998407, -7396.004539999366, -7406.220880705863, -7405.083280000091, -7406.571299999207, -7409.31385999918, -7406.236659998447, -7404.230999998748, -7400.328820001334, -7398.547959998995, -7398.534499999136, -7394.473719999194, -7401.391099999845, -7385.7143600009385, -7384.729100000113, -7334.942339999974, -7370.127824570984, -7381.059579999, -7382.350972244889, -7410.466200000793, -7406.6179800003765, -7353.779559999704, -7392.204744914174, -7390.734700001776, -7381.907100000232, -7390.446240000427, -7374.419039999693, -7360.497299998999, -7390.556240000576, -7390.095800001174, -7382.086967995763, -7374.615599999578, -7368.349980000405, -7366.873180001229, -7393.145199999213, -7368.893979999423, -7391.077199999243, -7382.656880000979, -7381.915620001404, -7406.945220001042, -7385.207479999959, -7388.785799999535, -7379.764380001277, -7375.9266079954805, -7374.9244199998675, -7379.538986662776, -7373.052799999716, -7379.764380001277, -7385.48268000111, -7376.005820000917, -7366.242400001733, -7454.239100001751, -7375.040000000596, -7365.533199999481, -7375.501600001007, -7368.3499800004065, -7371.784060000628, -7380.64504000023, -7376.525115990638, -7378.97438666299, -7373.657000000775, -7376.098123331368, -7372.844920000434, -7388.136720000208, -7366.646204036474, -7381.518960001318, -7373.052799999716, -7373.221859999746, -7364.296679998934, -7375.704200000316, -7370.010699998586, -7374.258520000428, -7366.368479999155, -7384.6663599997755, -7371.767380914092, -7373.523846907168, -7373.949620000273, -7380.191460000724, -7387.814840000123, -7363.954540000111, -7393.489279999584, -7371.784119999409, -7373.311739999803, -7372.1929399997, -7373.630680000037, -7369.484440001101, -7372.244460000843, -7364.709619999677, -7331.051279999316, -7363.089900001139, -7364.475360001624, -7376.322060000151, -7364.838899999857, -7357.907019998878, -7369.4531199999155, -7360.497299998999, -7360.599499999732, -7342.295539999008, -7363.33372000009, -7335.947260001301, -7367.545880000293, -7368.3499800004065, -7362.546000000089, -7355.234080000223, -7353.882460000366, -7330.384619999677, -7357.05410000086, -7388.9553200006485, -7354.637580000611, -7349.674819999935, -7367.407260000704, -7349.440139999986, -7357.787779999524, -7357.269802496582, -7371.933999999614, -7341.491990055142, -7351.216960000247, -7363.282299999148, -7351.981125298886, -7350.385885059089, -7353.813859999925, -7347.980111371726, -7352.379920001328, -7350.99907778725, -7352.932156860827, -7349.963046414405, -7345.80808000043, -7354.1845805309695, -7348.2691600002345, -7352.070251372456, -7352.5828313723205, -7350.251785497368, -7349.9598600000145, -7330.016820000112, -7328.796100000292, -7353.99422000125, -7341.416700000316, -7349.079740000516, -7339.813959999383, -7342.435300000012, -7352.22106000036, -7343.8618000000715, -7342.588679999858, -7338.009399998933, -7356.493555572629, -7346.902639998494, -7348.11184335202, -7338.579065559059, -7338.6926033511745, -7342.588679999858, -7339.1542199991645, -7361.050651869923, -7325.729459999502, -7345.935159999877, -7344.555139999837, -7348.832385497541, -7352.767399998755, -7338.407279999554, -7365.519499999285, -7350.25266000107, -7329.940719999373, -7338.292690055071, -7331.515340000391, -7332.933559999615, -7333.540879999846, -7334.0296799995, -7333.361680000276, -7345.0440200001, -7333.251399999857, -7333.515780000389, -7339.904759999365, -7349.659359999746, -7329.88512000069, -7331.315659999847, -7328.1472599998115, -7338.784595809132, -7312.981300000101, -7312.981300000101, -7358.343820001185, -7335.751919998974, -7365.998635811358, -7329.34600000009, -7325.414076325297, -7317.161979998648, -7333.230260001123, -7318.559339998663, -7328.5657799988985, -7323.2887000001965, -7315.849199999869, -7336.525260000676, -7327.224539998919, -7317.995279999823, -7324.765559998899, -7360.497299998999, -7317.526099998502, -7316.890960000455, -7320.222439999134, -7318.41825722605, -7316.934840001164, -7314.410582393408, -7314.276375822723, -7312.981300000101, -7315.5388199999925, -7310.626819998771, -7314.354819999635, -7321.026599999517, -7328.297739998996, -7331.417779999227, -7318.559339998663, -7313.759759371727, -7314.734892018139, -7316.2677200004455, -7315.743400000036, -7316.6492400005445, -7320.717511974273, -7316.2828200005, -7317.03016955927, -7317.062253372371, -7314.642200000584, -7314.871879999339, -7315.682567644864, -7313.231062930822, -7313.731119778005, -7315.854037226736, -7313.501543466, -7315.5778372265395, -7314.707380000502, -7315.360119999945, -7314.733155287057, -7316.2677200004455, -7316.124920000136, -7315.704369559884, -7317.472600000352, -7330.786899998784, -7313.767280000448, -7314.864859999716, -7312.826999999583, -7307.427298329026, -7347.601019999385, -7311.377459164709, -7314.392099999636, -7310.995939164609, -7314.54932674542, -7312.004720000177, -7307.427298329026, -7306.9992231152955, -7309.635262393951, -7312.270179999619, -7317.161979998648, -7305.1515765711665, -7314.337760000676]}],\n",
       "                        {\"legend\": {\"tracegroupgap\": 0}, \"margin\": {\"t\": 60}, \"template\": {\"data\": {\"bar\": [{\"error_x\": {\"color\": \"#2a3f5f\"}, \"error_y\": {\"color\": \"#2a3f5f\"}, \"marker\": {\"line\": {\"color\": \"#E5ECF6\", \"width\": 0.5}}, \"type\": \"bar\"}], \"barpolar\": [{\"marker\": {\"line\": {\"color\": \"#E5ECF6\", \"width\": 0.5}}, \"type\": \"barpolar\"}], \"carpet\": [{\"aaxis\": {\"endlinecolor\": \"#2a3f5f\", \"gridcolor\": \"white\", \"linecolor\": \"white\", \"minorgridcolor\": \"white\", \"startlinecolor\": \"#2a3f5f\"}, \"baxis\": {\"endlinecolor\": \"#2a3f5f\", \"gridcolor\": \"white\", \"linecolor\": \"white\", \"minorgridcolor\": \"white\", \"startlinecolor\": \"#2a3f5f\"}, \"type\": \"carpet\"}], \"choropleth\": [{\"colorbar\": {\"outlinewidth\": 0, \"ticks\": \"\"}, \"type\": \"choropleth\"}], \"contour\": [{\"colorbar\": {\"outlinewidth\": 0, \"ticks\": \"\"}, \"colorscale\": [[0.0, \"#0d0887\"], [0.1111111111111111, \"#46039f\"], [0.2222222222222222, \"#7201a8\"], [0.3333333333333333, \"#9c179e\"], [0.4444444444444444, \"#bd3786\"], [0.5555555555555556, \"#d8576b\"], [0.6666666666666666, \"#ed7953\"], [0.7777777777777778, \"#fb9f3a\"], [0.8888888888888888, \"#fdca26\"], [1.0, \"#f0f921\"]], \"type\": \"contour\"}], \"contourcarpet\": [{\"colorbar\": {\"outlinewidth\": 0, \"ticks\": \"\"}, \"type\": \"contourcarpet\"}], \"heatmap\": [{\"colorbar\": {\"outlinewidth\": 0, \"ticks\": \"\"}, \"colorscale\": [[0.0, \"#0d0887\"], [0.1111111111111111, \"#46039f\"], [0.2222222222222222, \"#7201a8\"], [0.3333333333333333, \"#9c179e\"], [0.4444444444444444, \"#bd3786\"], [0.5555555555555556, \"#d8576b\"], [0.6666666666666666, \"#ed7953\"], [0.7777777777777778, \"#fb9f3a\"], [0.8888888888888888, \"#fdca26\"], [1.0, \"#f0f921\"]], \"type\": \"heatmap\"}], \"heatmapgl\": [{\"colorbar\": {\"outlinewidth\": 0, \"ticks\": \"\"}, \"colorscale\": [[0.0, \"#0d0887\"], [0.1111111111111111, \"#46039f\"], [0.2222222222222222, \"#7201a8\"], [0.3333333333333333, \"#9c179e\"], [0.4444444444444444, \"#bd3786\"], [0.5555555555555556, \"#d8576b\"], [0.6666666666666666, \"#ed7953\"], [0.7777777777777778, \"#fb9f3a\"], [0.8888888888888888, \"#fdca26\"], [1.0, \"#f0f921\"]], \"type\": \"heatmapgl\"}], \"histogram\": [{\"marker\": {\"colorbar\": {\"outlinewidth\": 0, \"ticks\": \"\"}}, \"type\": \"histogram\"}], \"histogram2d\": [{\"colorbar\": {\"outlinewidth\": 0, \"ticks\": \"\"}, \"colorscale\": [[0.0, \"#0d0887\"], [0.1111111111111111, \"#46039f\"], [0.2222222222222222, \"#7201a8\"], [0.3333333333333333, \"#9c179e\"], [0.4444444444444444, \"#bd3786\"], [0.5555555555555556, \"#d8576b\"], [0.6666666666666666, \"#ed7953\"], [0.7777777777777778, \"#fb9f3a\"], [0.8888888888888888, \"#fdca26\"], [1.0, \"#f0f921\"]], \"type\": \"histogram2d\"}], \"histogram2dcontour\": [{\"colorbar\": {\"outlinewidth\": 0, \"ticks\": \"\"}, \"colorscale\": [[0.0, \"#0d0887\"], [0.1111111111111111, \"#46039f\"], [0.2222222222222222, \"#7201a8\"], [0.3333333333333333, \"#9c179e\"], [0.4444444444444444, \"#bd3786\"], [0.5555555555555556, \"#d8576b\"], [0.6666666666666666, \"#ed7953\"], [0.7777777777777778, \"#fb9f3a\"], [0.8888888888888888, \"#fdca26\"], [1.0, \"#f0f921\"]], \"type\": \"histogram2dcontour\"}], \"mesh3d\": [{\"colorbar\": {\"outlinewidth\": 0, \"ticks\": \"\"}, \"type\": \"mesh3d\"}], \"parcoords\": [{\"line\": {\"colorbar\": {\"outlinewidth\": 0, \"ticks\": \"\"}}, \"type\": \"parcoords\"}], \"pie\": [{\"automargin\": true, \"type\": \"pie\"}], \"scatter\": [{\"marker\": {\"colorbar\": {\"outlinewidth\": 0, \"ticks\": \"\"}}, \"type\": \"scatter\"}], \"scatter3d\": [{\"line\": {\"colorbar\": {\"outlinewidth\": 0, \"ticks\": \"\"}}, \"marker\": {\"colorbar\": {\"outlinewidth\": 0, \"ticks\": \"\"}}, \"type\": \"scatter3d\"}], \"scattercarpet\": [{\"marker\": {\"colorbar\": {\"outlinewidth\": 0, \"ticks\": \"\"}}, \"type\": \"scattercarpet\"}], \"scattergeo\": [{\"marker\": {\"colorbar\": {\"outlinewidth\": 0, \"ticks\": \"\"}}, \"type\": \"scattergeo\"}], \"scattergl\": [{\"marker\": {\"colorbar\": {\"outlinewidth\": 0, \"ticks\": \"\"}}, \"type\": \"scattergl\"}], \"scattermapbox\": [{\"marker\": {\"colorbar\": {\"outlinewidth\": 0, \"ticks\": \"\"}}, \"type\": \"scattermapbox\"}], \"scatterpolar\": [{\"marker\": {\"colorbar\": {\"outlinewidth\": 0, \"ticks\": \"\"}}, \"type\": \"scatterpolar\"}], \"scatterpolargl\": [{\"marker\": {\"colorbar\": {\"outlinewidth\": 0, \"ticks\": \"\"}}, \"type\": \"scatterpolargl\"}], \"scatterternary\": [{\"marker\": {\"colorbar\": {\"outlinewidth\": 0, \"ticks\": \"\"}}, \"type\": \"scatterternary\"}], \"surface\": [{\"colorbar\": {\"outlinewidth\": 0, \"ticks\": \"\"}, \"colorscale\": [[0.0, \"#0d0887\"], [0.1111111111111111, \"#46039f\"], [0.2222222222222222, \"#7201a8\"], [0.3333333333333333, \"#9c179e\"], [0.4444444444444444, \"#bd3786\"], [0.5555555555555556, \"#d8576b\"], [0.6666666666666666, \"#ed7953\"], [0.7777777777777778, \"#fb9f3a\"], [0.8888888888888888, \"#fdca26\"], [1.0, \"#f0f921\"]], \"type\": \"surface\"}], \"table\": [{\"cells\": {\"fill\": {\"color\": \"#EBF0F8\"}, \"line\": {\"color\": \"white\"}}, \"header\": {\"fill\": {\"color\": \"#C8D4E3\"}, \"line\": {\"color\": \"white\"}}, \"type\": \"table\"}]}, \"layout\": {\"annotationdefaults\": {\"arrowcolor\": \"#2a3f5f\", \"arrowhead\": 0, \"arrowwidth\": 1}, \"coloraxis\": {\"colorbar\": {\"outlinewidth\": 0, \"ticks\": \"\"}}, \"colorscale\": {\"diverging\": [[0, \"#8e0152\"], [0.1, \"#c51b7d\"], [0.2, \"#de77ae\"], [0.3, \"#f1b6da\"], [0.4, \"#fde0ef\"], [0.5, \"#f7f7f7\"], [0.6, \"#e6f5d0\"], [0.7, \"#b8e186\"], [0.8, \"#7fbc41\"], [0.9, \"#4d9221\"], [1, \"#276419\"]], \"sequential\": [[0.0, \"#0d0887\"], [0.1111111111111111, \"#46039f\"], [0.2222222222222222, \"#7201a8\"], [0.3333333333333333, \"#9c179e\"], [0.4444444444444444, \"#bd3786\"], [0.5555555555555556, \"#d8576b\"], [0.6666666666666666, \"#ed7953\"], [0.7777777777777778, \"#fb9f3a\"], [0.8888888888888888, \"#fdca26\"], [1.0, \"#f0f921\"]], \"sequentialminus\": [[0.0, \"#0d0887\"], [0.1111111111111111, \"#46039f\"], [0.2222222222222222, \"#7201a8\"], [0.3333333333333333, \"#9c179e\"], [0.4444444444444444, \"#bd3786\"], [0.5555555555555556, \"#d8576b\"], [0.6666666666666666, \"#ed7953\"], [0.7777777777777778, \"#fb9f3a\"], [0.8888888888888888, \"#fdca26\"], [1.0, \"#f0f921\"]]}, \"colorway\": [\"#636efa\", \"#EF553B\", \"#00cc96\", \"#ab63fa\", \"#FFA15A\", \"#19d3f3\", \"#FF6692\", \"#B6E880\", \"#FF97FF\", \"#FECB52\"], \"font\": {\"color\": \"#2a3f5f\"}, \"geo\": {\"bgcolor\": \"white\", \"lakecolor\": \"white\", \"landcolor\": \"#E5ECF6\", \"showlakes\": true, \"showland\": true, \"subunitcolor\": \"white\"}, \"hoverlabel\": {\"align\": \"left\"}, \"hovermode\": \"closest\", \"mapbox\": {\"style\": \"light\"}, \"paper_bgcolor\": \"white\", \"plot_bgcolor\": \"#E5ECF6\", \"polar\": {\"angularaxis\": {\"gridcolor\": \"white\", \"linecolor\": \"white\", \"ticks\": \"\"}, \"bgcolor\": \"#E5ECF6\", \"radialaxis\": {\"gridcolor\": \"white\", \"linecolor\": \"white\", \"ticks\": \"\"}}, \"scene\": {\"xaxis\": {\"backgroundcolor\": \"#E5ECF6\", \"gridcolor\": \"white\", \"gridwidth\": 2, \"linecolor\": \"white\", \"showbackground\": true, \"ticks\": \"\", \"zerolinecolor\": \"white\"}, \"yaxis\": {\"backgroundcolor\": \"#E5ECF6\", \"gridcolor\": \"white\", \"gridwidth\": 2, \"linecolor\": \"white\", \"showbackground\": true, \"ticks\": \"\", \"zerolinecolor\": \"white\"}, \"zaxis\": {\"backgroundcolor\": \"#E5ECF6\", \"gridcolor\": \"white\", \"gridwidth\": 2, \"linecolor\": \"white\", \"showbackground\": true, \"ticks\": \"\", \"zerolinecolor\": \"white\"}}, \"shapedefaults\": {\"line\": {\"color\": \"#2a3f5f\"}}, \"ternary\": {\"aaxis\": {\"gridcolor\": \"white\", \"linecolor\": \"white\", \"ticks\": \"\"}, \"baxis\": {\"gridcolor\": \"white\", \"linecolor\": \"white\", \"ticks\": \"\"}, \"bgcolor\": \"#E5ECF6\", \"caxis\": {\"gridcolor\": \"white\", \"linecolor\": \"white\", \"ticks\": \"\"}}, \"title\": {\"x\": 0.05}, \"xaxis\": {\"automargin\": true, \"gridcolor\": \"white\", \"linecolor\": \"white\", \"ticks\": \"\", \"title\": {\"standoff\": 15}, \"zerolinecolor\": \"white\", \"zerolinewidth\": 2}, \"yaxis\": {\"automargin\": true, \"gridcolor\": \"white\", \"linecolor\": \"white\", \"ticks\": \"\", \"title\": {\"standoff\": 15}, \"zerolinecolor\": \"white\", \"zerolinewidth\": 2}}}, \"xaxis\": {\"anchor\": \"y\", \"domain\": [0.0, 1.0]}, \"yaxis\": {\"anchor\": \"x\", \"domain\": [0.0, 1.0], \"title\": {\"text\": \"LONGITUDE\"}}},\n",
       "                        {\"responsive\": true}\n",
       "                    ).then(function(){\n",
       "                            \n",
       "var gd = document.getElementById('189c30e1-853e-4669-bad9-45c389fb3cf7');\n",
       "var x = new MutationObserver(function (mutations, observer) {{\n",
       "        var display = window.getComputedStyle(gd).display;\n",
       "        if (!display || display === 'none') {{\n",
       "            console.log([gd, 'removed!']);\n",
       "            Plotly.purge(gd);\n",
       "            observer.disconnect();\n",
       "        }}\n",
       "}});\n",
       "\n",
       "// Listen for the removal of the full notebook cells\n",
       "var notebookContainer = gd.closest('#notebook-container');\n",
       "if (notebookContainer) {{\n",
       "    x.observe(notebookContainer, {childList: true});\n",
       "}}\n",
       "\n",
       "// Listen for the clearing of the current output cell\n",
       "var outputEl = gd.closest('.output');\n",
       "if (outputEl) {{\n",
       "    x.observe(outputEl, {childList: true});\n",
       "}}\n",
       "\n",
       "                        })\n",
       "                };\n",
       "                });\n",
       "            </script>\n",
       "        </div>"
      ]
     },
     "metadata": {},
     "output_type": "display_data"
    }
   ],
   "source": [
    "LONG_plot.add_trace(prediction_trace)\n",
    "LONG_plot.show()"
   ]
  },
  {
   "cell_type": "code",
   "execution_count": 47,
   "metadata": {},
   "outputs": [
    {
     "data": {
      "text/plain": [
       "8.31229947513902"
      ]
     },
     "execution_count": 47,
     "metadata": {},
     "output_type": "execute_result"
    }
   ],
   "source": [
    "sqrt(mean_squared_error(prediction_LONG[\"LONGITUDE\"], prediction_LONG[\"prediction\"]))"
   ]
  },
  {
   "cell_type": "code",
   "execution_count": 48,
   "metadata": {},
   "outputs": [
    {
     "data": {
      "text/plain": [
       "72.91313461957998"
      ]
     },
     "execution_count": 48,
     "metadata": {},
     "output_type": "execute_result"
    }
   ],
   "source": [
    "max_error(prediction_LONG[\"LONGITUDE\"], prediction_LONG[\"prediction\"])"
   ]
  },
  {
   "cell_type": "code",
   "execution_count": 49,
   "metadata": {},
   "outputs": [
    {
     "data": {
      "text/plain": [
       "5.24477539908919"
      ]
     },
     "execution_count": 49,
     "metadata": {},
     "output_type": "execute_result"
    }
   ],
   "source": [
    "mean_absolute_error(prediction_LONG[\"LONGITUDE\"], prediction_LONG[\"prediction\"])"
   ]
  },
  {
   "cell_type": "code",
   "execution_count": null,
   "metadata": {},
   "outputs": [],
   "source": []
  },
  {
   "cell_type": "code",
   "execution_count": null,
   "metadata": {},
   "outputs": [],
   "source": []
  },
  {
   "cell_type": "markdown",
   "metadata": {},
   "source": [
    "### Clasification estomators for building and floor"
   ]
  },
  {
   "cell_type": "markdown",
   "metadata": {},
   "source": [
    "Model variable function"
   ]
  },
  {
   "cell_type": "code",
   "execution_count": 50,
   "metadata": {},
   "outputs": [],
   "source": [
    "modelRFC = RandomForestClassifier(n_estimators=50)"
   ]
  },
  {
   "cell_type": "code",
   "execution_count": 51,
   "metadata": {},
   "outputs": [],
   "source": [
    "dependent = trainset[\"BUILDINGID\"]"
   ]
  },
  {
   "cell_type": "code",
   "execution_count": 52,
   "metadata": {},
   "outputs": [
    {
     "data": {
      "text/plain": [
       "0    1\n",
       "1    1\n",
       "2    1\n",
       "3    1\n",
       "4    0\n",
       "Name: BUILDINGID, dtype: int64"
      ]
     },
     "execution_count": 52,
     "metadata": {},
     "output_type": "execute_result"
    }
   ],
   "source": [
    "dependent.head()"
   ]
  },
  {
   "cell_type": "code",
   "execution_count": 53,
   "metadata": {},
   "outputs": [],
   "source": [
    "val_dependent = validation[\"BUILDINGID\"]"
   ]
  },
  {
   "cell_type": "code",
   "execution_count": 54,
   "metadata": {},
   "outputs": [
    {
     "data": {
      "text/plain": [
       "0    1\n",
       "1    2\n",
       "2    2\n",
       "3    2\n",
       "4    0\n",
       "Name: BUILDINGID, dtype: int64"
      ]
     },
     "execution_count": 54,
     "metadata": {},
     "output_type": "execute_result"
    }
   ],
   "source": [
    "val_dependent.head()"
   ]
  },
  {
   "cell_type": "code",
   "execution_count": 55,
   "metadata": {},
   "outputs": [
    {
     "data": {
      "text/html": [
       "<div>\n",
       "<style scoped>\n",
       "    .dataframe tbody tr th:only-of-type {\n",
       "        vertical-align: middle;\n",
       "    }\n",
       "\n",
       "    .dataframe tbody tr th {\n",
       "        vertical-align: top;\n",
       "    }\n",
       "\n",
       "    .dataframe thead th {\n",
       "        text-align: right;\n",
       "    }\n",
       "</style>\n",
       "<table border=\"1\" class=\"dataframe\">\n",
       "  <thead>\n",
       "    <tr style=\"text-align: right;\">\n",
       "      <th></th>\n",
       "      <th>WAP001</th>\n",
       "      <th>WAP002</th>\n",
       "      <th>WAP003</th>\n",
       "      <th>WAP004</th>\n",
       "      <th>WAP005</th>\n",
       "      <th>WAP006</th>\n",
       "      <th>WAP007</th>\n",
       "      <th>WAP008</th>\n",
       "      <th>WAP009</th>\n",
       "      <th>WAP010</th>\n",
       "      <th>...</th>\n",
       "      <th>WAP511</th>\n",
       "      <th>WAP512</th>\n",
       "      <th>WAP513</th>\n",
       "      <th>WAP514</th>\n",
       "      <th>WAP515</th>\n",
       "      <th>WAP516</th>\n",
       "      <th>WAP517</th>\n",
       "      <th>WAP518</th>\n",
       "      <th>WAP519</th>\n",
       "      <th>WAP520</th>\n",
       "    </tr>\n",
       "  </thead>\n",
       "  <tbody>\n",
       "    <tr>\n",
       "      <td>0</td>\n",
       "      <td>0.0</td>\n",
       "      <td>0.0</td>\n",
       "      <td>0.0</td>\n",
       "      <td>0.0</td>\n",
       "      <td>0.0</td>\n",
       "      <td>0.0</td>\n",
       "      <td>0.0</td>\n",
       "      <td>0.000000</td>\n",
       "      <td>0.0</td>\n",
       "      <td>0.0</td>\n",
       "      <td>...</td>\n",
       "      <td>0.0</td>\n",
       "      <td>0.0</td>\n",
       "      <td>0.0</td>\n",
       "      <td>0.0</td>\n",
       "      <td>0.0</td>\n",
       "      <td>0.0</td>\n",
       "      <td>0.0</td>\n",
       "      <td>0.0</td>\n",
       "      <td>0.0</td>\n",
       "      <td>0.0</td>\n",
       "    </tr>\n",
       "    <tr>\n",
       "      <td>1</td>\n",
       "      <td>0.0</td>\n",
       "      <td>0.0</td>\n",
       "      <td>0.0</td>\n",
       "      <td>0.0</td>\n",
       "      <td>0.0</td>\n",
       "      <td>0.0</td>\n",
       "      <td>0.0</td>\n",
       "      <td>0.000000</td>\n",
       "      <td>0.0</td>\n",
       "      <td>0.0</td>\n",
       "      <td>...</td>\n",
       "      <td>0.0</td>\n",
       "      <td>0.0</td>\n",
       "      <td>0.0</td>\n",
       "      <td>0.0</td>\n",
       "      <td>0.0</td>\n",
       "      <td>0.0</td>\n",
       "      <td>0.0</td>\n",
       "      <td>0.0</td>\n",
       "      <td>0.0</td>\n",
       "      <td>0.0</td>\n",
       "    </tr>\n",
       "    <tr>\n",
       "      <td>2</td>\n",
       "      <td>0.0</td>\n",
       "      <td>0.0</td>\n",
       "      <td>0.0</td>\n",
       "      <td>0.0</td>\n",
       "      <td>0.0</td>\n",
       "      <td>0.0</td>\n",
       "      <td>0.0</td>\n",
       "      <td>0.024169</td>\n",
       "      <td>0.0</td>\n",
       "      <td>0.0</td>\n",
       "      <td>...</td>\n",
       "      <td>0.0</td>\n",
       "      <td>0.0</td>\n",
       "      <td>0.0</td>\n",
       "      <td>0.0</td>\n",
       "      <td>0.0</td>\n",
       "      <td>0.0</td>\n",
       "      <td>0.0</td>\n",
       "      <td>0.0</td>\n",
       "      <td>0.0</td>\n",
       "      <td>0.0</td>\n",
       "    </tr>\n",
       "    <tr>\n",
       "      <td>3</td>\n",
       "      <td>0.0</td>\n",
       "      <td>0.0</td>\n",
       "      <td>0.0</td>\n",
       "      <td>0.0</td>\n",
       "      <td>0.0</td>\n",
       "      <td>0.0</td>\n",
       "      <td>0.0</td>\n",
       "      <td>0.000000</td>\n",
       "      <td>0.0</td>\n",
       "      <td>0.0</td>\n",
       "      <td>...</td>\n",
       "      <td>0.0</td>\n",
       "      <td>0.0</td>\n",
       "      <td>0.0</td>\n",
       "      <td>0.0</td>\n",
       "      <td>0.0</td>\n",
       "      <td>0.0</td>\n",
       "      <td>0.0</td>\n",
       "      <td>0.0</td>\n",
       "      <td>0.0</td>\n",
       "      <td>0.0</td>\n",
       "    </tr>\n",
       "    <tr>\n",
       "      <td>4</td>\n",
       "      <td>0.0</td>\n",
       "      <td>0.0</td>\n",
       "      <td>0.0</td>\n",
       "      <td>0.0</td>\n",
       "      <td>0.0</td>\n",
       "      <td>0.0</td>\n",
       "      <td>0.0</td>\n",
       "      <td>0.000000</td>\n",
       "      <td>0.0</td>\n",
       "      <td>0.0</td>\n",
       "      <td>...</td>\n",
       "      <td>0.0</td>\n",
       "      <td>0.0</td>\n",
       "      <td>0.0</td>\n",
       "      <td>0.0</td>\n",
       "      <td>0.0</td>\n",
       "      <td>0.0</td>\n",
       "      <td>0.0</td>\n",
       "      <td>0.0</td>\n",
       "      <td>0.0</td>\n",
       "      <td>0.0</td>\n",
       "    </tr>\n",
       "  </tbody>\n",
       "</table>\n",
       "<p>5 rows × 520 columns</p>\n",
       "</div>"
      ],
      "text/plain": [
       "   WAP001  WAP002  WAP003  WAP004  WAP005  WAP006  WAP007    WAP008  WAP009  \\\n",
       "0     0.0     0.0     0.0     0.0     0.0     0.0     0.0  0.000000     0.0   \n",
       "1     0.0     0.0     0.0     0.0     0.0     0.0     0.0  0.000000     0.0   \n",
       "2     0.0     0.0     0.0     0.0     0.0     0.0     0.0  0.024169     0.0   \n",
       "3     0.0     0.0     0.0     0.0     0.0     0.0     0.0  0.000000     0.0   \n",
       "4     0.0     0.0     0.0     0.0     0.0     0.0     0.0  0.000000     0.0   \n",
       "\n",
       "   WAP010  ...  WAP511  WAP512  WAP513  WAP514  WAP515  WAP516  WAP517  \\\n",
       "0     0.0  ...     0.0     0.0     0.0     0.0     0.0     0.0     0.0   \n",
       "1     0.0  ...     0.0     0.0     0.0     0.0     0.0     0.0     0.0   \n",
       "2     0.0  ...     0.0     0.0     0.0     0.0     0.0     0.0     0.0   \n",
       "3     0.0  ...     0.0     0.0     0.0     0.0     0.0     0.0     0.0   \n",
       "4     0.0  ...     0.0     0.0     0.0     0.0     0.0     0.0     0.0   \n",
       "\n",
       "   WAP518  WAP519  WAP520  \n",
       "0     0.0     0.0     0.0  \n",
       "1     0.0     0.0     0.0  \n",
       "2     0.0     0.0     0.0  \n",
       "3     0.0     0.0     0.0  \n",
       "4     0.0     0.0     0.0  \n",
       "\n",
       "[5 rows x 520 columns]"
      ]
     },
     "execution_count": 55,
     "metadata": {},
     "output_type": "execute_result"
    }
   ],
   "source": [
    "features.head()"
   ]
  },
  {
   "cell_type": "code",
   "execution_count": 56,
   "metadata": {},
   "outputs": [
    {
     "data": {
      "text/plain": [
       "RandomForestClassifier(bootstrap=True, class_weight=None, criterion='gini',\n",
       "                       max_depth=None, max_features='auto', max_leaf_nodes=None,\n",
       "                       min_impurity_decrease=0.0, min_impurity_split=None,\n",
       "                       min_samples_leaf=1, min_samples_split=2,\n",
       "                       min_weight_fraction_leaf=0.0, n_estimators=50,\n",
       "                       n_jobs=None, oob_score=False, random_state=None,\n",
       "                       verbose=0, warm_start=False)"
      ]
     },
     "execution_count": 56,
     "metadata": {},
     "output_type": "execute_result"
    }
   ],
   "source": [
    "modelRFC.fit(features, dependent)"
   ]
  },
  {
   "cell_type": "code",
   "execution_count": 57,
   "metadata": {},
   "outputs": [],
   "source": [
    "prediction_rfc = modelRFC.predict(val_features)"
   ]
  },
  {
   "cell_type": "code",
   "execution_count": 58,
   "metadata": {},
   "outputs": [
    {
     "data": {
      "text/plain": [
       "0.9990999099909991"
      ]
     },
     "execution_count": 58,
     "metadata": {},
     "output_type": "execute_result"
    }
   ],
   "source": [
    "modelRFC.score(val_features, val_dependent)"
   ]
  }
 ],
 "metadata": {
  "kernelspec": {
   "display_name": "Python 3",
   "language": "python",
   "name": "python3"
  },
  "language_info": {
   "codemirror_mode": {
    "name": "ipython",
    "version": 3
   },
   "file_extension": ".py",
   "mimetype": "text/x-python",
   "name": "python",
   "nbconvert_exporter": "python",
   "pygments_lexer": "ipython3",
   "version": "3.7.4"
  }
 },
 "nbformat": 4,
 "nbformat_minor": 2
}
