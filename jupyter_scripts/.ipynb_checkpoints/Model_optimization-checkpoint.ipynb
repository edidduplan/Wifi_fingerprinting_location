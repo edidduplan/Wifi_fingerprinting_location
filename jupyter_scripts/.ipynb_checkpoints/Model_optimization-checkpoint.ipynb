{
 "cells": [
  {
   "cell_type": "markdown",
   "metadata": {},
   "source": [
    "## Importing libraries"
   ]
  },
  {
   "cell_type": "code",
   "execution_count": 90,
   "metadata": {},
   "outputs": [],
   "source": [
    "import pandas as pd\n",
    "import numpy as np\n",
    "import scipy\n",
    "from math import sqrt\n",
    "import matplotlib.pyplot as plt\n",
    "import plotly.express as px\n",
    "import plotly.graph_objects as go\n",
    "import os"
   ]
  },
  {
   "cell_type": "markdown",
   "metadata": {},
   "source": [
    "Estimators: regressors"
   ]
  },
  {
   "cell_type": "code",
   "execution_count": 91,
   "metadata": {},
   "outputs": [],
   "source": [
    "from sklearn.neighbors import KNeighborsRegressor\n",
    "from sklearn.ensemble import RandomForestRegressor\n",
    "from sklearn.svm import SVR\n",
    "from sklearn.linear_model import LinearRegression\n",
    "from sklearn import linear_model"
   ]
  },
  {
   "cell_type": "markdown",
   "metadata": {},
   "source": [
    "Estimators: classifiers"
   ]
  },
  {
   "cell_type": "code",
   "execution_count": 92,
   "metadata": {},
   "outputs": [],
   "source": [
    "from sklearn.ensemble import RandomForestClassifier\n",
    "from sklearn.neighbors import KNeighborsClassifier\n",
    "from sklearn.ensemble import GradientBoostingClassifier"
   ]
  },
  {
   "cell_type": "markdown",
   "metadata": {},
   "source": [
    "Metrics:"
   ]
  },
  {
   "cell_type": "code",
   "execution_count": 93,
   "metadata": {},
   "outputs": [],
   "source": [
    "from sklearn.metrics import mean_squared_error\n",
    "from sklearn.metrics import mean_absolute_error\n",
    "from sklearn.metrics import r2_score\n",
    "from sklearn.model_selection import cross_val_score\n",
    "from sklearn.metrics import max_error\n",
    "from sklearn.metrics import accuracy_score\n",
    "from sklearn.model_selection import GridSearchCV"
   ]
  },
  {
   "cell_type": "markdown",
   "metadata": {},
   "source": [
    "Cross-validation:"
   ]
  },
  {
   "cell_type": "code",
   "execution_count": 94,
   "metadata": {},
   "outputs": [],
   "source": [
    "from sklearn.model_selection import train_test_split"
   ]
  },
  {
   "cell_type": "code",
   "execution_count": 95,
   "metadata": {},
   "outputs": [],
   "source": [
    "datafilenamepath = \"C:\\\\Users\\\\edidd\\\\Documents\\\\Ubiqum\\\\Data Analytics Course\\\\Module_III_Wifi\\\\Data2\\\\\""
   ]
  },
  {
   "cell_type": "markdown",
   "metadata": {},
   "source": [
    "## Data pre-processing\n",
    "\n",
    "Data transformation selected is the power transformation with n=5.\n",
    "\n",
    "Model for predicting buildings is 5NN with default distance metric."
   ]
  },
  {
   "cell_type": "markdown",
   "metadata": {},
   "source": [
    "## Building 0"
   ]
  },
  {
   "cell_type": "markdown",
   "metadata": {},
   "source": [
    "### Importing pre-processed data"
   ]
  },
  {
   "cell_type": "code",
   "execution_count": 7,
   "metadata": {},
   "outputs": [],
   "source": [
    "train_b0_n4 = pd.read_csv(\"C:/Users/edidd/Documents/Ubiqum/Data Analytics Course/Module_III_Wifi/data2/train_b0_n4_mean.csv\")"
   ]
  },
  {
   "cell_type": "code",
   "execution_count": 8,
   "metadata": {},
   "outputs": [],
   "source": [
    "train_b0_n5 = pd.read_csv(\"C:/Users/edidd/Documents/Ubiqum/Data Analytics Course/Module_III_Wifi/data2/train_b0_n5_mean.csv\")"
   ]
  },
  {
   "cell_type": "code",
   "execution_count": 9,
   "metadata": {},
   "outputs": [],
   "source": [
    "val_b0_n4 = pd.read_csv(\"C:/Users/edidd/Documents/Ubiqum/Data Analytics Course/Module_III_Wifi/data2/val_b0_n4.csv\")"
   ]
  },
  {
   "cell_type": "code",
   "execution_count": 10,
   "metadata": {},
   "outputs": [],
   "source": [
    "val_b0_n5 = pd.read_csv(\"C:/Users/edidd/Documents/Ubiqum/Data Analytics Course/Module_III_Wifi/data2/val_b0_n5.csv\")"
   ]
  },
  {
   "cell_type": "markdown",
   "metadata": {},
   "source": [
    "### Merging train and validation"
   ]
  },
  {
   "cell_type": "code",
   "execution_count": 11,
   "metadata": {},
   "outputs": [],
   "source": [
    "trainval_b0_n4 = pd.concat([train_b0_n4, val_b0_n4], axis = 0)"
   ]
  },
  {
   "cell_type": "code",
   "execution_count": 15,
   "metadata": {},
   "outputs": [],
   "source": [
    "trainval_b0_n5 = pd.concat([train_b0_n5, val_b0_n5], axis = 0)"
   ]
  },
  {
   "cell_type": "markdown",
   "metadata": {},
   "source": [
    "## Modeling n = 5"
   ]
  },
  {
   "cell_type": "markdown",
   "metadata": {},
   "source": [
    "### Splitting train and test"
   ]
  },
  {
   "cell_type": "code",
   "execution_count": 185,
   "metadata": {},
   "outputs": [],
   "source": [
    "train, test = train_test_split(trainval_b0_n5, test_size=0.20, random_state=13)"
   ]
  },
  {
   "cell_type": "code",
   "execution_count": 186,
   "metadata": {},
   "outputs": [
    {
     "data": {
      "text/plain": [
       "(636, 529)"
      ]
     },
     "execution_count": 186,
     "metadata": {},
     "output_type": "execute_result"
    }
   ],
   "source": [
    "train.shape"
   ]
  },
  {
   "cell_type": "code",
   "execution_count": 187,
   "metadata": {},
   "outputs": [
    {
     "data": {
      "text/plain": [
       "(159, 529)"
      ]
     },
     "execution_count": 187,
     "metadata": {},
     "output_type": "execute_result"
    }
   ],
   "source": [
    "test.shape"
   ]
  },
  {
   "cell_type": "markdown",
   "metadata": {},
   "source": [
    "### Features and dependent variables"
   ]
  },
  {
   "cell_type": "code",
   "execution_count": 188,
   "metadata": {},
   "outputs": [],
   "source": [
    "features = train.iloc[:,:520]"
   ]
  },
  {
   "cell_type": "code",
   "execution_count": 189,
   "metadata": {},
   "outputs": [],
   "source": [
    "dependentlist_r = [[train[\"LONGITUDE\"], test[\"LONGITUDE\"]], \n",
    "                   [train[\"LATITUDE\"], test[\"LATITUDE\"]]]"
   ]
  },
  {
   "cell_type": "code",
   "execution_count": 190,
   "metadata": {},
   "outputs": [],
   "source": [
    "dependentlist_c = [[train[\"BUILDINGID\"], test[\"BUILDINGID\"]], \n",
    "                   [train[\"FLOOR\"], test[\"FLOOR\"]]]"
   ]
  },
  {
   "cell_type": "code",
   "execution_count": 191,
   "metadata": {},
   "outputs": [],
   "source": [
    "test_features = test.iloc[:,:520]"
   ]
  },
  {
   "cell_type": "markdown",
   "metadata": {},
   "source": [
    "### Modeling and predicting"
   ]
  },
  {
   "cell_type": "markdown",
   "metadata": {},
   "source": [
    "### Hyper-parameter selection: metric"
   ]
  },
  {
   "cell_type": "code",
   "execution_count": 52,
   "metadata": {},
   "outputs": [],
   "source": [
    "knn_r = [\"euclidean\", \"manhattan\", \"chebyshev\", \"minkowski\"]"
   ]
  },
  {
   "cell_type": "code",
   "execution_count": 53,
   "metadata": {},
   "outputs": [],
   "source": [
    "knn_c = [\"euclidean\", \"manhattan\", \"chebyshev\", \"minkowski\"]"
   ]
  },
  {
   "cell_type": "code",
   "execution_count": 54,
   "metadata": {},
   "outputs": [],
   "source": [
    "mae_knn_n5_df = pd.DataFrame(columns=[\"LONGITUDE\", \"LATITUDE\"], index=[\"euclidean\", \"manhattan\", \"chebyshev\", \"minkowski\"])"
   ]
  },
  {
   "cell_type": "code",
   "execution_count": 55,
   "metadata": {},
   "outputs": [],
   "source": [
    "acc_knn_n5_df = pd.DataFrame(columns=[\"BUILDINGID\", \"FLOORID\"], index=[\"euclidean\", \"manhattan\", \"chebyshev\", \"minkowski\"])"
   ]
  },
  {
   "cell_type": "markdown",
   "metadata": {},
   "source": [
    "#### Regression"
   ]
  },
  {
   "cell_type": "code",
   "execution_count": 42,
   "metadata": {},
   "outputs": [],
   "source": [
    "m = 0\n",
    "k = 0\n",
    "for i in dependentlist_r:\n",
    "    for j in knn_r:\n",
    "        modelKNNR = KNeighborsRegressor(n_neighbors = 5, weights= \"distance\", metric = j, p = 2, n_jobs= -1)\n",
    "        modelKNNR.fit(features, i[0])\n",
    "        prediction = modelKNNR.predict(test_features)\n",
    "        mae_knn_n5_df.iloc[m, k] = mean_absolute_error(i[1], prediction)\n",
    "        m = m + 1\n",
    "    m = 0\n",
    "    k = k + 1"
   ]
  },
  {
   "cell_type": "markdown",
   "metadata": {},
   "source": [
    "#### Clasification"
   ]
  },
  {
   "cell_type": "code",
   "execution_count": 56,
   "metadata": {},
   "outputs": [],
   "source": [
    "m = 0\n",
    "k = 0\n",
    "for i in dependentlist_c:\n",
    "    for j in knn_c:\n",
    "        modelKNNC = KNeighborsClassifier(n_neighbors = 5, weights= \"distance\", metric = j, p = 2, n_jobs= -1)\n",
    "        modelKNNC.fit(features, i[0])\n",
    "        prediction = modelKNNC.predict(test_features)\n",
    "        acc_knn_n5_df.iloc[m, k] = accuracy_score(i[1], prediction)\n",
    "        m = m + 1\n",
    "    m = 0\n",
    "    k = k + 1"
   ]
  },
  {
   "cell_type": "code",
   "execution_count": 57,
   "metadata": {},
   "outputs": [
    {
     "data": {
      "text/html": [
       "<div>\n",
       "<style scoped>\n",
       "    .dataframe tbody tr th:only-of-type {\n",
       "        vertical-align: middle;\n",
       "    }\n",
       "\n",
       "    .dataframe tbody tr th {\n",
       "        vertical-align: top;\n",
       "    }\n",
       "\n",
       "    .dataframe thead th {\n",
       "        text-align: right;\n",
       "    }\n",
       "</style>\n",
       "<table border=\"1\" class=\"dataframe\">\n",
       "  <thead>\n",
       "    <tr style=\"text-align: right;\">\n",
       "      <th></th>\n",
       "      <th>BUILDINGID</th>\n",
       "      <th>FLOORID</th>\n",
       "    </tr>\n",
       "  </thead>\n",
       "  <tbody>\n",
       "    <tr>\n",
       "      <td>euclidean</td>\n",
       "      <td>1</td>\n",
       "      <td>0.962264</td>\n",
       "    </tr>\n",
       "    <tr>\n",
       "      <td>manhattan</td>\n",
       "      <td>1</td>\n",
       "      <td>0.968553</td>\n",
       "    </tr>\n",
       "    <tr>\n",
       "      <td>chebyshev</td>\n",
       "      <td>1</td>\n",
       "      <td>0.962264</td>\n",
       "    </tr>\n",
       "    <tr>\n",
       "      <td>minkowski</td>\n",
       "      <td>1</td>\n",
       "      <td>0.962264</td>\n",
       "    </tr>\n",
       "  </tbody>\n",
       "</table>\n",
       "</div>"
      ],
      "text/plain": [
       "          BUILDINGID   FLOORID\n",
       "euclidean          1  0.962264\n",
       "manhattan          1  0.968553\n",
       "chebyshev          1  0.962264\n",
       "minkowski          1  0.962264"
      ]
     },
     "execution_count": 57,
     "metadata": {},
     "output_type": "execute_result"
    }
   ],
   "source": [
    "acc_knn_n5_df"
   ]
  },
  {
   "cell_type": "code",
   "execution_count": 43,
   "metadata": {},
   "outputs": [
    {
     "data": {
      "text/html": [
       "<div>\n",
       "<style scoped>\n",
       "    .dataframe tbody tr th:only-of-type {\n",
       "        vertical-align: middle;\n",
       "    }\n",
       "\n",
       "    .dataframe tbody tr th {\n",
       "        vertical-align: top;\n",
       "    }\n",
       "\n",
       "    .dataframe thead th {\n",
       "        text-align: right;\n",
       "    }\n",
       "</style>\n",
       "<table border=\"1\" class=\"dataframe\">\n",
       "  <thead>\n",
       "    <tr style=\"text-align: right;\">\n",
       "      <th></th>\n",
       "      <th>LONGITUDE</th>\n",
       "      <th>LATITUDE</th>\n",
       "    </tr>\n",
       "  </thead>\n",
       "  <tbody>\n",
       "    <tr>\n",
       "      <td>euclidean</td>\n",
       "      <td>3.87021</td>\n",
       "      <td>3.3309</td>\n",
       "    </tr>\n",
       "    <tr>\n",
       "      <td>manhattan</td>\n",
       "      <td>3.96116</td>\n",
       "      <td>3.27888</td>\n",
       "    </tr>\n",
       "    <tr>\n",
       "      <td>chebyshev</td>\n",
       "      <td>4.71056</td>\n",
       "      <td>3.94115</td>\n",
       "    </tr>\n",
       "    <tr>\n",
       "      <td>minkowski</td>\n",
       "      <td>3.87021</td>\n",
       "      <td>3.3309</td>\n",
       "    </tr>\n",
       "  </tbody>\n",
       "</table>\n",
       "</div>"
      ],
      "text/plain": [
       "          LONGITUDE LATITUDE\n",
       "euclidean   3.87021   3.3309\n",
       "manhattan   3.96116  3.27888\n",
       "chebyshev   4.71056  3.94115\n",
       "minkowski   3.87021   3.3309"
      ]
     },
     "execution_count": 43,
     "metadata": {},
     "output_type": "execute_result"
    }
   ],
   "source": [
    "mae_knn_n5_df"
   ]
  },
  {
   "cell_type": "markdown",
   "metadata": {},
   "source": [
    "### Hyper-parameter selection: weight"
   ]
  },
  {
   "cell_type": "markdown",
   "metadata": {},
   "source": [
    "### KNN"
   ]
  },
  {
   "cell_type": "code",
   "execution_count": 58,
   "metadata": {},
   "outputs": [],
   "source": [
    "knn_r = [\"uniform\", \"distance\"]"
   ]
  },
  {
   "cell_type": "code",
   "execution_count": 59,
   "metadata": {},
   "outputs": [],
   "source": [
    "knn_c = [\"uniform\", \"distance\"]"
   ]
  },
  {
   "cell_type": "code",
   "execution_count": 60,
   "metadata": {},
   "outputs": [],
   "source": [
    "mae_knn_n5_df = pd.DataFrame(columns=[\"LONGITUDE\", \"LATITUDE\"], index=[\"uniform\", \"distance\"])"
   ]
  },
  {
   "cell_type": "code",
   "execution_count": 61,
   "metadata": {},
   "outputs": [],
   "source": [
    "acc_knn_n5_df = pd.DataFrame(columns=[\"BUILDINGID\", \"FLOORID\"], index=[\"uniform\", \"distance\"])"
   ]
  },
  {
   "cell_type": "markdown",
   "metadata": {},
   "source": [
    "#### Regression"
   ]
  },
  {
   "cell_type": "code",
   "execution_count": 49,
   "metadata": {},
   "outputs": [],
   "source": [
    "m = 0\n",
    "k = 0\n",
    "for i in dependentlist_r:\n",
    "    for j in knn_r:\n",
    "        modelKNNR = KNeighborsRegressor(n_neighbors = 5, weights= j, metric = \"euclidean\", n_jobs= -1)\n",
    "        modelKNNR.fit(features, i[0])\n",
    "        prediction = modelKNNR.predict(test_features)\n",
    "        mae_knn_n5_df.iloc[m, k] = mean_absolute_error(i[1], prediction)\n",
    "        m = m + 1\n",
    "    m = 0\n",
    "    k = k + 1"
   ]
  },
  {
   "cell_type": "markdown",
   "metadata": {},
   "source": [
    "#### Clasification"
   ]
  },
  {
   "cell_type": "code",
   "execution_count": 63,
   "metadata": {},
   "outputs": [],
   "source": [
    "m = 0\n",
    "k = 0\n",
    "for i in dependentlist_c:\n",
    "    for j in knn_c:\n",
    "        modelKNNC = KNeighborsClassifier(n_neighbors = 5, weights= j, metric = \"manhattan\", n_jobs= -1)\n",
    "        modelKNNC.fit(features, i[0])\n",
    "        prediction = modelKNNC.predict(test_features)\n",
    "        acc_knn_n5_df.iloc[m, k] = accuracy_score(i[1], prediction)\n",
    "        m = m + 1\n",
    "    m = 0\n",
    "    k = k + 1"
   ]
  },
  {
   "cell_type": "code",
   "execution_count": 64,
   "metadata": {},
   "outputs": [
    {
     "data": {
      "text/html": [
       "<div>\n",
       "<style scoped>\n",
       "    .dataframe tbody tr th:only-of-type {\n",
       "        vertical-align: middle;\n",
       "    }\n",
       "\n",
       "    .dataframe tbody tr th {\n",
       "        vertical-align: top;\n",
       "    }\n",
       "\n",
       "    .dataframe thead th {\n",
       "        text-align: right;\n",
       "    }\n",
       "</style>\n",
       "<table border=\"1\" class=\"dataframe\">\n",
       "  <thead>\n",
       "    <tr style=\"text-align: right;\">\n",
       "      <th></th>\n",
       "      <th>BUILDINGID</th>\n",
       "      <th>FLOORID</th>\n",
       "    </tr>\n",
       "  </thead>\n",
       "  <tbody>\n",
       "    <tr>\n",
       "      <td>uniform</td>\n",
       "      <td>1</td>\n",
       "      <td>0.962264</td>\n",
       "    </tr>\n",
       "    <tr>\n",
       "      <td>distance</td>\n",
       "      <td>1</td>\n",
       "      <td>0.968553</td>\n",
       "    </tr>\n",
       "  </tbody>\n",
       "</table>\n",
       "</div>"
      ],
      "text/plain": [
       "         BUILDINGID   FLOORID\n",
       "uniform           1  0.962264\n",
       "distance          1  0.968553"
      ]
     },
     "execution_count": 64,
     "metadata": {},
     "output_type": "execute_result"
    }
   ],
   "source": [
    "acc_knn_n5_df"
   ]
  },
  {
   "cell_type": "code",
   "execution_count": 50,
   "metadata": {
    "scrolled": true
   },
   "outputs": [
    {
     "data": {
      "text/html": [
       "<div>\n",
       "<style scoped>\n",
       "    .dataframe tbody tr th:only-of-type {\n",
       "        vertical-align: middle;\n",
       "    }\n",
       "\n",
       "    .dataframe tbody tr th {\n",
       "        vertical-align: top;\n",
       "    }\n",
       "\n",
       "    .dataframe thead th {\n",
       "        text-align: right;\n",
       "    }\n",
       "</style>\n",
       "<table border=\"1\" class=\"dataframe\">\n",
       "  <thead>\n",
       "    <tr style=\"text-align: right;\">\n",
       "      <th></th>\n",
       "      <th>LONGITUDE</th>\n",
       "      <th>LATITUDE</th>\n",
       "    </tr>\n",
       "  </thead>\n",
       "  <tbody>\n",
       "    <tr>\n",
       "      <td>uniform</td>\n",
       "      <td>3.96759</td>\n",
       "      <td>3.40511</td>\n",
       "    </tr>\n",
       "    <tr>\n",
       "      <td>distance</td>\n",
       "      <td>3.87021</td>\n",
       "      <td>3.3309</td>\n",
       "    </tr>\n",
       "  </tbody>\n",
       "</table>\n",
       "</div>"
      ],
      "text/plain": [
       "         LONGITUDE LATITUDE\n",
       "uniform    3.96759  3.40511\n",
       "distance   3.87021   3.3309"
      ]
     },
     "execution_count": 50,
     "metadata": {},
     "output_type": "execute_result"
    }
   ],
   "source": [
    "mae_knn_n5_df"
   ]
  },
  {
   "cell_type": "markdown",
   "metadata": {},
   "source": [
    "### RF"
   ]
  },
  {
   "cell_type": "code",
   "execution_count": 101,
   "metadata": {},
   "outputs": [],
   "source": [
    "rf_r = [100, 200, 300, 400, 500]"
   ]
  },
  {
   "cell_type": "code",
   "execution_count": 113,
   "metadata": {},
   "outputs": [],
   "source": [
    "rf_c = [250, 275, 300, 325, 350]"
   ]
  },
  {
   "cell_type": "code",
   "execution_count": 114,
   "metadata": {},
   "outputs": [],
   "source": [
    "mae_rf_n5_df = pd.DataFrame(columns=[\"LONGITUDE\", \"LATITUDE\"], index=[\"100\", \"200\", \"300\", \"400\", \"500\"])"
   ]
  },
  {
   "cell_type": "code",
   "execution_count": 115,
   "metadata": {},
   "outputs": [],
   "source": [
    "acc_rf_n5_df = pd.DataFrame(columns=[\"BUILDINGID\", \"FLOORID\"], index=[\"250\", \"275\", \"300\", \"325\", \"350\"])"
   ]
  },
  {
   "cell_type": "markdown",
   "metadata": {},
   "source": [
    "#### Regression"
   ]
  },
  {
   "cell_type": "code",
   "execution_count": 109,
   "metadata": {},
   "outputs": [],
   "source": [
    "m = 0\n",
    "k = 0\n",
    "for i in dependentlist_r:\n",
    "    for j in rf_r:\n",
    "        modelRFC = RandomForestRegressor(n_estimators=j, n_jobs= -1)\n",
    "        modelRFC.fit(features, i[0])\n",
    "        prediction = modelRFC.predict(test_features)\n",
    "        mae_rf_n5_df.iloc[m, k] = mean_absolute_error(i[1], prediction)\n",
    "        m = m + 1\n",
    "    m = 0\n",
    "    k = k + 1"
   ]
  },
  {
   "cell_type": "markdown",
   "metadata": {},
   "source": [
    "#### Clasification"
   ]
  },
  {
   "cell_type": "code",
   "execution_count": 125,
   "metadata": {},
   "outputs": [],
   "source": [
    "m = 0\n",
    "k = 0\n",
    "for i in dependentlist_c:\n",
    "    for j in rf_c:\n",
    "        modelRFC = RandomForestClassifier(n_estimators=j, n_jobs= -1)\n",
    "        modelRFC.fit(features, i[0])\n",
    "        prediction = modelRFC.predict(test_features)\n",
    "        acc_rf_n5_df.iloc[m, k] = accuracy_score(i[1], prediction)\n",
    "        m = m + 1\n",
    "    m = 0\n",
    "    k = k + 1"
   ]
  },
  {
   "cell_type": "code",
   "execution_count": 126,
   "metadata": {},
   "outputs": [
    {
     "data": {
      "text/html": [
       "<div>\n",
       "<style scoped>\n",
       "    .dataframe tbody tr th:only-of-type {\n",
       "        vertical-align: middle;\n",
       "    }\n",
       "\n",
       "    .dataframe tbody tr th {\n",
       "        vertical-align: top;\n",
       "    }\n",
       "\n",
       "    .dataframe thead th {\n",
       "        text-align: right;\n",
       "    }\n",
       "</style>\n",
       "<table border=\"1\" class=\"dataframe\">\n",
       "  <thead>\n",
       "    <tr style=\"text-align: right;\">\n",
       "      <th></th>\n",
       "      <th>BUILDINGID</th>\n",
       "      <th>FLOORID</th>\n",
       "    </tr>\n",
       "  </thead>\n",
       "  <tbody>\n",
       "    <tr>\n",
       "      <td>250</td>\n",
       "      <td>1</td>\n",
       "      <td>0.962264</td>\n",
       "    </tr>\n",
       "    <tr>\n",
       "      <td>275</td>\n",
       "      <td>1</td>\n",
       "      <td>0.968553</td>\n",
       "    </tr>\n",
       "    <tr>\n",
       "      <td>300</td>\n",
       "      <td>1</td>\n",
       "      <td>0.968553</td>\n",
       "    </tr>\n",
       "    <tr>\n",
       "      <td>325</td>\n",
       "      <td>1</td>\n",
       "      <td>0.962264</td>\n",
       "    </tr>\n",
       "    <tr>\n",
       "      <td>350</td>\n",
       "      <td>1</td>\n",
       "      <td>0.962264</td>\n",
       "    </tr>\n",
       "  </tbody>\n",
       "</table>\n",
       "</div>"
      ],
      "text/plain": [
       "    BUILDINGID   FLOORID\n",
       "250          1  0.962264\n",
       "275          1  0.968553\n",
       "300          1  0.968553\n",
       "325          1  0.962264\n",
       "350          1  0.962264"
      ]
     },
     "execution_count": 126,
     "metadata": {},
     "output_type": "execute_result"
    }
   ],
   "source": [
    "acc_rf_n5_df"
   ]
  },
  {
   "cell_type": "code",
   "execution_count": 110,
   "metadata": {},
   "outputs": [
    {
     "data": {
      "text/html": [
       "<div>\n",
       "<style scoped>\n",
       "    .dataframe tbody tr th:only-of-type {\n",
       "        vertical-align: middle;\n",
       "    }\n",
       "\n",
       "    .dataframe tbody tr th {\n",
       "        vertical-align: top;\n",
       "    }\n",
       "\n",
       "    .dataframe thead th {\n",
       "        text-align: right;\n",
       "    }\n",
       "</style>\n",
       "<table border=\"1\" class=\"dataframe\">\n",
       "  <thead>\n",
       "    <tr style=\"text-align: right;\">\n",
       "      <th></th>\n",
       "      <th>LONGITUDE</th>\n",
       "      <th>LATITUDE</th>\n",
       "    </tr>\n",
       "  </thead>\n",
       "  <tbody>\n",
       "    <tr>\n",
       "      <td>100</td>\n",
       "      <td>5.15201</td>\n",
       "      <td>4.19235</td>\n",
       "    </tr>\n",
       "    <tr>\n",
       "      <td>200</td>\n",
       "      <td>5.24199</td>\n",
       "      <td>4.11053</td>\n",
       "    </tr>\n",
       "    <tr>\n",
       "      <td>300</td>\n",
       "      <td>5.2073</td>\n",
       "      <td>4.24492</td>\n",
       "    </tr>\n",
       "    <tr>\n",
       "      <td>400</td>\n",
       "      <td>5.18673</td>\n",
       "      <td>4.21028</td>\n",
       "    </tr>\n",
       "    <tr>\n",
       "      <td>500</td>\n",
       "      <td>5.22391</td>\n",
       "      <td>4.17458</td>\n",
       "    </tr>\n",
       "  </tbody>\n",
       "</table>\n",
       "</div>"
      ],
      "text/plain": [
       "    LONGITUDE LATITUDE\n",
       "100   5.15201  4.19235\n",
       "200   5.24199  4.11053\n",
       "300    5.2073  4.24492\n",
       "400   5.18673  4.21028\n",
       "500   5.22391  4.17458"
      ]
     },
     "execution_count": 110,
     "metadata": {},
     "output_type": "execute_result"
    }
   ],
   "source": [
    "mae_rf_n5_df"
   ]
  },
  {
   "cell_type": "code",
   "execution_count": null,
   "metadata": {},
   "outputs": [],
   "source": []
  },
  {
   "cell_type": "markdown",
   "metadata": {},
   "source": [
    "### Cross-validation of the best models"
   ]
  },
  {
   "cell_type": "markdown",
   "metadata": {},
   "source": [
    "### Long"
   ]
  },
  {
   "cell_type": "code",
   "execution_count": 67,
   "metadata": {},
   "outputs": [],
   "source": [
    "features = trainval_b0_n5.iloc[:,:520]\n",
    "long = trainval_b0_n5[\"LONGITUDE\"]\n",
    "lat = trainval_b0_n5[\"LATITUDE\"]"
   ]
  },
  {
   "cell_type": "code",
   "execution_count": 87,
   "metadata": {},
   "outputs": [],
   "source": [
    "modelKNNR = KNeighborsRegressor(n_neighbors = 5, weights= \"distance\", metric = \"euclidean\", n_jobs= -1)\n",
    "cv_long = cross_val_score(modelKNNR, features, long, cv = 10, scoring= \"neg_mean_absolute_error\")"
   ]
  },
  {
   "cell_type": "code",
   "execution_count": 96,
   "metadata": {},
   "outputs": [
    {
     "data": {
      "text/plain": [
       "4.02162028135178"
      ]
     },
     "execution_count": 96,
     "metadata": {},
     "output_type": "execute_result"
    }
   ],
   "source": [
    "cv_long = np.mean(abs(cv_long))\n",
    "cv_long"
   ]
  },
  {
   "cell_type": "markdown",
   "metadata": {},
   "source": [
    "### Floor"
   ]
  },
  {
   "cell_type": "markdown",
   "metadata": {},
   "source": [
    "### RF"
   ]
  },
  {
   "cell_type": "code",
   "execution_count": 194,
   "metadata": {},
   "outputs": [],
   "source": [
    "features = trainval_b0_n5.iloc[:,:520]\n",
    "floor = trainval_b0_n5[\"FLOOR\"]"
   ]
  },
  {
   "cell_type": "code",
   "execution_count": 132,
   "metadata": {},
   "outputs": [],
   "source": [
    "modelRFC = RandomForestClassifier(n_estimators=288, n_jobs= -1)\n",
    "cv_floor = cross_val_score(modelRFC, features, floor, cv = 10)"
   ]
  },
  {
   "cell_type": "code",
   "execution_count": 133,
   "metadata": {},
   "outputs": [
    {
     "data": {
      "text/plain": [
       "0.9657482975470781"
      ]
     },
     "execution_count": 133,
     "metadata": {},
     "output_type": "execute_result"
    }
   ],
   "source": [
    "cv_floor = np.mean(abs(cv_floor))\n",
    "cv_floor"
   ]
  },
  {
   "cell_type": "markdown",
   "metadata": {},
   "source": [
    "### KNN"
   ]
  },
  {
   "cell_type": "code",
   "execution_count": 134,
   "metadata": {},
   "outputs": [],
   "source": [
    "modelKNNC = KNeighborsClassifier(n_neighbors = 5, weights= \"distance\", metric = \"manhattan\", n_jobs= -1)"
   ]
  },
  {
   "cell_type": "code",
   "execution_count": 135,
   "metadata": {},
   "outputs": [],
   "source": [
    "cv_floor_knn = cross_val_score(modelKNNC, features, floor, cv = 10)"
   ]
  },
  {
   "cell_type": "code",
   "execution_count": 136,
   "metadata": {},
   "outputs": [
    {
     "data": {
      "text/plain": [
       "0.9734710930442638"
      ]
     },
     "execution_count": 136,
     "metadata": {},
     "output_type": "execute_result"
    }
   ],
   "source": [
    "cv_floor_knn = np.mean(abs(cv_floor_knn))\n",
    "cv_floor_knn"
   ]
  },
  {
   "cell_type": "code",
   "execution_count": 192,
   "metadata": {},
   "outputs": [],
   "source": [
    "modelKNNC = KNeighborsClassifier(n_neighbors = 5, weights= \"distance\", metric = \"euclidean\", n_jobs= -1)"
   ]
  },
  {
   "cell_type": "code",
   "execution_count": 195,
   "metadata": {},
   "outputs": [],
   "source": [
    "cv_floor_knn_eu = cross_val_score(modelKNNC, features, floor, cv = 10)"
   ]
  },
  {
   "cell_type": "code",
   "execution_count": 196,
   "metadata": {},
   "outputs": [
    {
     "data": {
      "text/plain": [
       "0.9648133092442036"
      ]
     },
     "execution_count": 196,
     "metadata": {},
     "output_type": "execute_result"
    }
   ],
   "source": [
    "cv_floor_knn_eu = np.mean(abs(cv_floor_knn_eu))\n",
    "cv_floor_knn_eu"
   ]
  },
  {
   "cell_type": "code",
   "execution_count": null,
   "metadata": {},
   "outputs": [],
   "source": []
  },
  {
   "cell_type": "markdown",
   "metadata": {},
   "source": [
    "## Building 1"
   ]
  },
  {
   "cell_type": "markdown",
   "metadata": {},
   "source": [
    "### Importing pre-processed data"
   ]
  },
  {
   "cell_type": "code",
   "execution_count": 137,
   "metadata": {},
   "outputs": [],
   "source": [
    "train_b1_n4 = pd.read_csv(\"C:/Users/edidd/Documents/Ubiqum/Data Analytics Course/Module_III_Wifi/data2/train_b1_n4_mean.csv\")"
   ]
  },
  {
   "cell_type": "code",
   "execution_count": 138,
   "metadata": {},
   "outputs": [],
   "source": [
    "train_b1_n5 = pd.read_csv(\"C:/Users/edidd/Documents/Ubiqum/Data Analytics Course/Module_III_Wifi/data2/train_b1_n5_mean.csv\")"
   ]
  },
  {
   "cell_type": "code",
   "execution_count": 139,
   "metadata": {},
   "outputs": [],
   "source": [
    "val_b1_n4 = pd.read_csv(\"C:/Users/edidd/Documents/Ubiqum/Data Analytics Course/Module_III_Wifi/data2/val_b1_n4.csv\")"
   ]
  },
  {
   "cell_type": "code",
   "execution_count": 140,
   "metadata": {},
   "outputs": [],
   "source": [
    "val_b1_n5 = pd.read_csv(\"C:/Users/edidd/Documents/Ubiqum/Data Analytics Course/Module_III_Wifi/data2/val_b1_n5.csv\")"
   ]
  },
  {
   "cell_type": "markdown",
   "metadata": {},
   "source": [
    "### Merging train and validation"
   ]
  },
  {
   "cell_type": "code",
   "execution_count": 141,
   "metadata": {},
   "outputs": [],
   "source": [
    "trainval_b1_n4 = pd.concat([train_b1_n4, val_b1_n4], axis = 0)"
   ]
  },
  {
   "cell_type": "code",
   "execution_count": 142,
   "metadata": {},
   "outputs": [],
   "source": [
    "trainval_b1_n5 = pd.concat([train_b1_n5, val_b1_n5], axis = 0)"
   ]
  },
  {
   "cell_type": "markdown",
   "metadata": {},
   "source": [
    "## Modeling n = 5"
   ]
  },
  {
   "cell_type": "markdown",
   "metadata": {},
   "source": [
    "### Splitting train and test"
   ]
  },
  {
   "cell_type": "code",
   "execution_count": 197,
   "metadata": {},
   "outputs": [],
   "source": [
    "train, test = train_test_split(trainval_b1_n5, test_size=0.20, random_state=13)"
   ]
  },
  {
   "cell_type": "code",
   "execution_count": 198,
   "metadata": {},
   "outputs": [
    {
     "data": {
      "text/plain": [
       "(457, 529)"
      ]
     },
     "execution_count": 198,
     "metadata": {},
     "output_type": "execute_result"
    }
   ],
   "source": [
    "train.shape"
   ]
  },
  {
   "cell_type": "code",
   "execution_count": 145,
   "metadata": {},
   "outputs": [
    {
     "data": {
      "text/plain": [
       "(115, 529)"
      ]
     },
     "execution_count": 145,
     "metadata": {},
     "output_type": "execute_result"
    }
   ],
   "source": [
    "test.shape"
   ]
  },
  {
   "cell_type": "markdown",
   "metadata": {},
   "source": [
    "### Features and dependent variables"
   ]
  },
  {
   "cell_type": "code",
   "execution_count": 199,
   "metadata": {},
   "outputs": [],
   "source": [
    "features = train.iloc[:,:520]"
   ]
  },
  {
   "cell_type": "code",
   "execution_count": 200,
   "metadata": {},
   "outputs": [],
   "source": [
    "dependentlist_r = [[train[\"LONGITUDE\"], test[\"LONGITUDE\"]], \n",
    "                   [train[\"LATITUDE\"], test[\"LATITUDE\"]]]"
   ]
  },
  {
   "cell_type": "code",
   "execution_count": 201,
   "metadata": {},
   "outputs": [],
   "source": [
    "dependentlist_c = [[train[\"BUILDINGID\"], test[\"BUILDINGID\"]], \n",
    "                   [train[\"FLOOR\"], test[\"FLOOR\"]]]"
   ]
  },
  {
   "cell_type": "code",
   "execution_count": 202,
   "metadata": {},
   "outputs": [],
   "source": [
    "test_features = test.iloc[:,:520]"
   ]
  },
  {
   "cell_type": "markdown",
   "metadata": {},
   "source": [
    "### Modeling and predicting"
   ]
  },
  {
   "cell_type": "markdown",
   "metadata": {},
   "source": [
    "### Hyper-parameter selection: metric"
   ]
  },
  {
   "cell_type": "code",
   "execution_count": 150,
   "metadata": {},
   "outputs": [],
   "source": [
    "knn_r = [\"euclidean\", \"manhattan\", \"chebyshev\", \"minkowski\"]"
   ]
  },
  {
   "cell_type": "code",
   "execution_count": 151,
   "metadata": {},
   "outputs": [],
   "source": [
    "knn_c = [\"euclidean\", \"manhattan\", \"chebyshev\", \"minkowski\"]"
   ]
  },
  {
   "cell_type": "code",
   "execution_count": 152,
   "metadata": {},
   "outputs": [],
   "source": [
    "mae_knn_n5_df = pd.DataFrame(columns=[\"LONGITUDE\", \"LATITUDE\"], index=[\"euclidean\", \"manhattan\", \"chebyshev\", \"minkowski\"])"
   ]
  },
  {
   "cell_type": "code",
   "execution_count": 153,
   "metadata": {},
   "outputs": [],
   "source": [
    "acc_knn_n5_df = pd.DataFrame(columns=[\"BUILDINGID\", \"FLOORID\"], index=[\"euclidean\", \"manhattan\", \"chebyshev\", \"minkowski\"])"
   ]
  },
  {
   "cell_type": "markdown",
   "metadata": {},
   "source": [
    "#### Regression"
   ]
  },
  {
   "cell_type": "code",
   "execution_count": 154,
   "metadata": {},
   "outputs": [],
   "source": [
    "m = 0\n",
    "k = 0\n",
    "for i in dependentlist_r:\n",
    "    for j in knn_r:\n",
    "        modelKNNR = KNeighborsRegressor(n_neighbors = 5, weights= \"distance\", metric = j, p = 2, n_jobs= -1)\n",
    "        modelKNNR.fit(features, i[0])\n",
    "        prediction = modelKNNR.predict(test_features)\n",
    "        mae_knn_n5_df.iloc[m, k] = mean_absolute_error(i[1], prediction)\n",
    "        m = m + 1\n",
    "    m = 0\n",
    "    k = k + 1"
   ]
  },
  {
   "cell_type": "markdown",
   "metadata": {},
   "source": [
    "#### Clasification"
   ]
  },
  {
   "cell_type": "code",
   "execution_count": 155,
   "metadata": {},
   "outputs": [],
   "source": [
    "m = 0\n",
    "k = 0\n",
    "for i in dependentlist_c:\n",
    "    for j in knn_c:\n",
    "        modelKNNC = KNeighborsClassifier(n_neighbors = 5, weights= \"distance\", metric = j, p = 2, n_jobs= -1)\n",
    "        modelKNNC.fit(features, i[0])\n",
    "        prediction = modelKNNC.predict(test_features)\n",
    "        acc_knn_n5_df.iloc[m, k] = accuracy_score(i[1], prediction)\n",
    "        m = m + 1\n",
    "    m = 0\n",
    "    k = k + 1"
   ]
  },
  {
   "cell_type": "code",
   "execution_count": 156,
   "metadata": {},
   "outputs": [
    {
     "data": {
      "text/html": [
       "<div>\n",
       "<style scoped>\n",
       "    .dataframe tbody tr th:only-of-type {\n",
       "        vertical-align: middle;\n",
       "    }\n",
       "\n",
       "    .dataframe tbody tr th {\n",
       "        vertical-align: top;\n",
       "    }\n",
       "\n",
       "    .dataframe thead th {\n",
       "        text-align: right;\n",
       "    }\n",
       "</style>\n",
       "<table border=\"1\" class=\"dataframe\">\n",
       "  <thead>\n",
       "    <tr style=\"text-align: right;\">\n",
       "      <th></th>\n",
       "      <th>BUILDINGID</th>\n",
       "      <th>FLOORID</th>\n",
       "    </tr>\n",
       "  </thead>\n",
       "  <tbody>\n",
       "    <tr>\n",
       "      <td>euclidean</td>\n",
       "      <td>1</td>\n",
       "      <td>0.947826</td>\n",
       "    </tr>\n",
       "    <tr>\n",
       "      <td>manhattan</td>\n",
       "      <td>1</td>\n",
       "      <td>0.93913</td>\n",
       "    </tr>\n",
       "    <tr>\n",
       "      <td>chebyshev</td>\n",
       "      <td>1</td>\n",
       "      <td>0.947826</td>\n",
       "    </tr>\n",
       "    <tr>\n",
       "      <td>minkowski</td>\n",
       "      <td>1</td>\n",
       "      <td>0.947826</td>\n",
       "    </tr>\n",
       "  </tbody>\n",
       "</table>\n",
       "</div>"
      ],
      "text/plain": [
       "          BUILDINGID   FLOORID\n",
       "euclidean          1  0.947826\n",
       "manhattan          1   0.93913\n",
       "chebyshev          1  0.947826\n",
       "minkowski          1  0.947826"
      ]
     },
     "execution_count": 156,
     "metadata": {},
     "output_type": "execute_result"
    }
   ],
   "source": [
    "acc_knn_n5_df"
   ]
  },
  {
   "cell_type": "code",
   "execution_count": 157,
   "metadata": {},
   "outputs": [
    {
     "data": {
      "text/html": [
       "<div>\n",
       "<style scoped>\n",
       "    .dataframe tbody tr th:only-of-type {\n",
       "        vertical-align: middle;\n",
       "    }\n",
       "\n",
       "    .dataframe tbody tr th {\n",
       "        vertical-align: top;\n",
       "    }\n",
       "\n",
       "    .dataframe thead th {\n",
       "        text-align: right;\n",
       "    }\n",
       "</style>\n",
       "<table border=\"1\" class=\"dataframe\">\n",
       "  <thead>\n",
       "    <tr style=\"text-align: right;\">\n",
       "      <th></th>\n",
       "      <th>LONGITUDE</th>\n",
       "      <th>LATITUDE</th>\n",
       "    </tr>\n",
       "  </thead>\n",
       "  <tbody>\n",
       "    <tr>\n",
       "      <td>euclidean</td>\n",
       "      <td>6.90633</td>\n",
       "      <td>5.38516</td>\n",
       "    </tr>\n",
       "    <tr>\n",
       "      <td>manhattan</td>\n",
       "      <td>6.89006</td>\n",
       "      <td>5.43614</td>\n",
       "    </tr>\n",
       "    <tr>\n",
       "      <td>chebyshev</td>\n",
       "      <td>6.95363</td>\n",
       "      <td>5.67944</td>\n",
       "    </tr>\n",
       "    <tr>\n",
       "      <td>minkowski</td>\n",
       "      <td>6.90633</td>\n",
       "      <td>5.38516</td>\n",
       "    </tr>\n",
       "  </tbody>\n",
       "</table>\n",
       "</div>"
      ],
      "text/plain": [
       "          LONGITUDE LATITUDE\n",
       "euclidean   6.90633  5.38516\n",
       "manhattan   6.89006  5.43614\n",
       "chebyshev   6.95363  5.67944\n",
       "minkowski   6.90633  5.38516"
      ]
     },
     "execution_count": 157,
     "metadata": {},
     "output_type": "execute_result"
    }
   ],
   "source": [
    "mae_knn_n5_df"
   ]
  },
  {
   "cell_type": "markdown",
   "metadata": {},
   "source": [
    "### Hyper-parameter selection: weight"
   ]
  },
  {
   "cell_type": "code",
   "execution_count": 158,
   "metadata": {},
   "outputs": [],
   "source": [
    "knn_r = [\"uniform\", \"distance\"]"
   ]
  },
  {
   "cell_type": "code",
   "execution_count": 159,
   "metadata": {},
   "outputs": [],
   "source": [
    "knn_c = [\"uniform\", \"distance\"]"
   ]
  },
  {
   "cell_type": "code",
   "execution_count": 160,
   "metadata": {},
   "outputs": [],
   "source": [
    "mae_knn_n5_df = pd.DataFrame(columns=[\"LONGITUDE\", \"LATITUDE\"], index=[\"uniform\", \"distance\"])"
   ]
  },
  {
   "cell_type": "code",
   "execution_count": 161,
   "metadata": {},
   "outputs": [],
   "source": [
    "acc_knn_n5_df = pd.DataFrame(columns=[\"BUILDINGID\", \"FLOORID\"], index=[\"uniform\", \"distance\"])"
   ]
  },
  {
   "cell_type": "markdown",
   "metadata": {},
   "source": [
    "#### Regression"
   ]
  },
  {
   "cell_type": "code",
   "execution_count": 162,
   "metadata": {},
   "outputs": [],
   "source": [
    "m = 0\n",
    "k = 0\n",
    "for i in dependentlist_r:\n",
    "    for j in knn_r:\n",
    "        modelKNNR = KNeighborsRegressor(n_neighbors = 5, weights= j, metric = \"euclidean\", n_jobs= -1)\n",
    "        modelKNNR.fit(features, i[0])\n",
    "        prediction = modelKNNR.predict(test_features)\n",
    "        mae_knn_n5_df.iloc[m, k] = mean_absolute_error(i[1], prediction)\n",
    "        m = m + 1\n",
    "    m = 0\n",
    "    k = k + 1"
   ]
  },
  {
   "cell_type": "markdown",
   "metadata": {},
   "source": [
    "#### Clasification"
   ]
  },
  {
   "cell_type": "code",
   "execution_count": 164,
   "metadata": {},
   "outputs": [],
   "source": [
    "m = 0\n",
    "k = 0\n",
    "for i in dependentlist_c:\n",
    "    for j in knn_c:\n",
    "        modelKNNC = KNeighborsClassifier(n_neighbors = 5, weights= j, metric = \"euclidean\", n_jobs= -1)\n",
    "        modelKNNC.fit(features, i[0])\n",
    "        prediction = modelKNNC.predict(test_features)\n",
    "        acc_knn_n5_df.iloc[m, k] = accuracy_score(i[1], prediction)\n",
    "        m = m + 1\n",
    "    m = 0\n",
    "    k = k + 1"
   ]
  },
  {
   "cell_type": "code",
   "execution_count": 165,
   "metadata": {},
   "outputs": [
    {
     "data": {
      "text/html": [
       "<div>\n",
       "<style scoped>\n",
       "    .dataframe tbody tr th:only-of-type {\n",
       "        vertical-align: middle;\n",
       "    }\n",
       "\n",
       "    .dataframe tbody tr th {\n",
       "        vertical-align: top;\n",
       "    }\n",
       "\n",
       "    .dataframe thead th {\n",
       "        text-align: right;\n",
       "    }\n",
       "</style>\n",
       "<table border=\"1\" class=\"dataframe\">\n",
       "  <thead>\n",
       "    <tr style=\"text-align: right;\">\n",
       "      <th></th>\n",
       "      <th>BUILDINGID</th>\n",
       "      <th>FLOORID</th>\n",
       "    </tr>\n",
       "  </thead>\n",
       "  <tbody>\n",
       "    <tr>\n",
       "      <td>uniform</td>\n",
       "      <td>1</td>\n",
       "      <td>0.947826</td>\n",
       "    </tr>\n",
       "    <tr>\n",
       "      <td>distance</td>\n",
       "      <td>1</td>\n",
       "      <td>0.947826</td>\n",
       "    </tr>\n",
       "  </tbody>\n",
       "</table>\n",
       "</div>"
      ],
      "text/plain": [
       "         BUILDINGID   FLOORID\n",
       "uniform           1  0.947826\n",
       "distance          1  0.947826"
      ]
     },
     "execution_count": 165,
     "metadata": {},
     "output_type": "execute_result"
    }
   ],
   "source": [
    "acc_knn_n5_df"
   ]
  },
  {
   "cell_type": "code",
   "execution_count": 166,
   "metadata": {
    "scrolled": true
   },
   "outputs": [
    {
     "data": {
      "text/html": [
       "<div>\n",
       "<style scoped>\n",
       "    .dataframe tbody tr th:only-of-type {\n",
       "        vertical-align: middle;\n",
       "    }\n",
       "\n",
       "    .dataframe tbody tr th {\n",
       "        vertical-align: top;\n",
       "    }\n",
       "\n",
       "    .dataframe thead th {\n",
       "        text-align: right;\n",
       "    }\n",
       "</style>\n",
       "<table border=\"1\" class=\"dataframe\">\n",
       "  <thead>\n",
       "    <tr style=\"text-align: right;\">\n",
       "      <th></th>\n",
       "      <th>LONGITUDE</th>\n",
       "      <th>LATITUDE</th>\n",
       "    </tr>\n",
       "  </thead>\n",
       "  <tbody>\n",
       "    <tr>\n",
       "      <td>uniform</td>\n",
       "      <td>7.02398</td>\n",
       "      <td>5.48566</td>\n",
       "    </tr>\n",
       "    <tr>\n",
       "      <td>distance</td>\n",
       "      <td>6.90633</td>\n",
       "      <td>5.38516</td>\n",
       "    </tr>\n",
       "  </tbody>\n",
       "</table>\n",
       "</div>"
      ],
      "text/plain": [
       "         LONGITUDE LATITUDE\n",
       "uniform    7.02398  5.48566\n",
       "distance   6.90633  5.38516"
      ]
     },
     "execution_count": 166,
     "metadata": {},
     "output_type": "execute_result"
    }
   ],
   "source": [
    "mae_knn_n5_df"
   ]
  },
  {
   "cell_type": "markdown",
   "metadata": {},
   "source": [
    "## RF"
   ]
  },
  {
   "cell_type": "code",
   "execution_count": 175,
   "metadata": {},
   "outputs": [],
   "source": [
    "rf_r = [100, 200, 300, 400, 500]"
   ]
  },
  {
   "cell_type": "code",
   "execution_count": 176,
   "metadata": {},
   "outputs": [],
   "source": [
    "rf_c = [100, 200, 300, 400, 500]"
   ]
  },
  {
   "cell_type": "code",
   "execution_count": 177,
   "metadata": {},
   "outputs": [],
   "source": [
    "mae_rf_n5_df = pd.DataFrame(columns=[\"LONGITUDE\", \"LATITUDE\"], index=[\"100\", \"200\", \"300\", \"400\", \"500\"])"
   ]
  },
  {
   "cell_type": "code",
   "execution_count": 178,
   "metadata": {},
   "outputs": [],
   "source": [
    "acc_rf_n5_df = pd.DataFrame(columns=[\"BUILDINGID\", \"FLOORID\"], index=[\"100\", \"200\", \"300\", \"400\", \"500\"])"
   ]
  },
  {
   "cell_type": "markdown",
   "metadata": {},
   "source": [
    "#### Regression"
   ]
  },
  {
   "cell_type": "code",
   "execution_count": 171,
   "metadata": {},
   "outputs": [],
   "source": [
    "m = 0\n",
    "k = 0\n",
    "for i in dependentlist_r:\n",
    "    for j in rf_r:\n",
    "        modelRFC = RandomForestRegressor(n_estimators=j, n_jobs= -1)\n",
    "        modelRFC.fit(features, i[0])\n",
    "        prediction = modelRFC.predict(test_features)\n",
    "        mae_rf_n5_df.iloc[m, k] = mean_absolute_error(i[1], prediction)\n",
    "        m = m + 1\n",
    "    m = 0\n",
    "    k = k + 1"
   ]
  },
  {
   "cell_type": "markdown",
   "metadata": {},
   "source": [
    "#### Clasification"
   ]
  },
  {
   "cell_type": "code",
   "execution_count": 179,
   "metadata": {},
   "outputs": [],
   "source": [
    "m = 0\n",
    "k = 0\n",
    "for i in dependentlist_c:\n",
    "    for j in rf_c:\n",
    "        modelRFC = RandomForestClassifier(n_estimators=j, n_jobs= -1)\n",
    "        modelRFC.fit(features, i[0])\n",
    "        prediction = modelRFC.predict(test_features)\n",
    "        acc_rf_n5_df.iloc[m, k] = accuracy_score(i[1], prediction)\n",
    "        m = m + 1\n",
    "    m = 0\n",
    "    k = k + 1"
   ]
  },
  {
   "cell_type": "code",
   "execution_count": 180,
   "metadata": {},
   "outputs": [
    {
     "data": {
      "text/html": [
       "<div>\n",
       "<style scoped>\n",
       "    .dataframe tbody tr th:only-of-type {\n",
       "        vertical-align: middle;\n",
       "    }\n",
       "\n",
       "    .dataframe tbody tr th {\n",
       "        vertical-align: top;\n",
       "    }\n",
       "\n",
       "    .dataframe thead th {\n",
       "        text-align: right;\n",
       "    }\n",
       "</style>\n",
       "<table border=\"1\" class=\"dataframe\">\n",
       "  <thead>\n",
       "    <tr style=\"text-align: right;\">\n",
       "      <th></th>\n",
       "      <th>BUILDINGID</th>\n",
       "      <th>FLOORID</th>\n",
       "    </tr>\n",
       "  </thead>\n",
       "  <tbody>\n",
       "    <tr>\n",
       "      <td>100</td>\n",
       "      <td>1</td>\n",
       "      <td>0.930435</td>\n",
       "    </tr>\n",
       "    <tr>\n",
       "      <td>200</td>\n",
       "      <td>1</td>\n",
       "      <td>0.93913</td>\n",
       "    </tr>\n",
       "    <tr>\n",
       "      <td>300</td>\n",
       "      <td>1</td>\n",
       "      <td>0.930435</td>\n",
       "    </tr>\n",
       "    <tr>\n",
       "      <td>400</td>\n",
       "      <td>1</td>\n",
       "      <td>0.930435</td>\n",
       "    </tr>\n",
       "    <tr>\n",
       "      <td>500</td>\n",
       "      <td>1</td>\n",
       "      <td>0.930435</td>\n",
       "    </tr>\n",
       "  </tbody>\n",
       "</table>\n",
       "</div>"
      ],
      "text/plain": [
       "    BUILDINGID   FLOORID\n",
       "100          1  0.930435\n",
       "200          1   0.93913\n",
       "300          1  0.930435\n",
       "400          1  0.930435\n",
       "500          1  0.930435"
      ]
     },
     "execution_count": 180,
     "metadata": {},
     "output_type": "execute_result"
    }
   ],
   "source": [
    "acc_rf_n5_df"
   ]
  },
  {
   "cell_type": "code",
   "execution_count": 174,
   "metadata": {},
   "outputs": [
    {
     "data": {
      "text/html": [
       "<div>\n",
       "<style scoped>\n",
       "    .dataframe tbody tr th:only-of-type {\n",
       "        vertical-align: middle;\n",
       "    }\n",
       "\n",
       "    .dataframe tbody tr th {\n",
       "        vertical-align: top;\n",
       "    }\n",
       "\n",
       "    .dataframe thead th {\n",
       "        text-align: right;\n",
       "    }\n",
       "</style>\n",
       "<table border=\"1\" class=\"dataframe\">\n",
       "  <thead>\n",
       "    <tr style=\"text-align: right;\">\n",
       "      <th></th>\n",
       "      <th>LONGITUDE</th>\n",
       "      <th>LATITUDE</th>\n",
       "    </tr>\n",
       "  </thead>\n",
       "  <tbody>\n",
       "    <tr>\n",
       "      <td>100</td>\n",
       "      <td>7.45627</td>\n",
       "      <td>5.98201</td>\n",
       "    </tr>\n",
       "    <tr>\n",
       "      <td>200</td>\n",
       "      <td>7.43471</td>\n",
       "      <td>6.01219</td>\n",
       "    </tr>\n",
       "    <tr>\n",
       "      <td>300</td>\n",
       "      <td>7.55806</td>\n",
       "      <td>5.92971</td>\n",
       "    </tr>\n",
       "    <tr>\n",
       "      <td>400</td>\n",
       "      <td>7.57896</td>\n",
       "      <td>5.88737</td>\n",
       "    </tr>\n",
       "    <tr>\n",
       "      <td>500</td>\n",
       "      <td>7.58396</td>\n",
       "      <td>5.89874</td>\n",
       "    </tr>\n",
       "  </tbody>\n",
       "</table>\n",
       "</div>"
      ],
      "text/plain": [
       "    LONGITUDE LATITUDE\n",
       "100   7.45627  5.98201\n",
       "200   7.43471  6.01219\n",
       "300   7.55806  5.92971\n",
       "400   7.57896  5.88737\n",
       "500   7.58396  5.89874"
      ]
     },
     "execution_count": 174,
     "metadata": {},
     "output_type": "execute_result"
    }
   ],
   "source": [
    "mae_rf_n5_df"
   ]
  },
  {
   "cell_type": "code",
   "execution_count": null,
   "metadata": {},
   "outputs": [],
   "source": []
  },
  {
   "cell_type": "markdown",
   "metadata": {},
   "source": [
    "### Cross-validation the best models"
   ]
  },
  {
   "cell_type": "markdown",
   "metadata": {},
   "source": [
    "### Long"
   ]
  },
  {
   "cell_type": "code",
   "execution_count": 203,
   "metadata": {},
   "outputs": [],
   "source": [
    "features = trainval_b1_n5.iloc[:,:520]\n",
    "long = trainval_b1_n5[\"LONGITUDE\"]\n",
    "lat = trainval_b1_n5[\"LATITUDE\"]"
   ]
  },
  {
   "cell_type": "code",
   "execution_count": 204,
   "metadata": {},
   "outputs": [],
   "source": [
    "modelKNNR = KNeighborsRegressor(n_neighbors = 5, weights= \"distance\", metric = \"euclidean\", n_jobs= -1)\n",
    "cv_long = cross_val_score(modelKNNR, features, long, cv = 10, scoring= \"neg_mean_absolute_error\")"
   ]
  },
  {
   "cell_type": "code",
   "execution_count": 205,
   "metadata": {},
   "outputs": [
    {
     "data": {
      "text/plain": [
       "8.368751808578388"
      ]
     },
     "execution_count": 205,
     "metadata": {},
     "output_type": "execute_result"
    }
   ],
   "source": [
    "cv_long = np.mean(abs(cv_long))\n",
    "cv_long"
   ]
  },
  {
   "cell_type": "markdown",
   "metadata": {},
   "source": [
    "### Floor"
   ]
  },
  {
   "cell_type": "markdown",
   "metadata": {},
   "source": [
    "### RF"
   ]
  },
  {
   "cell_type": "code",
   "execution_count": 206,
   "metadata": {},
   "outputs": [],
   "source": [
    "features = trainval_b1_n5.iloc[:,:520]\n",
    "floor = trainval_b1_n5[\"FLOOR\"]"
   ]
  },
  {
   "cell_type": "code",
   "execution_count": 207,
   "metadata": {},
   "outputs": [],
   "source": [
    "modelRFC = RandomForestClassifier(n_estimators=288, n_jobs= -1)\n",
    "cv_floor = cross_val_score(modelRFC, features, floor, cv = 10)"
   ]
  },
  {
   "cell_type": "code",
   "execution_count": 208,
   "metadata": {},
   "outputs": [
    {
     "data": {
      "text/plain": [
       "0.8816023894282223"
      ]
     },
     "execution_count": 208,
     "metadata": {},
     "output_type": "execute_result"
    }
   ],
   "source": [
    "cv_floor = np.mean(abs(cv_floor))\n",
    "cv_floor"
   ]
  },
  {
   "cell_type": "markdown",
   "metadata": {},
   "source": [
    "### KNN"
   ]
  },
  {
   "cell_type": "code",
   "execution_count": 215,
   "metadata": {},
   "outputs": [],
   "source": [
    "modelKNNC = KNeighborsClassifier(n_neighbors = 5, weights= \"distance\", metric = \"euclidean\", n_jobs= -1)"
   ]
  },
  {
   "cell_type": "code",
   "execution_count": 216,
   "metadata": {},
   "outputs": [],
   "source": [
    "cv_floor_knn = cross_val_score(modelKNNC, features, floor, cv = 10)"
   ]
  },
  {
   "cell_type": "code",
   "execution_count": 217,
   "metadata": {},
   "outputs": [
    {
     "data": {
      "text/plain": [
       "0.9033426567587876"
      ]
     },
     "execution_count": 217,
     "metadata": {},
     "output_type": "execute_result"
    }
   ],
   "source": [
    "cv_floor_knn = np.mean(abs(cv_floor_knn))\n",
    "cv_floor_knn"
   ]
  },
  {
   "cell_type": "markdown",
   "metadata": {},
   "source": [
    "## Building 2"
   ]
  },
  {
   "cell_type": "markdown",
   "metadata": {},
   "source": [
    "### Importing pre-processed data"
   ]
  },
  {
   "cell_type": "code",
   "execution_count": 218,
   "metadata": {},
   "outputs": [],
   "source": [
    "train_b2_n4 = pd.read_csv(\"C:/Users/edidd/Documents/Ubiqum/Data Analytics Course/Module_III_Wifi/data2/train_b2_n4_mean.csv\")"
   ]
  },
  {
   "cell_type": "code",
   "execution_count": 219,
   "metadata": {},
   "outputs": [],
   "source": [
    "train_b2_n5 = pd.read_csv(\"C:/Users/edidd/Documents/Ubiqum/Data Analytics Course/Module_III_Wifi/data2/train_b2_n5_mean.csv\")"
   ]
  },
  {
   "cell_type": "code",
   "execution_count": 220,
   "metadata": {},
   "outputs": [],
   "source": [
    "val_b2_n4 = pd.read_csv(\"C:/Users/edidd/Documents/Ubiqum/Data Analytics Course/Module_III_Wifi/data2/val_b2_n4.csv\")"
   ]
  },
  {
   "cell_type": "code",
   "execution_count": 221,
   "metadata": {},
   "outputs": [],
   "source": [
    "val_b2_n5 = pd.read_csv(\"C:/Users/edidd/Documents/Ubiqum/Data Analytics Course/Module_III_Wifi/data2/val_b2_n5.csv\")"
   ]
  },
  {
   "cell_type": "markdown",
   "metadata": {},
   "source": [
    "### Merging train and validation"
   ]
  },
  {
   "cell_type": "code",
   "execution_count": 222,
   "metadata": {},
   "outputs": [],
   "source": [
    "trainval_b2_n4 = pd.concat([train_b2_n4, val_b2_n4], axis = 0)"
   ]
  },
  {
   "cell_type": "code",
   "execution_count": 223,
   "metadata": {},
   "outputs": [],
   "source": [
    "trainval_b2_n5 = pd.concat([train_b2_n5, val_b2_n5], axis = 0)"
   ]
  },
  {
   "cell_type": "markdown",
   "metadata": {},
   "source": [
    "## Modeling n = 4"
   ]
  },
  {
   "cell_type": "markdown",
   "metadata": {},
   "source": [
    "### Splitting train and test"
   ]
  },
  {
   "cell_type": "code",
   "execution_count": 224,
   "metadata": {},
   "outputs": [],
   "source": [
    "train, test = train_test_split(trainval_b2_n5, test_size=0.20, random_state=13)"
   ]
  },
  {
   "cell_type": "code",
   "execution_count": 225,
   "metadata": {},
   "outputs": [
    {
     "data": {
      "text/plain": [
       "(541, 529)"
      ]
     },
     "execution_count": 225,
     "metadata": {},
     "output_type": "execute_result"
    }
   ],
   "source": [
    "train.shape"
   ]
  },
  {
   "cell_type": "code",
   "execution_count": 226,
   "metadata": {},
   "outputs": [
    {
     "data": {
      "text/plain": [
       "(136, 529)"
      ]
     },
     "execution_count": 226,
     "metadata": {},
     "output_type": "execute_result"
    }
   ],
   "source": [
    "test.shape"
   ]
  },
  {
   "cell_type": "markdown",
   "metadata": {},
   "source": [
    "### Features and dependent variables"
   ]
  },
  {
   "cell_type": "code",
   "execution_count": 227,
   "metadata": {},
   "outputs": [],
   "source": [
    "features = train.iloc[:,:520]"
   ]
  },
  {
   "cell_type": "code",
   "execution_count": 228,
   "metadata": {},
   "outputs": [],
   "source": [
    "dependentlist_r = [[train[\"LONGITUDE\"], test[\"LONGITUDE\"]], \n",
    "                   [train[\"LATITUDE\"], test[\"LATITUDE\"]]]"
   ]
  },
  {
   "cell_type": "code",
   "execution_count": 229,
   "metadata": {},
   "outputs": [],
   "source": [
    "dependentlist_c = [[train[\"BUILDINGID\"], test[\"BUILDINGID\"]], \n",
    "                   [train[\"FLOOR\"], test[\"FLOOR\"]]]"
   ]
  },
  {
   "cell_type": "code",
   "execution_count": 230,
   "metadata": {},
   "outputs": [],
   "source": [
    "test_features = test.iloc[:,:520]"
   ]
  },
  {
   "cell_type": "markdown",
   "metadata": {},
   "source": [
    "### Modeling and predicting"
   ]
  },
  {
   "cell_type": "markdown",
   "metadata": {},
   "source": [
    "### Hyper-parameter selection: metric"
   ]
  },
  {
   "cell_type": "code",
   "execution_count": 233,
   "metadata": {},
   "outputs": [],
   "source": [
    "knn_r = [\"euclidean\", \"manhattan\", \"chebyshev\", \"minkowski\"]"
   ]
  },
  {
   "cell_type": "code",
   "execution_count": 234,
   "metadata": {},
   "outputs": [],
   "source": [
    "knn_c = [\"euclidean\", \"manhattan\", \"chebyshev\", \"minkowski\"]"
   ]
  },
  {
   "cell_type": "code",
   "execution_count": 235,
   "metadata": {},
   "outputs": [],
   "source": [
    "mae_knn_n4_df = pd.DataFrame(columns=[\"LONGITUDE\", \"LATITUDE\"], index=[\"euclidean\", \"manhattan\", \"chebyshev\", \"minkowski\"])"
   ]
  },
  {
   "cell_type": "code",
   "execution_count": 236,
   "metadata": {},
   "outputs": [],
   "source": [
    "acc_knn_n4_df = pd.DataFrame(columns=[\"BUILDINGID\", \"FLOORID\"], index=[\"euclidean\", \"manhattan\", \"chebyshev\", \"minkowski\"])"
   ]
  },
  {
   "cell_type": "markdown",
   "metadata": {},
   "source": [
    "#### Regression"
   ]
  },
  {
   "cell_type": "code",
   "execution_count": 237,
   "metadata": {},
   "outputs": [],
   "source": [
    "m = 0\n",
    "k = 0\n",
    "for i in dependentlist_r:\n",
    "    for j in knn_r:\n",
    "        modelKNNR = KNeighborsRegressor(n_neighbors = 5, weights= \"distance\", metric = j, p = 2, n_jobs= -1)\n",
    "        modelKNNR.fit(features, i[0])\n",
    "        prediction = modelKNNR.predict(test_features)\n",
    "        mae_knn_n4_df.iloc[m, k] = mean_absolute_error(i[1], prediction)\n",
    "        m = m + 1\n",
    "    m = 0\n",
    "    k = k + 1"
   ]
  },
  {
   "cell_type": "markdown",
   "metadata": {},
   "source": [
    "#### Clasification"
   ]
  },
  {
   "cell_type": "code",
   "execution_count": 238,
   "metadata": {},
   "outputs": [],
   "source": [
    "m = 0\n",
    "k = 0\n",
    "for i in dependentlist_c:\n",
    "    for j in knn_c:\n",
    "        modelKNNC = KNeighborsClassifier(n_neighbors = 5, weights= \"distance\", metric = j, p = 2, n_jobs= -1)\n",
    "        modelKNNC.fit(features, i[0])\n",
    "        prediction = modelKNNC.predict(test_features)\n",
    "        acc_knn_n4_df.iloc[m, k] = accuracy_score(i[1], prediction)\n",
    "        m = m + 1\n",
    "    m = 0\n",
    "    k = k + 1"
   ]
  },
  {
   "cell_type": "code",
   "execution_count": 240,
   "metadata": {},
   "outputs": [
    {
     "data": {
      "text/html": [
       "<div>\n",
       "<style scoped>\n",
       "    .dataframe tbody tr th:only-of-type {\n",
       "        vertical-align: middle;\n",
       "    }\n",
       "\n",
       "    .dataframe tbody tr th {\n",
       "        vertical-align: top;\n",
       "    }\n",
       "\n",
       "    .dataframe thead th {\n",
       "        text-align: right;\n",
       "    }\n",
       "</style>\n",
       "<table border=\"1\" class=\"dataframe\">\n",
       "  <thead>\n",
       "    <tr style=\"text-align: right;\">\n",
       "      <th></th>\n",
       "      <th>BUILDINGID</th>\n",
       "      <th>FLOORID</th>\n",
       "    </tr>\n",
       "  </thead>\n",
       "  <tbody>\n",
       "    <tr>\n",
       "      <td>euclidean</td>\n",
       "      <td>1</td>\n",
       "      <td>1</td>\n",
       "    </tr>\n",
       "    <tr>\n",
       "      <td>manhattan</td>\n",
       "      <td>1</td>\n",
       "      <td>1</td>\n",
       "    </tr>\n",
       "    <tr>\n",
       "      <td>chebyshev</td>\n",
       "      <td>1</td>\n",
       "      <td>0.977941</td>\n",
       "    </tr>\n",
       "    <tr>\n",
       "      <td>minkowski</td>\n",
       "      <td>1</td>\n",
       "      <td>1</td>\n",
       "    </tr>\n",
       "  </tbody>\n",
       "</table>\n",
       "</div>"
      ],
      "text/plain": [
       "          BUILDINGID   FLOORID\n",
       "euclidean          1         1\n",
       "manhattan          1         1\n",
       "chebyshev          1  0.977941\n",
       "minkowski          1         1"
      ]
     },
     "execution_count": 240,
     "metadata": {},
     "output_type": "execute_result"
    }
   ],
   "source": [
    "acc_knn_n4_df"
   ]
  },
  {
   "cell_type": "code",
   "execution_count": 241,
   "metadata": {},
   "outputs": [
    {
     "data": {
      "text/html": [
       "<div>\n",
       "<style scoped>\n",
       "    .dataframe tbody tr th:only-of-type {\n",
       "        vertical-align: middle;\n",
       "    }\n",
       "\n",
       "    .dataframe tbody tr th {\n",
       "        vertical-align: top;\n",
       "    }\n",
       "\n",
       "    .dataframe thead th {\n",
       "        text-align: right;\n",
       "    }\n",
       "</style>\n",
       "<table border=\"1\" class=\"dataframe\">\n",
       "  <thead>\n",
       "    <tr style=\"text-align: right;\">\n",
       "      <th></th>\n",
       "      <th>LONGITUDE</th>\n",
       "      <th>LATITUDE</th>\n",
       "    </tr>\n",
       "  </thead>\n",
       "  <tbody>\n",
       "    <tr>\n",
       "      <td>euclidean</td>\n",
       "      <td>5.17855</td>\n",
       "      <td>4.61796</td>\n",
       "    </tr>\n",
       "    <tr>\n",
       "      <td>manhattan</td>\n",
       "      <td>4.90961</td>\n",
       "      <td>4.50187</td>\n",
       "    </tr>\n",
       "    <tr>\n",
       "      <td>chebyshev</td>\n",
       "      <td>7.82604</td>\n",
       "      <td>6.55348</td>\n",
       "    </tr>\n",
       "    <tr>\n",
       "      <td>minkowski</td>\n",
       "      <td>5.17855</td>\n",
       "      <td>4.61796</td>\n",
       "    </tr>\n",
       "  </tbody>\n",
       "</table>\n",
       "</div>"
      ],
      "text/plain": [
       "          LONGITUDE LATITUDE\n",
       "euclidean   5.17855  4.61796\n",
       "manhattan   4.90961  4.50187\n",
       "chebyshev   7.82604  6.55348\n",
       "minkowski   5.17855  4.61796"
      ]
     },
     "execution_count": 241,
     "metadata": {},
     "output_type": "execute_result"
    }
   ],
   "source": [
    "mae_knn_n4_df"
   ]
  },
  {
   "cell_type": "markdown",
   "metadata": {},
   "source": [
    "### Hyper-parameter selection: weight"
   ]
  },
  {
   "cell_type": "code",
   "execution_count": 242,
   "metadata": {},
   "outputs": [],
   "source": [
    "knn_r = [\"uniform\", \"distance\"]"
   ]
  },
  {
   "cell_type": "code",
   "execution_count": 244,
   "metadata": {},
   "outputs": [],
   "source": [
    "knn_c = [\"uniform\", \"distance\"]"
   ]
  },
  {
   "cell_type": "code",
   "execution_count": 245,
   "metadata": {},
   "outputs": [],
   "source": [
    "mae_knn_n4_df = pd.DataFrame(columns=[\"LONGITUDE\", \"LATITUDE\"], index=[\"uniform\", \"distance\"])"
   ]
  },
  {
   "cell_type": "code",
   "execution_count": 246,
   "metadata": {},
   "outputs": [],
   "source": [
    "acc_knn_n4_df = pd.DataFrame(columns=[\"BUILDINGID\", \"FLOORID\"], index=[\"uniform\", \"distance\"])"
   ]
  },
  {
   "cell_type": "markdown",
   "metadata": {},
   "source": [
    "#### Regression"
   ]
  },
  {
   "cell_type": "code",
   "execution_count": 247,
   "metadata": {},
   "outputs": [],
   "source": [
    "m = 0\n",
    "k = 0\n",
    "for i in dependentlist_r:\n",
    "    for j in knn_r:\n",
    "        modelKNNR = KNeighborsRegressor(n_neighbors = 5, weights= j, metric = \"euclidean\", n_jobs= -1)\n",
    "        modelKNNR.fit(features, i[0])\n",
    "        prediction = modelKNNR.predict(test_features)\n",
    "        mae_knn_n4_df.iloc[m, k] = mean_absolute_error(i[1], prediction)\n",
    "        m = m + 1\n",
    "    m = 0\n",
    "    k = k + 1"
   ]
  },
  {
   "cell_type": "markdown",
   "metadata": {},
   "source": [
    "#### Clasification"
   ]
  },
  {
   "cell_type": "code",
   "execution_count": 248,
   "metadata": {},
   "outputs": [],
   "source": [
    "m = 0\n",
    "k = 0\n",
    "for i in dependentlist_c:\n",
    "    for j in knn_c:\n",
    "        modelKNNC = KNeighborsClassifier(n_neighbors = 5, weights= j, metric = \"euclidean\", n_jobs= -1)\n",
    "        modelKNNC.fit(features, i[0])\n",
    "        prediction = modelKNNC.predict(test_features)\n",
    "        acc_knn_n4_df.iloc[m, k] = accuracy_score(i[1], prediction)\n",
    "        m = m + 1\n",
    "    m = 0\n",
    "    k = k + 1"
   ]
  },
  {
   "cell_type": "code",
   "execution_count": 249,
   "metadata": {},
   "outputs": [
    {
     "data": {
      "text/html": [
       "<div>\n",
       "<style scoped>\n",
       "    .dataframe tbody tr th:only-of-type {\n",
       "        vertical-align: middle;\n",
       "    }\n",
       "\n",
       "    .dataframe tbody tr th {\n",
       "        vertical-align: top;\n",
       "    }\n",
       "\n",
       "    .dataframe thead th {\n",
       "        text-align: right;\n",
       "    }\n",
       "</style>\n",
       "<table border=\"1\" class=\"dataframe\">\n",
       "  <thead>\n",
       "    <tr style=\"text-align: right;\">\n",
       "      <th></th>\n",
       "      <th>BUILDINGID</th>\n",
       "      <th>FLOORID</th>\n",
       "    </tr>\n",
       "  </thead>\n",
       "  <tbody>\n",
       "    <tr>\n",
       "      <td>uniform</td>\n",
       "      <td>1</td>\n",
       "      <td>1</td>\n",
       "    </tr>\n",
       "    <tr>\n",
       "      <td>distance</td>\n",
       "      <td>1</td>\n",
       "      <td>1</td>\n",
       "    </tr>\n",
       "  </tbody>\n",
       "</table>\n",
       "</div>"
      ],
      "text/plain": [
       "          BUILDINGID  FLOORID\n",
       "uniform            1        1\n",
       "distance           1        1"
      ]
     },
     "execution_count": 249,
     "metadata": {},
     "output_type": "execute_result"
    }
   ],
   "source": [
    "acc_knn_n4_df"
   ]
  },
  {
   "cell_type": "code",
   "execution_count": 250,
   "metadata": {
    "scrolled": true
   },
   "outputs": [
    {
     "data": {
      "text/html": [
       "<div>\n",
       "<style scoped>\n",
       "    .dataframe tbody tr th:only-of-type {\n",
       "        vertical-align: middle;\n",
       "    }\n",
       "\n",
       "    .dataframe tbody tr th {\n",
       "        vertical-align: top;\n",
       "    }\n",
       "\n",
       "    .dataframe thead th {\n",
       "        text-align: right;\n",
       "    }\n",
       "</style>\n",
       "<table border=\"1\" class=\"dataframe\">\n",
       "  <thead>\n",
       "    <tr style=\"text-align: right;\">\n",
       "      <th></th>\n",
       "      <th>LONGITUDE</th>\n",
       "      <th>LATITUDE</th>\n",
       "    </tr>\n",
       "  </thead>\n",
       "  <tbody>\n",
       "    <tr>\n",
       "      <td>uniform</td>\n",
       "      <td>5.38222</td>\n",
       "      <td>4.78718</td>\n",
       "    </tr>\n",
       "    <tr>\n",
       "      <td>distance</td>\n",
       "      <td>5.17855</td>\n",
       "      <td>4.61796</td>\n",
       "    </tr>\n",
       "  </tbody>\n",
       "</table>\n",
       "</div>"
      ],
      "text/plain": [
       "         LONGITUDE LATITUDE\n",
       "uniform    5.38222  4.78718\n",
       "distance   5.17855  4.61796"
      ]
     },
     "execution_count": 250,
     "metadata": {},
     "output_type": "execute_result"
    }
   ],
   "source": [
    "mae_knn_n4_df"
   ]
  },
  {
   "cell_type": "markdown",
   "metadata": {},
   "source": [
    "## RF"
   ]
  },
  {
   "cell_type": "code",
   "execution_count": 251,
   "metadata": {},
   "outputs": [],
   "source": [
    "rf_r = [100, 200, 300, 400, 500]"
   ]
  },
  {
   "cell_type": "code",
   "execution_count": 252,
   "metadata": {},
   "outputs": [],
   "source": [
    "rf_c = [100, 200, 300, 400, 500]"
   ]
  },
  {
   "cell_type": "code",
   "execution_count": 256,
   "metadata": {},
   "outputs": [],
   "source": [
    "mae_rf_n4_df = pd.DataFrame(columns=[\"LONGITUDE\", \"LATITUDE\"], index=[\"100\", \"200\", \"300\", \"400\", \"500\"])"
   ]
  },
  {
   "cell_type": "code",
   "execution_count": 257,
   "metadata": {},
   "outputs": [],
   "source": [
    "acc_rf_n4_df = pd.DataFrame(columns=[\"BUILDINGID\", \"FLOORID\"], index=[\"100\", \"200\", \"300\", \"400\", \"500\"])"
   ]
  },
  {
   "cell_type": "markdown",
   "metadata": {},
   "source": [
    "#### Regression"
   ]
  },
  {
   "cell_type": "code",
   "execution_count": 258,
   "metadata": {},
   "outputs": [],
   "source": [
    "m = 0\n",
    "k = 0\n",
    "for i in dependentlist_r:\n",
    "    for j in rf_r:\n",
    "        modelRFC = RandomForestRegressor(n_estimators=j, n_jobs= -1)\n",
    "        modelRFC.fit(features, i[0])\n",
    "        prediction = modelRFC.predict(test_features)\n",
    "        mae_rf_n4_df.iloc[m, k] = mean_absolute_error(i[1], prediction)\n",
    "        m = m + 1\n",
    "    m = 0\n",
    "    k = k + 1"
   ]
  },
  {
   "cell_type": "markdown",
   "metadata": {},
   "source": [
    "#### Clasification"
   ]
  },
  {
   "cell_type": "code",
   "execution_count": 259,
   "metadata": {},
   "outputs": [],
   "source": [
    "m = 0\n",
    "k = 0\n",
    "for i in dependentlist_c:\n",
    "    for j in rf_c:\n",
    "        modelRFC = RandomForestClassifier(n_estimators=j, n_jobs= -1)\n",
    "        modelRFC.fit(features, i[0])\n",
    "        prediction = modelRFC.predict(test_features)\n",
    "        acc_rf_n4_df.iloc[m, k] = accuracy_score(i[1], prediction)\n",
    "        m = m + 1\n",
    "    m = 0\n",
    "    k = k + 1"
   ]
  },
  {
   "cell_type": "code",
   "execution_count": 260,
   "metadata": {},
   "outputs": [
    {
     "data": {
      "text/html": [
       "<div>\n",
       "<style scoped>\n",
       "    .dataframe tbody tr th:only-of-type {\n",
       "        vertical-align: middle;\n",
       "    }\n",
       "\n",
       "    .dataframe tbody tr th {\n",
       "        vertical-align: top;\n",
       "    }\n",
       "\n",
       "    .dataframe thead th {\n",
       "        text-align: right;\n",
       "    }\n",
       "</style>\n",
       "<table border=\"1\" class=\"dataframe\">\n",
       "  <thead>\n",
       "    <tr style=\"text-align: right;\">\n",
       "      <th></th>\n",
       "      <th>BUILDINGID</th>\n",
       "      <th>FLOORID</th>\n",
       "    </tr>\n",
       "  </thead>\n",
       "  <tbody>\n",
       "    <tr>\n",
       "      <td>100</td>\n",
       "      <td>1</td>\n",
       "      <td>1</td>\n",
       "    </tr>\n",
       "    <tr>\n",
       "      <td>200</td>\n",
       "      <td>1</td>\n",
       "      <td>0.985294</td>\n",
       "    </tr>\n",
       "    <tr>\n",
       "      <td>300</td>\n",
       "      <td>1</td>\n",
       "      <td>0.992647</td>\n",
       "    </tr>\n",
       "    <tr>\n",
       "      <td>400</td>\n",
       "      <td>1</td>\n",
       "      <td>0.992647</td>\n",
       "    </tr>\n",
       "    <tr>\n",
       "      <td>500</td>\n",
       "      <td>1</td>\n",
       "      <td>1</td>\n",
       "    </tr>\n",
       "  </tbody>\n",
       "</table>\n",
       "</div>"
      ],
      "text/plain": [
       "    BUILDINGID   FLOORID\n",
       "100          1         1\n",
       "200          1  0.985294\n",
       "300          1  0.992647\n",
       "400          1  0.992647\n",
       "500          1         1"
      ]
     },
     "execution_count": 260,
     "metadata": {},
     "output_type": "execute_result"
    }
   ],
   "source": [
    "acc_rf_n4_df"
   ]
  },
  {
   "cell_type": "code",
   "execution_count": 261,
   "metadata": {},
   "outputs": [
    {
     "data": {
      "text/html": [
       "<div>\n",
       "<style scoped>\n",
       "    .dataframe tbody tr th:only-of-type {\n",
       "        vertical-align: middle;\n",
       "    }\n",
       "\n",
       "    .dataframe tbody tr th {\n",
       "        vertical-align: top;\n",
       "    }\n",
       "\n",
       "    .dataframe thead th {\n",
       "        text-align: right;\n",
       "    }\n",
       "</style>\n",
       "<table border=\"1\" class=\"dataframe\">\n",
       "  <thead>\n",
       "    <tr style=\"text-align: right;\">\n",
       "      <th></th>\n",
       "      <th>LONGITUDE</th>\n",
       "      <th>LATITUDE</th>\n",
       "    </tr>\n",
       "  </thead>\n",
       "  <tbody>\n",
       "    <tr>\n",
       "      <td>100</td>\n",
       "      <td>7.2028</td>\n",
       "      <td>6.89065</td>\n",
       "    </tr>\n",
       "    <tr>\n",
       "      <td>200</td>\n",
       "      <td>7.04661</td>\n",
       "      <td>6.83641</td>\n",
       "    </tr>\n",
       "    <tr>\n",
       "      <td>300</td>\n",
       "      <td>6.88874</td>\n",
       "      <td>6.72675</td>\n",
       "    </tr>\n",
       "    <tr>\n",
       "      <td>400</td>\n",
       "      <td>7.0275</td>\n",
       "      <td>6.54965</td>\n",
       "    </tr>\n",
       "    <tr>\n",
       "      <td>500</td>\n",
       "      <td>7.00855</td>\n",
       "      <td>6.60494</td>\n",
       "    </tr>\n",
       "  </tbody>\n",
       "</table>\n",
       "</div>"
      ],
      "text/plain": [
       "    LONGITUDE LATITUDE\n",
       "100    7.2028  6.89065\n",
       "200   7.04661  6.83641\n",
       "300   6.88874  6.72675\n",
       "400    7.0275  6.54965\n",
       "500   7.00855  6.60494"
      ]
     },
     "execution_count": 261,
     "metadata": {},
     "output_type": "execute_result"
    }
   ],
   "source": [
    "mae_rf_n4_df"
   ]
  },
  {
   "cell_type": "code",
   "execution_count": null,
   "metadata": {},
   "outputs": [],
   "source": []
  },
  {
   "cell_type": "markdown",
   "metadata": {},
   "source": [
    "### Cross-validation the best models"
   ]
  },
  {
   "cell_type": "markdown",
   "metadata": {},
   "source": [
    "### Long"
   ]
  },
  {
   "cell_type": "code",
   "execution_count": 262,
   "metadata": {},
   "outputs": [],
   "source": [
    "features = trainval_b2_n5.iloc[:,:520]\n",
    "long = trainval_b2_n5[\"LONGITUDE\"]\n",
    "lat = trainval_b2_n5[\"LATITUDE\"]"
   ]
  },
  {
   "cell_type": "code",
   "execution_count": 263,
   "metadata": {},
   "outputs": [],
   "source": [
    "modelKNNR = KNeighborsRegressor(n_neighbors = 5, weights= \"distance\", metric = \"euclidean\", n_jobs= -1)\n",
    "cv_long = cross_val_score(modelKNNR, features, long, cv = 10, scoring= \"neg_mean_absolute_error\")"
   ]
  },
  {
   "cell_type": "code",
   "execution_count": 264,
   "metadata": {},
   "outputs": [
    {
     "data": {
      "text/plain": [
       "8.501057533328716"
      ]
     },
     "execution_count": 264,
     "metadata": {},
     "output_type": "execute_result"
    }
   ],
   "source": [
    "cv_long = np.mean(abs(cv_long))\n",
    "cv_long"
   ]
  },
  {
   "cell_type": "markdown",
   "metadata": {},
   "source": [
    "### Floor"
   ]
  },
  {
   "cell_type": "markdown",
   "metadata": {},
   "source": [
    "### RF"
   ]
  },
  {
   "cell_type": "code",
   "execution_count": 265,
   "metadata": {},
   "outputs": [],
   "source": [
    "features = trainval_b2_n5.iloc[:,:520]\n",
    "floor = trainval_b2_n5[\"FLOOR\"]"
   ]
  },
  {
   "cell_type": "code",
   "execution_count": 266,
   "metadata": {},
   "outputs": [],
   "source": [
    "modelRFC = RandomForestClassifier(n_estimators=500, n_jobs= -1)\n",
    "cv_floor = cross_val_score(modelRFC, features, floor, cv = 10)"
   ]
  },
  {
   "cell_type": "code",
   "execution_count": 267,
   "metadata": {},
   "outputs": [
    {
     "data": {
      "text/plain": [
       "0.9551868906373239"
      ]
     },
     "execution_count": 267,
     "metadata": {},
     "output_type": "execute_result"
    }
   ],
   "source": [
    "cv_floor = np.mean(abs(cv_floor))\n",
    "cv_floor"
   ]
  },
  {
   "cell_type": "markdown",
   "metadata": {},
   "source": [
    "### KNN"
   ]
  },
  {
   "cell_type": "code",
   "execution_count": 268,
   "metadata": {},
   "outputs": [],
   "source": [
    "modelKNNC = KNeighborsClassifier(n_neighbors = 5, weights= \"distance\", metric = \"euclidean\", n_jobs= -1)"
   ]
  },
  {
   "cell_type": "code",
   "execution_count": 269,
   "metadata": {},
   "outputs": [],
   "source": [
    "cv_floor_knn = cross_val_score(modelKNNC, features, floor, cv = 10)"
   ]
  },
  {
   "cell_type": "code",
   "execution_count": 270,
   "metadata": {},
   "outputs": [
    {
     "data": {
      "text/plain": [
       "0.9790928474510563"
      ]
     },
     "execution_count": 270,
     "metadata": {},
     "output_type": "execute_result"
    }
   ],
   "source": [
    "cv_floor_knn = np.mean(abs(cv_floor_knn))\n",
    "cv_floor_knn"
   ]
  },
  {
   "cell_type": "markdown",
   "metadata": {},
   "source": [
    "Final model selected for all three buildings and all features is:\n",
    "5NN with \"eucildean\" metric and \"distance\" weighted neighbours."
   ]
  },
  {
   "cell_type": "code",
   "execution_count": null,
   "metadata": {},
   "outputs": [],
   "source": []
  }
 ],
 "metadata": {
  "kernelspec": {
   "display_name": "Python 3",
   "language": "python",
   "name": "python3"
  },
  "language_info": {
   "codemirror_mode": {
    "name": "ipython",
    "version": 3
   },
   "file_extension": ".py",
   "mimetype": "text/x-python",
   "name": "python",
   "nbconvert_exporter": "python",
   "pygments_lexer": "ipython3",
   "version": "3.7.4"
  }
 },
 "nbformat": 4,
 "nbformat_minor": 2
}
