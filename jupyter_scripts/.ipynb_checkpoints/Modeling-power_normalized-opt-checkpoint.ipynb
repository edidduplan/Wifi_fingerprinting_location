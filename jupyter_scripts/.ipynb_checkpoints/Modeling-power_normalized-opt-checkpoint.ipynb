{
 "cells": [
  {
   "cell_type": "markdown",
   "metadata": {},
   "source": [
    "# Modeling - data normalized \"share\" - different data transform"
   ]
  },
  {
   "cell_type": "markdown",
   "metadata": {},
   "source": [
    "## Importing libraries"
   ]
  },
  {
   "cell_type": "code",
   "execution_count": 2,
   "metadata": {},
   "outputs": [],
   "source": [
    "import pandas as pd\n",
    "import numpy as np\n",
    "import scipy\n",
    "from math import sqrt\n",
    "import matplotlib.pyplot as plt\n",
    "import plotly.express as px\n",
    "import plotly.graph_objects as go"
   ]
  },
  {
   "cell_type": "markdown",
   "metadata": {},
   "source": [
    "Estimators: regressors"
   ]
  },
  {
   "cell_type": "code",
   "execution_count": 3,
   "metadata": {},
   "outputs": [],
   "source": [
    "from sklearn.neighbors import KNeighborsRegressor\n",
    "from sklearn.ensemble import RandomForestRegressor\n",
    "from sklearn.svm import SVR\n",
    "from sklearn.linear_model import LinearRegression\n",
    "from sklearn import linear_model"
   ]
  },
  {
   "cell_type": "markdown",
   "metadata": {},
   "source": [
    "Estimators: classifiers"
   ]
  },
  {
   "cell_type": "code",
   "execution_count": 4,
   "metadata": {},
   "outputs": [],
   "source": [
    "from sklearn.ensemble import RandomForestClassifier\n",
    "from sklearn.neighbors import KNeighborsClassifier\n",
    "from sklearn.ensemble import GradientBoostingClassifier"
   ]
  },
  {
   "cell_type": "markdown",
   "metadata": {},
   "source": [
    "Metrics:"
   ]
  },
  {
   "cell_type": "code",
   "execution_count": 5,
   "metadata": {},
   "outputs": [],
   "source": [
    "from sklearn.metrics import mean_squared_error\n",
    "from sklearn.metrics import mean_absolute_error\n",
    "from sklearn.metrics import r2_score\n",
    "from sklearn.model_selection import cross_val_score\n",
    "from sklearn.metrics import max_error\n",
    "from sklearn.metrics import accuracy_score"
   ]
  },
  {
   "cell_type": "markdown",
   "metadata": {},
   "source": [
    "Cross-validation:"
   ]
  },
  {
   "cell_type": "code",
   "execution_count": 6,
   "metadata": {},
   "outputs": [],
   "source": [
    "from sklearn.model_selection import train_test_split"
   ]
  },
  {
   "cell_type": "markdown",
   "metadata": {},
   "source": [
    "## Data transformation n=2"
   ]
  },
  {
   "cell_type": "markdown",
   "metadata": {},
   "source": [
    "### Reading dataset"
   ]
  },
  {
   "cell_type": "code",
   "execution_count": 7,
   "metadata": {},
   "outputs": [],
   "source": [
    "trainset = pd.read_csv(\"C:/Users/edidd/Documents/Ubiqum/Data Analytics Course/Module_III_Wifi/data/trainset_clean_trans_n2.csv\", header = 0)"
   ]
  },
  {
   "cell_type": "code",
   "execution_count": 9,
   "metadata": {},
   "outputs": [],
   "source": [
    "validation = pd.read_csv(\"C:/Users/edidd/Documents/Ubiqum/Data Analytics Course/Module_III_Wifi/data/validation_clean_trans_n2.csv\", header = 0)"
   ]
  },
  {
   "cell_type": "markdown",
   "metadata": {},
   "source": [
    "### Selecting the data for modeling"
   ]
  },
  {
   "cell_type": "code",
   "execution_count": 10,
   "metadata": {},
   "outputs": [],
   "source": [
    "features = trainset.iloc[:,:520]"
   ]
  },
  {
   "cell_type": "code",
   "execution_count": 11,
   "metadata": {},
   "outputs": [],
   "source": [
    "dependentlist_r = [[trainset[\"LONGITUDE\"], validation[\"LONGITUDE\"]], [trainset[\"LATITUDE\"], validation[\"LATITUDE\"]]]"
   ]
  },
  {
   "cell_type": "code",
   "execution_count": 12,
   "metadata": {},
   "outputs": [],
   "source": [
    "dependentlist_c = [[trainset[\"BUILDINGID\"], validation[\"BUILDINGID\"]], [trainset[\"FLOOR\"], validation[\"FLOOR\"]]]"
   ]
  },
  {
   "cell_type": "code",
   "execution_count": 13,
   "metadata": {},
   "outputs": [],
   "source": [
    "val_features = validation.iloc[:,:520]"
   ]
  },
  {
   "cell_type": "markdown",
   "metadata": {},
   "source": [
    "### Regression estimators for LONG and LAT"
   ]
  },
  {
   "cell_type": "code",
   "execution_count": 14,
   "metadata": {},
   "outputs": [],
   "source": [
    "modelSVRl = SVR(kernel= \"linear\")"
   ]
  },
  {
   "cell_type": "code",
   "execution_count": 15,
   "metadata": {},
   "outputs": [],
   "source": [
    "modelSVRg = SVR(kernel= \"rbf\")"
   ]
  },
  {
   "cell_type": "code",
   "execution_count": 16,
   "metadata": {},
   "outputs": [],
   "source": [
    "modelRF = RandomForestRegressor()"
   ]
  },
  {
   "cell_type": "code",
   "execution_count": 17,
   "metadata": {},
   "outputs": [],
   "source": [
    "modelLR = LinearRegression()"
   ]
  },
  {
   "cell_type": "code",
   "execution_count": 18,
   "metadata": {},
   "outputs": [],
   "source": [
    "model5NN = KNeighborsRegressor(n_neighbors=5, n_jobs= -1)"
   ]
  },
  {
   "cell_type": "code",
   "execution_count": 19,
   "metadata": {},
   "outputs": [],
   "source": [
    "model3NN = KNeighborsRegressor(n_neighbors=3, n_jobs= -1)"
   ]
  },
  {
   "cell_type": "markdown",
   "metadata": {},
   "source": [
    "### Clasification estomators for building and floor"
   ]
  },
  {
   "cell_type": "code",
   "execution_count": 20,
   "metadata": {},
   "outputs": [],
   "source": [
    "modelRFC = RandomForestClassifier(n_estimators=50)"
   ]
  },
  {
   "cell_type": "code",
   "execution_count": 21,
   "metadata": {},
   "outputs": [],
   "source": [
    "modelGBTC = GradientBoostingClassifier()"
   ]
  },
  {
   "cell_type": "code",
   "execution_count": 22,
   "metadata": {},
   "outputs": [],
   "source": [
    "model5NNC = KNeighborsClassifier(n_neighbors= 5)"
   ]
  },
  {
   "cell_type": "code",
   "execution_count": 23,
   "metadata": {},
   "outputs": [],
   "source": [
    "model7NNC = KNeighborsClassifier(n_neighbors= 7)"
   ]
  },
  {
   "cell_type": "markdown",
   "metadata": {},
   "source": [
    "### Modeling and predicting"
   ]
  },
  {
   "cell_type": "code",
   "execution_count": 24,
   "metadata": {},
   "outputs": [],
   "source": [
    "modellist_r = [model3NN, model5NN, modelRF, modelSVRl, modelSVRg]"
   ]
  },
  {
   "cell_type": "code",
   "execution_count": 25,
   "metadata": {},
   "outputs": [],
   "source": [
    "modellist_c = [model5NNC, model7NNC, modelRFC, modelGBTC]"
   ]
  },
  {
   "cell_type": "code",
   "execution_count": 27,
   "metadata": {},
   "outputs": [],
   "source": [
    "mae_df = pd.DataFrame(columns=[\"LONGITUDE\", \"LATITUDE\"], index=[\"3NN\", \"5NN\", \"RF\", \"SVRl\", \"SVRg\"])"
   ]
  },
  {
   "cell_type": "code",
   "execution_count": 29,
   "metadata": {},
   "outputs": [],
   "source": [
    "acc_df = pd.DataFrame(columns=[\"BUILDINGID\", \"FLOORID\"], index=['5NN','7NN','RFC', \"GBTC\"])"
   ]
  },
  {
   "cell_type": "markdown",
   "metadata": {},
   "source": [
    "#### Regression"
   ]
  },
  {
   "cell_type": "code",
   "execution_count": 41,
   "metadata": {
    "collapsed": true
   },
   "outputs": [
    {
     "name": "stderr",
     "output_type": "stream",
     "text": [
      "C:\\Users\\edison\\Anaconda3\\lib\\site-packages\\sklearn\\ensemble\\forest.py:245: FutureWarning:\n",
      "\n",
      "The default value of n_estimators will change from 10 in version 0.20 to 100 in 0.22.\n",
      "\n",
      "C:\\Users\\edison\\Anaconda3\\lib\\site-packages\\sklearn\\svm\\base.py:193: FutureWarning:\n",
      "\n",
      "The default value of gamma will change from 'auto' to 'scale' in version 0.22 to account better for unscaled features. Set gamma explicitly to 'auto' or 'scale' to avoid this warning.\n",
      "\n",
      "C:\\Users\\edison\\Anaconda3\\lib\\site-packages\\sklearn\\svm\\base.py:193: FutureWarning:\n",
      "\n",
      "The default value of gamma will change from 'auto' to 'scale' in version 0.22 to account better for unscaled features. Set gamma explicitly to 'auto' or 'scale' to avoid this warning.\n",
      "\n"
     ]
    }
   ],
   "source": [
    "m = 0\n",
    "k = 0\n",
    "for i in dependentlist_r:\n",
    "    for j in modellist_r:\n",
    "        j.fit(features, i[0])\n",
    "        prediction = j.predict(val_features)\n",
    "        mae_df.iloc[m, k] = mean_absolute_error(i[1], prediction)\n",
    "        m = m + 1\n",
    "    m = 0\n",
    "    k = k + 1"
   ]
  },
  {
   "cell_type": "markdown",
   "metadata": {},
   "source": [
    "#### Clasification"
   ]
  },
  {
   "cell_type": "code",
   "execution_count": 42,
   "metadata": {},
   "outputs": [],
   "source": [
    "m = 0\n",
    "k = 0\n",
    "for i in dependentlist_c:\n",
    "    for j in modellist_c:\n",
    "        j.fit(features, i[0])\n",
    "        prediction = j.predict(val_features)\n",
    "        acc_df.iloc[m, k] = accuracy_score(i[1], prediction)\n",
    "        m = m + 1\n",
    "    m = 0\n",
    "    k = k + 1"
   ]
  },
  {
   "cell_type": "code",
   "execution_count": 43,
   "metadata": {},
   "outputs": [
    {
     "data": {
      "text/html": [
       "<div>\n",
       "<style scoped>\n",
       "    .dataframe tbody tr th:only-of-type {\n",
       "        vertical-align: middle;\n",
       "    }\n",
       "\n",
       "    .dataframe tbody tr th {\n",
       "        vertical-align: top;\n",
       "    }\n",
       "\n",
       "    .dataframe thead th {\n",
       "        text-align: right;\n",
       "    }\n",
       "</style>\n",
       "<table border=\"1\" class=\"dataframe\">\n",
       "  <thead>\n",
       "    <tr style=\"text-align: right;\">\n",
       "      <th></th>\n",
       "      <th>BUILDINGID</th>\n",
       "      <th>FLOORID</th>\n",
       "    </tr>\n",
       "  </thead>\n",
       "  <tbody>\n",
       "    <tr>\n",
       "      <th>5NN</th>\n",
       "      <td>0.993699</td>\n",
       "      <td>0.957696</td>\n",
       "    </tr>\n",
       "    <tr>\n",
       "      <th>7NN</th>\n",
       "      <td>0.9955</td>\n",
       "      <td>0.958596</td>\n",
       "    </tr>\n",
       "    <tr>\n",
       "      <th>RFC</th>\n",
       "      <td>0.9991</td>\n",
       "      <td>0.946895</td>\n",
       "    </tr>\n",
       "    <tr>\n",
       "      <th>GBTC</th>\n",
       "      <td>0.9973</td>\n",
       "      <td>0.932493</td>\n",
       "    </tr>\n",
       "  </tbody>\n",
       "</table>\n",
       "</div>"
      ],
      "text/plain": [
       "     BUILDINGID   FLOORID\n",
       "5NN    0.993699  0.957696\n",
       "7NN      0.9955  0.958596\n",
       "RFC      0.9991  0.946895\n",
       "GBTC     0.9973  0.932493"
      ]
     },
     "execution_count": 43,
     "metadata": {},
     "output_type": "execute_result"
    }
   ],
   "source": [
    "acc_df"
   ]
  },
  {
   "cell_type": "code",
   "execution_count": 44,
   "metadata": {},
   "outputs": [
    {
     "data": {
      "text/html": [
       "<div>\n",
       "<style scoped>\n",
       "    .dataframe tbody tr th:only-of-type {\n",
       "        vertical-align: middle;\n",
       "    }\n",
       "\n",
       "    .dataframe tbody tr th {\n",
       "        vertical-align: top;\n",
       "    }\n",
       "\n",
       "    .dataframe thead th {\n",
       "        text-align: right;\n",
       "    }\n",
       "</style>\n",
       "<table border=\"1\" class=\"dataframe\">\n",
       "  <thead>\n",
       "    <tr style=\"text-align: right;\">\n",
       "      <th></th>\n",
       "      <th>LONGITUDE</th>\n",
       "      <th>LATITUDE</th>\n",
       "    </tr>\n",
       "  </thead>\n",
       "  <tbody>\n",
       "    <tr>\n",
       "      <th>3NN</th>\n",
       "      <td>5.57854</td>\n",
       "      <td>5.12723</td>\n",
       "    </tr>\n",
       "    <tr>\n",
       "      <th>5NN</th>\n",
       "      <td>5.58011</td>\n",
       "      <td>5.14219</td>\n",
       "    </tr>\n",
       "    <tr>\n",
       "      <th>RF</th>\n",
       "      <td>9.52025</td>\n",
       "      <td>7.67461</td>\n",
       "    </tr>\n",
       "    <tr>\n",
       "      <th>SVRl</th>\n",
       "      <td>43.5136</td>\n",
       "      <td>18.18</td>\n",
       "    </tr>\n",
       "    <tr>\n",
       "      <th>SVRg</th>\n",
       "      <td>139.178</td>\n",
       "      <td>72.3699</td>\n",
       "    </tr>\n",
       "  </tbody>\n",
       "</table>\n",
       "</div>"
      ],
      "text/plain": [
       "     LONGITUDE LATITUDE\n",
       "3NN    5.57854  5.12723\n",
       "5NN    5.58011  5.14219\n",
       "RF     9.52025  7.67461\n",
       "SVRl   43.5136    18.18\n",
       "SVRg   139.178  72.3699"
      ]
     },
     "execution_count": 44,
     "metadata": {},
     "output_type": "execute_result"
    }
   ],
   "source": [
    "mae_df"
   ]
  },
  {
   "cell_type": "markdown",
   "metadata": {},
   "source": [
    "## Data transformation n=4"
   ]
  },
  {
   "cell_type": "markdown",
   "metadata": {},
   "source": [
    "### Reading dataset"
   ]
  },
  {
   "cell_type": "code",
   "execution_count": 51,
   "metadata": {},
   "outputs": [],
   "source": [
    "trainset = pd.read_csv(\"C:/Users/edidd/Documents/Ubiqum/Data Analytics Course/Module_III_Wifi/data/trainset_clean_trans_n4.csv\", header = 0)"
   ]
  },
  {
   "cell_type": "code",
   "execution_count": 52,
   "metadata": {},
   "outputs": [],
   "source": [
    "validation = pd.read_csv(\"C:/Users/edidd/Documents/Ubiqum/Data Analytics Course/Module_III_Wifi/data/validation_clean_trans_n4.csv\", header = 0)"
   ]
  },
  {
   "cell_type": "markdown",
   "metadata": {},
   "source": [
    "### Selecting the data for modeling"
   ]
  },
  {
   "cell_type": "code",
   "execution_count": 53,
   "metadata": {},
   "outputs": [],
   "source": [
    "features = trainset.iloc[:,:520]"
   ]
  },
  {
   "cell_type": "code",
   "execution_count": 54,
   "metadata": {},
   "outputs": [],
   "source": [
    "dependentlist_r = [[trainset[\"LONGITUDE\"], validation[\"LONGITUDE\"]], [trainset[\"LATITUDE\"], validation[\"LATITUDE\"]]]"
   ]
  },
  {
   "cell_type": "code",
   "execution_count": 55,
   "metadata": {},
   "outputs": [],
   "source": [
    "dependentlist_c = [[trainset[\"BUILDINGID\"], validation[\"BUILDINGID\"]], [trainset[\"FLOOR\"], validation[\"FLOOR\"]]]"
   ]
  },
  {
   "cell_type": "code",
   "execution_count": 56,
   "metadata": {},
   "outputs": [],
   "source": [
    "val_features = validation.iloc[:,:520]"
   ]
  },
  {
   "cell_type": "markdown",
   "metadata": {},
   "source": [
    "### Regression estimators for LONG and LAT"
   ]
  },
  {
   "cell_type": "code",
   "execution_count": 37,
   "metadata": {},
   "outputs": [],
   "source": [
    "modelSVRl = SVR(kernel= \"linear\")"
   ]
  },
  {
   "cell_type": "code",
   "execution_count": 38,
   "metadata": {},
   "outputs": [],
   "source": [
    "modelSVRg = SVR(kernel= \"rbf\")"
   ]
  },
  {
   "cell_type": "code",
   "execution_count": 39,
   "metadata": {},
   "outputs": [],
   "source": [
    "modelRF = RandomForestRegressor()"
   ]
  },
  {
   "cell_type": "code",
   "execution_count": 40,
   "metadata": {},
   "outputs": [],
   "source": [
    "modelLR = LinearRegression()"
   ]
  },
  {
   "cell_type": "code",
   "execution_count": 41,
   "metadata": {},
   "outputs": [],
   "source": [
    "model5NN = KNeighborsRegressor(n_neighbors=5, n_jobs= -1)"
   ]
  },
  {
   "cell_type": "code",
   "execution_count": 42,
   "metadata": {},
   "outputs": [],
   "source": [
    "model3NN = KNeighborsRegressor(n_neighbors=3, n_jobs= -1)"
   ]
  },
  {
   "cell_type": "markdown",
   "metadata": {},
   "source": [
    "### Clasification estomators for building and floor"
   ]
  },
  {
   "cell_type": "code",
   "execution_count": 43,
   "metadata": {},
   "outputs": [],
   "source": [
    "modelRFC = RandomForestClassifier(n_estimators=50)"
   ]
  },
  {
   "cell_type": "code",
   "execution_count": 44,
   "metadata": {},
   "outputs": [],
   "source": [
    "modelGBTC = GradientBoostingClassifier()"
   ]
  },
  {
   "cell_type": "code",
   "execution_count": 45,
   "metadata": {},
   "outputs": [],
   "source": [
    "model5NNC = KNeighborsClassifier(n_neighbors= 5)"
   ]
  },
  {
   "cell_type": "code",
   "execution_count": 46,
   "metadata": {},
   "outputs": [],
   "source": [
    "model7NNC = KNeighborsClassifier(n_neighbors= 7)"
   ]
  },
  {
   "cell_type": "markdown",
   "metadata": {},
   "source": [
    "### Modeling and predicting"
   ]
  },
  {
   "cell_type": "code",
   "execution_count": 47,
   "metadata": {},
   "outputs": [],
   "source": [
    "modellist_r = [model3NN, model5NN, modelRF, modelSVRl, modelSVRg]"
   ]
  },
  {
   "cell_type": "code",
   "execution_count": 48,
   "metadata": {},
   "outputs": [],
   "source": [
    "modellist_c = [model5NNC, model7NNC, modelRFC, modelGBTC]"
   ]
  },
  {
   "cell_type": "code",
   "execution_count": 49,
   "metadata": {},
   "outputs": [],
   "source": [
    "mae_df = pd.DataFrame(columns=[\"LONGITUDE\", \"LATITUDE\"], index=[\"3NN\", \"5NN\", \"RF\", \"SVRl\", \"SVRg\"])"
   ]
  },
  {
   "cell_type": "code",
   "execution_count": 50,
   "metadata": {},
   "outputs": [],
   "source": [
    "acc_df = pd.DataFrame(columns=[\"BUILDINGID\", \"FLOORID\"], index=['5NN','7NN','RFC', \"GBTC\"])"
   ]
  },
  {
   "cell_type": "markdown",
   "metadata": {},
   "source": [
    "#### Regression"
   ]
  },
  {
   "cell_type": "code",
   "execution_count": 65,
   "metadata": {
    "collapsed": true
   },
   "outputs": [
    {
     "name": "stderr",
     "output_type": "stream",
     "text": [
      "C:\\Users\\edison\\Anaconda3\\lib\\site-packages\\sklearn\\ensemble\\forest.py:245: FutureWarning:\n",
      "\n",
      "The default value of n_estimators will change from 10 in version 0.20 to 100 in 0.22.\n",
      "\n",
      "C:\\Users\\edison\\Anaconda3\\lib\\site-packages\\sklearn\\svm\\base.py:193: FutureWarning:\n",
      "\n",
      "The default value of gamma will change from 'auto' to 'scale' in version 0.22 to account better for unscaled features. Set gamma explicitly to 'auto' or 'scale' to avoid this warning.\n",
      "\n",
      "C:\\Users\\edison\\Anaconda3\\lib\\site-packages\\sklearn\\svm\\base.py:193: FutureWarning:\n",
      "\n",
      "The default value of gamma will change from 'auto' to 'scale' in version 0.22 to account better for unscaled features. Set gamma explicitly to 'auto' or 'scale' to avoid this warning.\n",
      "\n"
     ]
    }
   ],
   "source": [
    "m = 0\n",
    "k = 0\n",
    "for i in dependentlist_r:\n",
    "    for j in modellist_r:\n",
    "        j.fit(features, i[0])\n",
    "        prediction = j.predict(val_features)\n",
    "        mae_df.iloc[m, k] = mean_absolute_error(i[1], prediction)\n",
    "        m = m + 1\n",
    "    m = 0\n",
    "    k = k + 1"
   ]
  },
  {
   "cell_type": "markdown",
   "metadata": {},
   "source": [
    "#### Clasification"
   ]
  },
  {
   "cell_type": "code",
   "execution_count": 66,
   "metadata": {},
   "outputs": [],
   "source": [
    "m = 0\n",
    "k = 0\n",
    "for i in dependentlist_c:\n",
    "    for j in modellist_c:\n",
    "        j.fit(features, i[0])\n",
    "        prediction = j.predict(val_features)\n",
    "        acc_df.iloc[m, k] = accuracy_score(i[1], prediction)\n",
    "        m = m + 1\n",
    "    m = 0\n",
    "    k = k + 1"
   ]
  },
  {
   "cell_type": "code",
   "execution_count": 69,
   "metadata": {},
   "outputs": [
    {
     "data": {
      "text/html": [
       "<div>\n",
       "<style scoped>\n",
       "    .dataframe tbody tr th:only-of-type {\n",
       "        vertical-align: middle;\n",
       "    }\n",
       "\n",
       "    .dataframe tbody tr th {\n",
       "        vertical-align: top;\n",
       "    }\n",
       "\n",
       "    .dataframe thead th {\n",
       "        text-align: right;\n",
       "    }\n",
       "</style>\n",
       "<table border=\"1\" class=\"dataframe\">\n",
       "  <thead>\n",
       "    <tr style=\"text-align: right;\">\n",
       "      <th></th>\n",
       "      <th>BUILDINGID</th>\n",
       "      <th>FLOORID</th>\n",
       "    </tr>\n",
       "  </thead>\n",
       "  <tbody>\n",
       "    <tr>\n",
       "      <th>5NN</th>\n",
       "      <td>0.9982</td>\n",
       "      <td>0.963096</td>\n",
       "    </tr>\n",
       "    <tr>\n",
       "      <th>7NN</th>\n",
       "      <td>0.9982</td>\n",
       "      <td>0.962196</td>\n",
       "    </tr>\n",
       "    <tr>\n",
       "      <th>RFC</th>\n",
       "      <td>0.9982</td>\n",
       "      <td>0.941494</td>\n",
       "    </tr>\n",
       "    <tr>\n",
       "      <th>GBTC</th>\n",
       "      <td>0.9982</td>\n",
       "      <td>0.918992</td>\n",
       "    </tr>\n",
       "  </tbody>\n",
       "</table>\n",
       "</div>"
      ],
      "text/plain": [
       "     BUILDINGID   FLOORID\n",
       "5NN      0.9982  0.963096\n",
       "7NN      0.9982  0.962196\n",
       "RFC      0.9982  0.941494\n",
       "GBTC     0.9982  0.918992"
      ]
     },
     "execution_count": 69,
     "metadata": {},
     "output_type": "execute_result"
    }
   ],
   "source": [
    "acc_df"
   ]
  },
  {
   "cell_type": "code",
   "execution_count": 68,
   "metadata": {},
   "outputs": [
    {
     "data": {
      "text/html": [
       "<div>\n",
       "<style scoped>\n",
       "    .dataframe tbody tr th:only-of-type {\n",
       "        vertical-align: middle;\n",
       "    }\n",
       "\n",
       "    .dataframe tbody tr th {\n",
       "        vertical-align: top;\n",
       "    }\n",
       "\n",
       "    .dataframe thead th {\n",
       "        text-align: right;\n",
       "    }\n",
       "</style>\n",
       "<table border=\"1\" class=\"dataframe\">\n",
       "  <thead>\n",
       "    <tr style=\"text-align: right;\">\n",
       "      <th></th>\n",
       "      <th>LONGITUDE</th>\n",
       "      <th>LATITUDE</th>\n",
       "    </tr>\n",
       "  </thead>\n",
       "  <tbody>\n",
       "    <tr>\n",
       "      <th>3NN</th>\n",
       "      <td>4.91903</td>\n",
       "      <td>4.4569</td>\n",
       "    </tr>\n",
       "    <tr>\n",
       "      <th>5NN</th>\n",
       "      <td>4.75782</td>\n",
       "      <td>4.37062</td>\n",
       "    </tr>\n",
       "    <tr>\n",
       "      <th>RF</th>\n",
       "      <td>8.00555</td>\n",
       "      <td>6.84254</td>\n",
       "    </tr>\n",
       "    <tr>\n",
       "      <th>SVRl</th>\n",
       "      <td>48.7971</td>\n",
       "      <td>19.7706</td>\n",
       "    </tr>\n",
       "    <tr>\n",
       "      <th>SVRg</th>\n",
       "      <td>139.194</td>\n",
       "      <td>72.4398</td>\n",
       "    </tr>\n",
       "  </tbody>\n",
       "</table>\n",
       "</div>"
      ],
      "text/plain": [
       "     LONGITUDE LATITUDE\n",
       "3NN    4.91903   4.4569\n",
       "5NN    4.75782  4.37062\n",
       "RF     8.00555  6.84254\n",
       "SVRl   48.7971  19.7706\n",
       "SVRg   139.194  72.4398"
      ]
     },
     "execution_count": 68,
     "metadata": {},
     "output_type": "execute_result"
    }
   ],
   "source": [
    "mae_df"
   ]
  },
  {
   "cell_type": "markdown",
   "metadata": {},
   "source": [
    "## Loop to try different hyper-patameters for KNN"
   ]
  },
  {
   "cell_type": "markdown",
   "metadata": {},
   "source": [
    "### Data pre-processing n = 4"
   ]
  },
  {
   "cell_type": "markdown",
   "metadata": {},
   "source": [
    "### Modeling and predicting"
   ]
  },
  {
   "cell_type": "code",
   "execution_count": 63,
   "metadata": {},
   "outputs": [],
   "source": [
    "knn_r = [3, 5, 7, 9, 11, 13]"
   ]
  },
  {
   "cell_type": "code",
   "execution_count": 64,
   "metadata": {},
   "outputs": [],
   "source": [
    "knn_c = [3, 5, 7, 9, 11, 13]"
   ]
  },
  {
   "cell_type": "code",
   "execution_count": 65,
   "metadata": {},
   "outputs": [],
   "source": [
    "mae_knn_df = pd.DataFrame(columns=[\"LONGITUDE\", \"LATITUDE\"], index=[\"3NN\", \"5NN\", \"7NN\", \"9NN\", \"11NN\", \"13NN\"])"
   ]
  },
  {
   "cell_type": "code",
   "execution_count": 66,
   "metadata": {},
   "outputs": [],
   "source": [
    "acc_knn_df = pd.DataFrame(columns=[\"BUILDINGID\", \"FLOORID\"], index=[\"3NN\", \"5NN\", \"7NN\", \"9NN\", \"11NN\", \"13NN\"])"
   ]
  },
  {
   "cell_type": "markdown",
   "metadata": {},
   "source": [
    "#### Regression"
   ]
  },
  {
   "cell_type": "code",
   "execution_count": 67,
   "metadata": {},
   "outputs": [],
   "source": [
    "m = 0\n",
    "k = 0\n",
    "for i in dependentlist_r:\n",
    "    for j in knn_r:\n",
    "        modelKNNR = KNeighborsRegressor(n_neighbors = j, n_jobs= -1)\n",
    "        modelKNNR.fit(features, i[0])\n",
    "        prediction = modelKNNR.predict(val_features)\n",
    "        mae_knn_df.iloc[m, k] = mean_absolute_error(i[1], prediction)\n",
    "        m = m + 1\n",
    "    m = 0\n",
    "    k = k + 1"
   ]
  },
  {
   "cell_type": "markdown",
   "metadata": {},
   "source": [
    "#### Clasification"
   ]
  },
  {
   "cell_type": "code",
   "execution_count": 68,
   "metadata": {},
   "outputs": [],
   "source": [
    "m = 0\n",
    "k = 0\n",
    "for i in dependentlist_c:\n",
    "    for j in knn_c:\n",
    "        modelKNNC = KNeighborsClassifier(n_neighbors= j, n_jobs= -1)\n",
    "        modelKNNC.fit(features, i[0])\n",
    "        prediction = modelKNNC.predict(val_features)\n",
    "        acc_knn_df.iloc[m, k] = accuracy_score(i[1], prediction)\n",
    "        m = m + 1\n",
    "    m = 0\n",
    "    k = k + 1"
   ]
  },
  {
   "cell_type": "code",
   "execution_count": 69,
   "metadata": {},
   "outputs": [
    {
     "data": {
      "text/html": [
       "<div>\n",
       "<style scoped>\n",
       "    .dataframe tbody tr th:only-of-type {\n",
       "        vertical-align: middle;\n",
       "    }\n",
       "\n",
       "    .dataframe tbody tr th {\n",
       "        vertical-align: top;\n",
       "    }\n",
       "\n",
       "    .dataframe thead th {\n",
       "        text-align: right;\n",
       "    }\n",
       "</style>\n",
       "<table border=\"1\" class=\"dataframe\">\n",
       "  <thead>\n",
       "    <tr style=\"text-align: right;\">\n",
       "      <th></th>\n",
       "      <th>BUILDINGID</th>\n",
       "      <th>FLOORID</th>\n",
       "    </tr>\n",
       "  </thead>\n",
       "  <tbody>\n",
       "    <tr>\n",
       "      <td>3NN</td>\n",
       "      <td>0.9982</td>\n",
       "      <td>0.963096</td>\n",
       "    </tr>\n",
       "    <tr>\n",
       "      <td>5NN</td>\n",
       "      <td>0.9982</td>\n",
       "      <td>0.963096</td>\n",
       "    </tr>\n",
       "    <tr>\n",
       "      <td>7NN</td>\n",
       "      <td>0.9982</td>\n",
       "      <td>0.962196</td>\n",
       "    </tr>\n",
       "    <tr>\n",
       "      <td>9NN</td>\n",
       "      <td>0.9982</td>\n",
       "      <td>0.961296</td>\n",
       "    </tr>\n",
       "    <tr>\n",
       "      <td>11NN</td>\n",
       "      <td>0.9973</td>\n",
       "      <td>0.962196</td>\n",
       "    </tr>\n",
       "    <tr>\n",
       "      <td>13NN</td>\n",
       "      <td>0.9982</td>\n",
       "      <td>0.961296</td>\n",
       "    </tr>\n",
       "  </tbody>\n",
       "</table>\n",
       "</div>"
      ],
      "text/plain": [
       "     BUILDINGID   FLOORID\n",
       "3NN      0.9982  0.963096\n",
       "5NN      0.9982  0.963096\n",
       "7NN      0.9982  0.962196\n",
       "9NN      0.9982  0.961296\n",
       "11NN     0.9973  0.962196\n",
       "13NN     0.9982  0.961296"
      ]
     },
     "execution_count": 69,
     "metadata": {},
     "output_type": "execute_result"
    }
   ],
   "source": [
    "acc_knn_df"
   ]
  },
  {
   "cell_type": "code",
   "execution_count": 70,
   "metadata": {},
   "outputs": [
    {
     "data": {
      "text/html": [
       "<div>\n",
       "<style scoped>\n",
       "    .dataframe tbody tr th:only-of-type {\n",
       "        vertical-align: middle;\n",
       "    }\n",
       "\n",
       "    .dataframe tbody tr th {\n",
       "        vertical-align: top;\n",
       "    }\n",
       "\n",
       "    .dataframe thead th {\n",
       "        text-align: right;\n",
       "    }\n",
       "</style>\n",
       "<table border=\"1\" class=\"dataframe\">\n",
       "  <thead>\n",
       "    <tr style=\"text-align: right;\">\n",
       "      <th></th>\n",
       "      <th>LONGITUDE</th>\n",
       "      <th>LATITUDE</th>\n",
       "    </tr>\n",
       "  </thead>\n",
       "  <tbody>\n",
       "    <tr>\n",
       "      <td>3NN</td>\n",
       "      <td>4.91903</td>\n",
       "      <td>4.4569</td>\n",
       "    </tr>\n",
       "    <tr>\n",
       "      <td>5NN</td>\n",
       "      <td>4.75782</td>\n",
       "      <td>4.37062</td>\n",
       "    </tr>\n",
       "    <tr>\n",
       "      <td>7NN</td>\n",
       "      <td>4.78853</td>\n",
       "      <td>4.3875</td>\n",
       "    </tr>\n",
       "    <tr>\n",
       "      <td>9NN</td>\n",
       "      <td>4.77704</td>\n",
       "      <td>4.39277</td>\n",
       "    </tr>\n",
       "    <tr>\n",
       "      <td>11NN</td>\n",
       "      <td>4.81406</td>\n",
       "      <td>4.39282</td>\n",
       "    </tr>\n",
       "    <tr>\n",
       "      <td>13NN</td>\n",
       "      <td>4.8314</td>\n",
       "      <td>4.3769</td>\n",
       "    </tr>\n",
       "  </tbody>\n",
       "</table>\n",
       "</div>"
      ],
      "text/plain": [
       "     LONGITUDE LATITUDE\n",
       "3NN    4.91903   4.4569\n",
       "5NN    4.75782  4.37062\n",
       "7NN    4.78853   4.3875\n",
       "9NN    4.77704  4.39277\n",
       "11NN   4.81406  4.39282\n",
       "13NN    4.8314   4.3769"
      ]
     },
     "execution_count": 70,
     "metadata": {},
     "output_type": "execute_result"
    }
   ],
   "source": [
    "mae_knn_df"
   ]
  },
  {
   "cell_type": "markdown",
   "metadata": {},
   "source": [
    "### Data pre-processing n = 5"
   ]
  },
  {
   "cell_type": "markdown",
   "metadata": {},
   "source": [
    "### Importing pre-processed data"
   ]
  },
  {
   "cell_type": "code",
   "execution_count": 71,
   "metadata": {},
   "outputs": [],
   "source": [
    "trainset = pd.read_csv(\"C:/Users/edidd/Documents/Ubiqum/Data Analytics Course/Module_III_Wifi/data/trainset_clean_trans_n5.csv\", header = 0)"
   ]
  },
  {
   "cell_type": "code",
   "execution_count": 72,
   "metadata": {},
   "outputs": [],
   "source": [
    "validation = pd.read_csv(\"C:/Users/edidd/Documents/Ubiqum/Data Analytics Course/Module_III_Wifi/data/validation_clean_trans_n5.csv\", header = 0)"
   ]
  },
  {
   "cell_type": "markdown",
   "metadata": {},
   "source": [
    "### Selecting the data for modeling"
   ]
  },
  {
   "cell_type": "code",
   "execution_count": 73,
   "metadata": {},
   "outputs": [],
   "source": [
    "features = trainset.iloc[:,:520]"
   ]
  },
  {
   "cell_type": "code",
   "execution_count": 74,
   "metadata": {},
   "outputs": [],
   "source": [
    "dependentlist_r = [[trainset[\"LONGITUDE\"], validation[\"LONGITUDE\"]], [trainset[\"LATITUDE\"], validation[\"LATITUDE\"]]]"
   ]
  },
  {
   "cell_type": "code",
   "execution_count": 75,
   "metadata": {},
   "outputs": [],
   "source": [
    "dependentlist_c = [[trainset[\"BUILDINGID\"], validation[\"BUILDINGID\"]], [trainset[\"FLOOR\"], validation[\"FLOOR\"]]]"
   ]
  },
  {
   "cell_type": "code",
   "execution_count": 76,
   "metadata": {},
   "outputs": [],
   "source": [
    "val_features = validation.iloc[:,:520]"
   ]
  },
  {
   "cell_type": "markdown",
   "metadata": {},
   "source": [
    "### Modeling and predicting"
   ]
  },
  {
   "cell_type": "code",
   "execution_count": 85,
   "metadata": {},
   "outputs": [],
   "source": [
    "knn_r = [3, 5, 7, 9, 11]"
   ]
  },
  {
   "cell_type": "code",
   "execution_count": 86,
   "metadata": {},
   "outputs": [],
   "source": [
    "knn_c = [3, 5, 7, 9, 11]"
   ]
  },
  {
   "cell_type": "code",
   "execution_count": 87,
   "metadata": {},
   "outputs": [],
   "source": [
    "mae_knn_n5_df = pd.DataFrame(columns=[\"LONGITUDE\", \"LATITUDE\"], index=[\"3NN\", \"5NN\", \"7NN\", \"9NN\", \"11NN\"])"
   ]
  },
  {
   "cell_type": "code",
   "execution_count": 88,
   "metadata": {},
   "outputs": [],
   "source": [
    "acc_knn_n5_df = pd.DataFrame(columns=[\"BUILDINGID\", \"FLOORID\"], index=[\"3NN\", \"5NN\", \"7NN\", \"9NN\", \"11NN\"])"
   ]
  },
  {
   "cell_type": "markdown",
   "metadata": {},
   "source": [
    "#### Regression"
   ]
  },
  {
   "cell_type": "code",
   "execution_count": 89,
   "metadata": {},
   "outputs": [],
   "source": [
    "m = 0\n",
    "k = 0\n",
    "for i in dependentlist_r:\n",
    "    for j in knn_r:\n",
    "        modelKNNR = KNeighborsRegressor(n_neighbors = j, n_jobs= -1)\n",
    "        modelKNNR.fit(features, i[0])\n",
    "        prediction = modelKNNR.predict(val_features)\n",
    "        mae_knn_n5_df.iloc[m, k] = mean_absolute_error(i[1], prediction)\n",
    "        m = m + 1\n",
    "    m = 0\n",
    "    k = k + 1"
   ]
  },
  {
   "cell_type": "markdown",
   "metadata": {},
   "source": [
    "#### Clasification"
   ]
  },
  {
   "cell_type": "code",
   "execution_count": 90,
   "metadata": {},
   "outputs": [],
   "source": [
    "m = 0\n",
    "k = 0\n",
    "for i in dependentlist_c:\n",
    "    for j in knn_c:\n",
    "        modelKNNC = KNeighborsClassifier(n_neighbors= j, n_jobs= -1)\n",
    "        modelKNNC.fit(features, i[0])\n",
    "        prediction = modelKNNC.predict(val_features)\n",
    "        acc_knn_n5_df.iloc[m, k] = accuracy_score(i[1], prediction)\n",
    "        m = m + 1\n",
    "    m = 0\n",
    "    k = k + 1"
   ]
  },
  {
   "cell_type": "code",
   "execution_count": 91,
   "metadata": {},
   "outputs": [
    {
     "data": {
      "text/html": [
       "<div>\n",
       "<style scoped>\n",
       "    .dataframe tbody tr th:only-of-type {\n",
       "        vertical-align: middle;\n",
       "    }\n",
       "\n",
       "    .dataframe tbody tr th {\n",
       "        vertical-align: top;\n",
       "    }\n",
       "\n",
       "    .dataframe thead th {\n",
       "        text-align: right;\n",
       "    }\n",
       "</style>\n",
       "<table border=\"1\" class=\"dataframe\">\n",
       "  <thead>\n",
       "    <tr style=\"text-align: right;\">\n",
       "      <th></th>\n",
       "      <th>BUILDINGID</th>\n",
       "      <th>FLOORID</th>\n",
       "    </tr>\n",
       "  </thead>\n",
       "  <tbody>\n",
       "    <tr>\n",
       "      <td>3NN</td>\n",
       "      <td>1</td>\n",
       "      <td>0.963996</td>\n",
       "    </tr>\n",
       "    <tr>\n",
       "      <td>5NN</td>\n",
       "      <td>1</td>\n",
       "      <td>0.966697</td>\n",
       "    </tr>\n",
       "    <tr>\n",
       "      <td>7NN</td>\n",
       "      <td>1</td>\n",
       "      <td>0.961296</td>\n",
       "    </tr>\n",
       "    <tr>\n",
       "      <td>9NN</td>\n",
       "      <td>1</td>\n",
       "      <td>0.960396</td>\n",
       "    </tr>\n",
       "    <tr>\n",
       "      <td>11NN</td>\n",
       "      <td>1</td>\n",
       "      <td>0.962196</td>\n",
       "    </tr>\n",
       "  </tbody>\n",
       "</table>\n",
       "</div>"
      ],
      "text/plain": [
       "     BUILDINGID   FLOORID\n",
       "3NN           1  0.963996\n",
       "5NN           1  0.966697\n",
       "7NN           1  0.961296\n",
       "9NN           1  0.960396\n",
       "11NN          1  0.962196"
      ]
     },
     "execution_count": 91,
     "metadata": {},
     "output_type": "execute_result"
    }
   ],
   "source": [
    "acc_knn_n5_df"
   ]
  },
  {
   "cell_type": "code",
   "execution_count": 92,
   "metadata": {},
   "outputs": [
    {
     "data": {
      "text/html": [
       "<div>\n",
       "<style scoped>\n",
       "    .dataframe tbody tr th:only-of-type {\n",
       "        vertical-align: middle;\n",
       "    }\n",
       "\n",
       "    .dataframe tbody tr th {\n",
       "        vertical-align: top;\n",
       "    }\n",
       "\n",
       "    .dataframe thead th {\n",
       "        text-align: right;\n",
       "    }\n",
       "</style>\n",
       "<table border=\"1\" class=\"dataframe\">\n",
       "  <thead>\n",
       "    <tr style=\"text-align: right;\">\n",
       "      <th></th>\n",
       "      <th>LONGITUDE</th>\n",
       "      <th>LATITUDE</th>\n",
       "    </tr>\n",
       "  </thead>\n",
       "  <tbody>\n",
       "    <tr>\n",
       "      <td>3NN</td>\n",
       "      <td>5.12287</td>\n",
       "      <td>4.59844</td>\n",
       "    </tr>\n",
       "    <tr>\n",
       "      <td>5NN</td>\n",
       "      <td>4.82493</td>\n",
       "      <td>4.42476</td>\n",
       "    </tr>\n",
       "    <tr>\n",
       "      <td>7NN</td>\n",
       "      <td>4.78366</td>\n",
       "      <td>4.37189</td>\n",
       "    </tr>\n",
       "    <tr>\n",
       "      <td>9NN</td>\n",
       "      <td>4.78528</td>\n",
       "      <td>4.33235</td>\n",
       "    </tr>\n",
       "    <tr>\n",
       "      <td>11NN</td>\n",
       "      <td>4.85043</td>\n",
       "      <td>4.3319</td>\n",
       "    </tr>\n",
       "  </tbody>\n",
       "</table>\n",
       "</div>"
      ],
      "text/plain": [
       "     LONGITUDE LATITUDE\n",
       "3NN    5.12287  4.59844\n",
       "5NN    4.82493  4.42476\n",
       "7NN    4.78366  4.37189\n",
       "9NN    4.78528  4.33235\n",
       "11NN   4.85043   4.3319"
      ]
     },
     "execution_count": 92,
     "metadata": {},
     "output_type": "execute_result"
    }
   ],
   "source": [
    "mae_knn_n5_df"
   ]
  },
  {
   "cell_type": "markdown",
   "metadata": {},
   "source": [
    "## Data pre-processing n = 6"
   ]
  },
  {
   "cell_type": "markdown",
   "metadata": {},
   "source": [
    "### Importing pre-processed data"
   ]
  },
  {
   "cell_type": "code",
   "execution_count": 93,
   "metadata": {},
   "outputs": [],
   "source": [
    "trainset = pd.read_csv(\"C:/Users/edidd/Documents/Ubiqum/Data Analytics Course/Module_III_Wifi/data/trainset_clean_trans_n6.csv\", header = 0)"
   ]
  },
  {
   "cell_type": "code",
   "execution_count": 94,
   "metadata": {},
   "outputs": [],
   "source": [
    "validation = pd.read_csv(\"C:/Users/edidd/Documents/Ubiqum/Data Analytics Course/Module_III_Wifi/data/validation_clean_trans_n6.csv\", header = 0)"
   ]
  },
  {
   "cell_type": "markdown",
   "metadata": {},
   "source": [
    "### Selecting the data for modeling"
   ]
  },
  {
   "cell_type": "code",
   "execution_count": 95,
   "metadata": {},
   "outputs": [],
   "source": [
    "features = trainset.iloc[:,:520]"
   ]
  },
  {
   "cell_type": "code",
   "execution_count": 96,
   "metadata": {},
   "outputs": [],
   "source": [
    "dependentlist_r = [[trainset[\"LONGITUDE\"], validation[\"LONGITUDE\"]], [trainset[\"LATITUDE\"], validation[\"LATITUDE\"]]]"
   ]
  },
  {
   "cell_type": "code",
   "execution_count": 97,
   "metadata": {},
   "outputs": [],
   "source": [
    "dependentlist_c = [[trainset[\"BUILDINGID\"], validation[\"BUILDINGID\"]], [trainset[\"FLOOR\"], validation[\"FLOOR\"]]]"
   ]
  },
  {
   "cell_type": "code",
   "execution_count": 98,
   "metadata": {},
   "outputs": [],
   "source": [
    "val_features = validation.iloc[:,:520]"
   ]
  },
  {
   "cell_type": "markdown",
   "metadata": {},
   "source": [
    "### Modeling and predicting"
   ]
  },
  {
   "cell_type": "code",
   "execution_count": 99,
   "metadata": {},
   "outputs": [],
   "source": [
    "knn_r = [3, 5, 7, 9, 11]"
   ]
  },
  {
   "cell_type": "code",
   "execution_count": 100,
   "metadata": {},
   "outputs": [],
   "source": [
    "knn_c = [3, 5, 7, 9, 11]"
   ]
  },
  {
   "cell_type": "code",
   "execution_count": 103,
   "metadata": {},
   "outputs": [],
   "source": [
    "mae_knn_n6_df = pd.DataFrame(columns=[\"LONGITUDE\", \"LATITUDE\"], index=[\"3NN\", \"5NN\", \"7NN\", \"9NN\", \"11NN\"])"
   ]
  },
  {
   "cell_type": "code",
   "execution_count": 104,
   "metadata": {},
   "outputs": [],
   "source": [
    "acc_knn_n6_df = pd.DataFrame(columns=[\"BUILDINGID\", \"FLOORID\"], index=[\"3NN\", \"5NN\", \"7NN\", \"9NN\", \"11NN\"])"
   ]
  },
  {
   "cell_type": "markdown",
   "metadata": {},
   "source": [
    "#### Regression"
   ]
  },
  {
   "cell_type": "code",
   "execution_count": 105,
   "metadata": {},
   "outputs": [],
   "source": [
    "m = 0\n",
    "k = 0\n",
    "for i in dependentlist_r:\n",
    "    for j in knn_r:\n",
    "        modelKNNR = KNeighborsRegressor(n_neighbors = j, n_jobs= -1)\n",
    "        modelKNNR.fit(features, i[0])\n",
    "        prediction = modelKNNR.predict(val_features)\n",
    "        mae_knn_n6_df.iloc[m, k] = mean_absolute_error(i[1], prediction)\n",
    "        m = m + 1\n",
    "    m = 0\n",
    "    k = k + 1"
   ]
  },
  {
   "cell_type": "markdown",
   "metadata": {},
   "source": [
    "#### Clasification"
   ]
  },
  {
   "cell_type": "code",
   "execution_count": 106,
   "metadata": {},
   "outputs": [],
   "source": [
    "m = 0\n",
    "k = 0\n",
    "for i in dependentlist_c:\n",
    "    for j in knn_c:\n",
    "        modelKNNC = KNeighborsClassifier(n_neighbors= j, n_jobs= -1)\n",
    "        modelKNNC.fit(features, i[0])\n",
    "        prediction = modelKNNC.predict(val_features)\n",
    "        acc_knn_n6_df.iloc[m, k] = accuracy_score(i[1], prediction)\n",
    "        m = m + 1\n",
    "    m = 0\n",
    "    k = k + 1"
   ]
  },
  {
   "cell_type": "code",
   "execution_count": 107,
   "metadata": {},
   "outputs": [
    {
     "data": {
      "text/html": [
       "<div>\n",
       "<style scoped>\n",
       "    .dataframe tbody tr th:only-of-type {\n",
       "        vertical-align: middle;\n",
       "    }\n",
       "\n",
       "    .dataframe tbody tr th {\n",
       "        vertical-align: top;\n",
       "    }\n",
       "\n",
       "    .dataframe thead th {\n",
       "        text-align: right;\n",
       "    }\n",
       "</style>\n",
       "<table border=\"1\" class=\"dataframe\">\n",
       "  <thead>\n",
       "    <tr style=\"text-align: right;\">\n",
       "      <th></th>\n",
       "      <th>BUILDINGID</th>\n",
       "      <th>FLOORID</th>\n",
       "    </tr>\n",
       "  </thead>\n",
       "  <tbody>\n",
       "    <tr>\n",
       "      <td>3NN</td>\n",
       "      <td>1</td>\n",
       "      <td>0.947795</td>\n",
       "    </tr>\n",
       "    <tr>\n",
       "      <td>5NN</td>\n",
       "      <td>0.9991</td>\n",
       "      <td>0.951395</td>\n",
       "    </tr>\n",
       "    <tr>\n",
       "      <td>7NN</td>\n",
       "      <td>1</td>\n",
       "      <td>0.952295</td>\n",
       "    </tr>\n",
       "    <tr>\n",
       "      <td>9NN</td>\n",
       "      <td>1</td>\n",
       "      <td>0.952295</td>\n",
       "    </tr>\n",
       "    <tr>\n",
       "      <td>11NN</td>\n",
       "      <td>1</td>\n",
       "      <td>0.947795</td>\n",
       "    </tr>\n",
       "  </tbody>\n",
       "</table>\n",
       "</div>"
      ],
      "text/plain": [
       "     BUILDINGID   FLOORID\n",
       "3NN           1  0.947795\n",
       "5NN      0.9991  0.951395\n",
       "7NN           1  0.952295\n",
       "9NN           1  0.952295\n",
       "11NN          1  0.947795"
      ]
     },
     "execution_count": 107,
     "metadata": {},
     "output_type": "execute_result"
    }
   ],
   "source": [
    "acc_knn_n6_df"
   ]
  },
  {
   "cell_type": "code",
   "execution_count": 108,
   "metadata": {},
   "outputs": [
    {
     "data": {
      "text/html": [
       "<div>\n",
       "<style scoped>\n",
       "    .dataframe tbody tr th:only-of-type {\n",
       "        vertical-align: middle;\n",
       "    }\n",
       "\n",
       "    .dataframe tbody tr th {\n",
       "        vertical-align: top;\n",
       "    }\n",
       "\n",
       "    .dataframe thead th {\n",
       "        text-align: right;\n",
       "    }\n",
       "</style>\n",
       "<table border=\"1\" class=\"dataframe\">\n",
       "  <thead>\n",
       "    <tr style=\"text-align: right;\">\n",
       "      <th></th>\n",
       "      <th>LONGITUDE</th>\n",
       "      <th>LATITUDE</th>\n",
       "    </tr>\n",
       "  </thead>\n",
       "  <tbody>\n",
       "    <tr>\n",
       "      <td>3NN</td>\n",
       "      <td>5.21694</td>\n",
       "      <td>4.75535</td>\n",
       "    </tr>\n",
       "    <tr>\n",
       "      <td>5NN</td>\n",
       "      <td>5.14062</td>\n",
       "      <td>4.68537</td>\n",
       "    </tr>\n",
       "    <tr>\n",
       "      <td>7NN</td>\n",
       "      <td>5.05999</td>\n",
       "      <td>4.60643</td>\n",
       "    </tr>\n",
       "    <tr>\n",
       "      <td>9NN</td>\n",
       "      <td>5.03741</td>\n",
       "      <td>4.57332</td>\n",
       "    </tr>\n",
       "    <tr>\n",
       "      <td>11NN</td>\n",
       "      <td>5.04768</td>\n",
       "      <td>4.54873</td>\n",
       "    </tr>\n",
       "  </tbody>\n",
       "</table>\n",
       "</div>"
      ],
      "text/plain": [
       "     LONGITUDE LATITUDE\n",
       "3NN    5.21694  4.75535\n",
       "5NN    5.14062  4.68537\n",
       "7NN    5.05999  4.60643\n",
       "9NN    5.03741  4.57332\n",
       "11NN   5.04768  4.54873"
      ]
     },
     "execution_count": 108,
     "metadata": {},
     "output_type": "execute_result"
    }
   ],
   "source": [
    "mae_knn_n6_df"
   ]
  },
  {
   "cell_type": "code",
   "execution_count": null,
   "metadata": {},
   "outputs": [],
   "source": []
  },
  {
   "cell_type": "markdown",
   "metadata": {},
   "source": [
    "neighbors = [1, 3, 5, 7, 9, 11]\n",
    "weights = [\"uniform\", \"distance\"]\n",
    "algorithm = [\"ball_tree\", \"kd_tree\", \"brute\"]\n",
    "metric = [\"euclidean\", \"manhattan\", \"chebyshev\"]"
   ]
  },
  {
   "cell_type": "markdown",
   "metadata": {},
   "source": [
    "for i in neigh\n",
    "\n",
    "modelKNN = KNeighborsRegressor(n_neighbors=5, n_jobs= -1)\n",
    "(cross_val_score(modelSVR, features, dependent))\n",
    "modelKNN.fit(features, dependent)\n",
    "modelKNN.score(features, dependent)\n",
    "prediction_5nn = modelKNN.predict(val_features)\n",
    "sqrt(mean_squared_error(prediction_LONG[\"LONGITUDE\"], prediction_LONG[\"prediction\"]))\n",
    "max_error(prediction_LONG[\"LONGITUDE\"], prediction_LONG[\"prediction\"])\n",
    "mean_absolute_error(prediction_LONG[\"LONGITUDE\"], prediction_LONG[\"prediction\"])"
   ]
  },
  {
   "cell_type": "code",
   "execution_count": 133,
   "metadata": {},
   "outputs": [],
   "source": [
    "metric = [\"euclidean\", \"manhattan\", \"chebyshev\"]"
   ]
  },
  {
   "cell_type": "code",
   "execution_count": 134,
   "metadata": {},
   "outputs": [
    {
     "data": {
      "text/plain": [
       "list"
      ]
     },
     "execution_count": 134,
     "metadata": {},
     "output_type": "execute_result"
    }
   ],
   "source": [
    "type(metric)"
   ]
  },
  {
   "cell_type": "code",
   "execution_count": 136,
   "metadata": {},
   "outputs": [
    {
     "data": {
      "text/plain": [
       "'euclidean'"
      ]
     },
     "execution_count": 136,
     "metadata": {},
     "output_type": "execute_result"
    }
   ],
   "source": [
    "metric[0]"
   ]
  },
  {
   "cell_type": "code",
   "execution_count": null,
   "metadata": {},
   "outputs": [],
   "source": []
  },
  {
   "cell_type": "code",
   "execution_count": null,
   "metadata": {},
   "outputs": [],
   "source": []
  }
 ],
 "metadata": {
  "kernelspec": {
   "display_name": "Python 3",
   "language": "python",
   "name": "python3"
  },
  "language_info": {
   "codemirror_mode": {
    "name": "ipython",
    "version": 3
   },
   "file_extension": ".py",
   "mimetype": "text/x-python",
   "name": "python",
   "nbconvert_exporter": "python",
   "pygments_lexer": "ipython3",
   "version": "3.7.4"
  }
 },
 "nbformat": 4,
 "nbformat_minor": 2
}
